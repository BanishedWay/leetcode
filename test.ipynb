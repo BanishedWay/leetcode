{
 "cells": [
  {
   "cell_type": "code",
   "execution_count": 35,
   "metadata": {},
   "outputs": [],
   "source": [
    "classmates = [\"Mike\", \"Jack\", \"Tom\"]"
   ]
  },
  {
   "cell_type": "code",
   "execution_count": 36,
   "metadata": {},
   "outputs": [
    {
     "data": {
      "text/plain": [
       "['Mike', 'Jack', 'Tom']"
      ]
     },
     "execution_count": 36,
     "metadata": {},
     "output_type": "execute_result"
    }
   ],
   "source": [
    "classmates"
   ]
  },
  {
   "cell_type": "code",
   "execution_count": 37,
   "metadata": {},
   "outputs": [
    {
     "data": {
      "text/plain": [
       "3"
      ]
     },
     "execution_count": 37,
     "metadata": {},
     "output_type": "execute_result"
    }
   ],
   "source": [
    "len(classmates)"
   ]
  },
  {
   "cell_type": "code",
   "execution_count": 38,
   "metadata": {},
   "outputs": [
    {
     "data": {
      "text/plain": [
       "'Mike'"
      ]
     },
     "execution_count": 38,
     "metadata": {},
     "output_type": "execute_result"
    }
   ],
   "source": [
    "classmates[0]"
   ]
  },
  {
   "cell_type": "code",
   "execution_count": 39,
   "metadata": {},
   "outputs": [
    {
     "data": {
      "text/plain": [
       "'Jack'"
      ]
     },
     "execution_count": 39,
     "metadata": {},
     "output_type": "execute_result"
    }
   ],
   "source": [
    "classmates[1]"
   ]
  },
  {
   "cell_type": "code",
   "execution_count": 40,
   "metadata": {},
   "outputs": [
    {
     "data": {
      "text/plain": [
       "'Tom'"
      ]
     },
     "execution_count": 40,
     "metadata": {},
     "output_type": "execute_result"
    }
   ],
   "source": [
    "classmates[2]"
   ]
  },
  {
   "cell_type": "code",
   "execution_count": 41,
   "metadata": {},
   "outputs": [
    {
     "data": {
      "text/plain": [
       "'Tom'"
      ]
     },
     "execution_count": 41,
     "metadata": {},
     "output_type": "execute_result"
    }
   ],
   "source": [
    "classmates[-1]"
   ]
  },
  {
   "cell_type": "code",
   "execution_count": 42,
   "metadata": {},
   "outputs": [],
   "source": [
    "classmates.append(\"Trump\")"
   ]
  },
  {
   "cell_type": "code",
   "execution_count": 43,
   "metadata": {},
   "outputs": [
    {
     "data": {
      "text/plain": [
       "['Mike', 'Jack', 'Tom', 'Trump']"
      ]
     },
     "execution_count": 43,
     "metadata": {},
     "output_type": "execute_result"
    }
   ],
   "source": [
    "classmates"
   ]
  },
  {
   "cell_type": "code",
   "execution_count": 44,
   "metadata": {},
   "outputs": [],
   "source": [
    "classmates.insert(1, \"Jessica\")"
   ]
  },
  {
   "cell_type": "code",
   "execution_count": 45,
   "metadata": {},
   "outputs": [
    {
     "data": {
      "text/plain": [
       "['Mike', 'Jessica', 'Jack', 'Tom', 'Trump']"
      ]
     },
     "execution_count": 45,
     "metadata": {},
     "output_type": "execute_result"
    }
   ],
   "source": [
    "classmates"
   ]
  },
  {
   "cell_type": "code",
   "execution_count": 46,
   "metadata": {},
   "outputs": [
    {
     "data": {
      "text/plain": [
       "'Trump'"
      ]
     },
     "execution_count": 46,
     "metadata": {},
     "output_type": "execute_result"
    }
   ],
   "source": [
    "classmates.pop()"
   ]
  },
  {
   "cell_type": "code",
   "execution_count": 47,
   "metadata": {},
   "outputs": [
    {
     "data": {
      "text/plain": [
       "['Mike', 'Jessica', 'Jack', 'Tom']"
      ]
     },
     "execution_count": 47,
     "metadata": {},
     "output_type": "execute_result"
    }
   ],
   "source": [
    "classmates"
   ]
  },
  {
   "cell_type": "code",
   "execution_count": 48,
   "metadata": {},
   "outputs": [
    {
     "data": {
      "text/plain": [
       "'Jessica'"
      ]
     },
     "execution_count": 48,
     "metadata": {},
     "output_type": "execute_result"
    }
   ],
   "source": [
    "classmates.pop(1)"
   ]
  },
  {
   "cell_type": "code",
   "execution_count": 49,
   "metadata": {},
   "outputs": [
    {
     "data": {
      "text/plain": [
       "['Mike', 'Jack', 'Tom']"
      ]
     },
     "execution_count": 49,
     "metadata": {},
     "output_type": "execute_result"
    }
   ],
   "source": [
    "classmates"
   ]
  },
  {
   "cell_type": "code",
   "execution_count": 50,
   "metadata": {},
   "outputs": [],
   "source": [
    "L = [\"Apple\", 123, True]"
   ]
  },
  {
   "cell_type": "code",
   "execution_count": 51,
   "metadata": {},
   "outputs": [
    {
     "data": {
      "text/plain": [
       "['Apple', 123, True]"
      ]
     },
     "execution_count": 51,
     "metadata": {},
     "output_type": "execute_result"
    }
   ],
   "source": [
    "L"
   ]
  },
  {
   "cell_type": "code",
   "execution_count": 52,
   "metadata": {},
   "outputs": [],
   "source": [
    "colleague = (\"Mike\", \"Bob\", \"Tracy\")"
   ]
  },
  {
   "cell_type": "code",
   "execution_count": 53,
   "metadata": {},
   "outputs": [
    {
     "data": {
      "text/plain": [
       "('Mike', 'Bob', 'Tracy')"
      ]
     },
     "execution_count": 53,
     "metadata": {},
     "output_type": "execute_result"
    }
   ],
   "source": [
    "colleague"
   ]
  },
  {
   "cell_type": "code",
   "execution_count": 54,
   "metadata": {},
   "outputs": [
    {
     "data": {
      "text/plain": [
       "'Bob'"
      ]
     },
     "execution_count": 54,
     "metadata": {},
     "output_type": "execute_result"
    }
   ],
   "source": [
    "colleague[1]"
   ]
  },
  {
   "cell_type": "code",
   "execution_count": 55,
   "metadata": {},
   "outputs": [],
   "source": [
    "t = (1, 2, [1, 2])"
   ]
  },
  {
   "cell_type": "code",
   "execution_count": 56,
   "metadata": {},
   "outputs": [
    {
     "data": {
      "text/plain": [
       "(1, 2, [1, 2])"
      ]
     },
     "execution_count": 56,
     "metadata": {},
     "output_type": "execute_result"
    }
   ],
   "source": [
    "t"
   ]
  },
  {
   "cell_type": "code",
   "execution_count": 57,
   "metadata": {},
   "outputs": [],
   "source": [
    "t[2][0] = \"X\"\n",
    "t[2][1] = \"Y\""
   ]
  },
  {
   "cell_type": "code",
   "execution_count": 58,
   "metadata": {},
   "outputs": [
    {
     "data": {
      "text/plain": [
       "(1, 2, ['X', 'Y'])"
      ]
     },
     "execution_count": 58,
     "metadata": {},
     "output_type": "execute_result"
    }
   ],
   "source": [
    "t"
   ]
  },
  {
   "cell_type": "code",
   "execution_count": 59,
   "metadata": {},
   "outputs": [],
   "source": [
    "L = [[\"Apple\", \"Google\", \"Microsoft\"], [\"Java\", \"Python\", \"Rust\"],\n",
    "     [\"Jack\", \"Lisa\", \"Tom\"]]"
   ]
  },
  {
   "cell_type": "code",
   "execution_count": 60,
   "metadata": {},
   "outputs": [
    {
     "name": "stdout",
     "output_type": "stream",
     "text": [
      "Apple\n"
     ]
    }
   ],
   "source": [
    "# 打印Apple\n",
    "print(L[0][0])"
   ]
  },
  {
   "cell_type": "code",
   "execution_count": 61,
   "metadata": {},
   "outputs": [
    {
     "name": "stdout",
     "output_type": "stream",
     "text": [
      "Python\n"
     ]
    }
   ],
   "source": [
    "# 打印Python\n",
    "print(L[1][1])"
   ]
  },
  {
   "cell_type": "code",
   "execution_count": 62,
   "metadata": {},
   "outputs": [
    {
     "name": "stdout",
     "output_type": "stream",
     "text": [
      "Lisa\n"
     ]
    }
   ],
   "source": [
    "print(L[2][1])"
   ]
  },
  {
   "cell_type": "code",
   "execution_count": 63,
   "metadata": {},
   "outputs": [
    {
     "name": "stdout",
     "output_type": "stream",
     "text": [
      "kid\n",
      "age is 19.\n",
      "adult\n"
     ]
    }
   ],
   "source": [
    "ages = [8, 19]\n",
    "for i in ages:\n",
    "    if i >= 18:\n",
    "        print(\"age is %d.\" % i)\n",
    "        print(\"adult\")\n",
    "    else:\n",
    "        print(\"kid\")"
   ]
  },
  {
   "cell_type": "code",
   "execution_count": 64,
   "metadata": {},
   "outputs": [],
   "source": [
    "height = 1.75\n",
    "weight = 80.5"
   ]
  },
  {
   "cell_type": "code",
   "execution_count": 65,
   "metadata": {},
   "outputs": [],
   "source": [
    "import math"
   ]
  },
  {
   "cell_type": "code",
   "execution_count": 66,
   "metadata": {},
   "outputs": [],
   "source": [
    "bmi = weight / math.pow(height, 2)"
   ]
  },
  {
   "cell_type": "code",
   "execution_count": 67,
   "metadata": {},
   "outputs": [
    {
     "data": {
      "text/plain": [
       "26.285714285714285"
      ]
     },
     "execution_count": 67,
     "metadata": {},
     "output_type": "execute_result"
    }
   ],
   "source": [
    "bmi"
   ]
  },
  {
   "cell_type": "code",
   "execution_count": 68,
   "metadata": {},
   "outputs": [
    {
     "name": "stdout",
     "output_type": "stream",
     "text": [
      "过重\n"
     ]
    }
   ],
   "source": [
    "if bmi < 18.5:\n",
    "    print(\"过轻\")\n",
    "elif bmi < 25:\n",
    "    print(\"正常\")\n",
    "elif bmi < 28:\n",
    "    print(\"过重\")\n",
    "elif bmi < 32:\n",
    "    print(\"肥胖\")\n",
    "else:\n",
    "    print(\"严重肥胖\")"
   ]
  },
  {
   "cell_type": "code",
   "execution_count": 69,
   "metadata": {},
   "outputs": [],
   "source": [
    "names = [\"Mike\", \"Jack\", \"Tom\"]"
   ]
  },
  {
   "cell_type": "code",
   "execution_count": 70,
   "metadata": {},
   "outputs": [
    {
     "name": "stdout",
     "output_type": "stream",
     "text": [
      "Mike\n",
      "Jack\n",
      "Tom\n"
     ]
    }
   ],
   "source": [
    "for name in names:\n",
    "    print(name)"
   ]
  },
  {
   "cell_type": "code",
   "execution_count": 71,
   "metadata": {},
   "outputs": [
    {
     "name": "stdout",
     "output_type": "stream",
     "text": [
      "45\n"
     ]
    }
   ],
   "source": [
    "sum = 0\n",
    "for x in [1, 2, 3, 4, 5, 6, 7, 8, 9, 0]:\n",
    "    sum = sum + x\n",
    "print(sum)"
   ]
  },
  {
   "cell_type": "code",
   "execution_count": 72,
   "metadata": {},
   "outputs": [
    {
     "data": {
      "text/plain": [
       "[0, 1, 2, 3, 4]"
      ]
     },
     "execution_count": 72,
     "metadata": {},
     "output_type": "execute_result"
    }
   ],
   "source": [
    "list(range(5))"
   ]
  },
  {
   "cell_type": "code",
   "execution_count": 73,
   "metadata": {},
   "outputs": [
    {
     "name": "stdout",
     "output_type": "stream",
     "text": [
      "5050\n"
     ]
    }
   ],
   "source": [
    "sum = 0\n",
    "for x in range(101):\n",
    "    sum = sum + x\n",
    "print(sum)"
   ]
  },
  {
   "cell_type": "code",
   "execution_count": 74,
   "metadata": {},
   "outputs": [],
   "source": [
    "sum = 0\n",
    "n = 99\n",
    "while n > 0:\n",
    "    sum = sum + n\n",
    "    n = n - 2"
   ]
  },
  {
   "cell_type": "code",
   "execution_count": 75,
   "metadata": {},
   "outputs": [
    {
     "name": "stdout",
     "output_type": "stream",
     "text": [
      "ABC\n"
     ]
    }
   ],
   "source": [
    "a = \"ABC\"\n",
    "b = a\n",
    "a = \"XYZ\"\n",
    "print(b)"
   ]
  },
  {
   "cell_type": "code",
   "execution_count": 76,
   "metadata": {},
   "outputs": [
    {
     "name": "stdout",
     "output_type": "stream",
     "text": [
      "hello Bart,hello Lisa,hello Adam,"
     ]
    }
   ],
   "source": [
    "L = ['Bart', 'Lisa', 'Adam']\n",
    "for name in L:\n",
    "    print(\"hello\", name, end=\",\")"
   ]
  },
  {
   "cell_type": "code",
   "execution_count": 77,
   "metadata": {},
   "outputs": [
    {
     "data": {
      "text/plain": [
       "95"
      ]
     },
     "execution_count": 77,
     "metadata": {},
     "output_type": "execute_result"
    }
   ],
   "source": [
    "d = {\"Mike\": 95, \"Bob\": 75, \"Tom\": 85}\n",
    "d[\"Mike\"]"
   ]
  },
  {
   "cell_type": "code",
   "execution_count": 78,
   "metadata": {},
   "outputs": [],
   "source": [
    "d[\"Tom\"] = 60"
   ]
  },
  {
   "cell_type": "code",
   "execution_count": 79,
   "metadata": {},
   "outputs": [
    {
     "data": {
      "text/plain": [
       "60"
      ]
     },
     "execution_count": 79,
     "metadata": {},
     "output_type": "execute_result"
    }
   ],
   "source": [
    "d[\"Tom\"]"
   ]
  },
  {
   "cell_type": "code",
   "execution_count": 80,
   "metadata": {},
   "outputs": [
    {
     "data": {
      "text/plain": [
       "True"
      ]
     },
     "execution_count": 80,
     "metadata": {},
     "output_type": "execute_result"
    }
   ],
   "source": [
    "\"Tom\" in d"
   ]
  },
  {
   "cell_type": "code",
   "execution_count": 81,
   "metadata": {},
   "outputs": [
    {
     "data": {
      "text/plain": [
       "60"
      ]
     },
     "execution_count": 81,
     "metadata": {},
     "output_type": "execute_result"
    }
   ],
   "source": [
    "d.get(\"Tom\")"
   ]
  },
  {
   "cell_type": "code",
   "execution_count": 82,
   "metadata": {},
   "outputs": [],
   "source": [
    "d.get(\"Tomas\")"
   ]
  },
  {
   "cell_type": "code",
   "execution_count": 83,
   "metadata": {},
   "outputs": [
    {
     "data": {
      "text/plain": [
       "{1, 2, 3}"
      ]
     },
     "execution_count": 83,
     "metadata": {},
     "output_type": "execute_result"
    }
   ],
   "source": [
    "s = set([1, 2, 3])\n",
    "s"
   ]
  },
  {
   "cell_type": "code",
   "execution_count": 84,
   "metadata": {},
   "outputs": [],
   "source": [
    "s.add(4)"
   ]
  },
  {
   "cell_type": "code",
   "execution_count": 85,
   "metadata": {},
   "outputs": [
    {
     "data": {
      "text/plain": [
       "{1, 2, 3, 4}"
      ]
     },
     "execution_count": 85,
     "metadata": {},
     "output_type": "execute_result"
    }
   ],
   "source": [
    "s"
   ]
  },
  {
   "cell_type": "code",
   "execution_count": 86,
   "metadata": {},
   "outputs": [],
   "source": [
    "s.remove(2)"
   ]
  },
  {
   "cell_type": "code",
   "execution_count": 87,
   "metadata": {},
   "outputs": [
    {
     "data": {
      "text/plain": [
       "{1, 3, 4}"
      ]
     },
     "execution_count": 87,
     "metadata": {},
     "output_type": "execute_result"
    }
   ],
   "source": [
    "s"
   ]
  },
  {
   "cell_type": "code",
   "execution_count": 88,
   "metadata": {},
   "outputs": [],
   "source": [
    "s1 = set([1, 2, 3])\n",
    "s2 = set([2, 3, 4])"
   ]
  },
  {
   "cell_type": "code",
   "execution_count": 89,
   "metadata": {},
   "outputs": [
    {
     "data": {
      "text/plain": [
       "{2, 3}"
      ]
     },
     "execution_count": 89,
     "metadata": {},
     "output_type": "execute_result"
    }
   ],
   "source": [
    "s1 & s2"
   ]
  },
  {
   "cell_type": "code",
   "execution_count": 90,
   "metadata": {},
   "outputs": [
    {
     "data": {
      "text/plain": [
       "{1, 2, 3, 4}"
      ]
     },
     "execution_count": 90,
     "metadata": {},
     "output_type": "execute_result"
    }
   ],
   "source": [
    "s1 | s2"
   ]
  },
  {
   "cell_type": "code",
   "execution_count": 91,
   "metadata": {},
   "outputs": [
    {
     "name": "stdout",
     "output_type": "stream",
     "text": [
      "0xff\n",
      "0x3e8\n"
     ]
    }
   ],
   "source": [
    "n1 = 255\n",
    "n2 = 1000\n",
    "print(hex(n1))\n",
    "print(hex(n2))"
   ]
  },
  {
   "cell_type": "code",
   "execution_count": 92,
   "metadata": {},
   "outputs": [
    {
     "data": {
      "text/plain": [
       "str"
      ]
     },
     "execution_count": 92,
     "metadata": {},
     "output_type": "execute_result"
    }
   ],
   "source": [
    "type(hex(n1))"
   ]
  },
  {
   "cell_type": "code",
   "execution_count": 93,
   "metadata": {},
   "outputs": [],
   "source": [
    "h = hex"
   ]
  },
  {
   "cell_type": "code",
   "execution_count": 94,
   "metadata": {},
   "outputs": [
    {
     "data": {
      "text/plain": [
       "'0xff'"
      ]
     },
     "execution_count": 94,
     "metadata": {},
     "output_type": "execute_result"
    }
   ],
   "source": [
    "h(n1)"
   ]
  },
  {
   "cell_type": "code",
   "execution_count": 95,
   "metadata": {},
   "outputs": [],
   "source": [
    "def my_abs(x: int) -> int:\n",
    "    if not isinstance(x, (int, float)):\n",
    "        raise TypeError(\"bad operand type\")\n",
    "    if (x >= 0):\n",
    "        return x\n",
    "    else:\n",
    "        return -x"
   ]
  },
  {
   "cell_type": "code",
   "execution_count": 96,
   "metadata": {},
   "outputs": [
    {
     "data": {
      "text/plain": [
       "19"
      ]
     },
     "execution_count": 96,
     "metadata": {},
     "output_type": "execute_result"
    }
   ],
   "source": [
    "my_abs(-19)"
   ]
  },
  {
   "cell_type": "code",
   "execution_count": 97,
   "metadata": {},
   "outputs": [
    {
     "data": {
      "text/plain": [
       "10"
      ]
     },
     "execution_count": 97,
     "metadata": {},
     "output_type": "execute_result"
    }
   ],
   "source": [
    "my_abs(10)"
   ]
  },
  {
   "cell_type": "code",
   "execution_count": 99,
   "metadata": {},
   "outputs": [
    {
     "ename": "TypeError",
     "evalue": "bad operand type",
     "output_type": "error",
     "traceback": [
      "\u001b[1;31m---------------------------------------------------------------------------\u001b[0m",
      "\u001b[1;31mTypeError\u001b[0m                                 Traceback (most recent call last)",
      "Cell \u001b[1;32mIn[99], line 1\u001b[0m\n\u001b[1;32m----> 1\u001b[0m my_abs(\u001b[39m\"\u001b[39;49m\u001b[39mA\u001b[39;49m\u001b[39m\"\u001b[39;49m)\n",
      "Cell \u001b[1;32mIn[95], line 3\u001b[0m, in \u001b[0;36mmy_abs\u001b[1;34m(x)\u001b[0m\n\u001b[0;32m      1\u001b[0m \u001b[39mdef\u001b[39;00m \u001b[39mmy_abs\u001b[39m(x: \u001b[39mint\u001b[39m) \u001b[39m-\u001b[39m\u001b[39m>\u001b[39m \u001b[39mint\u001b[39m:\n\u001b[0;32m      2\u001b[0m     \u001b[39mif\u001b[39;00m \u001b[39mnot\u001b[39;00m \u001b[39misinstance\u001b[39m(x,(\u001b[39mint\u001b[39m,\u001b[39mfloat\u001b[39m)):\n\u001b[1;32m----> 3\u001b[0m         \u001b[39mraise\u001b[39;00m \u001b[39mTypeError\u001b[39;00m(\u001b[39m\"\u001b[39m\u001b[39mbad operand type\u001b[39m\u001b[39m\"\u001b[39m)\n\u001b[0;32m      4\u001b[0m     \u001b[39mif\u001b[39;00m (x \u001b[39m>\u001b[39m\u001b[39m=\u001b[39m \u001b[39m0\u001b[39m):\n\u001b[0;32m      5\u001b[0m         \u001b[39mreturn\u001b[39;00m x\n",
      "\u001b[1;31mTypeError\u001b[0m: bad operand type"
     ]
    }
   ],
   "source": [
    "my_abs(\"A\")"
   ]
  },
  {
   "cell_type": "code",
   "execution_count": 100,
   "metadata": {},
   "outputs": [],
   "source": [
    "import math"
   ]
  },
  {
   "cell_type": "code",
   "execution_count": 101,
   "metadata": {},
   "outputs": [],
   "source": [
    "def move(x, y, step, angle=0):\n",
    "    nx = x + step * math.cos(angle)\n",
    "    ny = y - step * math.sin(angle)\n",
    "    return nx, ny"
   ]
  },
  {
   "cell_type": "code",
   "execution_count": 102,
   "metadata": {},
   "outputs": [
    {
     "data": {
      "text/plain": [
       "tuple"
      ]
     },
     "execution_count": 102,
     "metadata": {},
     "output_type": "execute_result"
    }
   ],
   "source": [
    "r = move(100, 100, 60, math.pi / 6)\n",
    "type(r)"
   ]
  },
  {
   "cell_type": "code",
   "execution_count": 105,
   "metadata": {},
   "outputs": [],
   "source": [
    "def quadratic(a, b, c):\n",
    "    x1 = (-b + math.sqrt(math.pow(b, 2) - 4 * a * c)) / (2 * a)\n",
    "    x2 = (-b - math.sqrt(math.pow(b, 2) - 4 * a * c)) / (2 * a)\n",
    "    return x1, x2"
   ]
  },
  {
   "cell_type": "code",
   "execution_count": 106,
   "metadata": {},
   "outputs": [
    {
     "data": {
      "text/plain": [
       "(-1.0, -2.0)"
      ]
     },
     "execution_count": 106,
     "metadata": {},
     "output_type": "execute_result"
    }
   ],
   "source": [
    "quadratic(1, 3, 2)"
   ]
  },
  {
   "cell_type": "code",
   "execution_count": 107,
   "metadata": {},
   "outputs": [
    {
     "name": "stdout",
     "output_type": "stream",
     "text": [
      "quadratic(2, 3, 1) = (-0.5, -1.0)\n",
      "quadratic(1, 3, -4) = (1.0, -4.0)\n"
     ]
    }
   ],
   "source": [
    "# 测试：\n",
    "print('quadratic(2, 3, 1) =', quadratic(2, 3, 1))\n",
    "\n",
    "print('quadratic(1, 3, -4) =', quadratic(1, 3, -4))"
   ]
  },
  {
   "cell_type": "code",
   "execution_count": 109,
   "metadata": {},
   "outputs": [
    {
     "name": "stdout",
     "output_type": "stream",
     "text": [
      "成功\n"
     ]
    }
   ],
   "source": [
    "if quadratic(2, 3, 1) != (-0.5, -1.0):\n",
    "    print(\"失败\")\n",
    "elif quadratic(1, 3, -4) != (1.0, -4.0):\n",
    "    print(\"失败\")\n",
    "else:\n",
    "    print(\"成功\")"
   ]
  },
  {
   "cell_type": "code",
   "execution_count": 111,
   "metadata": {},
   "outputs": [],
   "source": [
    "def power(x, n=2):\n",
    "    s = 1\n",
    "    while (n > 0):\n",
    "        s = s * x\n",
    "        n = n - 1\n",
    "    return s"
   ]
  },
  {
   "cell_type": "code",
   "execution_count": 112,
   "metadata": {},
   "outputs": [
    {
     "data": {
      "text/plain": [
       "25"
      ]
     },
     "execution_count": 112,
     "metadata": {},
     "output_type": "execute_result"
    }
   ],
   "source": [
    "power(5)"
   ]
  },
  {
   "cell_type": "code",
   "execution_count": 113,
   "metadata": {},
   "outputs": [
    {
     "data": {
      "text/plain": [
       "3125"
      ]
     },
     "execution_count": 113,
     "metadata": {},
     "output_type": "execute_result"
    }
   ],
   "source": [
    "power(5, 5)"
   ]
  },
  {
   "cell_type": "code",
   "execution_count": 115,
   "metadata": {},
   "outputs": [],
   "source": [
    "def enroll(name, gender, age=18, city=\"Beijing\"):\n",
    "    print(\"name:\", name)\n",
    "    print(\"gender:\", gender)\n",
    "    print(\"age:\", age)\n",
    "    print(\"city\", city)"
   ]
  },
  {
   "cell_type": "code",
   "execution_count": 116,
   "metadata": {},
   "outputs": [
    {
     "name": "stdout",
     "output_type": "stream",
     "text": [
      "name: Laura\n",
      "gender: 男\n",
      "age: 18\n",
      "city Beijing\n"
     ]
    }
   ],
   "source": [
    "enroll(\"Laura\", \"男\")"
   ]
  },
  {
   "cell_type": "code",
   "execution_count": 117,
   "metadata": {},
   "outputs": [
    {
     "name": "stdout",
     "output_type": "stream",
     "text": [
      "name: Mike\n",
      "gender: 男\n",
      "age: 20\n",
      "city Beijing\n"
     ]
    }
   ],
   "source": [
    "enroll(\"Mike\", \"男\", \"20\")"
   ]
  },
  {
   "cell_type": "code",
   "execution_count": 118,
   "metadata": {},
   "outputs": [
    {
     "name": "stdout",
     "output_type": "stream",
     "text": [
      "name: Jack\n",
      "gender: 女\n",
      "age: 18\n",
      "city Nanjing\n"
     ]
    }
   ],
   "source": [
    "enroll(\"Jack\", \"女\", city=\"Nanjing\")"
   ]
  },
  {
   "cell_type": "code",
   "execution_count": 119,
   "metadata": {},
   "outputs": [],
   "source": [
    "def add_end(L=None):\n",
    "    if L is None:\n",
    "        L = []\n",
    "    L.append(\"END\")\n",
    "    return L"
   ]
  },
  {
   "cell_type": "code",
   "execution_count": 120,
   "metadata": {},
   "outputs": [
    {
     "data": {
      "text/plain": [
       "['END']"
      ]
     },
     "execution_count": 120,
     "metadata": {},
     "output_type": "execute_result"
    }
   ],
   "source": [
    "add_end()"
   ]
  },
  {
   "cell_type": "code",
   "execution_count": 121,
   "metadata": {},
   "outputs": [
    {
     "data": {
      "text/plain": [
       "['END']"
      ]
     },
     "execution_count": 121,
     "metadata": {},
     "output_type": "execute_result"
    }
   ],
   "source": [
    "add_end()"
   ]
  },
  {
   "cell_type": "code",
   "execution_count": 122,
   "metadata": {},
   "outputs": [
    {
     "data": {
      "text/plain": [
       "[1, 2, 3, 4, 'END']"
      ]
     },
     "execution_count": 122,
     "metadata": {},
     "output_type": "execute_result"
    }
   ],
   "source": [
    "add_end([1, 2, 3, 4])"
   ]
  },
  {
   "cell_type": "code",
   "execution_count": 123,
   "metadata": {},
   "outputs": [],
   "source": [
    "def calc(*numbers):\n",
    "    sum = 0\n",
    "    for n in numbers:\n",
    "        sum = sum + n * n\n",
    "    return sum"
   ]
  },
  {
   "cell_type": "code",
   "execution_count": 124,
   "metadata": {},
   "outputs": [
    {
     "data": {
      "text/plain": [
       "30"
      ]
     },
     "execution_count": 124,
     "metadata": {},
     "output_type": "execute_result"
    }
   ],
   "source": [
    "calc(1, 2, 3, 4)"
   ]
  },
  {
   "cell_type": "code",
   "execution_count": 125,
   "metadata": {},
   "outputs": [
    {
     "data": {
      "text/plain": [
       "55"
      ]
     },
     "execution_count": 125,
     "metadata": {},
     "output_type": "execute_result"
    }
   ],
   "source": [
    "nums = [1, 2, 3, 4, 5]\n",
    "calc(*nums)"
   ]
  },
  {
   "cell_type": "code",
   "execution_count": 127,
   "metadata": {},
   "outputs": [],
   "source": [
    "def person(name, age, **kw):\n",
    "    if \"city\" in kw:\n",
    "        pass\n",
    "    if \"job\" in kw:\n",
    "        pass\n",
    "    print(\"name:\", name, \"age:\", age, \"other:\", kw)"
   ]
  },
  {
   "cell_type": "code",
   "execution_count": 128,
   "metadata": {},
   "outputs": [
    {
     "name": "stdout",
     "output_type": "stream",
     "text": [
      "name: Mike age: 17 other: {}\n",
      "name: Tom age: 19 other: {'city': 'Beijing'}\n",
      "name: Jack age: 10 other: {'gender': 'M', 'city': 'Leping', 'Dad': 'Mike'}\n"
     ]
    }
   ],
   "source": [
    "person(\"Mike\", 17)\n",
    "person(\"Tom\", 19, city=\"Beijing\")\n",
    "person(\"Jack\", 10, gender=\"M\", city=\"Leping\", Dad=\"Mike\")"
   ]
  },
  {
   "cell_type": "code",
   "execution_count": 129,
   "metadata": {},
   "outputs": [
    {
     "name": "stdout",
     "output_type": "stream",
     "text": [
      "name: Jack age: 19 other: {'city': 'Beijing', 'job': 'Engineer'}\n"
     ]
    }
   ],
   "source": [
    "extra = {'city': 'Beijing', 'job': 'Engineer'}\n",
    "person(\"Jack\", 19, **extra)"
   ]
  },
  {
   "cell_type": "code",
   "execution_count": 130,
   "metadata": {},
   "outputs": [],
   "source": [
    "def person1(name, age, *, city, job):\n",
    "    print(name, age, city, job)"
   ]
  },
  {
   "cell_type": "code",
   "execution_count": 131,
   "metadata": {},
   "outputs": [
    {
     "name": "stdout",
     "output_type": "stream",
     "text": [
      "Jack 24 Beijing Engineer\n"
     ]
    }
   ],
   "source": [
    "person1(\"Jack\", 24, city=\"Beijing\", job=\"Engineer\")"
   ]
  },
  {
   "cell_type": "code",
   "execution_count": 135,
   "metadata": {},
   "outputs": [],
   "source": [
    "def mul(*args):\n",
    "    if len(args) == 0:\n",
    "        print(\"Please input at least one number!\")\n",
    "    sum = 1\n",
    "    for i in args:\n",
    "        if not isinstance(i, (int, float)):\n",
    "            raise TypeError(\"Bad operand type\")\n",
    "        sum = sum * i\n",
    "    return sum"
   ]
  },
  {
   "cell_type": "code",
   "execution_count": 136,
   "metadata": {},
   "outputs": [
    {
     "data": {
      "text/plain": [
       "24"
      ]
     },
     "execution_count": 136,
     "metadata": {},
     "output_type": "execute_result"
    }
   ],
   "source": [
    "mul(1, 2, 3, 4)"
   ]
  },
  {
   "cell_type": "code",
   "execution_count": 137,
   "metadata": {},
   "outputs": [
    {
     "data": {
      "text/plain": [
       "2340"
      ]
     },
     "execution_count": 137,
     "metadata": {},
     "output_type": "execute_result"
    }
   ],
   "source": [
    "mul(5, 6, 78)"
   ]
  },
  {
   "cell_type": "code",
   "execution_count": 138,
   "metadata": {},
   "outputs": [],
   "source": [
    "def classmate(name, age=18, *args, **kw):\n",
    "    print(\"name:\", name, \"age:\", age, \"args:\", args, \"kw:\", kw)"
   ]
  },
  {
   "cell_type": "code",
   "execution_count": 139,
   "metadata": {},
   "outputs": [
    {
     "name": "stdout",
     "output_type": "stream",
     "text": [
      "name: 1 age: 18 args: ('a', 'b', 'c') kw: {'hy': 'kkk', 'lll': 'lll'}\n"
     ]
    }
   ],
   "source": [
    "classmate(\"1\", 18, \"a\", \"b\", \"c\", hy=\"kkk\", lll=\"lll\")"
   ]
  },
  {
   "cell_type": "code",
   "execution_count": 140,
   "metadata": {},
   "outputs": [
    {
     "name": "stdout",
     "output_type": "stream",
     "text": [
      "name: 1 age: 18 args: ('a', 'b', 'c') kw: {'hy': 'kkk', 'lll': 'lll'}\n"
     ]
    }
   ],
   "source": [
    "args = (\"1\", 18, \"a\", \"b\", \"c\")\n",
    "kw = {'hy': 'kkk', 'lll': 'lll'}\n",
    "classmate(*args, **kw)"
   ]
  },
  {
   "cell_type": "code",
   "execution_count": 2,
   "metadata": {},
   "outputs": [],
   "source": [
    "def fact(n):\n",
    "    if n == 1:\n",
    "        return 1\n",
    "    return fact(n - 1) * n"
   ]
  },
  {
   "cell_type": "code",
   "execution_count": 3,
   "metadata": {},
   "outputs": [
    {
     "data": {
      "text/plain": [
       "93326215443944152681699238856266700490715968264381621468592963895217599993229915608941463976156518286253697920827223758251185210916864000000000000000000000000"
      ]
     },
     "execution_count": 3,
     "metadata": {},
     "output_type": "execute_result"
    }
   ],
   "source": [
    "fact(100)"
   ]
  },
  {
   "cell_type": "code",
   "execution_count": 4,
   "metadata": {},
   "outputs": [
    {
     "data": {
      "text/plain": [
       "402387260077093773543702433923003985719374864210714632543799910429938512398629020592044208486969404800479988610197196058631666872994808558901323829669944590997424504087073759918823627727188732519779505950995276120874975462497043601418278094646496291056393887437886487337119181045825783647849977012476632889835955735432513185323958463075557409114262417474349347553428646576611667797396668820291207379143853719588249808126867838374559731746136085379534524221586593201928090878297308431392844403281231558611036976801357304216168747609675871348312025478589320767169132448426236131412508780208000261683151027341827977704784635868170164365024153691398281264810213092761244896359928705114964975419909342221566832572080821333186116811553615836546984046708975602900950537616475847728421889679646244945160765353408198901385442487984959953319101723355556602139450399736280750137837615307127761926849034352625200015888535147331611702103968175921510907788019393178114194545257223865541461062892187960223838971476088506276862967146674697562911234082439208160153780889893964518263243671616762179168909779911903754031274622289988005195444414282012187361745992642956581746628302955570299024324153181617210465832036786906117260158783520751516284225540265170483304226143974286933061690897968482590125458327168226458066526769958652682272807075781391858178889652208164348344825993266043367660176999612831860788386150279465955131156552036093988180612138558600301435694527224206344631797460594682573103790084024432438465657245014402821885252470935190620929023136493273497565513958720559654228749774011413346962715422845862377387538230483865688976461927383814900140767310446640259899490222221765904339901886018566526485061799702356193897017860040811889729918311021171229845901641921068884387121855646124960798722908519296819372388642614839657382291123125024186649353143970137428531926649875337218940694281434118520158014123344828015051399694290153483077644569099073152433278288269864602789864321139083506217095002597389863554277196742822248757586765752344220207573630569498825087968928162753848863396909959826280956121450994871701244516461260379029309120889086942028510640182154399457156805941872748998094254742173582401063677404595741785160829230135358081840096996372524230560855903700624271243416909004153690105933983835777939410970027753472000000000000000000000000000000000000000000000000000000000000000000000000000000000000000000000000000000000000000000000000000000000000000000000000000000000000000000000000000000000000000000000000000000000000000000000000000000000000000000000000000000000"
      ]
     },
     "execution_count": 4,
     "metadata": {},
     "output_type": "execute_result"
    }
   ],
   "source": [
    "fact(1000)"
   ]
  },
  {
   "cell_type": "code",
   "execution_count": 5,
   "metadata": {},
   "outputs": [],
   "source": [
    "# 尾递归\n",
    "# 返回结果不包含表达式，返回只调用自己本身\n",
    "def fact_iter(num, product):\n",
    "    if num == 1:\n",
    "        return product\n",
    "    return fact_iter(num - 1, num * product)\n",
    "\n",
    "\n",
    "def fact(n):\n",
    "    return fact_iter(n, 1)"
   ]
  },
  {
   "cell_type": "code",
   "execution_count": 6,
   "metadata": {},
   "outputs": [
    {
     "data": {
      "text/plain": [
       "93326215443944152681699238856266700490715968264381621468592963895217599993229915608941463976156518286253697920827223758251185210916864000000000000000000000000"
      ]
     },
     "execution_count": 6,
     "metadata": {},
     "output_type": "execute_result"
    }
   ],
   "source": [
    "fact(100)"
   ]
  },
  {
   "attachments": {},
   "cell_type": "markdown",
   "metadata": {},
   "source": [
    "汉诺塔"
   ]
  },
  {
   "attachments": {},
   "cell_type": "markdown",
   "metadata": {},
   "source": [
    "递归实现"
   ]
  },
  {
   "cell_type": "code",
   "execution_count": 7,
   "metadata": {},
   "outputs": [],
   "source": [
    "def hanoi(n, a, b, c):\n",
    "    if n == 1:\n",
    "        print(a, \"-->\", c)  # n==1时直接将盘子从a移动到c\n",
    "    else:\n",
    "        hanoi(n - 1, a, c, b)  # 先将n-1个盘子移动到b\n",
    "        hanoi(1, a, b, c)  # 将a上的一个盘子移动到c\n",
    "        hanoi(n - 1, b, a, c)  # 将剩余n-1个盘子移动到c"
   ]
  },
  {
   "cell_type": "code",
   "execution_count": 8,
   "metadata": {},
   "outputs": [
    {
     "name": "stdout",
     "output_type": "stream",
     "text": [
      "A --> C\n",
      "A --> B\n",
      "C --> B\n",
      "A --> C\n",
      "B --> A\n",
      "B --> C\n",
      "A --> C\n"
     ]
    }
   ],
   "source": [
    "hanoi(3, \"A\", \"B\", \"C\")"
   ]
  },
  {
   "attachments": {},
   "cell_type": "markdown",
   "metadata": {},
   "source": [
    "# 高级特性"
   ]
  },
  {
   "attachments": {},
   "cell_type": "markdown",
   "metadata": {},
   "source": [
    "切片"
   ]
  },
  {
   "cell_type": "code",
   "execution_count": 17,
   "metadata": {},
   "outputs": [
    {
     "data": {
      "text/plain": [
       "['Michael', 'Sarah', 'Tracy', 'Tom', 'Bob']"
      ]
     },
     "execution_count": 17,
     "metadata": {},
     "output_type": "execute_result"
    }
   ],
   "source": [
    "L = [\"Michael\", \"Sarah\", \"Tracy\", \"Tom\", \"Bob\"]\n",
    "L"
   ]
  },
  {
   "cell_type": "code",
   "execution_count": 10,
   "metadata": {},
   "outputs": [
    {
     "data": {
      "text/plain": [
       "['Michael', 'Sarah', 'Tracy']"
      ]
     },
     "execution_count": 10,
     "metadata": {},
     "output_type": "execute_result"
    }
   ],
   "source": [
    "L[0:3]"
   ]
  },
  {
   "cell_type": "code",
   "execution_count": 11,
   "metadata": {},
   "outputs": [
    {
     "data": {
      "text/plain": [
       "['Michael', 'Sarah', 'Tracy']"
      ]
     },
     "execution_count": 11,
     "metadata": {},
     "output_type": "execute_result"
    }
   ],
   "source": [
    "L[:3]"
   ]
  },
  {
   "cell_type": "code",
   "execution_count": 12,
   "metadata": {},
   "outputs": [
    {
     "data": {
      "text/plain": [
       "['Sarah', 'Tracy']"
      ]
     },
     "execution_count": 12,
     "metadata": {},
     "output_type": "execute_result"
    }
   ],
   "source": [
    "L[1:3]"
   ]
  },
  {
   "cell_type": "code",
   "execution_count": 13,
   "metadata": {},
   "outputs": [
    {
     "data": {
      "text/plain": [
       "'Tom'"
      ]
     },
     "execution_count": 13,
     "metadata": {},
     "output_type": "execute_result"
    }
   ],
   "source": [
    "L[-2]"
   ]
  },
  {
   "cell_type": "code",
   "execution_count": 16,
   "metadata": {},
   "outputs": [
    {
     "data": {
      "text/plain": [
       "['Tom', 'Bob']"
      ]
     },
     "execution_count": 16,
     "metadata": {},
     "output_type": "execute_result"
    }
   ],
   "source": [
    "L[-2:]"
   ]
  },
  {
   "cell_type": "code",
   "execution_count": 18,
   "metadata": {},
   "outputs": [
    {
     "data": {
      "text/plain": [
       "['Tom']"
      ]
     },
     "execution_count": 18,
     "metadata": {},
     "output_type": "execute_result"
    }
   ],
   "source": [
    "L[-2:-1]"
   ]
  },
  {
   "cell_type": "code",
   "execution_count": 21,
   "metadata": {},
   "outputs": [],
   "source": [
    "L = list(range(100))"
   ]
  },
  {
   "cell_type": "code",
   "execution_count": 22,
   "metadata": {},
   "outputs": [
    {
     "data": {
      "text/plain": [
       "range"
      ]
     },
     "execution_count": 22,
     "metadata": {},
     "output_type": "execute_result"
    }
   ],
   "source": [
    "type(range(100))"
   ]
  },
  {
   "cell_type": "code",
   "execution_count": 24,
   "metadata": {},
   "outputs": [
    {
     "data": {
      "text/plain": [
       "[0, 1, 2, 3, 4, 5, 6, 7, 8, 9]"
      ]
     },
     "execution_count": 24,
     "metadata": {},
     "output_type": "execute_result"
    }
   ],
   "source": [
    "L[:10]  # 前十个数"
   ]
  },
  {
   "cell_type": "code",
   "execution_count": 25,
   "metadata": {},
   "outputs": [
    {
     "data": {
      "text/plain": [
       "[90, 91, 92, 93, 94, 95, 96, 97, 98, 99]"
      ]
     },
     "execution_count": 25,
     "metadata": {},
     "output_type": "execute_result"
    }
   ],
   "source": [
    "L[-10:]  # 后十个数"
   ]
  },
  {
   "cell_type": "code",
   "execution_count": 26,
   "metadata": {},
   "outputs": [
    {
     "data": {
      "text/plain": [
       "[0, 2, 4, 6, 8]"
      ]
     },
     "execution_count": 26,
     "metadata": {},
     "output_type": "execute_result"
    }
   ],
   "source": [
    "L[:10:2]  # 前十个数，每两个取一个"
   ]
  },
  {
   "cell_type": "code",
   "execution_count": 27,
   "metadata": {},
   "outputs": [
    {
     "data": {
      "text/plain": [
       "[0, 5, 10, 15, 20, 25, 30, 35, 40, 45, 50, 55, 60, 65, 70, 75, 80, 85, 90, 95]"
      ]
     },
     "execution_count": 27,
     "metadata": {},
     "output_type": "execute_result"
    }
   ],
   "source": [
    "L[::5]  # 每五个取一个"
   ]
  },
  {
   "cell_type": "code",
   "execution_count": 38,
   "metadata": {},
   "outputs": [
    {
     "data": {
      "text/plain": [
       "(0, 1, 2, 3, 4)"
      ]
     },
     "execution_count": 38,
     "metadata": {},
     "output_type": "execute_result"
    }
   ],
   "source": [
    "(0, 1, 2, 3, 4, 5)[:-1]  # tuple切片还是tuple"
   ]
  },
  {
   "cell_type": "code",
   "execution_count": 1,
   "metadata": {},
   "outputs": [
    {
     "name": "stdout",
     "output_type": "stream",
     "text": [
      "a\tb\n"
     ]
    }
   ],
   "source": [
    "print(\"a\\tb\")"
   ]
  },
  {
   "cell_type": "code",
   "execution_count": 27,
   "metadata": {},
   "outputs": [],
   "source": [
    "def trim(s):\n",
    "    length = len(s)\n",
    "    if length == 0:\n",
    "        return s\n",
    "    head = 0\n",
    "    while head < length and s[head] == \" \":\n",
    "        head = head + 1  # 从前往后检查空格数目\n",
    "    tail = length\n",
    "    while tail > 0 and s[tail - 1] == \" \":\n",
    "        tail = tail - 1\n",
    "    if head != length or tail == 0:\n",
    "        return s[head:tail]\n",
    "    else:\n",
    "        return \"\"  # 当全为空格时，返回空串"
   ]
  },
  {
   "cell_type": "code",
   "execution_count": 28,
   "metadata": {},
   "outputs": [
    {
     "name": "stdout",
     "output_type": "stream",
     "text": [
      "测试成功!\n"
     ]
    }
   ],
   "source": [
    "# 测试:\n",
    "if trim('hello  ') != 'hello':\n",
    "    print('测试失败!')\n",
    "elif trim('  hello') != 'hello':\n",
    "    print('测试失败!')\n",
    "elif trim('  hello  ') != 'hello':\n",
    "    print('测试失败!')\n",
    "elif trim('  hello  world  ') != 'hello  world':\n",
    "    print('测试失败!')\n",
    "elif trim('') != '':\n",
    "    print('测试失败!')\n",
    "elif trim('    ') != '':\n",
    "    print('测试失败!')\n",
    "else:\n",
    "    print('测试成功!')"
   ]
  },
  {
   "attachments": {},
   "cell_type": "markdown",
   "metadata": {},
   "source": [
    "迭代"
   ]
  },
  {
   "cell_type": "code",
   "execution_count": 29,
   "metadata": {},
   "outputs": [
    {
     "name": "stdout",
     "output_type": "stream",
     "text": [
      "1 2 3 "
     ]
    }
   ],
   "source": [
    "d = {\"a\": 1, \"b\": 2, \"c\": 3}\n",
    "for key in d:\n",
    "    print(d[key], end=\" \")"
   ]
  },
  {
   "cell_type": "code",
   "execution_count": 33,
   "metadata": {},
   "outputs": [
    {
     "name": "stdout",
     "output_type": "stream",
     "text": [
      "a b c "
     ]
    }
   ],
   "source": [
    "for key, value in d.items():\n",
    "    print(key, end=\" \")"
   ]
  },
  {
   "cell_type": "code",
   "execution_count": 34,
   "metadata": {},
   "outputs": [
    {
     "name": "stdout",
     "output_type": "stream",
     "text": [
      "A B C "
     ]
    }
   ],
   "source": [
    "for ch in \"ABC\":\n",
    "    print(ch, end=\" \")"
   ]
  },
  {
   "cell_type": "code",
   "execution_count": 35,
   "metadata": {},
   "outputs": [
    {
     "data": {
      "text/plain": [
       "True"
      ]
     },
     "execution_count": 35,
     "metadata": {},
     "output_type": "execute_result"
    }
   ],
   "source": [
    "from collections.abc import Iterable\n",
    "\n",
    "isinstance(\"abc\", Iterable)"
   ]
  },
  {
   "cell_type": "code",
   "execution_count": 36,
   "metadata": {},
   "outputs": [
    {
     "data": {
      "text/plain": [
       "True"
      ]
     },
     "execution_count": 36,
     "metadata": {},
     "output_type": "execute_result"
    }
   ],
   "source": [
    "isinstance([1, 2, 3], Iterable)"
   ]
  },
  {
   "cell_type": "code",
   "execution_count": 37,
   "metadata": {},
   "outputs": [
    {
     "data": {
      "text/plain": [
       "False"
      ]
     },
     "execution_count": 37,
     "metadata": {},
     "output_type": "execute_result"
    }
   ],
   "source": [
    "isinstance(123, Iterable)"
   ]
  },
  {
   "cell_type": "code",
   "execution_count": 38,
   "metadata": {},
   "outputs": [
    {
     "name": "stdout",
     "output_type": "stream",
     "text": [
      "0 A\n",
      "1 B\n",
      "2 C\n"
     ]
    }
   ],
   "source": [
    "# 下标循环\n",
    "for i, value in enumerate([\"A\", \"B\", \"C\"]):\n",
    "    print(i, value)"
   ]
  },
  {
   "cell_type": "code",
   "execution_count": 42,
   "metadata": {},
   "outputs": [],
   "source": [
    "def findMinAndMax(L):\n",
    "    if len(L) == 0:\n",
    "        return (None, None)\n",
    "    min = 0xfffffff\n",
    "    max = 0\n",
    "    for i in L:\n",
    "        if i > max:\n",
    "            max = i\n",
    "        if i < min:\n",
    "            min = i\n",
    "    return (min, max)"
   ]
  },
  {
   "cell_type": "code",
   "execution_count": 43,
   "metadata": {},
   "outputs": [
    {
     "name": "stdout",
     "output_type": "stream",
     "text": [
      "测试成功!\n"
     ]
    }
   ],
   "source": [
    "# 测试\n",
    "if findMinAndMax([]) != (None, None):\n",
    "    print('测试失败!')\n",
    "elif findMinAndMax([7]) != (7, 7):\n",
    "    print('测试失败!')\n",
    "elif findMinAndMax([7, 1]) != (1, 7):\n",
    "    print('测试失败!')\n",
    "elif findMinAndMax([7, 1, 3, 9, 5]) != (1, 9):\n",
    "    print('测试失败!')\n",
    "else:\n",
    "    print('测试成功!')"
   ]
  },
  {
   "attachments": {},
   "cell_type": "markdown",
   "metadata": {},
   "source": [
    "列表生成式"
   ]
  },
  {
   "cell_type": "code",
   "execution_count": 45,
   "metadata": {},
   "outputs": [
    {
     "data": {
      "text/plain": [
       "[1, 4, 9, 16, 25, 36, 49, 64, 81, 100]"
      ]
     },
     "execution_count": 45,
     "metadata": {},
     "output_type": "execute_result"
    }
   ],
   "source": [
    "L = [x * x for x in range(1, 11)]\n",
    "L"
   ]
  },
  {
   "cell_type": "code",
   "execution_count": 46,
   "metadata": {},
   "outputs": [
    {
     "data": {
      "text/plain": [
       "[4, 16, 36, 64, 100]"
      ]
     },
     "execution_count": 46,
     "metadata": {},
     "output_type": "execute_result"
    }
   ],
   "source": [
    "[x * x for x in range(1, 11) if x % 2 == 0]"
   ]
  },
  {
   "cell_type": "code",
   "execution_count": 47,
   "metadata": {},
   "outputs": [
    {
     "data": {
      "text/plain": [
       "['A1', 'A2', 'A3', 'A4', 'B1', 'B2', 'B3', 'B4', 'C1', 'C2', 'C3', 'C4']"
      ]
     },
     "execution_count": 47,
     "metadata": {},
     "output_type": "execute_result"
    }
   ],
   "source": [
    "[m + n for m in \"ABC\" for n in \"1234\"]"
   ]
  },
  {
   "cell_type": "code",
   "execution_count": 48,
   "metadata": {},
   "outputs": [],
   "source": [
    "import os"
   ]
  },
  {
   "cell_type": "code",
   "execution_count": 49,
   "metadata": {},
   "outputs": [
    {
     "data": {
      "text/plain": [
       "['test.ipynb', 'test.py']"
      ]
     },
     "execution_count": 49,
     "metadata": {},
     "output_type": "execute_result"
    }
   ],
   "source": [
    "[d for d in os.listdir(\".\")]"
   ]
  },
  {
   "cell_type": "code",
   "execution_count": 50,
   "metadata": {},
   "outputs": [
    {
     "data": {
      "text/plain": [
       "['x = A', 'y = B', 'z = C']"
      ]
     },
     "execution_count": 50,
     "metadata": {},
     "output_type": "execute_result"
    }
   ],
   "source": [
    "d = {\"x\": \"A\", \"y\": \"B\", \"z\": \"C\"}\n",
    "[k + \" = \" + v for k, v in d.items()]"
   ]
  },
  {
   "cell_type": "code",
   "execution_count": 51,
   "metadata": {},
   "outputs": [
    {
     "data": {
      "text/plain": [
       "[-1, 2, -3, 4, -5, 6, -7, 8, -9, 10]"
      ]
     },
     "execution_count": 51,
     "metadata": {},
     "output_type": "execute_result"
    }
   ],
   "source": [
    "[x if x % 2 == 0 else -x for x in range(1, 11)]"
   ]
  },
  {
   "cell_type": "code",
   "execution_count": 52,
   "metadata": {},
   "outputs": [],
   "source": [
    "L1 = ['Hello', 'World', 18, 'Apple', None]\n",
    "L2 = [s.lower() for s in L1 if isinstance(s, str)]"
   ]
  },
  {
   "cell_type": "code",
   "execution_count": 53,
   "metadata": {},
   "outputs": [
    {
     "data": {
      "text/plain": [
       "['hello', 'world', 'apple']"
      ]
     },
     "execution_count": 53,
     "metadata": {},
     "output_type": "execute_result"
    }
   ],
   "source": [
    "L2"
   ]
  },
  {
   "cell_type": "code",
   "execution_count": 54,
   "metadata": {},
   "outputs": [
    {
     "name": "stdout",
     "output_type": "stream",
     "text": [
      "['hello', 'world', 'apple']\n",
      "测试通过!\n"
     ]
    }
   ],
   "source": [
    "print(L2)\n",
    "if L2 == ['hello', 'world', 'apple']:\n",
    "    print('测试通过!')\n",
    "else:\n",
    "    print('测试失败!')"
   ]
  },
  {
   "attachments": {},
   "cell_type": "markdown",
   "metadata": {},
   "source": [
    "生成器"
   ]
  },
  {
   "cell_type": "code",
   "execution_count": 68,
   "metadata": {},
   "outputs": [
    {
     "data": {
      "text/plain": [
       "<generator object <genexpr> at 0x000001AC87753B30>"
      ]
     },
     "execution_count": 68,
     "metadata": {},
     "output_type": "execute_result"
    }
   ],
   "source": [
    "g = (x * x for x in range(1, 1111))\n",
    "g"
   ]
  },
  {
   "cell_type": "code",
   "execution_count": 69,
   "metadata": {},
   "outputs": [
    {
     "name": "stdout",
     "output_type": "stream",
     "text": [
      "1 4 9 16 25 36 49 64 81 100 121 144 169 196 225 256 289 324 361 400 441 484 529 576 625 676 729 784 841 900 961 1024 1089 1156 1225 1296 1369 1444 1521 1600 1681 1764 1849 1936 2025 2116 2209 2304 2401 2500 2601 2704 2809 2916 3025 3136 3249 3364 3481 3600 3721 3844 3969 4096 4225 4356 4489 4624 4761 4900 5041 5184 5329 5476 5625 5776 5929 6084 6241 6400 6561 6724 6889 7056 7225 7396 7569 7744 7921 8100 8281 8464 8649 8836 9025 9216 9409 9604 9801 10000 10201 10404 10609 10816 11025 11236 11449 11664 11881 12100 12321 12544 12769 12996 13225 13456 13689 13924 14161 14400 14641 14884 15129 15376 15625 15876 16129 16384 16641 16900 17161 17424 17689 17956 18225 18496 18769 19044 19321 19600 19881 20164 20449 20736 21025 21316 21609 21904 22201 22500 22801 23104 23409 23716 24025 24336 24649 24964 25281 25600 25921 26244 26569 26896 27225 27556 27889 28224 28561 28900 29241 29584 29929 30276 30625 30976 31329 31684 32041 32400 32761 33124 33489 33856 34225 34596 34969 35344 35721 36100 36481 36864 37249 37636 38025 38416 38809 39204 39601 40000 40401 40804 41209 41616 42025 42436 42849 43264 43681 44100 44521 44944 45369 45796 46225 46656 47089 47524 47961 48400 48841 49284 49729 50176 50625 51076 51529 51984 52441 52900 53361 53824 54289 54756 55225 55696 56169 56644 57121 57600 58081 58564 59049 59536 60025 60516 61009 61504 62001 62500 63001 63504 64009 64516 65025 65536 66049 66564 67081 67600 68121 68644 69169 69696 70225 70756 71289 71824 72361 72900 73441 73984 74529 75076 75625 76176 76729 77284 77841 78400 78961 79524 80089 80656 81225 81796 82369 82944 83521 84100 84681 85264 85849 86436 87025 87616 88209 88804 89401 90000 90601 91204 91809 92416 93025 93636 94249 94864 95481 96100 96721 97344 97969 98596 99225 99856 100489 101124 101761 102400 103041 103684 104329 104976 105625 106276 106929 107584 108241 108900 109561 110224 110889 111556 112225 112896 113569 114244 114921 115600 116281 116964 117649 118336 119025 119716 120409 121104 121801 122500 123201 123904 124609 125316 126025 126736 127449 128164 128881 129600 130321 131044 131769 132496 133225 133956 134689 135424 136161 136900 137641 138384 139129 139876 140625 141376 142129 142884 143641 144400 145161 145924 146689 147456 148225 148996 149769 150544 151321 152100 152881 153664 154449 155236 156025 156816 157609 158404 159201 160000 160801 161604 162409 163216 164025 164836 165649 166464 167281 168100 168921 169744 170569 171396 172225 173056 173889 174724 175561 176400 177241 178084 178929 179776 180625 181476 182329 183184 184041 184900 185761 186624 187489 188356 189225 190096 190969 191844 192721 193600 194481 195364 196249 197136 198025 198916 199809 200704 201601 202500 203401 204304 205209 206116 207025 207936 208849 209764 210681 211600 212521 213444 214369 215296 216225 217156 218089 219024 219961 220900 221841 222784 223729 224676 225625 226576 227529 228484 229441 230400 231361 232324 233289 234256 235225 236196 237169 238144 239121 240100 241081 242064 243049 244036 245025 246016 247009 248004 249001 250000 251001 252004 253009 254016 255025 256036 257049 258064 259081 260100 261121 262144 263169 264196 265225 266256 267289 268324 269361 270400 271441 272484 273529 274576 275625 276676 277729 278784 279841 280900 281961 283024 284089 285156 286225 287296 288369 289444 290521 291600 292681 293764 294849 295936 297025 298116 299209 300304 301401 302500 303601 304704 305809 306916 308025 309136 310249 311364 312481 313600 314721 315844 316969 318096 319225 320356 321489 322624 323761 324900 326041 327184 328329 329476 330625 331776 332929 334084 335241 336400 337561 338724 339889 341056 342225 343396 344569 345744 346921 348100 349281 350464 351649 352836 354025 355216 356409 357604 358801 360000 361201 362404 363609 364816 366025 367236 368449 369664 370881 372100 373321 374544 375769 376996 378225 379456 380689 381924 383161 384400 385641 386884 388129 389376 390625 391876 393129 394384 395641 396900 398161 399424 400689 401956 403225 404496 405769 407044 408321 409600 410881 412164 413449 414736 416025 417316 418609 419904 421201 422500 423801 425104 426409 427716 429025 430336 431649 432964 434281 435600 436921 438244 439569 440896 442225 443556 444889 446224 447561 448900 450241 451584 452929 454276 455625 456976 458329 459684 461041 462400 463761 465124 466489 467856 469225 470596 471969 473344 474721 476100 477481 478864 480249 481636 483025 484416 485809 487204 488601 490000 491401 492804 494209 495616 497025 498436 499849 501264 502681 504100 505521 506944 508369 509796 511225 512656 514089 515524 516961 518400 519841 521284 522729 524176 525625 527076 528529 529984 531441 532900 534361 535824 537289 538756 540225 541696 543169 544644 546121 547600 549081 550564 552049 553536 555025 556516 558009 559504 561001 562500 564001 565504 567009 568516 570025 571536 573049 574564 576081 577600 579121 580644 582169 583696 585225 586756 588289 589824 591361 592900 594441 595984 597529 599076 600625 602176 603729 605284 606841 608400 609961 611524 613089 614656 616225 617796 619369 620944 622521 624100 625681 627264 628849 630436 632025 633616 635209 636804 638401 640000 641601 643204 644809 646416 648025 649636 651249 652864 654481 656100 657721 659344 660969 662596 664225 665856 667489 669124 670761 672400 674041 675684 677329 678976 680625 682276 683929 685584 687241 688900 690561 692224 693889 695556 697225 698896 700569 702244 703921 705600 707281 708964 710649 712336 714025 715716 717409 719104 720801 722500 724201 725904 727609 729316 731025 732736 734449 736164 737881 739600 741321 743044 744769 746496 748225 749956 751689 753424 755161 756900 758641 760384 762129 763876 765625 767376 769129 770884 772641 774400 776161 777924 779689 781456 783225 784996 786769 788544 790321 792100 793881 795664 797449 799236 801025 802816 804609 806404 808201 810000 811801 813604 815409 817216 819025 820836 822649 824464 826281 828100 829921 831744 833569 835396 837225 839056 840889 842724 844561 846400 848241 850084 851929 853776 855625 857476 859329 861184 863041 864900 866761 868624 870489 872356 874225 876096 877969 879844 881721 883600 885481 887364 889249 891136 893025 894916 896809 898704 900601 902500 904401 906304 908209 910116 912025 913936 915849 917764 919681 921600 923521 925444 927369 929296 931225 933156 935089 937024 938961 940900 942841 944784 946729 948676 950625 952576 954529 956484 958441 960400 962361 964324 966289 968256 970225 972196 974169 976144 978121 980100 982081 984064 986049 988036 990025 992016 994009 996004 998001 1000000 1002001 1004004 1006009 1008016 1010025 1012036 1014049 1016064 1018081 1020100 1022121 1024144 1026169 1028196 1030225 1032256 1034289 1036324 1038361 1040400 1042441 1044484 1046529 1048576 1050625 1052676 1054729 1056784 1058841 1060900 1062961 1065024 1067089 1069156 1071225 1073296 1075369 1077444 1079521 1081600 1083681 1085764 1087849 1089936 1092025 1094116 1096209 1098304 1100401 1102500 1104601 1106704 1108809 1110916 1113025 1115136 1117249 1119364 1121481 1123600 1125721 1127844 1129969 1132096 1134225 1136356 1138489 1140624 1142761 1144900 1147041 1149184 1151329 1153476 1155625 1157776 1159929 1162084 1164241 1166400 1168561 1170724 1172889 1175056 1177225 1179396 1181569 1183744 1185921 1188100 1190281 1192464 1194649 1196836 1199025 1201216 1203409 1205604 1207801 1210000 1212201 1214404 1216609 1218816 1221025 1223236 1225449 1227664 1229881 1232100 "
     ]
    }
   ],
   "source": [
    "for n in g:\n",
    "    print(n, end=\" \")"
   ]
  },
  {
   "cell_type": "code",
   "execution_count": 66,
   "metadata": {},
   "outputs": [],
   "source": [
    "def fib(max):\n",
    "    n, a, b = 0, 0, 1\n",
    "    while n < max:\n",
    "        print(b, end=\" \")\n",
    "        a, b = b, a + b\n",
    "        n = n + 1\n",
    "    return \"Done\""
   ]
  },
  {
   "cell_type": "code",
   "execution_count": 67,
   "metadata": {},
   "outputs": [
    {
     "name": "stdout",
     "output_type": "stream",
     "text": [
      "1 1 2 3 5 8 "
     ]
    },
    {
     "data": {
      "text/plain": [
       "'Done'"
      ]
     },
     "execution_count": 67,
     "metadata": {},
     "output_type": "execute_result"
    }
   ],
   "source": [
    "fib(6)"
   ]
  },
  {
   "cell_type": "code",
   "execution_count": 70,
   "metadata": {},
   "outputs": [],
   "source": [
    "# generator 与函数的区别在于函数在遇到return时结束，generator是遇到yield就返回结果\n",
    "# 下次调用时从yield开始"
   ]
  },
  {
   "cell_type": "code",
   "execution_count": 71,
   "metadata": {},
   "outputs": [],
   "source": [
    "def fib(max):\n",
    "    n, a, b = 0, 0, 1\n",
    "    while (n < max):\n",
    "        yield b\n",
    "        a, b = b, a + b\n",
    "        n = n + 1\n",
    "    return \"Done\""
   ]
  },
  {
   "cell_type": "code",
   "execution_count": 73,
   "metadata": {},
   "outputs": [
    {
     "data": {
      "text/plain": [
       "<generator object fib at 0x000001AC87754D60>"
      ]
     },
     "execution_count": 73,
     "metadata": {},
     "output_type": "execute_result"
    }
   ],
   "source": [
    "g = fib(10)\n",
    "g"
   ]
  },
  {
   "cell_type": "code",
   "execution_count": 74,
   "metadata": {},
   "outputs": [],
   "source": [
    "# 调用generator会生成一个对象，调用多次会产生多个相互独立的对象\n",
    "def odd():\n",
    "    print(\"step 1\")\n",
    "    yield 1\n",
    "    print(\"step 2\")\n",
    "    yield 2\n",
    "    print(\"step 3\")\n",
    "    yield 3"
   ]
  },
  {
   "cell_type": "code",
   "execution_count": 77,
   "metadata": {},
   "outputs": [
    {
     "name": "stdout",
     "output_type": "stream",
     "text": [
      "step 1\n",
      "step 2\n",
      "step 3\n"
     ]
    },
    {
     "data": {
      "text/plain": [
       "3"
      ]
     },
     "execution_count": 77,
     "metadata": {},
     "output_type": "execute_result"
    }
   ],
   "source": [
    "g = odd()\n",
    "next(g)\n",
    "next(g)\n",
    "next(g)"
   ]
  },
  {
   "cell_type": "code",
   "execution_count": 78,
   "metadata": {},
   "outputs": [],
   "source": [
    "g = fib(6)"
   ]
  },
  {
   "cell_type": "code",
   "execution_count": 79,
   "metadata": {},
   "outputs": [
    {
     "name": "stdout",
     "output_type": "stream",
     "text": [
      "1\n",
      "1\n",
      "2\n",
      "3\n",
      "5\n",
      "8\n",
      "Generator return value: Done\n"
     ]
    }
   ],
   "source": [
    "while True:\n",
    "    try:\n",
    "        x = next(g)\n",
    "        print(x)\n",
    "    except StopIteration as e:\n",
    "        print(\"Generator return value:\", e.value)\n",
    "        break"
   ]
  },
  {
   "cell_type": "code",
   "execution_count": 80,
   "metadata": {},
   "outputs": [],
   "source": [
    "# 杨辉三角\n",
    "def triangles():\n",
    "    L = [1]\n",
    "    yield L\n",
    "    n = 2\n",
    "    while True:\n",
    "        L = [1] + [L[j] + L[j - 1] for j in range(1, n - 1) if n > 2] + [1]\n",
    "        yield L\n",
    "        n = n + 1"
   ]
  },
  {
   "cell_type": "code",
   "execution_count": 81,
   "metadata": {},
   "outputs": [],
   "source": [
    "n = 0\n",
    "results = []\n",
    "for t in triangles():\n",
    "    results.append(t)\n",
    "    n = n + 1\n",
    "    if n == 10:\n",
    "        break"
   ]
  },
  {
   "cell_type": "code",
   "execution_count": 82,
   "metadata": {},
   "outputs": [
    {
     "name": "stdout",
     "output_type": "stream",
     "text": [
      "[1]\n",
      "[1, 1]\n",
      "[1, 2, 1]\n",
      "[1, 3, 3, 1]\n",
      "[1, 4, 6, 4, 1]\n",
      "[1, 5, 10, 10, 5, 1]\n",
      "[1, 6, 15, 20, 15, 6, 1]\n",
      "[1, 7, 21, 35, 35, 21, 7, 1]\n",
      "[1, 8, 28, 56, 70, 56, 28, 8, 1]\n",
      "[1, 9, 36, 84, 126, 126, 84, 36, 9, 1]\n",
      "测试通过!\n"
     ]
    }
   ],
   "source": [
    "for t in results:\n",
    "    print(t)\n",
    "\n",
    "if results == [[1], [1, 1], [1, 2, 1], [1, 3, 3, 1], [1, 4, 6, 4, 1],\n",
    "               [1, 5, 10, 10, 5, 1], [1, 6, 15, 20, 15, 6, 1],\n",
    "               [1, 7, 21, 35, 35, 21, 7, 1], [1, 8, 28, 56, 70, 56, 28, 8, 1],\n",
    "               [1, 9, 36, 84, 126, 126, 84, 36, 9, 1]]:\n",
    "    print('测试通过!')\n",
    "else:\n",
    "    print('测试失败!')"
   ]
  },
  {
   "attachments": {},
   "cell_type": "markdown",
   "metadata": {},
   "source": [
    "迭代器"
   ]
  },
  {
   "cell_type": "code",
   "execution_count": 83,
   "metadata": {},
   "outputs": [],
   "source": [
    "from collections.abc import Iterable"
   ]
  },
  {
   "cell_type": "code",
   "execution_count": 85,
   "metadata": {},
   "outputs": [
    {
     "data": {
      "text/plain": [
       "True"
      ]
     },
     "execution_count": 85,
     "metadata": {},
     "output_type": "execute_result"
    }
   ],
   "source": [
    "# 能够被for循环的对象称为可迭代对象\n",
    "isinstance([], Iterable)"
   ]
  },
  {
   "cell_type": "code",
   "execution_count": 87,
   "metadata": {},
   "outputs": [
    {
     "data": {
      "text/plain": [
       "True"
      ]
     },
     "execution_count": 87,
     "metadata": {},
     "output_type": "execute_result"
    }
   ],
   "source": [
    "isinstance((x * x for x in range(11)), Iterable)"
   ]
  },
  {
   "cell_type": "code",
   "execution_count": 89,
   "metadata": {},
   "outputs": [],
   "source": [
    "# 可以被next()函数调用并不断返回下一个值的称为迭代器Iterator\n",
    "from collections.abc import Iterator"
   ]
  },
  {
   "cell_type": "code",
   "execution_count": 90,
   "metadata": {},
   "outputs": [
    {
     "data": {
      "text/plain": [
       "True"
      ]
     },
     "execution_count": 90,
     "metadata": {},
     "output_type": "execute_result"
    }
   ],
   "source": [
    "isinstance((x for x in range(10)), Iterator)"
   ]
  },
  {
   "cell_type": "code",
   "execution_count": 91,
   "metadata": {},
   "outputs": [
    {
     "data": {
      "text/plain": [
       "False"
      ]
     },
     "execution_count": 91,
     "metadata": {},
     "output_type": "execute_result"
    }
   ],
   "source": [
    "isinstance(\"abc\", Iterator)"
   ]
  },
  {
   "cell_type": "code",
   "execution_count": 94,
   "metadata": {},
   "outputs": [],
   "source": [
    "# Iterator是一个数据流，可以迭代但是不知道长度，计算是惰性的，只有需要下一个数据时才会计算\n",
    "# Iterable可以通过iter()函数获得一个Iterator对象"
   ]
  },
  {
   "cell_type": "code",
   "execution_count": 95,
   "metadata": {},
   "outputs": [
    {
     "data": {
      "text/plain": [
       "<list_iterator at 0x1ac873bef10>"
      ]
     },
     "execution_count": 95,
     "metadata": {},
     "output_type": "execute_result"
    }
   ],
   "source": [
    "iter([1, 2, 3])"
   ]
  },
  {
   "cell_type": "code",
   "execution_count": 97,
   "metadata": {},
   "outputs": [
    {
     "name": "stdout",
     "output_type": "stream",
     "text": [
      "1 2 3 4 5 "
     ]
    }
   ],
   "source": [
    "it = iter([1, 2, 3, 4, 5])\n",
    "while True:\n",
    "    try:\n",
    "        x = next(it)\n",
    "        print(x, end=\" \")\n",
    "    except StopIteration:\n",
    "        break"
   ]
  },
  {
   "attachments": {},
   "cell_type": "markdown",
   "metadata": {},
   "source": [
    "# 函数式编程"
   ]
  },
  {
   "attachments": {},
   "cell_type": "markdown",
   "metadata": {},
   "source": [
    "## 高阶函数"
   ]
  },
  {
   "cell_type": "code",
   "execution_count": 2,
   "metadata": {},
   "outputs": [
    {
     "data": {
      "text/plain": [
       "<function abs(x, /)>"
      ]
     },
     "execution_count": 2,
     "metadata": {},
     "output_type": "execute_result"
    }
   ],
   "source": [
    "# 函数本身也可以赋值给变量\n",
    "f = abs\n",
    "f"
   ]
  },
  {
   "cell_type": "code",
   "execution_count": 3,
   "metadata": {},
   "outputs": [
    {
     "data": {
      "text/plain": [
       "10"
      ]
     },
     "execution_count": 3,
     "metadata": {},
     "output_type": "execute_result"
    }
   ],
   "source": [
    "f(-10)"
   ]
  },
  {
   "cell_type": "code",
   "execution_count": 4,
   "metadata": {},
   "outputs": [],
   "source": [
    "def add(x, y, f):\n",
    "    return f(x) + f(y)"
   ]
  },
  {
   "cell_type": "code",
   "execution_count": 5,
   "metadata": {},
   "outputs": [
    {
     "data": {
      "text/plain": [
       "11"
      ]
     },
     "execution_count": 5,
     "metadata": {},
     "output_type": "execute_result"
    }
   ],
   "source": [
    "add(-5, 6, abs)"
   ]
  },
  {
   "attachments": {},
   "cell_type": "markdown",
   "metadata": {},
   "source": [
    "map/reduce"
   ]
  },
  {
   "cell_type": "code",
   "execution_count": 9,
   "metadata": {},
   "outputs": [
    {
     "data": {
      "text/plain": [
       "map"
      ]
     },
     "execution_count": 9,
     "metadata": {},
     "output_type": "execute_result"
    }
   ],
   "source": [
    "# map()有两个参数，一个是函数，一个是Iterable，将f作用在Iterable上的每个元素，并返回一个Iterator\n",
    "\n",
    "\n",
    "def f(x):\n",
    "    return x * x\n",
    "\n",
    "\n",
    "r = map(f, [1, 2, 3, 4, 5, 6, 7, 8, 9])\n",
    "type(r)"
   ]
  },
  {
   "cell_type": "code",
   "execution_count": 10,
   "metadata": {},
   "outputs": [
    {
     "data": {
      "text/plain": [
       "True"
      ]
     },
     "execution_count": 10,
     "metadata": {},
     "output_type": "execute_result"
    }
   ],
   "source": [
    "from collections.abc import Iterator\n",
    "\n",
    "isinstance(r, Iterator)"
   ]
  },
  {
   "cell_type": "code",
   "execution_count": 11,
   "metadata": {},
   "outputs": [
    {
     "data": {
      "text/plain": [
       "[1, 4, 9, 16, 25, 36, 49, 64, 81]"
      ]
     },
     "execution_count": 11,
     "metadata": {},
     "output_type": "execute_result"
    }
   ],
   "source": [
    "list(r)"
   ]
  },
  {
   "cell_type": "code",
   "execution_count": 12,
   "metadata": {},
   "outputs": [
    {
     "data": {
      "text/plain": [
       "['1', '2', '3', '4', '5', '6', '7', '8', '9']"
      ]
     },
     "execution_count": 12,
     "metadata": {},
     "output_type": "execute_result"
    }
   ],
   "source": [
    "list(map(str, [1, 2, 3, 4, 5, 6, 7, 8, 9]))"
   ]
  },
  {
   "cell_type": "code",
   "execution_count": 13,
   "metadata": {},
   "outputs": [
    {
     "data": {
      "text/plain": [
       "25"
      ]
     },
     "execution_count": 13,
     "metadata": {},
     "output_type": "execute_result"
    }
   ],
   "source": [
    "# reduce是把结果继续和序列的下一个元素进行累积计算\n",
    "# reduce(f, [x1, x2, x3, x4])=f(f(f(x1, x2), x3), x4)\n",
    "from functools import reduce\n",
    "\n",
    "\n",
    "def add(x, y):\n",
    "    return x + y\n",
    "\n",
    "\n",
    "reduce(add, [1, 3, 5, 7, 9])"
   ]
  },
  {
   "cell_type": "code",
   "execution_count": 14,
   "metadata": {},
   "outputs": [
    {
     "data": {
      "text/plain": [
       "13579"
      ]
     },
     "execution_count": 14,
     "metadata": {},
     "output_type": "execute_result"
    }
   ],
   "source": [
    "def fn(x, y):\n",
    "    return 10 * x + y\n",
    "\n",
    "\n",
    "reduce(fn, [1, 3, 5, 7, 9])"
   ]
  },
  {
   "cell_type": "code",
   "execution_count": 15,
   "metadata": {},
   "outputs": [],
   "source": [
    "DIGITS = {\n",
    "    \"0\": 0,\n",
    "    \"1\": 1,\n",
    "    '2': 2,\n",
    "    '3': 3,\n",
    "    '4': 4,\n",
    "    '5': 5,\n",
    "    '6': 6,\n",
    "    '7': 7,\n",
    "    '8': 8,\n",
    "    '9': 9\n",
    "}\n",
    "\n",
    "\n",
    "def char2num(s):\n",
    "    return DIGITS[s]\n",
    "\n",
    "\n",
    "def str2int(s):\n",
    "    return reduce(lambda x, y: x * 10 + y, map(char2num, s))"
   ]
  },
  {
   "cell_type": "code",
   "execution_count": 22,
   "metadata": {},
   "outputs": [
    {
     "data": {
      "text/plain": [
       "'Lisa'"
      ]
     },
     "execution_count": 22,
     "metadata": {},
     "output_type": "execute_result"
    }
   ],
   "source": [
    "def normalize(s: str):\n",
    "    s1 = s.lower()\n",
    "    s2 = s1[0].upper()\n",
    "    return s2 + s1[1:]\n",
    "\n",
    "\n",
    "normalize(\"LISA\")"
   ]
  },
  {
   "cell_type": "code",
   "execution_count": 23,
   "metadata": {},
   "outputs": [
    {
     "name": "stdout",
     "output_type": "stream",
     "text": [
      "['Adam', 'Lisa', 'Bart']\n"
     ]
    }
   ],
   "source": [
    "L1 = ['adam', 'LISA', 'barT']\n",
    "L2 = list(map(normalize, L1))\n",
    "print(L2)"
   ]
  },
  {
   "cell_type": "code",
   "execution_count": 24,
   "metadata": {},
   "outputs": [],
   "source": [
    "def prod(L):\n",
    "    if len(L) == 0:\n",
    "        return 0\n",
    "    return reduce(lambda x, y: x * y, L)"
   ]
  },
  {
   "cell_type": "code",
   "execution_count": 25,
   "metadata": {},
   "outputs": [
    {
     "name": "stdout",
     "output_type": "stream",
     "text": [
      "3 * 5 * 7 * 9 = 945\n",
      "测试成功!\n"
     ]
    }
   ],
   "source": [
    "print('3 * 5 * 7 * 9 =', prod([3, 5, 7, 9]))\n",
    "if prod([3, 5, 7, 9]) == 945:\n",
    "    print('测试成功!')\n",
    "else:\n",
    "    print('测试失败!')"
   ]
  },
  {
   "cell_type": "code",
   "execution_count": 50,
   "metadata": {},
   "outputs": [
    {
     "name": "stdout",
     "output_type": "stream",
     "text": [
      "str2float('123.456') = 123.456\n",
      "测试成功!\n"
     ]
    }
   ],
   "source": [
    "DIGITS = {\n",
    "    \"0\": 0,\n",
    "    \"1\": 1,\n",
    "    '2': 2,\n",
    "    '3': 3,\n",
    "    '4': 4,\n",
    "    '5': 5,\n",
    "    '6': 6,\n",
    "    '7': 7,\n",
    "    '8': 8,\n",
    "    '9': 9\n",
    "}\n",
    "\n",
    "\n",
    "def str2int(s):\n",
    "    return DIGITS[s]\n",
    "\n",
    "\n",
    "def str2float(s):\n",
    "    point = s.index(\".\")\n",
    "    s1 = s.replace(\".\", \"\")\n",
    "    i1 = reduce(lambda x, y: x * 10 + y, map(str2int, s1))\n",
    "\n",
    "    return i1 / 10**(len(s) - point - 1)\n",
    "\n",
    "\n",
    "print('str2float(\\'123.456\\') =', str2float('123.456'))\n",
    "if abs(str2float('123.456') - 123.456) < 0.00001:\n",
    "    print('测试成功!')\n",
    "else:\n",
    "    print('测试失败!')"
   ]
  },
  {
   "cell_type": "code",
   "execution_count": 51,
   "metadata": {},
   "outputs": [
    {
     "name": "stdout",
     "output_type": "stream",
     "text": [
      "1.12819\n"
     ]
    }
   ],
   "source": [
    "print(str2float(\"1.12819\"))"
   ]
  },
  {
   "attachments": {},
   "cell_type": "markdown",
   "metadata": {},
   "source": [
    "filter"
   ]
  },
  {
   "cell_type": "code",
   "execution_count": 53,
   "metadata": {},
   "outputs": [
    {
     "data": {
      "text/plain": [
       "[1, 5, 7, 9]"
      ]
     },
     "execution_count": 53,
     "metadata": {},
     "output_type": "execute_result"
    }
   ],
   "source": [
    "# 用于过滤序列，不满足筛选函数的被淘汰\n",
    "def is_odd(n):\n",
    "    return n % 2 == 1\n",
    "\n",
    "\n",
    "list(filter(is_odd, [1, 2, 4, 5, 6, 7, 8, 9]))"
   ]
  },
  {
   "cell_type": "code",
   "execution_count": 54,
   "metadata": {},
   "outputs": [
    {
     "data": {
      "text/plain": [
       "['A', 'B']"
      ]
     },
     "execution_count": 54,
     "metadata": {},
     "output_type": "execute_result"
    }
   ],
   "source": [
    "# 删除空字符串\n",
    "def not_empty(s):\n",
    "    return s and s.strip()\n",
    "\n",
    "\n",
    "list(filter(not_empty, [\"A\", \"B\", \"\", \" \", None]))"
   ]
  },
  {
   "cell_type": "code",
   "execution_count": 55,
   "metadata": {},
   "outputs": [],
   "source": [
    "def _odd_iter():\n",
    "    n = 1\n",
    "    while True:\n",
    "        n = n + 2\n",
    "        yield n\n",
    "        # 生成一个从3开始的奇数序列"
   ]
  },
  {
   "cell_type": "code",
   "execution_count": 56,
   "metadata": {},
   "outputs": [],
   "source": [
    "def _not_divisible(n):\n",
    "    return lambda x: x % n > 0\n",
    "\n",
    "\n",
    "def primes():\n",
    "    yield 2\n",
    "    it = _odd_iter()\n",
    "    while True:\n",
    "        n = next(it)  # 返回序列的第一个数\n",
    "        yield n\n",
    "        it = filter(_not_divisible(n), it)  # 构造新序列\n",
    "\n",
    "\n",
    "# 首先返回序列的第一个数，然后筛选该数的所有倍数得到新的序列，重复"
   ]
  },
  {
   "cell_type": "code",
   "execution_count": 58,
   "metadata": {},
   "outputs": [
    {
     "name": "stdout",
     "output_type": "stream",
     "text": [
      "2 3 5 7 11 13 17 19 23 29 31 37 41 43 47 53 59 61 67 71 73 79 83 89 97 101 103 107 109 113 127 131 137 139 149 151 157 163 167 173 179 181 191 193 197 199 211 223 227 229 233 239 241 251 257 263 269 271 277 281 283 293 307 311 313 317 331 337 347 349 353 359 367 373 379 383 389 397 401 409 419 421 431 433 439 443 449 457 461 463 467 479 487 491 499 503 509 521 523 541 547 557 563 569 571 577 587 593 599 601 607 613 617 619 631 641 643 647 653 659 661 673 677 683 691 701 709 719 727 733 739 743 751 757 761 769 773 787 797 809 811 821 823 827 829 839 853 857 859 863 877 881 883 887 907 911 919 929 937 941 947 953 967 971 977 983 991 997 "
     ]
    }
   ],
   "source": [
    "for i in primes():\n",
    "    if i < 1000:\n",
    "        print(i, end=\" \")\n",
    "    else:\n",
    "        break"
   ]
  },
  {
   "cell_type": "code",
   "execution_count": 74,
   "metadata": {},
   "outputs": [],
   "source": [
    "# 筛选回数，例：121,909\n",
    "def is_palindrome(n):\n",
    "    # s = str(n)\n",
    "    # i = 0\n",
    "    # while i < (len(s) // 2):\n",
    "    #     if s[i] != s[len(s) - i - 1]:\n",
    "    #         return False\n",
    "    #     i = i + 1\n",
    "    # return True\n",
    "    # python中列表每隔-1取即为逆序排列\n",
    "    return str(n) == str(n)[::-1]"
   ]
  },
  {
   "cell_type": "code",
   "execution_count": 75,
   "metadata": {},
   "outputs": [
    {
     "name": "stdout",
     "output_type": "stream",
     "text": [
      "1~1000: [1, 2, 3, 4, 5, 6, 7, 8, 9, 11, 22, 33, 44, 55, 66, 77, 88, 99, 101, 111, 121, 131, 141, 151, 161, 171, 181, 191, 202, 212, 222, 232, 242, 252, 262, 272, 282, 292, 303, 313, 323, 333, 343, 353, 363, 373, 383, 393, 404, 414, 424, 434, 444, 454, 464, 474, 484, 494, 505, 515, 525, 535, 545, 555, 565, 575, 585, 595, 606, 616, 626, 636, 646, 656, 666, 676, 686, 696, 707, 717, 727, 737, 747, 757, 767, 777, 787, 797, 808, 818, 828, 838, 848, 858, 868, 878, 888, 898, 909, 919, 929, 939, 949, 959, 969, 979, 989, 999]\n",
      "测试成功!\n"
     ]
    }
   ],
   "source": [
    "# 测试:\n",
    "output = filter(is_palindrome, range(1, 1000))\n",
    "print('1~1000:', list(output))\n",
    "if list(filter(is_palindrome, range(1, 200))) == [\n",
    "        1, 2, 3, 4, 5, 6, 7, 8, 9, 11, 22, 33, 44, 55, 66, 77, 88, 99, 101,\n",
    "        111, 121, 131, 141, 151, 161, 171, 181, 191\n",
    "]:\n",
    "    print('测试成功!')\n",
    "else:\n",
    "    print('测试失败!')"
   ]
  },
  {
   "cell_type": "code",
   "execution_count": 73,
   "metadata": {},
   "outputs": [
    {
     "data": {
      "text/plain": [
       "'99181'"
      ]
     },
     "execution_count": 73,
     "metadata": {},
     "output_type": "execute_result"
    }
   ],
   "source": [
    "str(18199)[::-1]"
   ]
  },
  {
   "attachments": {},
   "cell_type": "markdown",
   "metadata": {},
   "source": [
    "sorted"
   ]
  },
  {
   "cell_type": "code",
   "execution_count": 76,
   "metadata": {},
   "outputs": [
    {
     "data": {
      "text/plain": [
       "[1, 2, 32]"
      ]
     },
     "execution_count": 76,
     "metadata": {},
     "output_type": "execute_result"
    }
   ],
   "source": [
    "sorted((1, 32, 2))"
   ]
  },
  {
   "cell_type": "code",
   "execution_count": 78,
   "metadata": {},
   "outputs": [
    {
     "data": {
      "text/plain": [
       "list"
      ]
     },
     "execution_count": 78,
     "metadata": {},
     "output_type": "execute_result"
    }
   ],
   "source": [
    "type(sorted([1, 2]))"
   ]
  },
  {
   "cell_type": "code",
   "execution_count": 79,
   "metadata": {},
   "outputs": [
    {
     "data": {
      "text/plain": [
       "[-7, 8, -12, 36]"
      ]
     },
     "execution_count": 79,
     "metadata": {},
     "output_type": "execute_result"
    }
   ],
   "source": [
    "sorted([36, -12, 8, -7], key=abs)"
   ]
  },
  {
   "cell_type": "code",
   "execution_count": 80,
   "metadata": {},
   "outputs": [
    {
     "data": {
      "text/plain": [
       "['Credit', 'Zoo', 'about', 'bob']"
      ]
     },
     "execution_count": 80,
     "metadata": {},
     "output_type": "execute_result"
    }
   ],
   "source": [
    "sorted(['bob', 'about', 'Zoo', 'Credit'])"
   ]
  },
  {
   "cell_type": "code",
   "execution_count": 82,
   "metadata": {},
   "outputs": [
    {
     "data": {
      "text/plain": [
       "['about', 'bob', 'Credit', 'Zoo']"
      ]
     },
     "execution_count": 82,
     "metadata": {},
     "output_type": "execute_result"
    }
   ],
   "source": [
    "sorted(['bob', 'about', 'Zoo', 'Credit'], key=str.lower)"
   ]
  },
  {
   "cell_type": "code",
   "execution_count": 84,
   "metadata": {},
   "outputs": [
    {
     "data": {
      "text/plain": [
       "['Zoo', 'Credit', 'bob', 'about']"
      ]
     },
     "execution_count": 84,
     "metadata": {},
     "output_type": "execute_result"
    }
   ],
   "source": [
    "sorted(['bob', 'about', 'Zoo', 'Credit'], key=str.lower, reverse=True)\n",
    "# 反向排序"
   ]
  },
  {
   "cell_type": "code",
   "execution_count": 86,
   "metadata": {},
   "outputs": [],
   "source": [
    "L = [('Bob', 75), ('Adam', 92), ('Bart', 66), ('Lisa', 88)]"
   ]
  },
  {
   "cell_type": "code",
   "execution_count": 87,
   "metadata": {},
   "outputs": [],
   "source": [
    "def by_name(t):\n",
    "    return t[0]"
   ]
  },
  {
   "cell_type": "code",
   "execution_count": 88,
   "metadata": {},
   "outputs": [
    {
     "name": "stdout",
     "output_type": "stream",
     "text": [
      "[('Adam', 92), ('Bart', 66), ('Bob', 75), ('Lisa', 88)]\n"
     ]
    }
   ],
   "source": [
    "L2 = sorted(L, key=by_name)\n",
    "print(L2)"
   ]
  },
  {
   "cell_type": "code",
   "execution_count": 89,
   "metadata": {},
   "outputs": [],
   "source": [
    "def by_score(t):\n",
    "    return t[1]"
   ]
  },
  {
   "cell_type": "code",
   "execution_count": 91,
   "metadata": {},
   "outputs": [
    {
     "name": "stdout",
     "output_type": "stream",
     "text": [
      "[('Adam', 92), ('Lisa', 88), ('Bob', 75), ('Bart', 66)]\n"
     ]
    }
   ],
   "source": [
    "L2 = sorted(L, key=by_score, reverse=True)\n",
    "print(L2)"
   ]
  },
  {
   "attachments": {},
   "cell_type": "markdown",
   "metadata": {},
   "source": [
    "返回函数"
   ]
  },
  {
   "cell_type": "code",
   "execution_count": 92,
   "metadata": {},
   "outputs": [
    {
     "data": {
      "text/plain": [
       "function"
      ]
     },
     "execution_count": 92,
     "metadata": {},
     "output_type": "execute_result"
    }
   ],
   "source": [
    "# 可以将函数作为结果返回\n",
    "def lazy_sum(*args):\n",
    "\n",
    "    def sum():\n",
    "        ax = 0\n",
    "        for n in args:\n",
    "            ax = ax + n\n",
    "        return ax\n",
    "\n",
    "    return sum\n",
    "\n",
    "\n",
    "# 调用lazy_sum时，返回的不是结果，而是求和函数\n",
    "f = lazy_sum(1, 3, 5, 7, 9)\n",
    "type(f)"
   ]
  },
  {
   "cell_type": "code",
   "execution_count": 94,
   "metadata": {},
   "outputs": [
    {
     "data": {
      "text/plain": [
       "25"
      ]
     },
     "execution_count": 94,
     "metadata": {},
     "output_type": "execute_result"
    }
   ],
   "source": [
    "# 调用f时，才会开始计算结果\n",
    "f()\n",
    "# 内部函数可以调用外部函数的参数和变量，外部函数返回时，相关变量被保存在返回的函数中，称为闭包"
   ]
  },
  {
   "cell_type": "code",
   "execution_count": 95,
   "metadata": {},
   "outputs": [
    {
     "data": {
      "text/plain": [
       "False"
      ]
     },
     "execution_count": 95,
     "metadata": {},
     "output_type": "execute_result"
    }
   ],
   "source": [
    "# 每次调用都会返回一个新的函数，即使传入相同的参数，返回的也不同\n",
    "f1 = lazy_sum(1, 3, 5, 7, 9)\n",
    "f2 = lazy_sum(1, 3, 5, 7, 9)\n",
    "f1 == f2"
   ]
  },
  {
   "cell_type": "code",
   "execution_count": 96,
   "metadata": {},
   "outputs": [],
   "source": [
    "# 返回的函数没有立即执行，而是调用了f()才执行\n",
    "def count():\n",
    "    fs = []\n",
    "    for i in range(1, 4):\n",
    "\n",
    "        def f():\n",
    "            return i * i\n",
    "\n",
    "        fs.append(f)\n",
    "    return fs\n",
    "\n",
    "\n",
    "f1, f2, f3 = count()"
   ]
  },
  {
   "cell_type": "code",
   "execution_count": 97,
   "metadata": {},
   "outputs": [
    {
     "data": {
      "text/plain": [
       "9"
      ]
     },
     "execution_count": 97,
     "metadata": {},
     "output_type": "execute_result"
    }
   ],
   "source": [
    "f1()"
   ]
  },
  {
   "cell_type": "code",
   "execution_count": 98,
   "metadata": {},
   "outputs": [
    {
     "data": {
      "text/plain": [
       "9"
      ]
     },
     "execution_count": 98,
     "metadata": {},
     "output_type": "execute_result"
    }
   ],
   "source": [
    "f2()"
   ]
  },
  {
   "cell_type": "code",
   "execution_count": 99,
   "metadata": {},
   "outputs": [
    {
     "data": {
      "text/plain": [
       "9"
      ]
     },
     "execution_count": 99,
     "metadata": {},
     "output_type": "execute_result"
    }
   ],
   "source": [
    "f3()"
   ]
  },
  {
   "cell_type": "code",
   "execution_count": 100,
   "metadata": {},
   "outputs": [],
   "source": [
    "# 因为返回的函数引用了变量i，等待三个函数都返回时，i已经变成了3"
   ]
  },
  {
   "cell_type": "code",
   "execution_count": 101,
   "metadata": {},
   "outputs": [],
   "source": [
    "def count():\n",
    "\n",
    "    def f(j):\n",
    "\n",
    "        def g():\n",
    "            return j * j\n",
    "\n",
    "        return g\n",
    "\n",
    "    fs = []\n",
    "    for i in range(1, 4):\n",
    "        fs.append(f(i))  # f(i)立即执行，将i当前值传入f()，传入的值不会受到外部的改变\n",
    "    return fs"
   ]
  },
  {
   "cell_type": "code",
   "execution_count": 102,
   "metadata": {},
   "outputs": [],
   "source": [
    "f1, f2, f3 = count()"
   ]
  },
  {
   "cell_type": "code",
   "execution_count": 103,
   "metadata": {},
   "outputs": [
    {
     "data": {
      "text/plain": [
       "<function __main__.count.<locals>.f.<locals>.g()>"
      ]
     },
     "execution_count": 103,
     "metadata": {},
     "output_type": "execute_result"
    }
   ],
   "source": [
    "f1"
   ]
  },
  {
   "cell_type": "code",
   "execution_count": 104,
   "metadata": {},
   "outputs": [
    {
     "ename": "UnboundLocalError",
     "evalue": "local variable 'x' referenced before assignment",
     "output_type": "error",
     "traceback": [
      "\u001b[1;31m---------------------------------------------------------------------------\u001b[0m",
      "\u001b[1;31mUnboundLocalError\u001b[0m                         Traceback (most recent call last)",
      "Cell \u001b[1;32mIn[104], line 14\u001b[0m\n\u001b[0;32m     10\u001b[0m     \u001b[39mreturn\u001b[39;00m fn\n\u001b[0;32m     13\u001b[0m f \u001b[39m=\u001b[39m inc()\n\u001b[1;32m---> 14\u001b[0m \u001b[39mprint\u001b[39m(f())\n",
      "Cell \u001b[1;32mIn[104], line 7\u001b[0m, in \u001b[0;36minc.<locals>.fn\u001b[1;34m()\u001b[0m\n\u001b[0;32m      6\u001b[0m \u001b[39mdef\u001b[39;00m \u001b[39mfn\u001b[39m():\n\u001b[1;32m----> 7\u001b[0m     x \u001b[39m=\u001b[39m x \u001b[39m+\u001b[39m \u001b[39m1\u001b[39m\n\u001b[0;32m      8\u001b[0m     \u001b[39mreturn\u001b[39;00m x\n",
      "\u001b[1;31mUnboundLocalError\u001b[0m: local variable 'x' referenced before assignment"
     ]
    }
   ],
   "source": [
    "# 内部函数引用外部函数的局部变量，如果只是读取外层变量的值，调用正常\n",
    "# 但是对外层变量赋值就会报错，因为将外部变量当做内部函数的局部变量，没有初始化，需要加上nonlocal定义\n",
    "def inc():\n",
    "    x = 0\n",
    "\n",
    "    def fn():\n",
    "        x = x + 1\n",
    "        return x\n",
    "\n",
    "    return fn\n",
    "\n",
    "\n",
    "f = inc()\n",
    "print(f())"
   ]
  },
  {
   "cell_type": "code",
   "execution_count": 105,
   "metadata": {},
   "outputs": [
    {
     "name": "stdout",
     "output_type": "stream",
     "text": [
      "1\n"
     ]
    }
   ],
   "source": [
    "def inc():\n",
    "    x = 0\n",
    "\n",
    "    def fn():\n",
    "        nonlocal x\n",
    "        x = x + 1\n",
    "        return x\n",
    "\n",
    "    return fn\n",
    "\n",
    "\n",
    "f = inc()\n",
    "print(f())"
   ]
  },
  {
   "cell_type": "code",
   "execution_count": 106,
   "metadata": {},
   "outputs": [],
   "source": [
    "def createCounter():\n",
    "    x = 0\n",
    "\n",
    "    def counter():\n",
    "        nonlocal x\n",
    "        x = x + 1\n",
    "        return x\n",
    "\n",
    "    return counter"
   ]
  },
  {
   "cell_type": "code",
   "execution_count": 107,
   "metadata": {},
   "outputs": [
    {
     "name": "stdout",
     "output_type": "stream",
     "text": [
      "1 2 3 4 5\n",
      "测试通过!\n"
     ]
    }
   ],
   "source": [
    "# 测试:\n",
    "counterA = createCounter()\n",
    "print(counterA(), counterA(), counterA(), counterA(), counterA())  # 1 2 3 4 5\n",
    "counterB = createCounter()\n",
    "if [counterB(), counterB(), counterB(), counterB()] == [1, 2, 3, 4]:\n",
    "    print('测试通过!')\n",
    "else:\n",
    "    print('测试失败!')"
   ]
  },
  {
   "cell_type": "code",
   "execution_count": 109,
   "metadata": {},
   "outputs": [
    {
     "name": "stdout",
     "output_type": "stream",
     "text": [
      "<a>Hello</a>\n",
      "<b>help</b>\n"
     ]
    }
   ],
   "source": [
    "def tag(tag_name):\n",
    "\n",
    "    def add_tag(content):\n",
    "        print(\"<{0}>{1}</{0}>\".format(tag_name, content))\n",
    "\n",
    "    return add_tag\n",
    "\n",
    "\n",
    "add_tag = tag(\"a\")\n",
    "add_tag(\"Hello\")\n",
    "add_tag = tag(\"b\")\n",
    "add_tag(\"help\")\n",
    "\n",
    "# 闭包可以让外部访问函数内部的变量"
   ]
  },
  {
   "attachments": {},
   "cell_type": "markdown",
   "metadata": {},
   "source": [
    "匿名函数"
   ]
  },
  {
   "cell_type": "code",
   "execution_count": 1,
   "metadata": {},
   "outputs": [
    {
     "data": {
      "text/plain": [
       "<function __main__.<lambda>(x)>"
      ]
     },
     "execution_count": 1,
     "metadata": {},
     "output_type": "execute_result"
    }
   ],
   "source": [
    "# 将匿名函数赋值给变量\n",
    "def f(x): return x * x\n",
    "\n",
    "\n",
    "f"
   ]
  },
  {
   "cell_type": "code",
   "execution_count": 2,
   "metadata": {},
   "outputs": [
    {
     "data": {
      "text/plain": [
       "25"
      ]
     },
     "execution_count": 2,
     "metadata": {},
     "output_type": "execute_result"
    }
   ],
   "source": [
    "f(5)"
   ]
  },
  {
   "cell_type": "code",
   "execution_count": 3,
   "metadata": {},
   "outputs": [],
   "source": [
    "# 可以将匿名函数当作返回值\n",
    "def build(x, y):\n",
    "    return lambda: x * x + y * y"
   ]
  },
  {
   "cell_type": "code",
   "execution_count": 8,
   "metadata": {},
   "outputs": [
    {
     "ename": "TypeError",
     "evalue": "build.<locals>.<lambda>() takes 0 positional arguments but 2 were given",
     "output_type": "error",
     "traceback": [
      "\u001b[0;31m---------------------------------------------------------------------------\u001b[0m",
      "\u001b[0;31mTypeError\u001b[0m                                 Traceback (most recent call last)",
      "Cell \u001b[0;32mIn[8], line 2\u001b[0m\n\u001b[1;32m      1\u001b[0m f \u001b[39m=\u001b[39m build(\u001b[39m1\u001b[39m, \u001b[39m2\u001b[39m)\n\u001b[0;32m----> 2\u001b[0m f(\u001b[39m2\u001b[39;49m, \u001b[39m4\u001b[39;49m)\n",
      "\u001b[0;31mTypeError\u001b[0m: build.<locals>.<lambda>() takes 0 positional arguments but 2 were given"
     ]
    }
   ],
   "source": [
    "f = build(1, 2)\n",
    "f(2, 4)"
   ]
  },
  {
   "cell_type": "code",
   "execution_count": 9,
   "metadata": {},
   "outputs": [
    {
     "data": {
      "text/plain": [
       "5"
      ]
     },
     "execution_count": 9,
     "metadata": {},
     "output_type": "execute_result"
    }
   ],
   "source": [
    "f()"
   ]
  },
  {
   "cell_type": "code",
   "execution_count": 11,
   "metadata": {},
   "outputs": [
    {
     "data": {
      "text/plain": [
       "[1, 3, 5, 7, 9, 11, 13, 15, 17, 19]"
      ]
     },
     "execution_count": 11,
     "metadata": {},
     "output_type": "execute_result"
    }
   ],
   "source": [
    "def is_odd(n):\n",
    "    return n % 2 == 1\n",
    "\n",
    "\n",
    "L = list(filter(lambda n: n % 2 == 1, range(1, 20)))\n",
    "L"
   ]
  },
  {
   "attachments": {},
   "cell_type": "markdown",
   "metadata": {},
   "source": [
    "装饰器"
   ]
  },
  {
   "cell_type": "code",
   "execution_count": 12,
   "metadata": {},
   "outputs": [
    {
     "data": {
      "text/plain": [
       "'is_odd'"
      ]
     },
     "execution_count": 12,
     "metadata": {},
     "output_type": "execute_result"
    }
   ],
   "source": [
    "is_odd.__name__"
   ]
  },
  {
   "cell_type": "code",
   "execution_count": 14,
   "metadata": {},
   "outputs": [],
   "source": [
    "# 增强函数的功能但是不修改定义，在代码运行期间动态增加功能称为装饰器\n",
    "# decorator本质上是返回函数的高阶函数"
   ]
  },
  {
   "cell_type": "code",
   "execution_count": 16,
   "metadata": {},
   "outputs": [],
   "source": [
    "def log(func):\n",
    "\n",
    "    def wrapper(*args, **kw):\n",
    "        print(\"call %s()\" % func.__name__)\n",
    "        return func(*args, **kw)\n",
    "\n",
    "    return wrapper\n",
    "\n",
    "\n",
    "@log\n",
    "def now():\n",
    "    print(\"2023-4-20\")"
   ]
  },
  {
   "cell_type": "code",
   "execution_count": 17,
   "metadata": {},
   "outputs": [
    {
     "name": "stdout",
     "output_type": "stream",
     "text": [
      "call now()\n",
      "2023-4-20\n"
     ]
    }
   ],
   "source": [
    "now()"
   ]
  },
  {
   "cell_type": "code",
   "execution_count": 18,
   "metadata": {},
   "outputs": [],
   "source": [
    "# @log相当于执行now = log(now)，此时的now变量指向了wrapper()，调用now()时会执行wrapper()"
   ]
  },
  {
   "cell_type": "code",
   "execution_count": 19,
   "metadata": {},
   "outputs": [
    {
     "data": {
      "text/plain": [
       "'wrapper'"
      ]
     },
     "execution_count": 19,
     "metadata": {},
     "output_type": "execute_result"
    }
   ],
   "source": [
    "now.__name__"
   ]
  },
  {
   "cell_type": "code",
   "execution_count": 21,
   "metadata": {},
   "outputs": [
    {
     "data": {
      "text/plain": [
       "'now'"
      ]
     },
     "execution_count": 21,
     "metadata": {},
     "output_type": "execute_result"
    }
   ],
   "source": [
    "# 修改__name__属性\n",
    "import functools\n",
    "\n",
    "\n",
    "def log(func):\n",
    "\n",
    "    @functools.wraps(func)\n",
    "    def wrapper(*args, **kw):\n",
    "        print(\"call %s()\" % func.__name__)\n",
    "        return func(*args, **kw)\n",
    "\n",
    "    return wrapper\n",
    "\n",
    "\n",
    "@log\n",
    "def now():\n",
    "    print(\"2023-4-20\")\n",
    "\n",
    "\n",
    "now.__name__"
   ]
  },
  {
   "cell_type": "code",
   "execution_count": 23,
   "metadata": {},
   "outputs": [
    {
     "name": "stdout",
     "output_type": "stream",
     "text": [
      "execute now\n",
      "2023-4-20\n"
     ]
    }
   ],
   "source": [
    "# 如果装饰器需要传入参数，则需要一个返回decorator的高阶函数\n",
    "def log(text):\n",
    "\n",
    "    def decorator(func):\n",
    "\n",
    "        @functools.wraps(func)\n",
    "        def wrapper(*args, **kw):\n",
    "            print(\"%s %s\" % (text, func.__name__))\n",
    "            return func(*args, **kw)\n",
    "\n",
    "        return wrapper\n",
    "\n",
    "    return decorator\n",
    "\n",
    "\n",
    "@log(\"execute\")\n",
    "def now():\n",
    "    print(\"2023-4-20\")\n",
    "\n",
    "\n",
    "now()"
   ]
  },
  {
   "cell_type": "code",
   "execution_count": 24,
   "metadata": {},
   "outputs": [],
   "source": [
    "# 这里@log(\"execute\")相当于执行now = log(\"execute\")(now)"
   ]
  },
  {
   "cell_type": "code",
   "execution_count": 27,
   "metadata": {},
   "outputs": [],
   "source": [
    "import time\n",
    "import functools\n",
    "\n",
    "\n",
    "def metric(fn):\n",
    "\n",
    "    @functools.wraps(fn)\n",
    "    def wrapper(*args, **kw):\n",
    "        start = time.time()\n",
    "        result = fn(*args, **kw)\n",
    "        end = time.time()\n",
    "        print('%s executed in %s ms' % (fn.__name__, end - start))\n",
    "        return result\n",
    "\n",
    "    return wrapper"
   ]
  },
  {
   "cell_type": "code",
   "execution_count": 28,
   "metadata": {},
   "outputs": [
    {
     "name": "stdout",
     "output_type": "stream",
     "text": [
      "fast executed in 0.0019769668579101562 ms\n",
      "slow executed in 0.12356877326965332 ms\n"
     ]
    }
   ],
   "source": [
    "# 测试\n",
    "@metric\n",
    "def fast(x, y):\n",
    "    time.sleep(0.0012)\n",
    "    return x + y\n",
    "\n",
    "\n",
    "@metric\n",
    "def slow(x, y, z):\n",
    "    time.sleep(0.1234)\n",
    "    return x * y * z\n",
    "\n",
    "\n",
    "f = fast(11, 22)\n",
    "s = slow(11, 22, 33)\n",
    "if f != 33:\n",
    "    print('测试失败!')\n",
    "elif s != 7986:\n",
    "    print('测试失败!')"
   ]
  },
  {
   "cell_type": "code",
   "execution_count": 29,
   "metadata": {},
   "outputs": [
    {
     "data": {
      "text/plain": [
       "'fast'"
      ]
     },
     "execution_count": 29,
     "metadata": {},
     "output_type": "execute_result"
    }
   ],
   "source": [
    "fast.__name__"
   ]
  },
  {
   "cell_type": "code",
   "execution_count": 30,
   "metadata": {},
   "outputs": [],
   "source": [
    "def log(func):\n",
    "\n",
    "    @functools.wraps(func)\n",
    "    def wrapper(*args, **kw):\n",
    "        print(\"begin call\")\n",
    "        result = func(*args, **kw)\n",
    "        print(\"end call\")\n",
    "        return result\n",
    "\n",
    "    return wrapper"
   ]
  },
  {
   "cell_type": "code",
   "execution_count": 31,
   "metadata": {},
   "outputs": [],
   "source": [
    "@log\n",
    "def f():\n",
    "    pass"
   ]
  },
  {
   "cell_type": "code",
   "execution_count": 32,
   "metadata": {},
   "outputs": [
    {
     "name": "stdout",
     "output_type": "stream",
     "text": [
      "begin call\n",
      "end call\n"
     ]
    }
   ],
   "source": [
    "f()"
   ]
  },
  {
   "cell_type": "code",
   "execution_count": 64,
   "metadata": {},
   "outputs": [],
   "source": [
    "import functools\n",
    "\n",
    "from types import FunctionType, MethodType\n",
    "\n",
    "\n",
    "def log(param):\n",
    "\n",
    "    def decorator(fn, text=param):\n",
    "\n",
    "        @functools.wraps(fn)\n",
    "        def wrapper(*args, **kw):\n",
    "            print(\"func %s begin\" % fn.__name__)\n",
    "            if text is not None:\n",
    "                print(\"text is\", text)\n",
    "            result = fn(*args, **kw)\n",
    "            print(\"func %s end\" % fn.__name__)\n",
    "            return result\n",
    "\n",
    "        return wrapper\n",
    "\n",
    "    # 如果param是函数，则返回执行完毕的decorator，即wrapper\n",
    "    # 如果param是参数，则返回decorator\n",
    "    if param is isinstance(param, (FunctionType, MethodType)) or hasattr(\n",
    "            param, \"__call__\"):\n",
    "        return decorator(param, None)  # decorator(fn, None) type is wrapper\n",
    "    return decorator"
   ]
  },
  {
   "cell_type": "code",
   "execution_count": 65,
   "metadata": {},
   "outputs": [
    {
     "name": "stdout",
     "output_type": "stream",
     "text": [
      "func f begin\n",
      "func f end\n"
     ]
    }
   ],
   "source": [
    "@log\n",
    "def f():\n",
    "    pass\n",
    "\n",
    "\n",
    "f()"
   ]
  },
  {
   "cell_type": "code",
   "execution_count": 66,
   "metadata": {},
   "outputs": [
    {
     "name": "stdout",
     "output_type": "stream",
     "text": [
      "func f begin\n",
      "text is test\n",
      "func f end\n"
     ]
    }
   ],
   "source": [
    "@log(\"test\")\n",
    "def f():\n",
    "    pass\n",
    "\n",
    "\n",
    "f()"
   ]
  },
  {
   "cell_type": "code",
   "execution_count": 67,
   "metadata": {},
   "outputs": [],
   "source": [
    "# 装饰器可以增强函数的功能，而不改变函数的定义，本质上是将函数的变量指向另一个函数\n",
    "# 通过不同的参数，可以执行不同的模式，例：@log(\"execute\"),@log(\"debug\")可以记录执行日志和调试日志，但是函数本身不需要进行修改"
   ]
  },
  {
   "attachments": {},
   "cell_type": "markdown",
   "metadata": {},
   "source": [
    "偏函数"
   ]
  },
  {
   "cell_type": "code",
   "execution_count": 68,
   "metadata": {},
   "outputs": [
    {
     "data": {
      "text/plain": [
       "123"
      ]
     },
     "execution_count": 68,
     "metadata": {},
     "output_type": "execute_result"
    }
   ],
   "source": [
    "int(\"123\")"
   ]
  },
  {
   "cell_type": "code",
   "execution_count": 72,
   "metadata": {},
   "outputs": [
    {
     "data": {
      "text/plain": [
       "83"
      ]
     },
     "execution_count": 72,
     "metadata": {},
     "output_type": "execute_result"
    }
   ],
   "source": [
    "int(\"123\", base=8)\n",
    "# 8进制转换为10进制"
   ]
  },
  {
   "cell_type": "code",
   "execution_count": 73,
   "metadata": {},
   "outputs": [
    {
     "data": {
      "text/plain": [
       "85"
      ]
     },
     "execution_count": 73,
     "metadata": {},
     "output_type": "execute_result"
    }
   ],
   "source": [
    "int(\"1010101\", base=2)"
   ]
  },
  {
   "cell_type": "code",
   "execution_count": 76,
   "metadata": {},
   "outputs": [
    {
     "data": {
      "text/plain": [
       "42"
      ]
     },
     "execution_count": 76,
     "metadata": {},
     "output_type": "execute_result"
    }
   ],
   "source": [
    "# 可以定义一个函数int2表示2进制转换\n",
    "def int2(str):\n",
    "    return int(str, base=2)\n",
    "\n",
    "\n",
    "int2(\"101010\")"
   ]
  },
  {
   "cell_type": "code",
   "execution_count": 80,
   "metadata": {},
   "outputs": [
    {
     "data": {
      "text/plain": [
       "2"
      ]
     },
     "execution_count": 80,
     "metadata": {},
     "output_type": "execute_result"
    }
   ],
   "source": [
    "# 在functools.partial可以快捷创建偏函数，不需要自己定义\n",
    "import functools\n",
    "\n",
    "int2 = functools.partial(int, base=2)\n",
    "int2(\"10\")"
   ]
  },
  {
   "cell_type": "code",
   "execution_count": 81,
   "metadata": {},
   "outputs": [
    {
     "data": {
      "text/plain": [
       "10"
      ]
     },
     "execution_count": 81,
     "metadata": {},
     "output_type": "execute_result"
    }
   ],
   "source": [
    "# functools.partial接收的参数有3个：可接收对象、*args、**kw\n",
    "# int2 = functools.partial(int, base=2)相当于kw = { 'base': 2 }\n",
    "# int('10010', **kw)\n",
    "# 当max2=functools.partial(max, 10)，会将10作为*args的一部分\n",
    "max2 = functools.partial(max, 10)\n",
    "max2(1, 2, 3)"
   ]
  },
  {
   "cell_type": "code",
   "execution_count": 82,
   "metadata": {},
   "outputs": [],
   "source": [
    "def mod_2(x, y=2):\n",
    "    return x % y == 0"
   ]
  },
  {
   "cell_type": "code",
   "execution_count": 84,
   "metadata": {},
   "outputs": [
    {
     "data": {
      "text/plain": [
       "False"
      ]
     },
     "execution_count": 84,
     "metadata": {},
     "output_type": "execute_result"
    }
   ],
   "source": [
    "mod_3 = functools.partial(mod_2, y=3)\n",
    "mod_3(10)"
   ]
  },
  {
   "cell_type": "code",
   "execution_count": 91,
   "metadata": {},
   "outputs": [
    {
     "ename": "TypeError",
     "evalue": "mod_2() got multiple values for argument 'y'",
     "output_type": "error",
     "traceback": [
      "\u001b[0;31m---------------------------------------------------------------------------\u001b[0m",
      "\u001b[0;31mTypeError\u001b[0m                                 Traceback (most recent call last)",
      "Cell \u001b[0;32mIn[91], line 1\u001b[0m\n\u001b[0;32m----> 1\u001b[0m mod_3(\u001b[39m10\u001b[39;49m, \u001b[39m33\u001b[39;49m)\n",
      "\u001b[0;31mTypeError\u001b[0m: mod_2() got multiple values for argument 'y'"
     ]
    }
   ],
   "source": [
    "mod_3(10, 33)"
   ]
  },
  {
   "cell_type": "code",
   "execution_count": 92,
   "metadata": {},
   "outputs": [
    {
     "data": {
      "text/plain": [
       "False"
      ]
     },
     "execution_count": 92,
     "metadata": {},
     "output_type": "execute_result"
    }
   ],
   "source": [
    "mod_2(10, 3)"
   ]
  },
  {
   "cell_type": "code",
   "execution_count": 95,
   "metadata": {},
   "outputs": [],
   "source": [
    "# 使用偏函数可以减少填写参数的步骤，也可以使代码更简洁"
   ]
  },
  {
   "attachments": {},
   "cell_type": "markdown",
   "metadata": {},
   "source": [
    "# 命名规则"
   ]
  },
  {
   "attachments": {},
   "cell_type": "markdown",
   "metadata": {},
   "source": [
    "所有命名规范"
   ]
  },
  {
   "cell_type": "code",
   "execution_count": null,
   "metadata": {},
   "outputs": [],
   "source": [
    "# 命名只能字母或者下划线开头\n",
    "# 命名不能包含空格\n",
    "# 命名不能与关键字重合\n",
    "# 不能将大小写字母“oO”和大小字母“I”用作名称"
   ]
  },
  {
   "attachments": {},
   "cell_type": "markdown",
   "metadata": {},
   "source": [
    "模块、包"
   ]
  },
  {
   "cell_type": "code",
   "execution_count": null,
   "metadata": {},
   "outputs": [],
   "source": [
    "# 简短的小写的名字，可以加入下划线增加可读性"
   ]
  },
  {
   "attachments": {},
   "cell_type": "markdown",
   "metadata": {},
   "source": [
    "类"
   ]
  },
  {
   "cell_type": "code",
   "execution_count": null,
   "metadata": {},
   "outputs": [],
   "source": [
    "# 首字母大写\n",
    "# 驼峰命名法(MyClass)\n",
    "# 内部类可以摄影额外的额外的前导下划线"
   ]
  },
  {
   "attachments": {},
   "cell_type": "markdown",
   "metadata": {},
   "source": [
    "函数、方法"
   ]
  },
  {
   "cell_type": "code",
   "execution_count": null,
   "metadata": {},
   "outputs": [],
   "source": [
    "# 全部小写\n",
    "# 有单词则用下划线隔开\n",
    "# 私有函数用前导下划线"
   ]
  },
  {
   "attachments": {},
   "cell_type": "markdown",
   "metadata": {},
   "source": [
    "变量"
   ]
  },
  {
   "cell_type": "code",
   "execution_count": null,
   "metadata": {},
   "outputs": [],
   "source": [
    "# 小写\n",
    "# 多个单词下划线隔开\n",
    "# 私有类成员使用单一下划线前缀\n",
    "# 不能包含类型信息"
   ]
  },
  {
   "attachments": {},
   "cell_type": "markdown",
   "metadata": {},
   "source": [
    "异常"
   ]
  },
  {
   "cell_type": "code",
   "execution_count": null,
   "metadata": {},
   "outputs": [],
   "source": [
    "# 以Error作为后缀"
   ]
  },
  {
   "attachments": {},
   "cell_type": "markdown",
   "metadata": {},
   "source": [
    "下划线"
   ]
  },
  {
   "cell_type": "code",
   "execution_count": null,
   "metadata": {},
   "outputs": [],
   "source": [
    "# 一个前导下划线：非公有\n",
    "# 一个后缀下划线：避免关键字冲突\n",
    "# 两个前导下划线：当命名一个类属性引起名称冲突时使用\n",
    "# 两个前导和后缀下划线：有特殊用途的对象或属性，例如__init__和__str__"
   ]
  },
  {
   "attachments": {},
   "cell_type": "markdown",
   "metadata": {},
   "source": [
    "# 面对对象编程"
   ]
  },
  {
   "cell_type": "code",
   "execution_count": 94,
   "metadata": {},
   "outputs": [],
   "source": [
    "# 面对过程编程把计算机程序视为一系列命令集合，即一组函数的顺序执行，为了简化设计，将复杂函数分割成多个子函数\n",
    "# 面对对象编程将计算机程序视为一组对象的集合，每个对象都可以接收并处理其他对象的消息，计算机程序的执行就是在各个对象之间传递"
   ]
  },
  {
   "attachments": {},
   "cell_type": "markdown",
   "metadata": {},
   "source": [
    "类和实例"
   ]
  },
  {
   "cell_type": "code",
   "execution_count": 2,
   "metadata": {},
   "outputs": [],
   "source": [
    "# 类是抽象的模板，实例是根据类创建的一个个具体的“对象”\n",
    "class Student(object):\n",
    "    pass\n",
    "\n",
    "\n",
    "# (object)表示继承"
   ]
  },
  {
   "cell_type": "code",
   "execution_count": 3,
   "metadata": {},
   "outputs": [
    {
     "data": {
      "text/plain": [
       "<__main__.Student at 0x7f458efada80>"
      ]
     },
     "execution_count": 3,
     "metadata": {},
     "output_type": "execute_result"
    }
   ],
   "source": [
    "bart = Student()\n",
    "bart"
   ]
  },
  {
   "cell_type": "code",
   "execution_count": 4,
   "metadata": {},
   "outputs": [
    {
     "data": {
      "text/plain": [
       "__main__.Student"
      ]
     },
     "execution_count": 4,
     "metadata": {},
     "output_type": "execute_result"
    }
   ],
   "source": [
    "Student"
   ]
  },
  {
   "cell_type": "code",
   "execution_count": 6,
   "metadata": {},
   "outputs": [
    {
     "data": {
      "text/plain": [
       "'Bart'"
      ]
     },
     "execution_count": 6,
     "metadata": {},
     "output_type": "execute_result"
    }
   ],
   "source": [
    "# 可以自由地给实例对象绑定属性\n",
    "bart.name = \"Bart\"\n",
    "bart.name"
   ]
  },
  {
   "cell_type": "code",
   "execution_count": 7,
   "metadata": {},
   "outputs": [],
   "source": [
    "# 在创建实例的过程中，把一些必须绑定的属性强制填写进去\n",
    "class Student(object):\n",
    "\n",
    "    def __init__(self, name, score):\n",
    "        self.name = name\n",
    "        self.score = score\n",
    "\n",
    "    def print_score(self):\n",
    "        print(\"%s: %s\" % (self.name, self.score))"
   ]
  },
  {
   "cell_type": "code",
   "execution_count": 8,
   "metadata": {},
   "outputs": [
    {
     "name": "stdout",
     "output_type": "stream",
     "text": [
      "Michael: 90\n"
     ]
    }
   ],
   "source": [
    "bart = Student(\"Michael\", 90)\n",
    "bart.print_score()"
   ]
  },
  {
   "cell_type": "code",
   "execution_count": 9,
   "metadata": {},
   "outputs": [],
   "source": [
    "# Python允许对实例变量绑定任何数据，所有两个实例变量，虽然都是同一个类的不同实例，但是拥有的变量名称可能不同"
   ]
  },
  {
   "attachments": {},
   "cell_type": "markdown",
   "metadata": {},
   "source": [
    "访问限制"
   ]
  },
  {
   "cell_type": "code",
   "execution_count": 7,
   "metadata": {},
   "outputs": [],
   "source": [
    "# 为了保证内部属性不被外部访问，在前面加上__，表示私有属性\n",
    "class Student(object):\n",
    "\n",
    "    def __init__(self, name, score):\n",
    "        self.__name = name\n",
    "        self.__score = score\n",
    "\n",
    "    def print_score(self):\n",
    "        print(\"%s: %s\" % (self.__name, self.__score))\n",
    "\n",
    "    def set_name(self, name):\n",
    "        self.__name = name\n",
    "\n",
    "    def get_name(self):\n",
    "        return self.__name"
   ]
  },
  {
   "cell_type": "code",
   "execution_count": 4,
   "metadata": {},
   "outputs": [
    {
     "name": "stdout",
     "output_type": "stream",
     "text": [
      "Mike: 90\n"
     ]
    }
   ],
   "source": [
    "bart = Student(\"Mike\", 90)\n",
    "bart.print_score()"
   ]
  },
  {
   "cell_type": "code",
   "execution_count": 5,
   "metadata": {},
   "outputs": [
    {
     "ename": "AttributeError",
     "evalue": "'Student' object has no attribute '__name'",
     "output_type": "error",
     "traceback": [
      "\u001b[0;31m---------------------------------------------------------------------------\u001b[0m",
      "\u001b[0;31mAttributeError\u001b[0m                            Traceback (most recent call last)",
      "Cell \u001b[0;32mIn[5], line 1\u001b[0m\n\u001b[0;32m----> 1\u001b[0m bart\u001b[39m.\u001b[39;49m__name\n",
      "\u001b[0;31mAttributeError\u001b[0m: 'Student' object has no attribute '__name'"
     ]
    }
   ],
   "source": [
    "bart.__name"
   ]
  },
  {
   "cell_type": "code",
   "execution_count": 6,
   "metadata": {},
   "outputs": [
    {
     "data": {
      "text/plain": [
       "'Mike'"
      ]
     },
     "execution_count": 6,
     "metadata": {},
     "output_type": "execute_result"
    }
   ],
   "source": [
    "# python将__name翻译成_Student__name，所以通过__name不能直接访问\n",
    "bart._Student__name"
   ]
  },
  {
   "cell_type": "code",
   "execution_count": 9,
   "metadata": {},
   "outputs": [
    {
     "data": {
      "text/plain": [
       "'Mike'"
      ]
     },
     "execution_count": 9,
     "metadata": {},
     "output_type": "execute_result"
    }
   ],
   "source": [
    "bart = Student(\"Mike\", 90)\n",
    "bart.get_name()"
   ]
  },
  {
   "cell_type": "code",
   "execution_count": 10,
   "metadata": {},
   "outputs": [
    {
     "data": {
      "text/plain": [
       "'Mike'"
      ]
     },
     "execution_count": 10,
     "metadata": {},
     "output_type": "execute_result"
    }
   ],
   "source": [
    "# 此时python解释器会将__name视为新添加的变量\n",
    "bart.__name = \"MMM\"\n",
    "bart.get_name()"
   ]
  },
  {
   "cell_type": "code",
   "execution_count": 11,
   "metadata": {},
   "outputs": [],
   "source": [
    "class Student(object):\n",
    "\n",
    "    def __init__(self, name, gender) -> None:\n",
    "        self.__name = name\n",
    "        self.__gender = gender\n",
    "\n",
    "    def get_gender(self):\n",
    "        return self.__gender\n",
    "\n",
    "    def set_gender(self, gender):\n",
    "        if gender in [\"male\", \"female\"]:\n",
    "            self.__gender = gender"
   ]
  },
  {
   "cell_type": "code",
   "execution_count": 12,
   "metadata": {},
   "outputs": [
    {
     "name": "stdout",
     "output_type": "stream",
     "text": [
      "测试成功!\n"
     ]
    }
   ],
   "source": [
    "bart = Student('Bart', 'male')\n",
    "if bart.get_gender() != 'male':\n",
    "    print('测试失败!')\n",
    "else:\n",
    "    bart.set_gender('female')\n",
    "    if bart.get_gender() != 'female':\n",
    "        print('测试失败!')\n",
    "    else:\n",
    "        print('测试成功!')"
   ]
  },
  {
   "attachments": {},
   "cell_type": "markdown",
   "metadata": {},
   "source": [
    "继承和多态"
   ]
  },
  {
   "cell_type": "code",
   "execution_count": 9,
   "metadata": {},
   "outputs": [],
   "source": [
    "# 继承的类称为子类，被继承的类称为基类、父类或超类\n",
    "class Animal(object):\n",
    "\n",
    "    def run(self):\n",
    "        print(\"Animal is running\")"
   ]
  },
  {
   "cell_type": "code",
   "execution_count": 10,
   "metadata": {},
   "outputs": [],
   "source": [
    "class Dog(Animal):\n",
    "    pass\n",
    "\n",
    "\n",
    "class Cat(Animal):\n",
    "    pass"
   ]
  },
  {
   "cell_type": "code",
   "execution_count": 11,
   "metadata": {},
   "outputs": [
    {
     "name": "stdout",
     "output_type": "stream",
     "text": [
      "Animal is running\n",
      "Animal is running\n"
     ]
    }
   ],
   "source": [
    "# 子类拥有父类的全部功能\n",
    "dog = Dog()\n",
    "cat = Cat()\n",
    "dog.run()\n",
    "cat.run()"
   ]
  },
  {
   "cell_type": "code",
   "execution_count": 12,
   "metadata": {},
   "outputs": [],
   "source": [
    "# 当父类和子类有相同的方法时，子类的方法覆盖了父类的方法\n",
    "class Dog(Animal):\n",
    "\n",
    "    def run(self):\n",
    "        print(\"Dog is running\")\n",
    "\n",
    "\n",
    "class Cat(Animal):\n",
    "\n",
    "    def run(self):\n",
    "        print(\"Cat is running\")"
   ]
  },
  {
   "cell_type": "code",
   "execution_count": 13,
   "metadata": {},
   "outputs": [
    {
     "name": "stdout",
     "output_type": "stream",
     "text": [
      "Dog is running\n",
      "Cat is running\n"
     ]
    }
   ],
   "source": [
    "dog = Dog()\n",
    "cat = Cat()\n",
    "dog.run()\n",
    "cat.run()"
   ]
  },
  {
   "cell_type": "code",
   "execution_count": 14,
   "metadata": {},
   "outputs": [
    {
     "data": {
      "text/plain": [
       "True"
      ]
     },
     "execution_count": 14,
     "metadata": {},
     "output_type": "execute_result"
    }
   ],
   "source": [
    "isinstance(dog, Dog)"
   ]
  },
  {
   "cell_type": "code",
   "execution_count": 15,
   "metadata": {},
   "outputs": [
    {
     "data": {
      "text/plain": [
       "True"
      ]
     },
     "execution_count": 15,
     "metadata": {},
     "output_type": "execute_result"
    }
   ],
   "source": [
    "isinstance(dog, Animal)\n",
    "# 子类对象不仅仅是子类实例，也是父类的实例"
   ]
  },
  {
   "cell_type": "code",
   "execution_count": 16,
   "metadata": {},
   "outputs": [],
   "source": [
    "# 多态的实际好处\n",
    "def run_twice(animal):\n",
    "    animal.run()\n",
    "    animal.run()"
   ]
  },
  {
   "cell_type": "code",
   "execution_count": 17,
   "metadata": {},
   "outputs": [
    {
     "name": "stdout",
     "output_type": "stream",
     "text": [
      "Dog is running\n",
      "Dog is running\n"
     ]
    }
   ],
   "source": [
    "run_twice(dog)"
   ]
  },
  {
   "cell_type": "code",
   "execution_count": 18,
   "metadata": {},
   "outputs": [
    {
     "name": "stdout",
     "output_type": "stream",
     "text": [
      "Cat is running\n",
      "Cat is running\n"
     ]
    }
   ],
   "source": [
    "run_twice(cat)"
   ]
  },
  {
   "cell_type": "code",
   "execution_count": 19,
   "metadata": {},
   "outputs": [],
   "source": [
    "# 新增Animal的子类，不需要对run_twice()做出修改\n",
    "# 因为Aninmal有run()方法，所以只要是Animal的子类，确保run()方法编写正确，不用管原来的代码是如何调用的\n",
    "# 对扩展开放：允许新增Animal的子类\n",
    "# 对修改封闭，不需要修改依赖Animal类型的的run_twice()方法"
   ]
  },
  {
   "cell_type": "code",
   "execution_count": 20,
   "metadata": {},
   "outputs": [],
   "source": [
    "# 静态语言与动态语言\n",
    "# 在java中，需要确保传入的对象是Animal类型或其子类\n",
    "# 在python中，只需要传入的对象有run()方法，不要求严格的继承体系"
   ]
  },
  {
   "attachments": {},
   "cell_type": "markdown",
   "metadata": {},
   "source": [
    "对象引用"
   ]
  },
  {
   "cell_type": "code",
   "execution_count": 21,
   "metadata": {},
   "outputs": [
    {
     "data": {
      "text/plain": [
       "True"
      ]
     },
     "execution_count": 21,
     "metadata": {},
     "output_type": "execute_result"
    }
   ],
   "source": [
    "# 一般的变量判断都是使用type()实现\n",
    "type(1) == type(2)"
   ]
  },
  {
   "cell_type": "code",
   "execution_count": 22,
   "metadata": {},
   "outputs": [
    {
     "data": {
      "text/plain": [
       "False"
      ]
     },
     "execution_count": 22,
     "metadata": {},
     "output_type": "execute_result"
    }
   ],
   "source": [
    "type(1.0) == type(1)"
   ]
  },
  {
   "cell_type": "code",
   "execution_count": 23,
   "metadata": {},
   "outputs": [
    {
     "data": {
      "text/plain": [
       "True"
      ]
     },
     "execution_count": 23,
     "metadata": {},
     "output_type": "execute_result"
    }
   ],
   "source": [
    "# 判断对象是否是函数\n",
    "import types\n",
    "\n",
    "\n",
    "def fn():\n",
    "    pass\n",
    "\n",
    "\n",
    "type(fn) == types.FunctionType"
   ]
  },
  {
   "cell_type": "code",
   "execution_count": 25,
   "metadata": {},
   "outputs": [
    {
     "data": {
      "text/plain": [
       "True"
      ]
     },
     "execution_count": 25,
     "metadata": {},
     "output_type": "execute_result"
    }
   ],
   "source": [
    "# 判断class的类型，可以使用isinstance()函数\n",
    "a = Animal()\n",
    "d = Dog()\n",
    "c = Cat()\n",
    "isinstance(c, Animal)"
   ]
  },
  {
   "cell_type": "code",
   "execution_count": 26,
   "metadata": {},
   "outputs": [
    {
     "data": {
      "text/plain": [
       "True"
      ]
     },
     "execution_count": 26,
     "metadata": {},
     "output_type": "execute_result"
    }
   ],
   "source": [
    "isinstance(c, Cat)"
   ]
  },
  {
   "cell_type": "code",
   "execution_count": 29,
   "metadata": {},
   "outputs": [
    {
     "data": {
      "text/plain": [
       "True"
      ]
     },
     "execution_count": 29,
     "metadata": {},
     "output_type": "execute_result"
    }
   ],
   "source": [
    "isinstance([1, 2, 3], (list, tuple))\n",
    "# 判断类型的一种"
   ]
  },
  {
   "cell_type": "code",
   "execution_count": 31,
   "metadata": {},
   "outputs": [
    {
     "data": {
      "text/plain": [
       "['__add__',\n",
       " '__class__',\n",
       " '__contains__',\n",
       " '__delattr__',\n",
       " '__dir__',\n",
       " '__doc__',\n",
       " '__eq__',\n",
       " '__format__',\n",
       " '__ge__',\n",
       " '__getattribute__',\n",
       " '__getitem__',\n",
       " '__getnewargs__',\n",
       " '__gt__',\n",
       " '__hash__',\n",
       " '__init__',\n",
       " '__init_subclass__',\n",
       " '__iter__',\n",
       " '__le__',\n",
       " '__len__',\n",
       " '__lt__',\n",
       " '__mod__',\n",
       " '__mul__',\n",
       " '__ne__',\n",
       " '__new__',\n",
       " '__reduce__',\n",
       " '__reduce_ex__',\n",
       " '__repr__',\n",
       " '__rmod__',\n",
       " '__rmul__',\n",
       " '__setattr__',\n",
       " '__sizeof__',\n",
       " '__str__',\n",
       " '__subclasshook__',\n",
       " 'capitalize',\n",
       " 'casefold',\n",
       " 'center',\n",
       " 'count',\n",
       " 'encode',\n",
       " 'endswith',\n",
       " 'expandtabs',\n",
       " 'find',\n",
       " 'format',\n",
       " 'format_map',\n",
       " 'index',\n",
       " 'isalnum',\n",
       " 'isalpha',\n",
       " 'isascii',\n",
       " 'isdecimal',\n",
       " 'isdigit',\n",
       " 'isidentifier',\n",
       " 'islower',\n",
       " 'isnumeric',\n",
       " 'isprintable',\n",
       " 'isspace',\n",
       " 'istitle',\n",
       " 'isupper',\n",
       " 'join',\n",
       " 'ljust',\n",
       " 'lower',\n",
       " 'lstrip',\n",
       " 'maketrans',\n",
       " 'partition',\n",
       " 'removeprefix',\n",
       " 'removesuffix',\n",
       " 'replace',\n",
       " 'rfind',\n",
       " 'rindex',\n",
       " 'rjust',\n",
       " 'rpartition',\n",
       " 'rsplit',\n",
       " 'rstrip',\n",
       " 'split',\n",
       " 'splitlines',\n",
       " 'startswith',\n",
       " 'strip',\n",
       " 'swapcase',\n",
       " 'title',\n",
       " 'translate',\n",
       " 'upper',\n",
       " 'zfill']"
      ]
     },
     "execution_count": 31,
     "metadata": {},
     "output_type": "execute_result"
    }
   ],
   "source": [
    "# dir()，获得一个对象的所有属性和方法\n",
    "dir(\"ABC\")"
   ]
  },
  {
   "cell_type": "code",
   "execution_count": 32,
   "metadata": {},
   "outputs": [],
   "source": [
    "# __xx__方法都是特殊用途的，如__len__返回长度，调用len()方法，实际上hi调用对象的__len__方法，自己编写的类需要返回长度的话，就自己写一个__len__()方法"
   ]
  },
  {
   "cell_type": "code",
   "execution_count": 34,
   "metadata": {},
   "outputs": [],
   "source": [
    "class MyObject(object):\n",
    "\n",
    "    def __init__(self) -> None:\n",
    "        self.a = 1\n",
    "\n",
    "    def power(self):\n",
    "        return self.a**2\n",
    "\n",
    "\n",
    "obj = MyObject()"
   ]
  },
  {
   "cell_type": "code",
   "execution_count": 36,
   "metadata": {},
   "outputs": [
    {
     "data": {
      "text/plain": [
       "True"
      ]
     },
     "execution_count": 36,
     "metadata": {},
     "output_type": "execute_result"
    }
   ],
   "source": [
    "# hasattr(),setattr(),delattr()\n",
    "hasattr(obj, \"a\")"
   ]
  },
  {
   "cell_type": "code",
   "execution_count": 38,
   "metadata": {},
   "outputs": [
    {
     "data": {
      "text/plain": [
       "1"
      ]
     },
     "execution_count": 38,
     "metadata": {},
     "output_type": "execute_result"
    }
   ],
   "source": [
    "obj.a"
   ]
  },
  {
   "cell_type": "code",
   "execution_count": 39,
   "metadata": {},
   "outputs": [
    {
     "data": {
      "text/plain": [
       "False"
      ]
     },
     "execution_count": 39,
     "metadata": {},
     "output_type": "execute_result"
    }
   ],
   "source": [
    "hasattr(obj, \"y\")"
   ]
  },
  {
   "cell_type": "code",
   "execution_count": 40,
   "metadata": {},
   "outputs": [
    {
     "data": {
      "text/plain": [
       "True"
      ]
     },
     "execution_count": 40,
     "metadata": {},
     "output_type": "execute_result"
    }
   ],
   "source": [
    "setattr(obj, \"y\", 19)\n",
    "hasattr(obj, \"y\")"
   ]
  },
  {
   "cell_type": "code",
   "execution_count": 41,
   "metadata": {},
   "outputs": [
    {
     "data": {
      "text/plain": [
       "19"
      ]
     },
     "execution_count": 41,
     "metadata": {},
     "output_type": "execute_result"
    }
   ],
   "source": [
    "getattr(obj, \"y\")"
   ]
  },
  {
   "cell_type": "code",
   "execution_count": 42,
   "metadata": {},
   "outputs": [],
   "source": [
    "# 可以传入一个default参数，如果属性不存在，就返回默认值\n",
    "# hasattr()也可以获得对象的方法"
   ]
  },
  {
   "cell_type": "code",
   "execution_count": 43,
   "metadata": {},
   "outputs": [],
   "source": [
    "class Object(object):\n",
    "\n",
    "    def __init__(self, name, age, gender):\n",
    "        self.name = name\n",
    "        self.age = age\n",
    "        self.gender = gender"
   ]
  },
  {
   "cell_type": "code",
   "execution_count": 46,
   "metadata": {},
   "outputs": [
    {
     "name": "stdout",
     "output_type": "stream",
     "text": [
      "name age gender\n",
      "male\n"
     ]
    }
   ],
   "source": [
    "def dict2bean(obj, d):\n",
    "    for k, v in d.items():\n",
    "        if hasattr(obj, k):\n",
    "            # setattr(obj, k, v)\n",
    "            obj.k = v  # 这里相当于创建了属性k，\n",
    "\n",
    "\n",
    "d = {'name': 'sam', 'age': 26, 'gender': 'male'}\n",
    "obj = Object('name', 'age', 'gender')\n",
    "\n",
    "dict2bean(obj, d)\n",
    "print(obj.name, obj.age, obj.gender)  # 打印结果为 sam 26 male\n",
    "print(obj.k)  # 打印结果为 male"
   ]
  },
  {
   "cell_type": "code",
   "execution_count": 48,
   "metadata": {},
   "outputs": [
    {
     "name": "stdout",
     "output_type": "stream",
     "text": [
      "sam 26 male\n"
     ]
    }
   ],
   "source": [
    "def dict2bean(obj, d):\n",
    "    for k, v in d.items():\n",
    "        if hasattr(obj, k):\n",
    "            setattr(obj, k, v)  # 这样才是对每个属性赋值\n",
    "            # obj.k = v  # 这里相当于创建了属性k，\n",
    "\n",
    "\n",
    "d = {'name': 'sam', 'age': 26, 'gender': 'male'}\n",
    "obj = Object('name', 'age', 'gender')\n",
    "\n",
    "dict2bean(obj, d)\n",
    "print(obj.name, obj.age, obj.gender)  # 打印结果为 sam 26 male\n",
    "# print(obj.k)  #打印结果为 male"
   ]
  },
  {
   "attachments": {},
   "cell_type": "markdown",
   "metadata": {},
   "source": [
    "实例属性和类属性"
   ]
  },
  {
   "cell_type": "code",
   "execution_count": 49,
   "metadata": {},
   "outputs": [],
   "source": [
    "# 给实例绑定属性通过实例变量，或者通过self变量\n",
    "class Person(object):\n",
    "\n",
    "    def __init__(self, name):\n",
    "        self.name = name\n",
    "\n",
    "\n",
    "s = Person('张三')\n",
    "s.score = 90"
   ]
  },
  {
   "cell_type": "code",
   "execution_count": 54,
   "metadata": {},
   "outputs": [
    {
     "name": "stdout",
     "output_type": "stream",
     "text": [
      "Student\n"
     ]
    }
   ],
   "source": [
    "# 如果Student类本身绑定属性，可以直接在class中定义属性，属于类属性\n",
    "class Student(object):\n",
    "\n",
    "    name = \"Student\"\n",
    "\n",
    "\n",
    "s = Student()\n",
    "\n",
    "print(s.name)\n",
    "# 类属性可以被类所有的实例访问"
   ]
  },
  {
   "cell_type": "code",
   "execution_count": 60,
   "metadata": {},
   "outputs": [
    {
     "data": {
      "text/plain": [
       "'Michael'"
      ]
     },
     "execution_count": 60,
     "metadata": {},
     "output_type": "execute_result"
    }
   ],
   "source": [
    "s.name = \"Michael\"\n",
    "s.name"
   ]
  },
  {
   "cell_type": "code",
   "execution_count": 61,
   "metadata": {},
   "outputs": [
    {
     "name": "stdout",
     "output_type": "stream",
     "text": [
      "Student\n"
     ]
    }
   ],
   "source": [
    "print(Student.name)"
   ]
  },
  {
   "cell_type": "code",
   "execution_count": 62,
   "metadata": {},
   "outputs": [],
   "source": [
    "del s.name"
   ]
  },
  {
   "cell_type": "code",
   "execution_count": 63,
   "metadata": {},
   "outputs": [
    {
     "data": {
      "text/plain": [
       "'Student'"
      ]
     },
     "execution_count": 63,
     "metadata": {},
     "output_type": "execute_result"
    }
   ],
   "source": [
    "s.name"
   ]
  },
  {
   "cell_type": "code",
   "execution_count": 64,
   "metadata": {},
   "outputs": [],
   "source": [
    "# 在删除实例绑定的name后，python解释器会找到类属性"
   ]
  },
  {
   "cell_type": "code",
   "execution_count": 69,
   "metadata": {},
   "outputs": [
    {
     "name": "stdout",
     "output_type": "stream",
     "text": [
      "Students: 2\n",
      "测试通过!\n"
     ]
    }
   ],
   "source": [
    "class Student(object):\n",
    "    count = 0\n",
    "\n",
    "    def __init__(self, name):\n",
    "        self.name = name\n",
    "        Student.count += 1  # 这里不能使用self.count，否则会报错，因为self.count是实例变量\n",
    "\n",
    "\n",
    "# 测试:\n",
    "if Student.count != 0:\n",
    "    print('测试失败!')\n",
    "else:\n",
    "    bart = Student('Bart')\n",
    "    if Student.count != 1:\n",
    "        print('测试失败!')\n",
    "    else:\n",
    "        lisa = Student('Bart')\n",
    "        if Student.count != 2:\n",
    "            print('测试失败!')\n",
    "        else:\n",
    "            print('Students:', Student.count)\n",
    "            print('测试通过!')"
   ]
  },
  {
   "cell_type": "code",
   "execution_count": 68,
   "metadata": {},
   "outputs": [],
   "source": [
    "# 实例属性属于各个实例所有，互不干扰\n",
    "# 类属性属于类所有，所有实例共享一个属性\n",
    "# 不要对实例属性和类属性使用相同的名字"
   ]
  },
  {
   "attachments": {},
   "cell_type": "markdown",
   "metadata": {},
   "source": [
    "# 面对对象高级编程"
   ]
  },
  {
   "attachments": {},
   "cell_type": "markdown",
   "metadata": {},
   "source": [
    "使用__slots__"
   ]
  },
  {
   "cell_type": "code",
   "execution_count": 70,
   "metadata": {},
   "outputs": [
    {
     "data": {
      "text/plain": [
       "'zhangsan'"
      ]
     },
     "execution_count": 70,
     "metadata": {},
     "output_type": "execute_result"
    }
   ],
   "source": [
    "# 给实例绑定属性\n",
    "class Student(object):\n",
    "    pass\n",
    "\n",
    "\n",
    "s = Student()\n",
    "s.name = 'zhangsan'\n",
    "s.name"
   ]
  },
  {
   "cell_type": "code",
   "execution_count": 71,
   "metadata": {},
   "outputs": [
    {
     "data": {
      "text/plain": [
       "25"
      ]
     },
     "execution_count": 71,
     "metadata": {},
     "output_type": "execute_result"
    }
   ],
   "source": [
    "from types import MethodType\n",
    "\n",
    "\n",
    "def set_age(self, age):\n",
    "    self.age = age\n",
    "\n",
    "\n",
    "s.set_age = MethodType(set_age, s)  # 给实例绑定方法\n",
    "s.set_age(25)\n",
    "s.age"
   ]
  },
  {
   "cell_type": "code",
   "execution_count": 72,
   "metadata": {},
   "outputs": [],
   "source": [
    "# 对一个实例绑定的方法，对另一个实例不起作用\n",
    "# 给所有实例绑定方法可以给Class绑定方法\n",
    "def set_score(self, score):\n",
    "    self.score = score\n",
    "\n",
    "\n",
    "Student.set_score = set_score"
   ]
  },
  {
   "cell_type": "code",
   "execution_count": 74,
   "metadata": {},
   "outputs": [
    {
     "data": {
      "text/plain": [
       "100"
      ]
     },
     "execution_count": 74,
     "metadata": {},
     "output_type": "execute_result"
    }
   ],
   "source": [
    "s2 = Student()\n",
    "s2.set_score(100)\n",
    "s2.score"
   ]
  },
  {
   "cell_type": "code",
   "execution_count": 75,
   "metadata": {},
   "outputs": [],
   "source": [
    "# 动态绑定允许我们在程序运行过程中给class添加功能"
   ]
  },
  {
   "cell_type": "code",
   "execution_count": 1,
   "metadata": {},
   "outputs": [
    {
     "ename": "AttributeError",
     "evalue": "'Student' object has no attribute 'score'",
     "output_type": "error",
     "traceback": [
      "\u001b[0;31m---------------------------------------------------------------------------\u001b[0m",
      "\u001b[0;31mAttributeError\u001b[0m                            Traceback (most recent call last)",
      "Cell \u001b[0;32mIn[1], line 12\u001b[0m\n\u001b[1;32m     10\u001b[0m s\u001b[39m.\u001b[39mname \u001b[39m=\u001b[39m \u001b[39m'\u001b[39m\u001b[39mzhangsan\u001b[39m\u001b[39m'\u001b[39m\n\u001b[1;32m     11\u001b[0m s\u001b[39m.\u001b[39mage \u001b[39m=\u001b[39m \u001b[39m18\u001b[39m\n\u001b[0;32m---> 12\u001b[0m s\u001b[39m.\u001b[39;49mscore \u001b[39m=\u001b[39m \u001b[39m99\u001b[39m\n",
      "\u001b[0;31mAttributeError\u001b[0m: 'Student' object has no attribute 'score'"
     ]
    }
   ],
   "source": [
    "# 如果想要限制实例的属性，比如只能添加name和age属性\n",
    "# 定义一个特殊的__slots__变量，来限制能添加的属性\n",
    "\n",
    "\n",
    "class Student(object):\n",
    "    __slots__ = ('name', 'age')  # tuple定义允许绑定的属性\n",
    "\n",
    "\n",
    "s = Student()\n",
    "s.name = 'zhangsan'\n",
    "s.age = 18\n",
    "s.score = 99"
   ]
  },
  {
   "cell_type": "code",
   "execution_count": 2,
   "metadata": {},
   "outputs": [],
   "source": [
    "# __slot__定义的属性只对当前类的实例起作用，继承的子类不起作用\n",
    "# 除非在子类中定义__slots__属性，这样子类实例允许定义的就是子类的__slots__加上父类的__slots__\n",
    "\n",
    "\n",
    "class FreshMan(Student):\n",
    "    __slots__ = (\"score\")\n",
    "\n",
    "\n",
    "f = FreshMan()\n",
    "f.name = \"Zhangsan\"\n",
    "f.age = 20\n",
    "f.score = 100"
   ]
  },
  {
   "cell_type": "code",
   "execution_count": 3,
   "metadata": {},
   "outputs": [
    {
     "ename": "AttributeError",
     "evalue": "'FreshMan' object has no attribute 'gender'",
     "output_type": "error",
     "traceback": [
      "\u001b[0;31m---------------------------------------------------------------------------\u001b[0m",
      "\u001b[0;31mAttributeError\u001b[0m                            Traceback (most recent call last)",
      "Cell \u001b[0;32mIn[3], line 1\u001b[0m\n\u001b[0;32m----> 1\u001b[0m f\u001b[39m.\u001b[39;49mgender \u001b[39m=\u001b[39m \u001b[39m\"\u001b[39m\u001b[39mMale\u001b[39m\u001b[39m\"\u001b[39m\n",
      "\u001b[0;31mAttributeError\u001b[0m: 'FreshMan' object has no attribute 'gender'"
     ]
    }
   ],
   "source": [
    "f.gender = \"Male\""
   ]
  },
  {
   "attachments": {},
   "cell_type": "markdown",
   "metadata": {},
   "source": [
    "使用@property"
   ]
  },
  {
   "cell_type": "code",
   "execution_count": 6,
   "metadata": {},
   "outputs": [
    {
     "ename": "ValueError",
     "evalue": "score must between 0 ~ 100!",
     "output_type": "error",
     "traceback": [
      "\u001b[0;31m---------------------------------------------------------------------------\u001b[0m",
      "\u001b[0;31mValueError\u001b[0m                                Traceback (most recent call last)",
      "Cell \u001b[0;32mIn[6], line 16\u001b[0m\n\u001b[1;32m     12\u001b[0m         \u001b[39mself\u001b[39m\u001b[39m.\u001b[39m_score \u001b[39m=\u001b[39m value\n\u001b[1;32m     15\u001b[0m s \u001b[39m=\u001b[39m Student()\n\u001b[0;32m---> 16\u001b[0m s\u001b[39m.\u001b[39;49mset_score(\u001b[39m1000\u001b[39;49m)\n",
      "Cell \u001b[0;32mIn[6], line 11\u001b[0m, in \u001b[0;36mStudent.set_score\u001b[0;34m(self, value)\u001b[0m\n\u001b[1;32m      9\u001b[0m     \u001b[39mraise\u001b[39;00m \u001b[39mValueError\u001b[39;00m(\u001b[39m'\u001b[39m\u001b[39mscore must be an integer!\u001b[39m\u001b[39m'\u001b[39m)\n\u001b[1;32m     10\u001b[0m \u001b[39mif\u001b[39;00m value \u001b[39m<\u001b[39m \u001b[39m0\u001b[39m \u001b[39mor\u001b[39;00m value \u001b[39m>\u001b[39m \u001b[39m100\u001b[39m:\n\u001b[0;32m---> 11\u001b[0m     \u001b[39mraise\u001b[39;00m \u001b[39mValueError\u001b[39;00m(\u001b[39m'\u001b[39m\u001b[39mscore must between 0 ~ 100!\u001b[39m\u001b[39m'\u001b[39m)\n\u001b[1;32m     12\u001b[0m \u001b[39mself\u001b[39m\u001b[39m.\u001b[39m_score \u001b[39m=\u001b[39m value\n",
      "\u001b[0;31mValueError\u001b[0m: score must between 0 ~ 100!"
     ]
    }
   ],
   "source": [
    "# 为了限制属性的范围，可以通过在set方法中检查参数来实现\n",
    "class Student(object):\n",
    "\n",
    "    def get_score(self):\n",
    "        return self._score\n",
    "\n",
    "    def set_score(self, value):\n",
    "        if not isinstance(value, int):\n",
    "            raise ValueError('score must be an integer!')\n",
    "        if value < 0 or value > 100:\n",
    "            raise ValueError('score must between 0 ~ 100!')\n",
    "        self._score = value\n",
    "\n",
    "\n",
    "s = Student()\n",
    "s.set_score(1000)"
   ]
  },
  {
   "cell_type": "code",
   "execution_count": 7,
   "metadata": {},
   "outputs": [
    {
     "data": {
      "text/plain": [
       "90"
      ]
     },
     "execution_count": 7,
     "metadata": {},
     "output_type": "execute_result"
    }
   ],
   "source": [
    "# @property装饰器就是将一个方法变成属性调用\n",
    "\n",
    "\n",
    "class Student(object):\n",
    "\n",
    "    @property\n",
    "    def score(self):\n",
    "        return self.__score  # 相当于get_score()\n",
    "\n",
    "    @score.setter\n",
    "    def score(self, value):\n",
    "        if not isinstance(value, int):\n",
    "            raise TypeError(\"Score must be an integer\")\n",
    "        if value < 0 or value > 100:\n",
    "            raise ValueError(\"Score cannot be negative\")\n",
    "        self.__score = value  # 相当于set_score()\n",
    "\n",
    "\n",
    "s = Student()\n",
    "s.score = 90  # 实际转化为s.set_score(90)\n",
    "s.score  # 实际转化为s.get_score()"
   ]
  },
  {
   "cell_type": "code",
   "execution_count": 8,
   "metadata": {},
   "outputs": [],
   "source": [
    "# 只定义getter，不定义setter，就是一个只读属性\n",
    "class Student(object):\n",
    "\n",
    "    @property\n",
    "    def birth(self):\n",
    "        return self._birth\n",
    "\n",
    "    @birth.setter\n",
    "    def birth(self, value):\n",
    "        self._birth = value\n",
    "\n",
    "    @property\n",
    "    def age(self):\n",
    "        return 2015 - self._birth\n",
    "\n",
    "\n",
    "# birth就是一个可读写属性，age就是一个只读属性\n",
    "# 方法名称不要和实例变量名重名"
   ]
  },
  {
   "cell_type": "code",
   "execution_count": 12,
   "metadata": {},
   "outputs": [],
   "source": [
    "class Screen(object):\n",
    "\n",
    "    @property\n",
    "    def width(self):\n",
    "        return self._width\n",
    "\n",
    "    @property\n",
    "    def height(self):\n",
    "        return self._height\n",
    "\n",
    "    @width.setter\n",
    "    def width(self, value):\n",
    "        self._width = value\n",
    "\n",
    "    @height.setter\n",
    "    def height(self, value):\n",
    "        self._height = value\n",
    "\n",
    "    @property\n",
    "    def resolution(self):\n",
    "        return self._height * self._width"
   ]
  },
  {
   "cell_type": "code",
   "execution_count": 13,
   "metadata": {},
   "outputs": [
    {
     "name": "stdout",
     "output_type": "stream",
     "text": [
      "resolution = 786432\n",
      "测试通过!\n"
     ]
    }
   ],
   "source": [
    "# 测试:\n",
    "s = Screen()\n",
    "s.width = 1024\n",
    "s.height = 768\n",
    "print('resolution =', s.resolution)\n",
    "if s.resolution == 786432:\n",
    "    print('测试通过!')\n",
    "else:\n",
    "    print('测试失败!')"
   ]
  },
  {
   "attachments": {},
   "cell_type": "markdown",
   "metadata": {},
   "source": [
    "多重继承"
   ]
  },
  {
   "cell_type": "code",
   "execution_count": 1,
   "metadata": {},
   "outputs": [],
   "source": [
    "# 不同的类可能存在多种属性，设计主要的层次类，以及辅助的类\n",
    "# https://www.liaoxuefeng.com/wiki/1016959663602400/1017502939956896\n",
    "class Animal(object):\n",
    "    pass\n",
    "\n",
    "\n",
    "# 大类\n",
    "class Mammal(Animal):\n",
    "    pass\n",
    "\n",
    "\n",
    "class Bird(Animal):\n",
    "    pass\n",
    "\n",
    "\n",
    "# 各种动物\n",
    "class Dog(Mammal):\n",
    "    pass\n",
    "\n",
    "\n",
    "class Bat(Mammal):\n",
    "    pass\n",
    "\n",
    "\n",
    "class Parrot(Bird):\n",
    "    pass\n",
    "\n",
    "\n",
    "class Ostrich(Bird):\n",
    "    pass"
   ]
  },
  {
   "cell_type": "code",
   "execution_count": 2,
   "metadata": {},
   "outputs": [],
   "source": [
    "# 现在加上Runnable和Flyable的功能\n",
    "class Runnable(object):\n",
    "\n",
    "    def run(self):\n",
    "        print('Running...')\n",
    "\n",
    "\n",
    "class Flyable(object):\n",
    "\n",
    "    def fly(self):\n",
    "        print('Flying...')"
   ]
  },
  {
   "cell_type": "code",
   "execution_count": 3,
   "metadata": {},
   "outputs": [],
   "source": [
    "# 对于需要Runnable功能的动物，就多继承一个Runnable\n",
    "class Dog(Mammal, Runnable):\n",
    "    pass\n",
    "\n",
    "\n",
    "class Bat(Mammal, Flyable):\n",
    "    pass"
   ]
  },
  {
   "cell_type": "code",
   "execution_count": 4,
   "metadata": {},
   "outputs": [],
   "source": [
    "# 通过多重继承，一个子类可以同时获得多个父类的所有功能"
   ]
  },
  {
   "cell_type": "code",
   "execution_count": 6,
   "metadata": {},
   "outputs": [
    {
     "ename": "NameError",
     "evalue": "name 'TCPServer' is not defined",
     "output_type": "error",
     "traceback": [
      "\u001b[0;31m---------------------------------------------------------------------------\u001b[0m",
      "\u001b[0;31mNameError\u001b[0m                                 Traceback (most recent call last)",
      "Cell \u001b[0;32mIn[6], line 5\u001b[0m\n\u001b[1;32m      1\u001b[0m \u001b[39m# MixIn\u001b[39;00m\n\u001b[1;32m      2\u001b[0m \u001b[39m# 在继承时，主线一般都是单一继承，只有在需要额外的功能时，才会使用多重继承（类似Java中的Interface）。这种设计称为MixIn。\u001b[39;00m\n\u001b[1;32m      3\u001b[0m \u001b[39m# MixIn的目的是给一个类添加多个功能\u001b[39;00m\n\u001b[1;32m      4\u001b[0m \u001b[39m# 例：多线程的TCP服务\u001b[39;00m\n\u001b[0;32m----> 5\u001b[0m \u001b[39mclass\u001b[39;00m \u001b[39mMyTCPServer\u001b[39;00m(TCPServer, ThreadingMixIn):\n\u001b[1;32m      6\u001b[0m     \u001b[39mpass\u001b[39;00m\n",
      "\u001b[0;31mNameError\u001b[0m: name 'TCPServer' is not defined"
     ]
    }
   ],
   "source": [
    "# MixIn\n",
    "# 在继承时，主线一般都是单一继承，只有在需要额外的功能时，才会使用多重继承（类似Java中的Interface）。这种设计称为MixIn。\n",
    "# MixIn的目的是给一个类添加多个功能\n",
    "# 例：多线程的TCP服务\n",
    "class MyTCPServer(TCPServer, ThreadingMixIn):\n",
    "    pass"
   ]
  },
  {
   "cell_type": "code",
   "execution_count": 7,
   "metadata": {},
   "outputs": [],
   "source": [
    "# 同一名字的方法，覆盖优先级为 子类>直接继承的父类>其他父类"
   ]
  },
  {
   "attachments": {},
   "cell_type": "markdown",
   "metadata": {},
   "source": [
    "定制类"
   ]
  },
  {
   "cell_type": "code",
   "execution_count": 1,
   "metadata": {},
   "outputs": [],
   "source": [
    "# __xx__的变量或函数名都有特殊的含义\n",
    "# __str__函数的返回值是字符串，在print(class.object)中打印出来，类似Java的toString()"
   ]
  },
  {
   "cell_type": "code",
   "execution_count": 2,
   "metadata": {},
   "outputs": [
    {
     "name": "stdout",
     "output_type": "stream",
     "text": [
      "<__main__.Student object at 0x7f77cf6a97b0>\n"
     ]
    }
   ],
   "source": [
    "class Student(object):\n",
    "\n",
    "    def __init__(self, name, age):\n",
    "        self.name = name\n",
    "        self.age = age\n",
    "\n",
    "\n",
    "print(Student('John', 20))"
   ]
  },
  {
   "cell_type": "code",
   "execution_count": 4,
   "metadata": {},
   "outputs": [
    {
     "name": "stdout",
     "output_type": "stream",
     "text": [
      "Student: John, 20\n"
     ]
    }
   ],
   "source": [
    "class Student(object):\n",
    "\n",
    "    def __init__(self, name, age):\n",
    "        self.name = name\n",
    "        self.age = age\n",
    "\n",
    "    def __str__(self):\n",
    "        return 'Student: %s, %s' % (self.name, self.age)\n",
    "\n",
    "    __repr__ = __str__  # __repr__ 是返回程序开发者看到的字符串\n",
    "\n",
    "\n",
    "print(Student('John', 20))"
   ]
  },
  {
   "cell_type": "code",
   "execution_count": 5,
   "metadata": {},
   "outputs": [
    {
     "data": {
      "text/plain": [
       "Student: John, 10"
      ]
     },
     "execution_count": 5,
     "metadata": {},
     "output_type": "execute_result"
    }
   ],
   "source": [
    "s = Student(\"John\", 10)\n",
    "s"
   ]
  },
  {
   "cell_type": "code",
   "execution_count": 10,
   "metadata": {},
   "outputs": [],
   "source": [
    "# __iter__是被用于for……in循环，该方法返回一个迭代对象，for循环会不断调用该迭代对象的__next__()方法，直到遇到StopIteration为止。\n",
    "class Fib(object):\n",
    "\n",
    "    def __init__(self):\n",
    "        self.a, self.b = 0, 1\n",
    "\n",
    "    def __iter__(self):\n",
    "        return self\n",
    "\n",
    "    def __next__(self):\n",
    "        self.a, self.b = self.b, self.a + self.b\n",
    "        if self.a > 1000000:\n",
    "            raise StopIteration\n",
    "        return self.a"
   ]
  },
  {
   "cell_type": "code",
   "execution_count": 12,
   "metadata": {},
   "outputs": [
    {
     "name": "stdout",
     "output_type": "stream",
     "text": [
      "1 1 2 3 5 8 13 21 34 55 89 144 233 377 610 987 1597 2584 4181 6765 10946 17711 28657 46368 75025 121393 196418 317811 514229 832040 "
     ]
    }
   ],
   "source": [
    "for n in Fib():\n",
    "    print(n, end=\" \")"
   ]
  },
  {
   "cell_type": "code",
   "execution_count": 13,
   "metadata": {},
   "outputs": [],
   "source": [
    "# 为了使Fib()能像list那样按照下标取出元素，需要实现__getitem__方法\n",
    "class Fib(object):\n",
    "\n",
    "    def __getitem__(self, index):\n",
    "        a, b = 1, 1\n",
    "        for i in range(index):\n",
    "            a, b = b, a + b\n",
    "        return a"
   ]
  },
  {
   "cell_type": "code",
   "execution_count": 14,
   "metadata": {},
   "outputs": [
    {
     "data": {
      "text/plain": [
       "1"
      ]
     },
     "execution_count": 14,
     "metadata": {},
     "output_type": "execute_result"
    }
   ],
   "source": [
    "f = Fib()\n",
    "f[0]"
   ]
  },
  {
   "cell_type": "code",
   "execution_count": 15,
   "metadata": {},
   "outputs": [
    {
     "data": {
      "text/plain": [
       "3"
      ]
     },
     "execution_count": 15,
     "metadata": {},
     "output_type": "execute_result"
    }
   ],
   "source": [
    "f[3]"
   ]
  },
  {
   "cell_type": "code",
   "execution_count": 22,
   "metadata": {},
   "outputs": [],
   "source": [
    "# 为了实现list的切片功能，需要在__getitem__方法中进行判断\n",
    "class Fib(object):\n",
    "\n",
    "    def __getitem__(self, n):\n",
    "        if isinstance(n, int):\n",
    "            a, b = 1, 1\n",
    "            for i in range(n):\n",
    "                a, b = b, a + b\n",
    "            return a\n",
    "        elif isinstance(n, slice):\n",
    "            start, stop, step = n.start, n.stop, n.step\n",
    "            if start is None:\n",
    "                start = 0\n",
    "            a, b = 1, 1\n",
    "            L = []\n",
    "            for x in range(stop):\n",
    "                if x >= start:\n",
    "                    L.append(a)\n",
    "                a, b = b, a + b\n",
    "            return L"
   ]
  },
  {
   "cell_type": "code",
   "execution_count": 23,
   "metadata": {},
   "outputs": [],
   "source": [
    "f = Fib()"
   ]
  },
  {
   "cell_type": "code",
   "execution_count": 24,
   "metadata": {},
   "outputs": [
    {
     "data": {
      "text/plain": [
       "1"
      ]
     },
     "execution_count": 24,
     "metadata": {},
     "output_type": "execute_result"
    }
   ],
   "source": [
    "f[0]"
   ]
  },
  {
   "cell_type": "code",
   "execution_count": 25,
   "metadata": {},
   "outputs": [
    {
     "data": {
      "text/plain": [
       "[55, 89, 144]"
      ]
     },
     "execution_count": 25,
     "metadata": {},
     "output_type": "execute_result"
    }
   ],
   "source": [
    "f[9:12]"
   ]
  },
  {
   "cell_type": "code",
   "execution_count": 26,
   "metadata": {},
   "outputs": [],
   "source": [
    "# 如果把对象看作dict，还需要对__getitem__和__setitem__进行操作，"
   ]
  },
  {
   "cell_type": "code",
   "execution_count": 31,
   "metadata": {},
   "outputs": [],
   "source": [
    "# __getattr__，当调用类中不存在的属性时，Python解释器会尝试调用__getattr__方法，动态返回一个属性\n",
    "class Student(object):\n",
    "\n",
    "    def __init__(self):\n",
    "        self.name = 'zhangsan'\n",
    "\n",
    "    def __getattr__(self, attr):\n",
    "        if attr == 'age':\n",
    "            return lambda: 19"
   ]
  },
  {
   "cell_type": "code",
   "execution_count": 33,
   "metadata": {},
   "outputs": [
    {
     "data": {
      "text/plain": [
       "'zhangsan'"
      ]
     },
     "execution_count": 33,
     "metadata": {},
     "output_type": "execute_result"
    }
   ],
   "source": [
    "s = Student()\n",
    "s.name"
   ]
  },
  {
   "cell_type": "code",
   "execution_count": 29,
   "metadata": {},
   "outputs": [
    {
     "data": {
      "text/plain": [
       "18"
      ]
     },
     "execution_count": 29,
     "metadata": {},
     "output_type": "execute_result"
    }
   ],
   "source": [
    "s.age"
   ]
  },
  {
   "cell_type": "code",
   "execution_count": 35,
   "metadata": {},
   "outputs": [
    {
     "data": {
      "text/plain": [
       "19"
      ]
     },
     "execution_count": 35,
     "metadata": {},
     "output_type": "execute_result"
    }
   ],
   "source": [
    "# __getattr__()可以返回函数，但是调用方式需要改变\n",
    "s.age()"
   ]
  },
  {
   "cell_type": "code",
   "execution_count": 38,
   "metadata": {},
   "outputs": [],
   "source": [
    "# 默认情况下，没有定义的属性会返回None\n",
    "s.abc"
   ]
  },
  {
   "cell_type": "code",
   "execution_count": 39,
   "metadata": {},
   "outputs": [],
   "source": [
    "# 需要在__getattr__中抛出异常\n",
    "class Student(object):\n",
    "\n",
    "    def __getattr__(self, attr):\n",
    "        if attr == 'age':\n",
    "            return lambda: 25\n",
    "        raise AttributeError(\"\\'Student \\' object has no attribute '%s'\" %\n",
    "                             attr)"
   ]
  },
  {
   "cell_type": "code",
   "execution_count": 40,
   "metadata": {},
   "outputs": [
    {
     "ename": "AttributeError",
     "evalue": "'Student ' object has no attribute 'abc'",
     "output_type": "error",
     "traceback": [
      "\u001b[0;31m---------------------------------------------------------------------------\u001b[0m",
      "\u001b[0;31mAttributeError\u001b[0m                            Traceback (most recent call last)",
      "Cell \u001b[0;32mIn[40], line 2\u001b[0m\n\u001b[1;32m      1\u001b[0m s \u001b[39m=\u001b[39m Student()\n\u001b[0;32m----> 2\u001b[0m s\u001b[39m.\u001b[39;49mabc\n",
      "Cell \u001b[0;32mIn[39], line 7\u001b[0m, in \u001b[0;36mStudent.__getattr__\u001b[0;34m(self, attr)\u001b[0m\n\u001b[1;32m      5\u001b[0m \u001b[39mif\u001b[39;00m attr \u001b[39m==\u001b[39m \u001b[39m'\u001b[39m\u001b[39mage\u001b[39m\u001b[39m'\u001b[39m:\n\u001b[1;32m      6\u001b[0m     \u001b[39mreturn\u001b[39;00m \u001b[39mlambda\u001b[39;00m: \u001b[39m25\u001b[39m\n\u001b[0;32m----> 7\u001b[0m \u001b[39mraise\u001b[39;00m \u001b[39mAttributeError\u001b[39;00m(\u001b[39m\"\u001b[39m\u001b[39m\\'\u001b[39;00m\u001b[39mStudent \u001b[39m\u001b[39m\\'\u001b[39;00m\u001b[39m object has no attribute \u001b[39m\u001b[39m'\u001b[39m\u001b[39m%s\u001b[39;00m\u001b[39m'\u001b[39m\u001b[39m\"\u001b[39m \u001b[39m%\u001b[39m\n\u001b[1;32m      8\u001b[0m                      attr)\n",
      "\u001b[0;31mAttributeError\u001b[0m: 'Student ' object has no attribute 'abc'"
     ]
    }
   ],
   "source": [
    "s = Student()\n",
    "s.abc"
   ]
  },
  {
   "cell_type": "code",
   "execution_count": 41,
   "metadata": {},
   "outputs": [],
   "source": [
    "# 通过完全动态的__getattr__方法可以实现一个链式调用\n",
    "class Chain(object):\n",
    "\n",
    "    def __init__(self, path=''):\n",
    "        self._path = path\n",
    "\n",
    "    def __getattr__(self, path):\n",
    "        return Chain(\"%s/%s\" % (self._path, path))\n",
    "\n",
    "    def __str__(self) -> str:\n",
    "        return self._path\n",
    "\n",
    "    __repr__ = __str__"
   ]
  },
  {
   "cell_type": "code",
   "execution_count": 42,
   "metadata": {},
   "outputs": [
    {
     "data": {
      "text/plain": [
       "/status/user/timeline/list"
      ]
     },
     "execution_count": 42,
     "metadata": {},
     "output_type": "execute_result"
    }
   ],
   "source": [
    "Chain().status.user.timeline.list"
   ]
  },
  {
   "cell_type": "code",
   "execution_count": 43,
   "metadata": {},
   "outputs": [],
   "source": [
    "# 这样无论根据api如何改变，sdk可以根据url实现动态调用"
   ]
  },
  {
   "cell_type": "code",
   "execution_count": 44,
   "metadata": {},
   "outputs": [
    {
     "data": {
      "text/plain": [
       "/java/spring/boot/starter/web/servlet/config/annotation/EnableWebMvc"
      ]
     },
     "execution_count": 44,
     "metadata": {},
     "output_type": "execute_result"
    }
   ],
   "source": [
    "Chain().java.spring.boot.starter.web.servlet.config.annotation.EnableWebMvc"
   ]
  },
  {
   "cell_type": "code",
   "execution_count": 51,
   "metadata": {},
   "outputs": [],
   "source": [
    "# 调用Github的api，GET /users/:user/repos\n",
    "# Chain().users(\"BanishedWay\").repos\n",
    "\n",
    "\n",
    "class Chain(object):\n",
    "\n",
    "    def __init__(self, path=''):\n",
    "        self._path = path\n",
    "\n",
    "    def __getattr__(self, path):\n",
    "        if path == \"users\":\n",
    "            return lambda name: Chain(\"/%s/:%s\" %\n",
    "                                      (name, name))  # 返回一个函数，该函数的返回值是Chain对象，\n",
    "        return Chain(\"%s/%s\" % (self._path, path))\n",
    "\n",
    "    def __str__(self) -> str:\n",
    "        return self._path\n",
    "\n",
    "    __repr__ = __str__"
   ]
  },
  {
   "cell_type": "code",
   "execution_count": 53,
   "metadata": {},
   "outputs": [
    {
     "data": {
      "text/plain": [
       "/BanishedWay/:BanishedWay/repos"
      ]
     },
     "execution_count": 53,
     "metadata": {},
     "output_type": "execute_result"
    }
   ],
   "source": [
    "Chain().users(\"BanishedWay\").repos\n",
    "# 1. 调用Chain().__getattr__(\"users\")\n",
    "# 2. 返回Chain对象，path为\"/BanishedWay/:BanishedWay\"\n",
    "# 3. 返回Chain对象，path为\"/BanishedWay/:BanishedWay/repos\"\n",
    "# 4. 调用__repr__方法，输出self.path"
   ]
  },
  {
   "cell_type": "code",
   "execution_count": 54,
   "metadata": {},
   "outputs": [],
   "source": [
    "# __call__ 方法是可以对实例本身进行调用\n",
    "class Student(object):\n",
    "\n",
    "    def __init__(self, name):\n",
    "        self.name = name\n",
    "\n",
    "    def __call__(self):\n",
    "        print('My name is %s.' % self.name)"
   ]
  },
  {
   "cell_type": "code",
   "execution_count": 55,
   "metadata": {},
   "outputs": [
    {
     "name": "stdout",
     "output_type": "stream",
     "text": [
      "My name is Java.\n"
     ]
    }
   ],
   "source": [
    "s = Student(\"Java\")\n",
    "s()"
   ]
  },
  {
   "cell_type": "code",
   "execution_count": 56,
   "metadata": {},
   "outputs": [
    {
     "data": {
      "text/plain": [
       "True"
      ]
     },
     "execution_count": 56,
     "metadata": {},
     "output_type": "execute_result"
    }
   ],
   "source": [
    "# __call__还可以定义参数\n",
    "# 可以使用callable()判断一个对象是否能被调用\n",
    "callable(s)"
   ]
  },
  {
   "cell_type": "code",
   "execution_count": 57,
   "metadata": {},
   "outputs": [
    {
     "data": {
      "text/plain": [
       "False"
      ]
     },
     "execution_count": 57,
     "metadata": {},
     "output_type": "execute_result"
    }
   ],
   "source": [
    "callable(\"str\")"
   ]
  },
  {
   "cell_type": "code",
   "execution_count": 62,
   "metadata": {},
   "outputs": [],
   "source": [
    "# 使用__call__实现github api调用\n",
    "class Chain(object):\n",
    "\n",
    "    def __init__(self, path=''):\n",
    "        self._path = path\n",
    "\n",
    "    def __getattr__(self, path):\n",
    "        return Chain(\"%s/%s\" % (self._path, path))\n",
    "\n",
    "    def __call__(self, *args, **kwargs):\n",
    "        return Chain(\"%s/:%s\" % (self._path, args[0]))\n",
    "\n",
    "    def __str__(self) -> str:\n",
    "        return self._path\n",
    "\n",
    "    __repr__ = __str__"
   ]
  },
  {
   "cell_type": "code",
   "execution_count": 63,
   "metadata": {},
   "outputs": [
    {
     "data": {
      "text/plain": [
       "/users/:Michael/repos"
      ]
     },
     "execution_count": 63,
     "metadata": {},
     "output_type": "execute_result"
    }
   ],
   "source": [
    "Chain().users(\"Michael\").repos"
   ]
  },
  {
   "cell_type": "code",
   "execution_count": 1,
   "metadata": {},
   "outputs": [],
   "source": [
    "# 调用过程如下：\n",
    "# 1. Chain().users返回一个Chain(\"/user\")对象\n",
    "# 2. Chain().users(\"Michael\") == Chain(\"/users\")(\"Michael\")，相当于调用了Chain(\"/users\").__call__(\"Michael\")"
   ]
  },
  {
   "attachments": {},
   "cell_type": "markdown",
   "metadata": {},
   "source": [
    "使用枚举类"
   ]
  },
  {
   "cell_type": "code",
   "execution_count": 1,
   "metadata": {},
   "outputs": [],
   "source": [
    "# 使用常量时，一个办法是用大写变量通过整数来定义，但是这种类型仍然是变量\n",
    "# 可以为这样的枚举类型定义一个class类型，然后每个常量都是class的一个唯一实例"
   ]
  },
  {
   "cell_type": "code",
   "execution_count": 3,
   "metadata": {},
   "outputs": [
    {
     "name": "stdout",
     "output_type": "stream",
     "text": [
      "Jan => Month.Jan , 1\n",
      "Feb => Month.Feb , 2\n",
      "Mar => Month.Mar , 3\n",
      "Apr => Month.Apr , 4\n",
      "May => Month.May , 5\n",
      "Jun => Month.Jun , 6\n",
      "Jul => Month.Jul , 7\n",
      "Aug => Month.Aug , 8\n",
      "Sep => Month.Sep , 9\n",
      "Oct => Month.Oct , 10\n",
      "Nov => Month.Nov , 11\n",
      "Dec => Month.Dec , 12\n"
     ]
    }
   ],
   "source": [
    "# Python定义了Enum类，可以实现这个功能\n",
    "from enum import Enum\n",
    "\n",
    "Month = Enum('Month', ('Jan', 'Feb', 'Mar', 'Apr', 'May', 'Jun', 'Jul', 'Aug',\n",
    "                       'Sep', 'Oct', 'Nov', 'Dec'))\n",
    "# 可以直接使用Month.Jan来引用一个常量\n",
    "for name, member in Month.__members__.items():\n",
    "    print(name, \"=>\", member, \",\", member.value)"
   ]
  },
  {
   "cell_type": "code",
   "execution_count": 4,
   "metadata": {},
   "outputs": [],
   "source": [
    "# value是自动赋给成员的int变量，默认从1开始\n",
    "# 为了更精确地控制枚举类型，可以从Enum派生类"
   ]
  },
  {
   "cell_type": "code",
   "execution_count": 5,
   "metadata": {},
   "outputs": [],
   "source": [
    "from enum import Enum, unique\n",
    "\n",
    "\n",
    "@unique  # 检查没有重复值\n",
    "class WeekDay(Enum):\n",
    "    Sun = 0\n",
    "    Mon = 1\n",
    "    Tue = 2\n",
    "    Wed = 3\n",
    "    Thu = 4\n",
    "    Fri = 5\n",
    "    Sat = 6"
   ]
  },
  {
   "cell_type": "code",
   "execution_count": 7,
   "metadata": {},
   "outputs": [
    {
     "name": "stdout",
     "output_type": "stream",
     "text": [
      "WeekDay.Mon\n"
     ]
    }
   ],
   "source": [
    "day1 = WeekDay.Mon\n",
    "print(day1)"
   ]
  },
  {
   "cell_type": "code",
   "execution_count": 8,
   "metadata": {},
   "outputs": [
    {
     "name": "stdout",
     "output_type": "stream",
     "text": [
      "WeekDay.Tue\n"
     ]
    }
   ],
   "source": [
    "print(WeekDay[\"Tue\"])"
   ]
  },
  {
   "cell_type": "code",
   "execution_count": 9,
   "metadata": {},
   "outputs": [
    {
     "name": "stdout",
     "output_type": "stream",
     "text": [
      "5\n"
     ]
    }
   ],
   "source": [
    "print(WeekDay.Fri.value)"
   ]
  },
  {
   "cell_type": "code",
   "execution_count": 10,
   "metadata": {},
   "outputs": [
    {
     "name": "stdout",
     "output_type": "stream",
     "text": [
      "WeekDay.Mon\n"
     ]
    }
   ],
   "source": [
    "print(WeekDay(1))"
   ]
  },
  {
   "cell_type": "code",
   "execution_count": 14,
   "metadata": {},
   "outputs": [],
   "source": [
    "from enum import Enum, unique\n",
    "\n",
    "\n",
    "class Gender(Enum):\n",
    "    Male = 0\n",
    "    Female = 1\n",
    "\n",
    "\n",
    "class Student(object):\n",
    "\n",
    "    def __init__(self, name, gender):\n",
    "        self.name = name\n",
    "        if isinstance(gender, Gender):\n",
    "            self._gender = gender\n",
    "        else:\n",
    "            raise (\"BadValueError\")\n",
    "\n",
    "    @property\n",
    "    def gender(self):\n",
    "        return self._gender\n",
    "\n",
    "    @gender.setter\n",
    "    def gender(self, value):\n",
    "        if isinstance(value, Gender):\n",
    "            self._gender = value"
   ]
  },
  {
   "cell_type": "code",
   "execution_count": 15,
   "metadata": {},
   "outputs": [
    {
     "name": "stdout",
     "output_type": "stream",
     "text": [
      "测试通过!\n"
     ]
    }
   ],
   "source": [
    "# 测试:\n",
    "bart = Student('Bart', Gender.Male)\n",
    "if bart.gender == Gender.Male:\n",
    "    print('测试通过!')\n",
    "else:\n",
    "    print('测试失败!')"
   ]
  },
  {
   "cell_type": "code",
   "execution_count": 17,
   "metadata": {},
   "outputs": [
    {
     "data": {
      "text/plain": [
       "<enum 'Gender'>"
      ]
     },
     "execution_count": 17,
     "metadata": {},
     "output_type": "execute_result"
    }
   ],
   "source": [
    "type(Gender.Female)"
   ]
  },
  {
   "attachments": {},
   "cell_type": "markdown",
   "metadata": {},
   "source": [
    "元类"
   ]
  },
  {
   "cell_type": "code",
   "execution_count": 20,
   "metadata": {},
   "outputs": [],
   "source": [
    "# 动态语言和静态语言最大的不同在于，函数和类的定义不是编译时确定，而是运行时动态创建的\n",
    "# 创建class的方法就是使用type()函数\n",
    "def fn(self, name=\"world\"):\n",
    "    print(\"Hello, %s\" % name)\n",
    "\n",
    "\n",
    "Hello = type(\"Hello\", (object, ), dict(hello=fn))"
   ]
  },
  {
   "cell_type": "code",
   "execution_count": 21,
   "metadata": {},
   "outputs": [],
   "source": [
    "h = Hello()"
   ]
  },
  {
   "cell_type": "code",
   "execution_count": 22,
   "metadata": {},
   "outputs": [
    {
     "name": "stdout",
     "output_type": "stream",
     "text": [
      "Hello, world\n"
     ]
    }
   ],
   "source": [
    "h.hello()"
   ]
  },
  {
   "cell_type": "code",
   "execution_count": 23,
   "metadata": {},
   "outputs": [
    {
     "data": {
      "text/plain": [
       "__main__.Hello"
      ]
     },
     "execution_count": 23,
     "metadata": {},
     "output_type": "execute_result"
    }
   ],
   "source": [
    "type(h)"
   ]
  },
  {
   "cell_type": "code",
   "execution_count": 24,
   "metadata": {},
   "outputs": [],
   "source": [
    "# type()创建类的三个参数，class的名称，继承的父类集合，class的方法名称与函数绑定"
   ]
  },
  {
   "cell_type": "code",
   "execution_count": 25,
   "metadata": {},
   "outputs": [],
   "source": [
    "# metaclass元类\n",
    "# 定义了类，就可以创建实例，定义了元类，就可以创建类\n",
    "# metaclass允许你创建类或修改类，可以把类看作metaclass创建的实例"
   ]
  },
  {
   "cell_type": "code",
   "execution_count": 28,
   "metadata": {},
   "outputs": [],
   "source": [
    "# 使用metaclass增加一个方法\n",
    "# metaclass是类的模板，必须使用type()创建\n",
    "class ListMetaclass(type):\n",
    "\n",
    "    def __new__(cls, name, bases, attrs):\n",
    "        attrs[\"add\"] = lambda self, value: self.append(value)\n",
    "        return type.__new__(cls, name, bases, attrs)"
   ]
  },
  {
   "cell_type": "code",
   "execution_count": 30,
   "metadata": {},
   "outputs": [],
   "source": [
    "class MyList(list, metaclass=ListMetaclass):\n",
    "    pass"
   ]
  },
  {
   "cell_type": "code",
   "execution_count": 31,
   "metadata": {},
   "outputs": [],
   "source": [
    "# 在传入关键字metaclass时，指示python解释器在创建MyList时，要通过ListMetaclass.__new__()来创建\n",
    "# __new__()接收的参数：1. 当前准备创建类的对象；2. 类的名字；3. 类的父类；4. 类的方法集合"
   ]
  },
  {
   "cell_type": "code",
   "execution_count": 32,
   "metadata": {},
   "outputs": [],
   "source": [
    "L = MyList()\n",
    "L.add(1)"
   ]
  },
  {
   "cell_type": "code",
   "execution_count": 33,
   "metadata": {},
   "outputs": [
    {
     "data": {
      "text/plain": [
       "[1]"
      ]
     },
     "execution_count": 33,
     "metadata": {},
     "output_type": "execute_result"
    }
   ],
   "source": [
    "L"
   ]
  },
  {
   "cell_type": "code",
   "execution_count": 34,
   "metadata": {},
   "outputs": [],
   "source": [
    "# 在一般情况下不需要使用元类，但是在ORM框架中，所有类都只能动态定义，因为只有使用者才能根据表的结构定义出对应的类"
   ]
  },
  {
   "cell_type": "code",
   "execution_count": 35,
   "metadata": {},
   "outputs": [],
   "source": [
    "class Field(object):\n",
    "\n",
    "    def __init__(self, name, column_type):\n",
    "        self.name = name\n",
    "        self.column_type = column_type\n",
    "\n",
    "    def __str__(self):\n",
    "        return '<%s:%s>' % (self.__class__.__name__, self.name)"
   ]
  },
  {
   "cell_type": "code",
   "execution_count": 36,
   "metadata": {},
   "outputs": [],
   "source": [
    "class StringField(Field):\n",
    "\n",
    "    def __init__(self, name):\n",
    "        super(StringField, self).__init__(name, 'varchar(100)')\n",
    "\n",
    "\n",
    "class IntegerField(Field):\n",
    "\n",
    "    def __init__(self, name):\n",
    "        super(IntegerField, self).__init__(name, 'bigint')"
   ]
  },
  {
   "cell_type": "code",
   "execution_count": null,
   "metadata": {},
   "outputs": [],
   "source": [
    "# ORM暂时不写，看不明白"
   ]
  },
  {
   "attachments": {},
   "cell_type": "markdown",
   "metadata": {},
   "source": [
    "# 错误、调试和测试"
   ]
  },
  {
   "attachments": {},
   "cell_type": "markdown",
   "metadata": {},
   "source": [
    "错误处理"
   ]
  },
  {
   "cell_type": "code",
   "execution_count": 1,
   "metadata": {},
   "outputs": [],
   "source": [
    "# 在程序运行过程中，如果出现错误，可以事先约定返回一个错误代码，这样可以知道出错原因\n",
    "# 但是使用错误代码容易和其他代码重合出现错误，所以使用try...except...finally...的错误处理机制"
   ]
  },
  {
   "cell_type": "code",
   "execution_count": 2,
   "metadata": {},
   "outputs": [
    {
     "name": "stdout",
     "output_type": "stream",
     "text": [
      "try......\n",
      "ZeroDivisionError:  division by zero\n",
      "finally......\n",
      "end\n"
     ]
    }
   ],
   "source": [
    "# 当我们认为某些代码可能出现错误时，可以用try来运行这段代码，如果出错，则不会执行后续代码，而是转到except语句块，执行except语句块中的代码。执行完毕后，如果存在finally语句块，则会执行finally语句块中的代码。\n",
    "# 如果没有错误，则不会执行except，但是finally一定会被执行\n",
    "# 出现不同的错误，也会由不同的except执行，一个try可以跟多个except\n",
    "try:\n",
    "    print(\"try......\")\n",
    "    r = 10 / int(\"0\")\n",
    "    print(\"result: \", r)\n",
    "except ValueError as e:\n",
    "    print(\"ValueError: \", e)\n",
    "except ZeroDivisionError as e:\n",
    "    print(\"ZeroDivisionError: \", e)\n",
    "finally:\n",
    "    print(\"finally......\")\n",
    "print(\"end\")"
   ]
  },
  {
   "cell_type": "code",
   "execution_count": 1,
   "metadata": {},
   "outputs": [],
   "source": [
    "# 如果没有错误发生，可以在except后面添加else语句，没有错误发生时会自动指向else语句"
   ]
  },
  {
   "cell_type": "code",
   "execution_count": 2,
   "metadata": {},
   "outputs": [
    {
     "name": "stdout",
     "output_type": "stream",
     "text": [
      "try...\n",
      "result: 5.0\n",
      "no error!\n",
      "finally...\n",
      "END\n"
     ]
    }
   ],
   "source": [
    "try:\n",
    "    print('try...')\n",
    "    r = 10 / int('2')\n",
    "    print('result:', r)\n",
    "except ValueError as e:\n",
    "    print('ValueError:', e)\n",
    "except ZeroDivisionError as e:\n",
    "    print('ZeroDivisionError:', e)\n",
    "else:\n",
    "    print('no error!')\n",
    "finally:\n",
    "    print('finally...')\n",
    "print('END')"
   ]
  },
  {
   "cell_type": "code",
   "execution_count": 3,
   "metadata": {},
   "outputs": [
    {
     "ename": "NameError",
     "evalue": "name 'foo' is not defined",
     "output_type": "error",
     "traceback": [
      "\u001b[0;31m---------------------------------------------------------------------------\u001b[0m",
      "\u001b[0;31mNameError\u001b[0m                                 Traceback (most recent call last)",
      "Cell \u001b[0;32mIn[3], line 3\u001b[0m\n\u001b[1;32m      1\u001b[0m \u001b[39m# Python的错误也是class，所有的错误继承自BaseException，在使用except语句时，不但捕获该类型的错误，还把其子类也一网打尽\u001b[39;00m\n\u001b[1;32m      2\u001b[0m \u001b[39mtry\u001b[39;00m:\n\u001b[0;32m----> 3\u001b[0m     foo()\n\u001b[1;32m      4\u001b[0m \u001b[39mexcept\u001b[39;00m \u001b[39mValueError\u001b[39;00m \u001b[39mas\u001b[39;00m e:\n\u001b[1;32m      5\u001b[0m     \u001b[39mprint\u001b[39m(\u001b[39m'\u001b[39m\u001b[39mValueError\u001b[39m\u001b[39m'\u001b[39m)\n",
      "\u001b[0;31mNameError\u001b[0m: name 'foo' is not defined"
     ]
    }
   ],
   "source": [
    "# Python的错误也是class，所有的错误继承自BaseException，在使用except语句时，不但捕获该类型的错误，还把其子类也一网打尽\n",
    "try:\n",
    "    foo()\n",
    "except ValueError as e:\n",
    "    print('ValueError')\n",
    "except UnicodeError as e:\n",
    "    print('UnicodeError')\n",
    "\n",
    "# 第二个永远不会被捕获，因为UnicodeError是子类，也会被ValueError捕获"
   ]
  },
  {
   "cell_type": "code",
   "execution_count": 4,
   "metadata": {},
   "outputs": [],
   "source": [
    "# 使用try-except后可以跨越多层调用，比如main()调用bar()，bar()调用foo()，foo()出现错误，main()捕获到了就可以处理\n",
    "def foo(s):\n",
    "    return 10 / int(s)\n",
    "\n",
    "\n",
    "def bar(s):\n",
    "    return foo(s) * 2\n",
    "\n",
    "\n",
    "def main():\n",
    "    try:\n",
    "        bar('0')\n",
    "    except Exception as e:\n",
    "        print('Error:', e)\n",
    "    finally:\n",
    "        print('finally...')"
   ]
  },
  {
   "cell_type": "code",
   "execution_count": 5,
   "metadata": {},
   "outputs": [
    {
     "name": "stdout",
     "output_type": "stream",
     "text": [
      "Error: division by zero\n",
      "finally...\n"
     ]
    }
   ],
   "source": [
    "main()"
   ]
  },
  {
   "cell_type": "code",
   "execution_count": 6,
   "metadata": {},
   "outputs": [],
   "source": [
    "# 这样的话就不需要每个可能的地方都去捕获错误，只需要在合适的层次区捕获，减少了重复代码的编写"
   ]
  },
  {
   "cell_type": "code",
   "execution_count": 7,
   "metadata": {},
   "outputs": [],
   "source": [
    "# 调用栈"
   ]
  },
  {
   "cell_type": "code",
   "execution_count": 8,
   "metadata": {},
   "outputs": [
    {
     "ename": "ZeroDivisionError",
     "evalue": "division by zero",
     "output_type": "error",
     "traceback": [
      "\u001b[0;31m---------------------------------------------------------------------------\u001b[0m",
      "\u001b[0;31mZeroDivisionError\u001b[0m                         Traceback (most recent call last)",
      "Cell \u001b[0;32mIn[8], line 14\u001b[0m\n\u001b[1;32m     10\u001b[0m \u001b[39mdef\u001b[39;00m \u001b[39mmain\u001b[39m():\n\u001b[1;32m     11\u001b[0m     bar(\u001b[39m\"\u001b[39m\u001b[39m0\u001b[39m\u001b[39m\"\u001b[39m)\n\u001b[0;32m---> 14\u001b[0m main()\n",
      "Cell \u001b[0;32mIn[8], line 11\u001b[0m, in \u001b[0;36mmain\u001b[0;34m()\u001b[0m\n\u001b[1;32m     10\u001b[0m \u001b[39mdef\u001b[39;00m \u001b[39mmain\u001b[39m():\n\u001b[0;32m---> 11\u001b[0m     bar(\u001b[39m\"\u001b[39;49m\u001b[39m0\u001b[39;49m\u001b[39m\"\u001b[39;49m)\n",
      "Cell \u001b[0;32mIn[8], line 7\u001b[0m, in \u001b[0;36mbar\u001b[0;34m(s)\u001b[0m\n\u001b[1;32m      6\u001b[0m \u001b[39mdef\u001b[39;00m \u001b[39mbar\u001b[39m(s):\n\u001b[0;32m----> 7\u001b[0m     \u001b[39mreturn\u001b[39;00m foo(s) \u001b[39m*\u001b[39m \u001b[39m2\u001b[39m\n",
      "Cell \u001b[0;32mIn[8], line 3\u001b[0m, in \u001b[0;36mfoo\u001b[0;34m(s)\u001b[0m\n\u001b[1;32m      2\u001b[0m \u001b[39mdef\u001b[39;00m \u001b[39mfoo\u001b[39m(s):\n\u001b[0;32m----> 3\u001b[0m     \u001b[39mreturn\u001b[39;00m \u001b[39m10\u001b[39;49m \u001b[39m/\u001b[39;49m \u001b[39mint\u001b[39;49m(s)\n",
      "\u001b[0;31mZeroDivisionError\u001b[0m: division by zero"
     ]
    }
   ],
   "source": [
    "# 如果错误没有被捕获，就会一直向上抛，最后被Python解释器捕获，打印一个错误信息，然后退出程序\n",
    "def foo(s):\n",
    "    return 10 / int(s)\n",
    "\n",
    "\n",
    "def bar(s):\n",
    "    return foo(s) * 2\n",
    "\n",
    "\n",
    "def main():\n",
    "    bar(\"0\")\n",
    "\n",
    "\n",
    "main()"
   ]
  },
  {
   "cell_type": "code",
   "execution_count": 9,
   "metadata": {},
   "outputs": [
    {
     "name": "stderr",
     "output_type": "stream",
     "text": [
      "ERROR:root:division by zero\n",
      "Traceback (most recent call last):\n",
      "  File \"/tmp/ipykernel_1370657/1511788476.py\", line 17, in main\n",
      "    bar(\"0\")\n",
      "  File \"/tmp/ipykernel_1370657/1511788476.py\", line 12, in bar\n",
      "    return foo(s) * 2\n",
      "  File \"/tmp/ipykernel_1370657/1511788476.py\", line 8, in foo\n",
      "    return 10 / int(s)\n",
      "ZeroDivisionError: division by zero\n"
     ]
    }
   ],
   "source": [
    "# 记录错误\n",
    "# 不捕获错误的话，可以把错误堆栈打印出来\n",
    "\n",
    "import logging\n",
    "\n",
    "\n",
    "def foo(s):\n",
    "    return 10 / int(s)\n",
    "\n",
    "\n",
    "def bar(s):\n",
    "    return foo(s) * 2\n",
    "\n",
    "\n",
    "def main():\n",
    "    try:\n",
    "        bar(\"0\")\n",
    "    except Exception as e:\n",
    "        logging.exception(e)\n",
    "\n",
    "\n",
    "main()"
   ]
  },
  {
   "cell_type": "code",
   "execution_count": 10,
   "metadata": {},
   "outputs": [],
   "source": [
    "# 抛出错误"
   ]
  },
  {
   "cell_type": "code",
   "execution_count": 11,
   "metadata": {},
   "outputs": [
    {
     "ename": "FooError",
     "evalue": "invalid value: 0",
     "output_type": "error",
     "traceback": [
      "\u001b[0;31m---------------------------------------------------------------------------\u001b[0m",
      "\u001b[0;31mFooError\u001b[0m                                  Traceback (most recent call last)",
      "Cell \u001b[0;32mIn[11], line 16\u001b[0m\n\u001b[1;32m     12\u001b[0m         \u001b[39mraise\u001b[39;00m FooError(\u001b[39m\"\u001b[39m\u001b[39minvalid value: \u001b[39m\u001b[39m%s\u001b[39;00m\u001b[39m\"\u001b[39m \u001b[39m%\u001b[39m s)\n\u001b[1;32m     13\u001b[0m     \u001b[39mreturn\u001b[39;00m \u001b[39m10\u001b[39m \u001b[39m/\u001b[39m n\n\u001b[0;32m---> 16\u001b[0m foo(\u001b[39m\"\u001b[39;49m\u001b[39m0\u001b[39;49m\u001b[39m\"\u001b[39;49m)\n",
      "Cell \u001b[0;32mIn[11], line 12\u001b[0m, in \u001b[0;36mfoo\u001b[0;34m(s)\u001b[0m\n\u001b[1;32m     10\u001b[0m n \u001b[39m=\u001b[39m \u001b[39mint\u001b[39m(s)\n\u001b[1;32m     11\u001b[0m \u001b[39mif\u001b[39;00m n \u001b[39m==\u001b[39m \u001b[39m0\u001b[39m:\n\u001b[0;32m---> 12\u001b[0m     \u001b[39mraise\u001b[39;00m FooError(\u001b[39m\"\u001b[39m\u001b[39minvalid value: \u001b[39m\u001b[39m%s\u001b[39;00m\u001b[39m\"\u001b[39m \u001b[39m%\u001b[39m s)\n\u001b[1;32m     13\u001b[0m \u001b[39mreturn\u001b[39;00m \u001b[39m10\u001b[39m \u001b[39m/\u001b[39m n\n",
      "\u001b[0;31mFooError\u001b[0m: invalid value: 0"
     ]
    }
   ],
   "source": [
    "# 错误时class，捕获一个错误就是捕获该class的一个实例，错误是有意创建并抛出的\n",
    "# 抛出错误，首先根据需要定义一个错误的class，选择基础关系，然后，用raise抛出一个错误的实例\n",
    "\n",
    "\n",
    "class FooError(ValueError):\n",
    "    pass\n",
    "\n",
    "\n",
    "def foo(s):\n",
    "    n = int(s)\n",
    "    if n == 0:\n",
    "        raise FooError(\"invalid value: %s\" % s)\n",
    "    return 10 / n\n",
    "\n",
    "\n",
    "foo(\"0\")"
   ]
  },
  {
   "cell_type": "code",
   "execution_count": 1,
   "metadata": {},
   "outputs": [
    {
     "name": "stdout",
     "output_type": "stream",
     "text": [
      "ValueError\n"
     ]
    },
    {
     "ename": "ValueError",
     "evalue": "invalid value: 0",
     "output_type": "error",
     "traceback": [
      "\u001b[0;31m---------------------------------------------------------------------------\u001b[0m",
      "\u001b[0;31mValueError\u001b[0m                                Traceback (most recent call last)",
      "Cell \u001b[0;32mIn[1], line 17\u001b[0m\n\u001b[1;32m     13\u001b[0m         \u001b[39mprint\u001b[39m(\u001b[39m\"\u001b[39m\u001b[39mValueError\u001b[39m\u001b[39m\"\u001b[39m)\n\u001b[1;32m     14\u001b[0m         \u001b[39mraise\u001b[39;00m\n\u001b[0;32m---> 17\u001b[0m bar()\n",
      "Cell \u001b[0;32mIn[1], line 11\u001b[0m, in \u001b[0;36mbar\u001b[0;34m()\u001b[0m\n\u001b[1;32m      9\u001b[0m \u001b[39mdef\u001b[39;00m \u001b[39mbar\u001b[39m():\n\u001b[1;32m     10\u001b[0m     \u001b[39mtry\u001b[39;00m:\n\u001b[0;32m---> 11\u001b[0m         foo(\u001b[39m\"\u001b[39;49m\u001b[39m0\u001b[39;49m\u001b[39m\"\u001b[39;49m)\n\u001b[1;32m     12\u001b[0m     \u001b[39mexcept\u001b[39;00m \u001b[39mValueError\u001b[39;00m \u001b[39mas\u001b[39;00m e:\n\u001b[1;32m     13\u001b[0m         \u001b[39mprint\u001b[39m(\u001b[39m\"\u001b[39m\u001b[39mValueError\u001b[39m\u001b[39m\"\u001b[39m)\n",
      "Cell \u001b[0;32mIn[1], line 5\u001b[0m, in \u001b[0;36mfoo\u001b[0;34m(s)\u001b[0m\n\u001b[1;32m      3\u001b[0m n \u001b[39m=\u001b[39m \u001b[39mint\u001b[39m(s)\n\u001b[1;32m      4\u001b[0m \u001b[39mif\u001b[39;00m n \u001b[39m==\u001b[39m \u001b[39m0\u001b[39m:\n\u001b[0;32m----> 5\u001b[0m     \u001b[39mraise\u001b[39;00m \u001b[39mValueError\u001b[39;00m(\u001b[39m'\u001b[39m\u001b[39minvalid value: \u001b[39m\u001b[39m%s\u001b[39;00m\u001b[39m'\u001b[39m \u001b[39m%\u001b[39m s)\n\u001b[1;32m      6\u001b[0m \u001b[39mreturn\u001b[39;00m \u001b[39m10\u001b[39m \u001b[39m/\u001b[39m n\n",
      "\u001b[0;31mValueError\u001b[0m: invalid value: 0"
     ]
    }
   ],
   "source": [
    "# 另一种处理错误的方式是在捕获之后，将错误继续抛出给上层来处理\n",
    "def foo(s):\n",
    "    n = int(s)\n",
    "    if n == 0:\n",
    "        raise ValueError('invalid value: %s' % s)\n",
    "    return 10 / n\n",
    "\n",
    "\n",
    "def bar():\n",
    "    try:\n",
    "        foo(\"0\")\n",
    "    except ValueError as e:\n",
    "        print(\"ValueError\")\n",
    "        raise\n",
    "\n",
    "\n",
    "bar()"
   ]
  },
  {
   "cell_type": "code",
   "execution_count": 2,
   "metadata": {},
   "outputs": [
    {
     "ename": "ValueError",
     "evalue": "除数不能为0",
     "output_type": "error",
     "traceback": [
      "\u001b[0;31m---------------------------------------------------------------------------\u001b[0m",
      "\u001b[0;31mZeroDivisionError\u001b[0m                         Traceback (most recent call last)",
      "Cell \u001b[0;32mIn[2], line 5\u001b[0m\n\u001b[1;32m      4\u001b[0m \u001b[39mtry\u001b[39;00m:\n\u001b[0;32m----> 5\u001b[0m     \u001b[39m10\u001b[39;49m \u001b[39m/\u001b[39;49m \u001b[39m0\u001b[39;49m\n\u001b[1;32m      6\u001b[0m \u001b[39mexcept\u001b[39;00m \u001b[39mZeroDivisionError\u001b[39;00m:\n",
      "\u001b[0;31mZeroDivisionError\u001b[0m: division by zero",
      "\nDuring handling of the above exception, another exception occurred:\n",
      "\u001b[0;31mValueError\u001b[0m                                Traceback (most recent call last)",
      "Cell \u001b[0;32mIn[2], line 7\u001b[0m\n\u001b[1;32m      5\u001b[0m     \u001b[39m10\u001b[39m \u001b[39m/\u001b[39m \u001b[39m0\u001b[39m\n\u001b[1;32m      6\u001b[0m \u001b[39mexcept\u001b[39;00m \u001b[39mZeroDivisionError\u001b[39;00m:\n\u001b[0;32m----> 7\u001b[0m     \u001b[39mraise\u001b[39;00m \u001b[39mValueError\u001b[39;00m(\u001b[39m\"\u001b[39m\u001b[39m除数不能为0\u001b[39m\u001b[39m\"\u001b[39m)\n",
      "\u001b[0;31mValueError\u001b[0m: 除数不能为0"
     ]
    }
   ],
   "source": [
    "# 因为捕获错误的目的知识记录，便于后续追踪，但是当前函数不知道如何处理，所以最恰当的方式就是继续上抛，让顶层调用者去处理\n",
    "# raise不带参数，就会把当前错误原样抛出\n",
    "# 在except中raise另一个error，会将一种类型的错误转化成另一种类型\n",
    "try:\n",
    "    10 / 0\n",
    "except ZeroDivisionError:\n",
    "    raise ValueError(\"除数不能为0\")"
   ]
  },
  {
   "cell_type": "code",
   "execution_count": 3,
   "metadata": {},
   "outputs": [],
   "source": [
    "# 但是必须符合转换逻辑，不能把IOError转化成不相干的ValueError"
   ]
  },
  {
   "cell_type": "code",
   "execution_count": 6,
   "metadata": {},
   "outputs": [
    {
     "name": "stdout",
     "output_type": "stream",
     "text": [
      "100 + 200 + 345 = 645\n",
      "99 + 88 + 7.6 = 194.6\n"
     ]
    }
   ],
   "source": [
    "from functools import reduce\n",
    "\n",
    "\n",
    "def str2num(s):\n",
    "    try:\n",
    "        return int(s)\n",
    "    except ValueError:\n",
    "        try:\n",
    "            return float(s)\n",
    "        except ValueError:\n",
    "            print(e, \"数据格式错误\")\n",
    "            return 0\n",
    "\n",
    "\n",
    "def calc(exp):\n",
    "    ss = exp.split('+')\n",
    "    ns = map(str2num, ss)\n",
    "    return reduce(lambda acc, x: acc + x, ns)\n",
    "\n",
    "\n",
    "def main():\n",
    "    r = calc('100 + 200 + 345')\n",
    "    print('100 + 200 + 345 =', r)\n",
    "    r = calc('99 + 88 + 7.6')\n",
    "    print('99 + 88 + 7.6 =', r)\n",
    "\n",
    "\n",
    "main()"
   ]
  },
  {
   "attachments": {},
   "cell_type": "markdown",
   "metadata": {},
   "source": [
    "调试"
   ]
  },
  {
   "cell_type": "code",
   "execution_count": 2,
   "metadata": {},
   "outputs": [
    {
     "name": "stdout",
     "output_type": "stream",
     "text": [
      ">>> n=0\n"
     ]
    },
    {
     "ename": "ZeroDivisionError",
     "evalue": "division by zero",
     "output_type": "error",
     "traceback": [
      "\u001b[0;31m---------------------------------------------------------------------------\u001b[0m",
      "\u001b[0;31mZeroDivisionError\u001b[0m                         Traceback (most recent call last)",
      "Cell \u001b[0;32mIn[2], line 11\u001b[0m\n\u001b[1;32m      8\u001b[0m \u001b[39mdef\u001b[39;00m \u001b[39mmain\u001b[39m():\n\u001b[1;32m      9\u001b[0m     foo(\u001b[39m\"\u001b[39m\u001b[39m0\u001b[39m\u001b[39m\"\u001b[39m)\n\u001b[0;32m---> 11\u001b[0m main()\n",
      "Cell \u001b[0;32mIn[2], line 9\u001b[0m, in \u001b[0;36mmain\u001b[0;34m()\u001b[0m\n\u001b[1;32m      8\u001b[0m \u001b[39mdef\u001b[39;00m \u001b[39mmain\u001b[39m():\n\u001b[0;32m----> 9\u001b[0m     foo(\u001b[39m\"\u001b[39;49m\u001b[39m0\u001b[39;49m\u001b[39m\"\u001b[39;49m)\n",
      "Cell \u001b[0;32mIn[2], line 5\u001b[0m, in \u001b[0;36mfoo\u001b[0;34m(s)\u001b[0m\n\u001b[1;32m      3\u001b[0m n \u001b[39m=\u001b[39m \u001b[39mint\u001b[39m(s)\n\u001b[1;32m      4\u001b[0m \u001b[39mprint\u001b[39m(\u001b[39m\"\u001b[39m\u001b[39m>>> n=\u001b[39m\u001b[39m%s\u001b[39;00m\u001b[39m\"\u001b[39m \u001b[39m%\u001b[39m n)\n\u001b[0;32m----> 5\u001b[0m \u001b[39mreturn\u001b[39;00m \u001b[39m10\u001b[39;49m \u001b[39m/\u001b[39;49m n\n",
      "\u001b[0;31mZeroDivisionError\u001b[0m: division by zero"
     ]
    }
   ],
   "source": [
    "# 最简单的方法就是把错误信息打印出来，但是坏处是最后还得将代码删除\n",
    "def foo(s):\n",
    "    n = int(s)\n",
    "    print(\">>> n=%s\" % n)\n",
    "    return 10 / n\n",
    "\n",
    "\n",
    "def main():\n",
    "    foo(\"0\")\n",
    "\n",
    "\n",
    "main()"
   ]
  },
  {
   "cell_type": "code",
   "execution_count": 3,
   "metadata": {},
   "outputs": [],
   "source": [
    "# 使用断言(assert)，凡是使用print()的地方都可以使用assert"
   ]
  },
  {
   "cell_type": "code",
   "execution_count": 4,
   "metadata": {},
   "outputs": [
    {
     "ename": "AssertionError",
     "evalue": "n is zero",
     "output_type": "error",
     "traceback": [
      "\u001b[0;31m---------------------------------------------------------------------------\u001b[0m",
      "\u001b[0;31mAssertionError\u001b[0m                            Traceback (most recent call last)",
      "Cell \u001b[0;32mIn[4], line 10\u001b[0m\n\u001b[1;32m      7\u001b[0m \u001b[39mdef\u001b[39;00m \u001b[39mmain\u001b[39m():\n\u001b[1;32m      8\u001b[0m     foo(\u001b[39m\"\u001b[39m\u001b[39m0\u001b[39m\u001b[39m\"\u001b[39m)\n\u001b[0;32m---> 10\u001b[0m main()\n",
      "Cell \u001b[0;32mIn[4], line 8\u001b[0m, in \u001b[0;36mmain\u001b[0;34m()\u001b[0m\n\u001b[1;32m      7\u001b[0m \u001b[39mdef\u001b[39;00m \u001b[39mmain\u001b[39m():\n\u001b[0;32m----> 8\u001b[0m     foo(\u001b[39m\"\u001b[39;49m\u001b[39m0\u001b[39;49m\u001b[39m\"\u001b[39;49m)\n",
      "Cell \u001b[0;32mIn[4], line 3\u001b[0m, in \u001b[0;36mfoo\u001b[0;34m(s)\u001b[0m\n\u001b[1;32m      1\u001b[0m \u001b[39mdef\u001b[39;00m \u001b[39mfoo\u001b[39m(s):\n\u001b[1;32m      2\u001b[0m     n \u001b[39m=\u001b[39m \u001b[39mint\u001b[39m(s)\n\u001b[0;32m----> 3\u001b[0m     \u001b[39massert\u001b[39;00m n \u001b[39m!=\u001b[39m \u001b[39m0\u001b[39m, \u001b[39m\"\u001b[39m\u001b[39mn is zero\u001b[39m\u001b[39m\"\u001b[39m\n\u001b[1;32m      4\u001b[0m     \u001b[39mreturn\u001b[39;00m \u001b[39m10\u001b[39m \u001b[39m/\u001b[39m n\n",
      "\u001b[0;31mAssertionError\u001b[0m: n is zero"
     ]
    }
   ],
   "source": [
    "def foo(s):\n",
    "    n = int(s)\n",
    "    assert n != 0, \"n is zero\"\n",
    "    return 10 / n\n",
    "\n",
    "\n",
    "def main():\n",
    "    foo(\"0\")\n",
    "\n",
    "\n",
    "main()"
   ]
  },
  {
   "cell_type": "code",
   "execution_count": 6,
   "metadata": {},
   "outputs": [],
   "source": [
    "# assert的意思是表达式n!=0应该是true，否则程序运行会报错，\n",
    "# 如果断言失败，则assert语句会抛出AssertionError异常\n",
    "# Python可以使用-O(大写字母O）参数关闭assert"
   ]
  },
  {
   "cell_type": "code",
   "execution_count": 2,
   "metadata": {},
   "outputs": [
    {
     "name": "stderr",
     "output_type": "stream",
     "text": [
      "INFO:root:n=0\n"
     ]
    },
    {
     "ename": "ZeroDivisionError",
     "evalue": "division by zero",
     "output_type": "error",
     "traceback": [
      "\u001b[0;31m---------------------------------------------------------------------------\u001b[0m",
      "\u001b[0;31mZeroDivisionError\u001b[0m                         Traceback (most recent call last)",
      "Cell \u001b[0;32mIn[2], line 8\u001b[0m\n\u001b[1;32m      6\u001b[0m n \u001b[39m=\u001b[39m \u001b[39mint\u001b[39m(s)\n\u001b[1;32m      7\u001b[0m logging\u001b[39m.\u001b[39minfo(\u001b[39m\"\u001b[39m\u001b[39mn=\u001b[39m\u001b[39m%d\u001b[39;00m\u001b[39m\"\u001b[39m \u001b[39m%\u001b[39m n)\n\u001b[0;32m----> 8\u001b[0m \u001b[39mprint\u001b[39m(\u001b[39m10\u001b[39;49m\u001b[39m/\u001b[39;49mn)\n",
      "\u001b[0;31mZeroDivisionError\u001b[0m: division by zero"
     ]
    }
   ],
   "source": [
    "# logging\n",
    "# 与assert相比，logging不会抛出错误，而且可以输出到文件，还需要添加一行代码\n",
    "import logging\n",
    "logging.basicConfig(level=logging.INFO)\n",
    "s = \"0\"\n",
    "n = int(s)\n",
    "logging.info(\"n=%d\" % n)\n",
    "print(10/n)"
   ]
  },
  {
   "cell_type": "code",
   "execution_count": 3,
   "metadata": {},
   "outputs": [],
   "source": [
    "# 在logging中，允许修改记录信息的级别，当指定级别与调用级别不同时，会调用的指令就不会生效"
   ]
  },
  {
   "cell_type": "code",
   "execution_count": 4,
   "metadata": {},
   "outputs": [],
   "source": [
    "# pdb，python的调试器，允许进行单步调试\n",
    "# 也可以使用ide进行调试"
   ]
  },
  {
   "attachments": {},
   "cell_type": "markdown",
   "metadata": {},
   "source": [
    "单元测试"
   ]
  },
  {
   "cell_type": "code",
   "execution_count": 1,
   "metadata": {},
   "outputs": [],
   "source": [
    "# 单元测试是对一个模块、一个函数或者一个类进行正确性检验的测试工作\n",
    "\"\"\"\n",
    "1. 输入正数\n",
    "2. 输入负数\n",
    "3. 输入0\n",
    "4. 输入非数值类型\n",
    "把上面的测试用例放到一个模块里，就是一个完整的单元测试\n",
    "\"\"\"\n",
    "# 以测试为基准的单元测试，可以保证在修改某些函数后，保证我们的修改没有对函数的功能造成影响\n",
    "# 编写一个Dict类，在dict的基础上，可以通过属性来访问\n",
    "\n",
    "\n",
    "class Dict(dict):\n",
    "    def __init__(self, **kw):\n",
    "        super().__init__(**kw)\n",
    "\n",
    "    def __getattr__(self, key):\n",
    "        try:\n",
    "            return self[key]\n",
    "        except KeyError:\n",
    "            raise AttributeError(r\"'Dict' object has no attribute '%s'\" % key)\n",
    "\n",
    "    def __setattr__(self, key, value):\n",
    "        self[key] = value"
   ]
  },
  {
   "cell_type": "code",
   "execution_count": null,
   "metadata": {},
   "outputs": [],
   "source": [
    "import unittest\n",
    "\n",
    "\n",
    "class TestDict(unittest.TestCase):  # test开头的是测试方法，运行时只会运行测试方法\n",
    "    def test_init(self):\n",
    "        d = Dict(a=1, b=\"test\")\n",
    "        self.assertEqual(d.a, 1)\n",
    "        self.assertEqual(d.b, \"test\")\n",
    "        self.assertTrue(isinstance(d, dict))  # 可以断言输出是否是我们所期待的输出\n",
    "\n",
    "    def test_key(self):\n",
    "        d = Dict()\n",
    "        d[\"key\"] = \"value\"\n",
    "        self.assertEqual(d.key, \"value\")\n",
    "\n",
    "    def test_attr(self):\n",
    "        d = Dict()\n",
    "        d.key = \"value\"\n",
    "        self.assertTrue(\"key\" in d)\n",
    "        self.assertEqual(d[\"key\"], \"value\")\n",
    "\n",
    "    def test_keyerror(self):\n",
    "        d = Dict()\n",
    "        with self.assertRaises(KeyError):\n",
    "            value = d[\"empty\"]  # 通过index访问不存在的key时，断言可以判断是否抛出异常\n",
    "\n",
    "    def test_attrerror(self):\n",
    "        d = Dict()\n",
    "        # 通过调用属性访问不存在的key，会抛出AttributeError\n",
    "        with self.assertRaises(AttributeError):\n",
    "            value = d.empty\n",
    "\n",
    "\n",
    "if __name__ == \"__main__\":\n",
    "    unittest.main()"
   ]
  },
  {
   "cell_type": "code",
   "execution_count": 4,
   "metadata": {},
   "outputs": [],
   "source": [
    "# 可以在单元测试中添加一个setUp和tearDown函数，在测试开始前执行，在测试结束后执行，方便提供单元测试的参数，这样就不需要重复相同的代码"
   ]
  },
  {
   "attachments": {},
   "cell_type": "markdown",
   "metadata": {},
   "source": [
    "文档测试"
   ]
  },
  {
   "cell_type": "code",
   "execution_count": 5,
   "metadata": {},
   "outputs": [],
   "source": [
    "# python中的文档可以由注释一键生成，这些注释的代码本身是可以运行的\n",
    "# 使用Python内置的文档测试(doctest)模块可以提取注释的代码并执行测试\n",
    "# doctest严格按照Python交互式命令行的输入和输出来判断测试结果是否正常。只有测试异常时，可以用...表示大段输出"
   ]
  },
  {
   "cell_type": "code",
   "execution_count": 7,
   "metadata": {},
   "outputs": [],
   "source": [
    "# 使用doctest测试Dict类\n",
    "class Dict(dict):\n",
    "    \"\"\"\n",
    "    Simple dict but also support access as x.y style.\n",
    "\n",
    "    >>> d1=Dict()\n",
    "    >>> d1[\"x\"]=100\n",
    "    >>> d1.x\n",
    "    100\n",
    "    >>> d1.y=200\n",
    "    >>> d1[\"y\"]\n",
    "    200\n",
    "    >>> d2=Dict(a=1,b=2,c=\"3\")\n",
    "    >>> d2.c\n",
    "    '3'\n",
    "    >>> d2[\"empty\"]\n",
    "    Traceback (most recent call last):\n",
    "      ...\n",
    "    KeyError: 'empty'\n",
    "    >>> d2.empty\n",
    "    Traceback (most recent call last):\n",
    "     ...\n",
    "    AttributeError: 'Dict' object has no attribute 'empty'\n",
    "    \"\"\"\n",
    "\n",
    "    def __init__(self, **kw):\n",
    "        super(Dict, self).__init__(**kw)\n",
    "\n",
    "    def __getattr__(self, key):\n",
    "        try:\n",
    "            return self[key]\n",
    "        except KeyError:\n",
    "            raise AttributeError(r\"'Dict' object has no attribute '%s'\" % key)\n",
    "\n",
    "    def __setattr__(self, key, value):\n",
    "        self[key] = value\n",
    "\n",
    "\n",
    "if __name__ == '__main__':\n",
    "    import doctest\n",
    "    doctest.testmod()\n",
    "\n",
    "# 文档测试的输出必须使用\"\\'\"单引号\n",
    "# 什么输出也没有表示编写正确"
   ]
  },
  {
   "cell_type": "code",
   "execution_count": 8,
   "metadata": {},
   "outputs": [],
   "source": [
    "# 在模块正常导入的情况下，可以直接使用\n",
    "# 只有直接运行文件才会执行doctest"
   ]
  },
  {
   "cell_type": "code",
   "execution_count": 11,
   "metadata": {},
   "outputs": [],
   "source": [
    "def fact(n):\n",
    "    '''\n",
    "    Calculate 1*2*...*n\n",
    "\n",
    "    >>> fact(1)\n",
    "    1\n",
    "    >>> fact(10)\n",
    "    3628800\n",
    "    >>> fact(-1)\n",
    "    Traceback (most recent call last):\n",
    "    ...\n",
    "    ValueError\n",
    "    '''\n",
    "    if n < 1:\n",
    "        raise ValueError()\n",
    "    if n == 1:\n",
    "        return 1\n",
    "    return n * fact(n - 1)\n",
    "\n",
    "\n",
    "if __name__ == '__main__':\n",
    "    import doctest\n",
    "    doctest.testmod()"
   ]
  },
  {
   "attachments": {},
   "cell_type": "markdown",
   "metadata": {},
   "source": [
    "# IO编程"
   ]
  },
  {
   "attachments": {},
   "cell_type": "markdown",
   "metadata": {},
   "source": [
    "文件读写"
   ]
  },
  {
   "cell_type": "code",
   "execution_count": 1,
   "metadata": {},
   "outputs": [
    {
     "ename": "FileNotFoundError",
     "evalue": "[Errno 2] No such file or directory: 'test.txt'",
     "output_type": "error",
     "traceback": [
      "\u001b[0;31m---------------------------------------------------------------------------\u001b[0m",
      "\u001b[0;31mFileNotFoundError\u001b[0m                         Traceback (most recent call last)",
      "Cell \u001b[0;32mIn[1], line 3\u001b[0m\n\u001b[1;32m      1\u001b[0m \u001b[39m# 现代操作系统不允许普通的程序操作硬盘，所以读写文件就是请求操作系统打开一个文件对象，然后通过操作系统提供的接口操作文件对象\u001b[39;00m\n\u001b[1;32m      2\u001b[0m \u001b[39m# 读文件\u001b[39;00m\n\u001b[0;32m----> 3\u001b[0m f \u001b[39m=\u001b[39m \u001b[39mopen\u001b[39;49m(\u001b[39m\"\u001b[39;49m\u001b[39mtest.txt\u001b[39;49m\u001b[39m\"\u001b[39;49m, \u001b[39m\"\u001b[39;49m\u001b[39mr\u001b[39;49m\u001b[39m\"\u001b[39;49m)  \u001b[39m# 文件不存在会抛出IOError异常\u001b[39;00m\n",
      "File \u001b[0;32m~/.local/lib/python3.10/site-packages/IPython/core/interactiveshell.py:284\u001b[0m, in \u001b[0;36m_modified_open\u001b[0;34m(file, *args, **kwargs)\u001b[0m\n\u001b[1;32m    277\u001b[0m \u001b[39mif\u001b[39;00m file \u001b[39min\u001b[39;00m {\u001b[39m0\u001b[39m, \u001b[39m1\u001b[39m, \u001b[39m2\u001b[39m}:\n\u001b[1;32m    278\u001b[0m     \u001b[39mraise\u001b[39;00m \u001b[39mValueError\u001b[39;00m(\n\u001b[1;32m    279\u001b[0m         \u001b[39mf\u001b[39m\u001b[39m\"\u001b[39m\u001b[39mIPython won\u001b[39m\u001b[39m'\u001b[39m\u001b[39mt let you open fd=\u001b[39m\u001b[39m{\u001b[39;00mfile\u001b[39m}\u001b[39;00m\u001b[39m by default \u001b[39m\u001b[39m\"\u001b[39m\n\u001b[1;32m    280\u001b[0m         \u001b[39m\"\u001b[39m\u001b[39mas it is likely to crash IPython. If you know what you are doing, \u001b[39m\u001b[39m\"\u001b[39m\n\u001b[1;32m    281\u001b[0m         \u001b[39m\"\u001b[39m\u001b[39myou can use builtins\u001b[39m\u001b[39m'\u001b[39m\u001b[39m open.\u001b[39m\u001b[39m\"\u001b[39m\n\u001b[1;32m    282\u001b[0m     )\n\u001b[0;32m--> 284\u001b[0m \u001b[39mreturn\u001b[39;00m io_open(file, \u001b[39m*\u001b[39;49margs, \u001b[39m*\u001b[39;49m\u001b[39m*\u001b[39;49mkwargs)\n",
      "\u001b[0;31mFileNotFoundError\u001b[0m: [Errno 2] No such file or directory: 'test.txt'"
     ]
    }
   ],
   "source": [
    "# 现代操作系统不允许普通的程序操作硬盘，所以读写文件就是请求操作系统打开一个文件对象，然后通过操作系统提供的接口操作文件对象\n",
    "# 读文件\n",
    "f = open(\"test.txt\", \"r\")  # 文件不存在会抛出IOError异常"
   ]
  },
  {
   "cell_type": "code",
   "execution_count": null,
   "metadata": {},
   "outputs": [],
   "source": [
    "# 文件打开成功后，使用read()方法可以一次读取文件的全部内容，用一个str对象表示\n",
    "f.read()"
   ]
  },
  {
   "cell_type": "code",
   "execution_count": null,
   "metadata": {},
   "outputs": [],
   "source": [
    "# 文件操作完毕后必须关闭文件\n",
    "f.close()"
   ]
  },
  {
   "cell_type": "code",
   "execution_count": 4,
   "metadata": {},
   "outputs": [],
   "source": [
    "# 在Python中，为了代码的简洁，使用with语句代替try...finally语句。不用调用f.close()方法关闭文件\n",
    "# 如果文件过大，可以使用read(size)方法一次读取size个字节的内容，readlines()方法一次读取整行，readlines()方法一次读取所有内容并按行返回list"
   ]
  },
  {
   "cell_type": "code",
   "execution_count": 5,
   "metadata": {},
   "outputs": [],
   "source": [
    "# file-like object\n",
    "# 像open函数返回的有read()方法的对象，在Python中统称为file-like object。这个不需要从特定类继承，只要写个read()方法就可以了。"
   ]
  },
  {
   "cell_type": "code",
   "execution_count": null,
   "metadata": {},
   "outputs": [],
   "source": [
    "# 二进制文件\n",
    "# 如果要读取二进制文件，需要用'rb'模式打开\n",
    "f = open(\"test.jpg\", \"rb\")\n",
    "f.read()"
   ]
  },
  {
   "cell_type": "code",
   "execution_count": 7,
   "metadata": {},
   "outputs": [],
   "source": [
    "# 字符编码\n",
    "# 如果读取非UTF-8编码的文件，需要传入encoding参数，如果遇到编码不规范的文件，还可以接收errors参数，表示遇到错误后如何处理"
   ]
  },
  {
   "cell_type": "code",
   "execution_count": 8,
   "metadata": {},
   "outputs": [],
   "source": [
    "# 写文件\n",
    "# 调用write()函数，以'w'模式写入会直接覆盖文件，以'a'模式以追加模式写入"
   ]
  },
  {
   "cell_type": "code",
   "execution_count": 9,
   "metadata": {},
   "outputs": [
    {
     "name": "stdout",
     "output_type": "stream",
     "text": [
      "A txt file for test\n"
     ]
    }
   ],
   "source": [
    "fpath = \"/home/ubuntu/documents/leetcode/test.txt\"\n",
    "\n",
    "with open(fpath, 'r') as f:\n",
    "    s = f.read()\n",
    "    print(s)"
   ]
  },
  {
   "attachments": {},
   "cell_type": "markdown",
   "metadata": {},
   "source": [
    "StringIO和BytesIO"
   ]
  },
  {
   "cell_type": "code",
   "execution_count": 10,
   "metadata": {},
   "outputs": [
    {
     "data": {
      "text/plain": [
       "11"
      ]
     },
     "execution_count": 10,
     "metadata": {},
     "output_type": "execute_result"
    }
   ],
   "source": [
    "# 在内存中读取时使用StringIO，如果把str写入StringIO，需要创建一个对象，然后像文件一样写入\n",
    "from io import StringIO\n",
    "f = StringIO()\n",
    "f.write('hello world')"
   ]
  },
  {
   "cell_type": "code",
   "execution_count": 11,
   "metadata": {},
   "outputs": [
    {
     "data": {
      "text/plain": [
       "1"
      ]
     },
     "execution_count": 11,
     "metadata": {},
     "output_type": "execute_result"
    }
   ],
   "source": [
    "f.write(\" \")"
   ]
  },
  {
   "cell_type": "code",
   "execution_count": 13,
   "metadata": {},
   "outputs": [
    {
     "data": {
      "text/plain": [
       "'hello world '"
      ]
     },
     "execution_count": 13,
     "metadata": {},
     "output_type": "execute_result"
    }
   ],
   "source": [
    "f.getvalue()  # 获取写入后的str"
   ]
  },
  {
   "cell_type": "code",
   "execution_count": 3,
   "metadata": {},
   "outputs": [
    {
     "name": "stdout",
     "output_type": "stream",
     "text": [
      "Hello!\n",
      "Hi!\n",
      "Goodebye!\n"
     ]
    }
   ],
   "source": [
    "# 可以用str初始化StringIO\n",
    "from io import StringIO\n",
    "f = StringIO('Hello!\\nHi!\\nGoodebye!')\n",
    "while True:\n",
    "    s = f.readline()\n",
    "    if s == '':\n",
    "        break\n",
    "    print(s.strip())"
   ]
  },
  {
   "cell_type": "code",
   "execution_count": 4,
   "metadata": {},
   "outputs": [
    {
     "data": {
      "text/plain": [
       "6"
      ]
     },
     "execution_count": 4,
     "metadata": {},
     "output_type": "execute_result"
    }
   ],
   "source": [
    "# BytesIO，用于操作二进制数据\n",
    "from io import BytesIO\n",
    "f = BytesIO()\n",
    "f.write(\"中文\".encode(\"utf-8\"))"
   ]
  },
  {
   "cell_type": "code",
   "execution_count": 5,
   "metadata": {},
   "outputs": [
    {
     "name": "stdout",
     "output_type": "stream",
     "text": [
      "b'\\xe4\\xb8\\xad\\xe6\\x96\\x87'\n"
     ]
    }
   ],
   "source": [
    "print(f.getvalue())"
   ]
  },
  {
   "attachments": {},
   "cell_type": "markdown",
   "metadata": {},
   "source": [
    "操作文件和目录"
   ]
  },
  {
   "cell_type": "code",
   "execution_count": 2,
   "metadata": {},
   "outputs": [
    {
     "data": {
      "text/plain": [
       "'posix'"
      ]
     },
     "execution_count": 2,
     "metadata": {},
     "output_type": "execute_result"
    }
   ],
   "source": [
    "# 操作文件、目录，可以调用os模块提供的接口函数\n",
    "import os\n",
    "os.name  # 系统类型"
   ]
  },
  {
   "cell_type": "code",
   "execution_count": 4,
   "metadata": {},
   "outputs": [
    {
     "data": {
      "text/plain": [
       "posix.uname_result(sysname='Linux', nodename='VM-24-3-ubuntu', release='5.15.0-56-generic', version='#62-Ubuntu SMP Tue Nov 22 19:54:14 UTC 2022', machine='x86_64')"
      ]
     },
     "execution_count": 4,
     "metadata": {},
     "output_type": "execute_result"
    }
   ],
   "source": [
    "# 系统名称\n",
    "os.uname()\n",
    "# windows上不提供"
   ]
  },
  {
   "cell_type": "code",
   "execution_count": 6,
   "metadata": {},
   "outputs": [
    {
     "data": {
      "text/plain": [
       "environ{'USER': 'ubuntu',\n",
       "        'SSH_CLIENT': '117.178.82.226 54433 22',\n",
       "        'LC_TIME': 'en_US.UTF-8',\n",
       "        'XDG_SESSION_TYPE': 'tty',\n",
       "        'SHLVL': '1',\n",
       "        'MOTD_SHOWN': 'pam',\n",
       "        'HOME': '/home/ubuntu',\n",
       "        'OLDPWD': '/home/ubuntu',\n",
       "        'LC_MONETARY': 'en_US.UTF-8',\n",
       "        'DBUS_SESSION_BUS_ADDRESS': 'unix:path=/run/user/1000/bus',\n",
       "        'LOGNAME': 'ubuntu',\n",
       "        '_': '/home/ubuntu/.vscode-server/bin/704ed70d4fd1c6bd6342c436f1ede30d1cff4710/node',\n",
       "        'XDG_SESSION_CLASS': 'user',\n",
       "        'XDG_SESSION_ID': '11947',\n",
       "        'PATH': '/bin:/home/ubuntu/.local/bin:/home/ubuntu/.vscode-server/bin/704ed70d4fd1c6bd6342c436f1ede30d1cff4710/bin/remote-cli:/usr/local/sbin:/usr/local/bin:/usr/sbin:/usr/bin:/sbin:/bin:/usr/games:/usr/local/games:/snap/bin:/home/ubuntu/.vscode-server/bin/704ed70d4fd1c6bd6342c436f1ede30d1cff4710/bin/remote-cli:/usr/local/sbin:/usr/local/bin:/usr/sbin:/usr/bin:/sbin:/bin:/usr/games:/usr/local/games:/snap/bin',\n",
       "        'VSCODE_AGENT_FOLDER': '/home/ubuntu/.vscode-server',\n",
       "        'LC_ADDRESS': 'en_US.UTF-8',\n",
       "        'XDG_RUNTIME_DIR': '/run/user/1000',\n",
       "        'LANG': 'en_US.UTF-8',\n",
       "        'LC_TELEPHONE': 'en_US.UTF-8',\n",
       "        'SHELL': '/usr/bin/zsh',\n",
       "        'LC_NAME': 'en_US.UTF-8',\n",
       "        'LC_MEASUREMENT': 'en_US.UTF-8',\n",
       "        'LC_IDENTIFICATION': 'en_US.UTF-8',\n",
       "        'PWD': '/home/ubuntu',\n",
       "        'SSH_CONNECTION': '117.178.82.226 54433 10.0.24.3 22',\n",
       "        'LC_NUMERIC': 'en_US.UTF-8',\n",
       "        'LC_PAPER': 'en_US.UTF-8',\n",
       "        'VSCODE_HANDLES_SIGPIPE': 'true',\n",
       "        'ZSH': '/home/ubuntu/.oh-my-zsh',\n",
       "        'PAGER': 'cat',\n",
       "        'LESS': '-R',\n",
       "        'LSCOLORS': 'Gxfxcxdxbxegedabagacad',\n",
       "        'LS_COLORS': '',\n",
       "        'P9K_SSH': '1',\n",
       "        'AUTOJUMP_SOURCED': '1',\n",
       "        'AUTOJUMP_ERROR_PATH': '/home/ubuntu/.local/share/autojump/errors.log',\n",
       "        'VSCODE_AMD_ENTRYPOINT': 'vs/workbench/api/node/extensionHostProcess',\n",
       "        'VSCODE_HANDLES_UNCAUGHT_ERRORS': 'true',\n",
       "        'VSCODE_NLS_CONFIG': '{\"locale\":\"zh-cn\",\"osLocale\":\"zh-cn\",\"availableLanguages\":{\"*\":\"zh-cn\"},\"_languagePackId\":\"b8e8c951dd5b5f651e028f8bda5e81eb.zh-cn\",\"_translationsConfigFile\":\"/home/ubuntu/.vscode-server/data/clp/b8e8c951dd5b5f651e028f8bda5e81eb.zh-cn/tcf.json\",\"_cacheRoot\":\"/home/ubuntu/.vscode-server/data/clp/b8e8c951dd5b5f651e028f8bda5e81eb.zh-cn\",\"_resolvedLanguagePackCoreLocation\":\"/home/ubuntu/.vscode-server/data/clp/b8e8c951dd5b5f651e028f8bda5e81eb.zh-cn/704ed70d4fd1c6bd6342c436f1ede30d1cff4710\",\"_corruptedFile\":\"/home/ubuntu/.vscode-server/data/clp/b8e8c951dd5b5f651e028f8bda5e81eb.zh-cn/corrupted.info\",\"_languagePackSupport\":true}',\n",
       "        'BROWSER': '/home/ubuntu/.vscode-server/bin/704ed70d4fd1c6bd6342c436f1ede30d1cff4710/bin/helpers/browser.sh',\n",
       "        'VSCODE_CWD': '/home/ubuntu',\n",
       "        'ELECTRON_RUN_AS_NODE': '1',\n",
       "        'VSCODE_IPC_HOOK_CLI': '/run/user/1000/vscode-ipc-209e2c48-cefc-4bd3-b583-12b361f92e6e.sock',\n",
       "        'VSCODE_L10N_BUNDLE_LOCATION': 'vscode-local:/home/xujinqi/.vscode/extensions/ms-ceintl.vscode-language-pack-zh-hans-1.77.2023040509/translations/extensions/vscode.json-language-features.i18n.json',\n",
       "        'PYDEVD_IPYTHON_COMPATIBLE_DEBUGGING': '1',\n",
       "        'PYTHONUNBUFFERED': '1',\n",
       "        'PYTHONIOENCODING': 'utf-8',\n",
       "        'PYDEVD_USE_FRAME_EVAL': 'NO',\n",
       "        'TERM': 'xterm-color',\n",
       "        'CLICOLOR': '1',\n",
       "        'FORCE_COLOR': '1',\n",
       "        'CLICOLOR_FORCE': '1',\n",
       "        'GIT_PAGER': 'cat',\n",
       "        'MPLBACKEND': 'module://matplotlib_inline.backend_inline'}"
      ]
     },
     "execution_count": 6,
     "metadata": {},
     "output_type": "execute_result"
    }
   ],
   "source": [
    "# 获取环境变量\n",
    "os.environ"
   ]
  },
  {
   "cell_type": "code",
   "execution_count": 9,
   "metadata": {},
   "outputs": [
    {
     "data": {
      "text/plain": [
       "'/home/ubuntu/documents/leetcode'"
      ]
     },
     "execution_count": 9,
     "metadata": {},
     "output_type": "execute_result"
    }
   ],
   "source": [
    "# 操作文件和目录\n",
    "os.path.abspath(\".\")  # 当前目录的绝对路径\n",
    "# 创建一个目录首先将新目录的完整路径表示出来，然后创建\n",
    "# os.path.join(\"/home/ubuntu/\",\"testdir\")\n",
    "# os.mkdir(\"/home/ubuntu/testdir\")\n",
    "# 删除目录os.rmdir"
   ]
  },
  {
   "cell_type": "code",
   "execution_count": 10,
   "metadata": {},
   "outputs": [],
   "source": [
    "# 将两个路径连接在一起时，不要直接拼接，而是使用os.path.join()\n",
    "# 同理，拆分路径时，也不能直接拆分，而是使用os.path.split()"
   ]
  },
  {
   "cell_type": "code",
   "execution_count": 11,
   "metadata": {},
   "outputs": [
    {
     "data": {
      "text/plain": [
       "('./README', '.md')"
      ]
     },
     "execution_count": 11,
     "metadata": {},
     "output_type": "execute_result"
    }
   ],
   "source": [
    "# 获取文件扩展名\n",
    "os.path.splitext(\"./README.md\")"
   ]
  },
  {
   "cell_type": "code",
   "execution_count": 12,
   "metadata": {},
   "outputs": [],
   "source": [
    "# 文件重命名：os.rename(\"test,txt\",\"test.ipynb\")\n",
    "# 删掉文件：os.remove(\"test.ipynb\")"
   ]
  },
  {
   "cell_type": "code",
   "execution_count": 13,
   "metadata": {},
   "outputs": [],
   "source": [
    "# 复制文件\n",
    "# 调用shutol模块的copyfile函数"
   ]
  },
  {
   "cell_type": "code",
   "execution_count": 14,
   "metadata": {},
   "outputs": [
    {
     "data": {
      "text/plain": [
       "['__pycache__', '.git', '.vscode']"
      ]
     },
     "execution_count": 14,
     "metadata": {},
     "output_type": "execute_result"
    }
   ],
   "source": [
    "# 利用Python的特性来过滤文件，如列出当前目录下的所有目录\n",
    "[x for x in os.listdir(\".\") if os.path.isdir(x)]"
   ]
  },
  {
   "cell_type": "code",
   "execution_count": 15,
   "metadata": {},
   "outputs": [
    {
     "data": {
      "text/plain": [
       "['test_for_unittest.py',\n",
       " 'test.ipynb',\n",
       " 'README.md',\n",
       " 'test_module.py',\n",
       " '.gitignore',\n",
       " 'test.txt']"
      ]
     },
     "execution_count": 15,
     "metadata": {},
     "output_type": "execute_result"
    }
   ],
   "source": [
    "# 利用Python的特性来过滤文件，如列出当前目录下的所有非目录文件\n",
    "[x for x in os.listdir(\".\") if not os.path.isdir(x)]"
   ]
  },
  {
   "cell_type": "code",
   "execution_count": 16,
   "metadata": {},
   "outputs": [
    {
     "data": {
      "text/plain": [
       "['test_for_unittest.py', 'test_module.py']"
      ]
     },
     "execution_count": 16,
     "metadata": {},
     "output_type": "execute_result"
    }
   ],
   "source": [
    "# 所有.py文件\n",
    "[x for x in os.listdir(\".\") if os.path.splitext(x)[1] == \".py\"]"
   ]
  },
  {
   "cell_type": "code",
   "execution_count": 17,
   "metadata": {},
   "outputs": [
    {
     "name": "stdout",
     "output_type": "stream",
     "text": [
      "文件夹：./test_for_unittest.py\n",
      "文件夹名：./__pycache__\n",
      "文件夹：./test.ipynb\n",
      "文件夹：./README.md\n",
      "文件夹：./test_module.py\n",
      "文件夹：./.gitignore\n",
      "文件夹名：./.git\n",
      "文件夹：./test.txt\n",
      "文件夹名：./.vscode\n"
     ]
    }
   ],
   "source": [
    "# 利用os模块编写一个实现dir -l输出的程序\n",
    "import os\n",
    "\n",
    "\n",
    "def dir_l(path):\n",
    "    if not os.path.isdir(path):\n",
    "        raise ValueError(\"%s is not a dir\" % path)\n",
    "    for x in os.listdir(path):\n",
    "        name = os.path.join(path, x)\n",
    "        if os.path.isdir(name):\n",
    "            print(\"文件夹名：%s\" % name)\n",
    "        if os.path.isfile(name):\n",
    "            print(\"文件夹：%s\" % name)\n",
    "\n",
    "\n",
    "dir_l(\".\")"
   ]
  },
  {
   "cell_type": "code",
   "execution_count": 34,
   "metadata": {},
   "outputs": [
    {
     "data": {
      "text/plain": [
       "['test_for_os_same_name/test.txt', 'test.txt']"
      ]
     },
     "execution_count": 34,
     "metadata": {},
     "output_type": "execute_result"
    }
   ],
   "source": [
    "# 在当前目录及子目录下查找文件名包含指定字符串的文件\n",
    "import os\n",
    "\n",
    "\n",
    "def finds(path, s):\n",
    "    if not os.path.isdir(path):\n",
    "        raise ValueError(\"%s is not a dir\" % path)\n",
    "    temp = []\n",
    "    l = os.listdir(path)  # 指定目录下的所有目录\n",
    "    for x in l:\n",
    "        name = os.path.join(path, x)\n",
    "        if os.path.isdir(name):\n",
    "            temp += finds(name, s)  # 递归检查，将子目录下的文件全部添加\n",
    "        else:\n",
    "            temp.append(name)  # 是文件的话接在后面\n",
    "\n",
    "    results = []\n",
    "    for x in temp:  # 开始遍历文件\n",
    "        if s in x:\n",
    "            results.append(x)  # 包含s的文件放入结果\n",
    "\n",
    "    return results\n",
    "\n",
    "\n",
    "def main(path, s):\n",
    "    results = []\n",
    "    path = os.path.abspath(path)\n",
    "    for x in finds(path, s):\n",
    "        results.append(x[len(path)+1:])\n",
    "    return results\n",
    "\n",
    "\n",
    "main(\".\", \"test.txt\")"
   ]
  },
  {
   "attachments": {},
   "cell_type": "markdown",
   "metadata": {},
   "source": [
    "序列化"
   ]
  },
  {
   "cell_type": "code",
   "execution_count": 1,
   "metadata": {},
   "outputs": [
    {
     "data": {
      "text/plain": [
       "b'\\x80\\x04\\x95$\\x00\\x00\\x00\\x00\\x00\\x00\\x00}\\x94(\\x8c\\x04name\\x94\\x8c\\x03bob\\x94\\x8c\\x03age\\x94K\\x14\\x8c\\x05score\\x94KXu.'"
      ]
     },
     "execution_count": 1,
     "metadata": {},
     "output_type": "execute_result"
    }
   ],
   "source": [
    "# 将变量从内存中变成可存储或传输的过程称为序列化，Python中叫picking\n",
    "# 序列化之后可以将内容写入磁盘\n",
    "# 反过来将序列化的对象读入内存称为反序列化\n",
    "import pickle\n",
    "d = dict(name='bob', age=20, score=88)\n",
    "pickle.dumps(d)"
   ]
  },
  {
   "cell_type": "code",
   "execution_count": 2,
   "metadata": {},
   "outputs": [],
   "source": [
    "# pickle.dumps()将任意对象序列化成一个byte，然后就可以将这个byte写入文件\n",
    "# 或者pickle.dump()是将对象序列化后写入一个file-like Object"
   ]
  },
  {
   "cell_type": "code",
   "execution_count": 3,
   "metadata": {},
   "outputs": [],
   "source": [
    "# 读入\n",
    "# 从磁盘读到内存时，可以将内容读到一个bytes，然后用pickle.loads()方法反序列化出对象\n",
    "# 也可以用pickle.load()从一个file-like Object中直接反序列化对象"
   ]
  },
  {
   "cell_type": "code",
   "execution_count": 4,
   "metadata": {},
   "outputs": [],
   "source": [
    "# pickle的问题是只能用于Python"
   ]
  },
  {
   "cell_type": "code",
   "execution_count": 5,
   "metadata": {},
   "outputs": [],
   "source": [
    "# JSON\n",
    "# 在多种语言之间传递对象，就必须序列化成标准格式，如XML、JSON\n",
    "# JSON表示的对象是标准的JavaScript对象"
   ]
  },
  {
   "cell_type": "code",
   "execution_count": 6,
   "metadata": {},
   "outputs": [
    {
     "data": {
      "text/plain": [
       "'{\"name\": \"Bob\", \"age\": 20, \"score\": 80}'"
      ]
     },
     "execution_count": 6,
     "metadata": {},
     "output_type": "execute_result"
    }
   ],
   "source": [
    "# Python内置json有很完善的Python到JSON转换\n",
    "import json\n",
    "d = dict(name='Bob', age=20, score=80)\n",
    "json.dumps(d)"
   ]
  },
  {
   "cell_type": "code",
   "execution_count": 7,
   "metadata": {},
   "outputs": [],
   "source": [
    "# 具体的操作与pickle类似"
   ]
  },
  {
   "cell_type": "code",
   "execution_count": 8,
   "metadata": {},
   "outputs": [
    {
     "ename": "TypeError",
     "evalue": "Object of type Student is not JSON serializable",
     "output_type": "error",
     "traceback": [
      "\u001b[0;31m---------------------------------------------------------------------------\u001b[0m",
      "\u001b[0;31mTypeError\u001b[0m                                 Traceback (most recent call last)",
      "Cell \u001b[0;32mIn[8], line 11\u001b[0m\n\u001b[1;32m      7\u001b[0m         \u001b[39mpass\u001b[39;00m\n\u001b[1;32m     10\u001b[0m s \u001b[39m=\u001b[39m Student()\n\u001b[0;32m---> 11\u001b[0m \u001b[39mprint\u001b[39m(json\u001b[39m.\u001b[39;49mdumps(s))\n",
      "File \u001b[0;32m/usr/lib/python3.10/json/__init__.py:231\u001b[0m, in \u001b[0;36mdumps\u001b[0;34m(obj, skipkeys, ensure_ascii, check_circular, allow_nan, cls, indent, separators, default, sort_keys, **kw)\u001b[0m\n\u001b[1;32m    226\u001b[0m \u001b[39m# cached encoder\u001b[39;00m\n\u001b[1;32m    227\u001b[0m \u001b[39mif\u001b[39;00m (\u001b[39mnot\u001b[39;00m skipkeys \u001b[39mand\u001b[39;00m ensure_ascii \u001b[39mand\u001b[39;00m\n\u001b[1;32m    228\u001b[0m     check_circular \u001b[39mand\u001b[39;00m allow_nan \u001b[39mand\u001b[39;00m\n\u001b[1;32m    229\u001b[0m     \u001b[39mcls\u001b[39m \u001b[39mis\u001b[39;00m \u001b[39mNone\u001b[39;00m \u001b[39mand\u001b[39;00m indent \u001b[39mis\u001b[39;00m \u001b[39mNone\u001b[39;00m \u001b[39mand\u001b[39;00m separators \u001b[39mis\u001b[39;00m \u001b[39mNone\u001b[39;00m \u001b[39mand\u001b[39;00m\n\u001b[1;32m    230\u001b[0m     default \u001b[39mis\u001b[39;00m \u001b[39mNone\u001b[39;00m \u001b[39mand\u001b[39;00m \u001b[39mnot\u001b[39;00m sort_keys \u001b[39mand\u001b[39;00m \u001b[39mnot\u001b[39;00m kw):\n\u001b[0;32m--> 231\u001b[0m     \u001b[39mreturn\u001b[39;00m _default_encoder\u001b[39m.\u001b[39;49mencode(obj)\n\u001b[1;32m    232\u001b[0m \u001b[39mif\u001b[39;00m \u001b[39mcls\u001b[39m \u001b[39mis\u001b[39;00m \u001b[39mNone\u001b[39;00m:\n\u001b[1;32m    233\u001b[0m     \u001b[39mcls\u001b[39m \u001b[39m=\u001b[39m JSONEncoder\n",
      "File \u001b[0;32m/usr/lib/python3.10/json/encoder.py:199\u001b[0m, in \u001b[0;36mJSONEncoder.encode\u001b[0;34m(self, o)\u001b[0m\n\u001b[1;32m    195\u001b[0m         \u001b[39mreturn\u001b[39;00m encode_basestring(o)\n\u001b[1;32m    196\u001b[0m \u001b[39m# This doesn't pass the iterator directly to ''.join() because the\u001b[39;00m\n\u001b[1;32m    197\u001b[0m \u001b[39m# exceptions aren't as detailed.  The list call should be roughly\u001b[39;00m\n\u001b[1;32m    198\u001b[0m \u001b[39m# equivalent to the PySequence_Fast that ''.join() would do.\u001b[39;00m\n\u001b[0;32m--> 199\u001b[0m chunks \u001b[39m=\u001b[39m \u001b[39mself\u001b[39;49m\u001b[39m.\u001b[39;49miterencode(o, _one_shot\u001b[39m=\u001b[39;49m\u001b[39mTrue\u001b[39;49;00m)\n\u001b[1;32m    200\u001b[0m \u001b[39mif\u001b[39;00m \u001b[39mnot\u001b[39;00m \u001b[39misinstance\u001b[39m(chunks, (\u001b[39mlist\u001b[39m, \u001b[39mtuple\u001b[39m)):\n\u001b[1;32m    201\u001b[0m     chunks \u001b[39m=\u001b[39m \u001b[39mlist\u001b[39m(chunks)\n",
      "File \u001b[0;32m/usr/lib/python3.10/json/encoder.py:257\u001b[0m, in \u001b[0;36mJSONEncoder.iterencode\u001b[0;34m(self, o, _one_shot)\u001b[0m\n\u001b[1;32m    252\u001b[0m \u001b[39melse\u001b[39;00m:\n\u001b[1;32m    253\u001b[0m     _iterencode \u001b[39m=\u001b[39m _make_iterencode(\n\u001b[1;32m    254\u001b[0m         markers, \u001b[39mself\u001b[39m\u001b[39m.\u001b[39mdefault, _encoder, \u001b[39mself\u001b[39m\u001b[39m.\u001b[39mindent, floatstr,\n\u001b[1;32m    255\u001b[0m         \u001b[39mself\u001b[39m\u001b[39m.\u001b[39mkey_separator, \u001b[39mself\u001b[39m\u001b[39m.\u001b[39mitem_separator, \u001b[39mself\u001b[39m\u001b[39m.\u001b[39msort_keys,\n\u001b[1;32m    256\u001b[0m         \u001b[39mself\u001b[39m\u001b[39m.\u001b[39mskipkeys, _one_shot)\n\u001b[0;32m--> 257\u001b[0m \u001b[39mreturn\u001b[39;00m _iterencode(o, \u001b[39m0\u001b[39;49m)\n",
      "File \u001b[0;32m/usr/lib/python3.10/json/encoder.py:179\u001b[0m, in \u001b[0;36mJSONEncoder.default\u001b[0;34m(self, o)\u001b[0m\n\u001b[1;32m    160\u001b[0m \u001b[39mdef\u001b[39;00m \u001b[39mdefault\u001b[39m(\u001b[39mself\u001b[39m, o):\n\u001b[1;32m    161\u001b[0m \u001b[39m    \u001b[39m\u001b[39m\"\"\"Implement this method in a subclass such that it returns\u001b[39;00m\n\u001b[1;32m    162\u001b[0m \u001b[39m    a serializable object for ``o``, or calls the base implementation\u001b[39;00m\n\u001b[1;32m    163\u001b[0m \u001b[39m    (to raise a ``TypeError``).\u001b[39;00m\n\u001b[0;32m   (...)\u001b[0m\n\u001b[1;32m    177\u001b[0m \n\u001b[1;32m    178\u001b[0m \u001b[39m    \"\"\"\u001b[39;00m\n\u001b[0;32m--> 179\u001b[0m     \u001b[39mraise\u001b[39;00m \u001b[39mTypeError\u001b[39;00m(\u001b[39mf\u001b[39m\u001b[39m'\u001b[39m\u001b[39mObject of type \u001b[39m\u001b[39m{\u001b[39;00mo\u001b[39m.\u001b[39m\u001b[39m__class__\u001b[39m\u001b[39m.\u001b[39m\u001b[39m__name__\u001b[39m\u001b[39m}\u001b[39;00m\u001b[39m \u001b[39m\u001b[39m'\u001b[39m\n\u001b[1;32m    180\u001b[0m                     \u001b[39mf\u001b[39m\u001b[39m'\u001b[39m\u001b[39mis not JSON serializable\u001b[39m\u001b[39m'\u001b[39m)\n",
      "\u001b[0;31mTypeError\u001b[0m: Object of type Student is not JSON serializable"
     ]
    }
   ],
   "source": [
    "# 有些对象不是可以序列化的，比如\n",
    "import json\n",
    "\n",
    "\n",
    "class Student(object):\n",
    "    def __init__(self) -> None:\n",
    "        pass\n",
    "\n",
    "\n",
    "s = Student()\n",
    "print(json.dumps(s))"
   ]
  },
  {
   "cell_type": "code",
   "execution_count": 3,
   "metadata": {},
   "outputs": [],
   "source": [
    "# 因为默认情况下dump方法不知道如何将对象变成JSON对象，在这种情况下，可以写一个专门的函数然后将函数传入\n",
    "def student2dict(std):\n",
    "    return {\n",
    "        'name': std.name,\n",
    "        'age': std.age,\n",
    "        'score': std.score\n",
    "    }"
   ]
  },
  {
   "cell_type": "code",
   "execution_count": 4,
   "metadata": {},
   "outputs": [
    {
     "name": "stdout",
     "output_type": "stream",
     "text": [
      "{\"name\": \"Bob\", \"age\": 20, \"score\": 88}\n"
     ]
    }
   ],
   "source": [
    "import json\n",
    "\n",
    "\n",
    "class Student(object):\n",
    "    def __init__(self, name, age, score):\n",
    "        self.name = name\n",
    "        self.age = age\n",
    "        self.score = score\n",
    "\n",
    "\n",
    "s = Student('Bob', 20, 88)\n",
    "print(json.dumps(s, default=student2dict))"
   ]
  },
  {
   "cell_type": "code",
   "execution_count": 7,
   "metadata": {},
   "outputs": [
    {
     "name": "stdout",
     "output_type": "stream",
     "text": [
      "<__main__.Student object at 0x7f19176dcd30>\n"
     ]
    }
   ],
   "source": [
    "# 同理当我们需要将dict转为Student时，也需要传入一个函数\n",
    "def dict2student(d):\n",
    "    return Student(d['name'], d['age'], d['score'])\n",
    "\n",
    "\n",
    "json_str = '{\"age\": 20, \"score\": 88, \"name\": \"Bob\"}'\n",
    "print(json.loads(json_str, object_hook=dict2student))"
   ]
  },
  {
   "cell_type": "code",
   "execution_count": 9,
   "metadata": {},
   "outputs": [
    {
     "data": {
      "text/plain": [
       "'{\"name\": \"\\\\u5c0f\\\\u660e\", \"age\": 20}'"
      ]
     },
     "execution_count": 9,
     "metadata": {},
     "output_type": "execute_result"
    }
   ],
   "source": [
    "import json\n",
    "obj = dict(name='小明', age=20)\n",
    "s = json.dumps(obj, ensure_ascii=True)\n",
    "s"
   ]
  },
  {
   "cell_type": "code",
   "execution_count": 1,
   "metadata": {},
   "outputs": [],
   "source": [
    "# 序列化就是编码，序列化强调结果，编码强调方式"
   ]
  },
  {
   "attachments": {},
   "cell_type": "markdown",
   "metadata": {},
   "source": [
    "# 进程和线程"
   ]
  },
  {
   "cell_type": "code",
   "execution_count": 2,
   "metadata": {},
   "outputs": [],
   "source": [
    "# Python支持多进程，也支持多线程"
   ]
  },
  {
   "attachments": {},
   "cell_type": "markdown",
   "metadata": {},
   "source": [
    "多进程"
   ]
  },
  {
   "cell_type": "code",
   "execution_count": 3,
   "metadata": {},
   "outputs": [],
   "source": [
    "# Linux/Unix系统提供了fork()系统调用，调用fork会返回两次，因为fork会把当前进程复制一份（子进程），分别在父进程和子进程中返回\n",
    "# 子进程返回0，父进程返回子进程的ID\n",
    "# 父进程可以fork很多子进程"
   ]
  },
  {
   "cell_type": "code",
   "execution_count": null,
   "metadata": {},
   "outputs": [
    {
     "name": "stdout",
     "output_type": "stream",
     "text": [
      "Process (2524891) start\n",
      "I (2524891) just create a child process (2528512).\n",
      "Process (2524891) start\n",
      "I am child process (2528512) and my parent is (2524891)."
     ]
    },
    {
     "name": "stdout",
     "output_type": "stream",
     "text": [
      "\n"
     ]
    },
    {
     "ename": "",
     "evalue": "",
     "output_type": "error",
     "traceback": [
      "\u001b[1;31m在当前单元格或上一个单元格中执行代码时 Kernel 崩溃。请查看单元格中的代码，以确定故障的可能原因。有关详细信息，请单击 <a href='https://aka.ms/vscodeJupyterKernelCrash'>此处</a>。有关更多详细信息，请查看 Jupyter <a href='command:jupyter.viewOutput'>log</a>。"
     ]
    }
   ],
   "source": [
    "# 创建子进程\n",
    "import os\n",
    "\n",
    "print(\"Process (%s) start\" % os.getpid())\n",
    "# work on linux/unix/mac\n",
    "pid = os.fork()\n",
    "\n",
    "if pid == 0:\n",
    "    print('I am child process (%s) and my parent is (%s).' %\n",
    "          (os.getpid(), os.getppid()))\n",
    "else:\n",
    "    print('I (%s) just create a child process (%s).' % (os.getpid(), pid))"
   ]
  },
  {
   "cell_type": "code",
   "execution_count": 2,
   "metadata": {},
   "outputs": [
    {
     "name": "stdout",
     "output_type": "stream",
     "text": [
      "Parent process 2528736 \n",
      "Child process will start\n",
      "Run child process test (2530631)...\n",
      "Child process end\n"
     ]
    }
   ],
   "source": [
    "# multiprocessing\n",
    "# multiprocessing提供了一个Process来代表一个进程对象，可以跨平台使用\n",
    "from multiprocessing import Process\n",
    "import os\n",
    "\n",
    "\n",
    "def run_proc(name):\n",
    "    print('Run child process %s (%s)...' % (name, os.getpid()))\n",
    "\n",
    "\n",
    "if __name__ == '__main__':\n",
    "    print('Parent process %s ' % os.getpid())\n",
    "    p = Process(target=run_proc, args=('test',))\n",
    "    print('Child process will start')\n",
    "    p.start()\n",
    "    p.join()\n",
    "    print('Child process end')"
   ]
  },
  {
   "cell_type": "code",
   "execution_count": 3,
   "metadata": {},
   "outputs": [],
   "source": [
    "# 创建子进程时，只需要传入一个执行函数和函数的参数，就可以用start()创建进程\n",
    "# join()方法可以等待子进程结束之后再继续往下运行，通常用于进程间同步"
   ]
  },
  {
   "cell_type": "code",
   "execution_count": 4,
   "metadata": {},
   "outputs": [
    {
     "name": "stdout",
     "output_type": "stream",
     "text": [
      "Parent process 2528736\n",
      "Run task 0 (2532835)Run task 2 (2532837)Run task 3 (2532838)Run task 1 (2532836)\n",
      "\n",
      "\n",
      "\n",
      "Waiting for all subprocess done\n",
      "Task 2 runs 1.91 seconds\n",
      "Run task 4 (2532837)\n",
      "Task 3 runs 2.29 seconds\n",
      "Task 0 runs 2.34 seconds\n",
      "Task 1 runs 2.41 seconds\n",
      "Task 4 runs 2.11 seconds\n",
      "All proceses done\n"
     ]
    }
   ],
   "source": [
    "# Pool\n",
    "# 如果启动大量子进程，可以使用进程池的方法批量创建子进程\n",
    "from multiprocessing import Pool\n",
    "import os\n",
    "import time\n",
    "import random\n",
    "\n",
    "\n",
    "def long_time_task(name):\n",
    "    print('Run task %s (%s)' % (name, os.getpid()))\n",
    "    start = time.time()\n",
    "    time.sleep(random.random()*3)\n",
    "    end = time.time()\n",
    "    print('Task %s runs %0.2f seconds' % (name, (end-start)))\n",
    "\n",
    "\n",
    "if __name__ == '__main__':\n",
    "    print('Parent process %s' % os.getpid())\n",
    "    p = Pool(4)\n",
    "    for i in range(5):\n",
    "        p.apply_async(long_time_task, args=(i,))\n",
    "    print('Waiting for all subprocess done')\n",
    "    p.close()\n",
    "    p.join()\n",
    "    print('All proceses done')"
   ]
  },
  {
   "cell_type": "code",
   "execution_count": 5,
   "metadata": {},
   "outputs": [],
   "source": [
    "# 调用join方法会等待所有子进程执行完毕，pool.close调用之后就不能继续添加新的进程\n",
    "# 上面的子进程4是起一个等待效果，因为设置了Pool大小为4，Pool的默认大小为CPU核数"
   ]
  },
  {
   "cell_type": "code",
   "execution_count": 6,
   "metadata": {},
   "outputs": [],
   "source": [
    "# 子进程\n",
    "# 很多时候，子进程不是自身，而是一个外部进程。在创建了子进程之后还需控制子进程的输入和输出"
   ]
  },
  {
   "cell_type": "code",
   "execution_count": 10,
   "metadata": {},
   "outputs": [
    {
     "name": "stdout",
     "output_type": "stream",
     "text": [
      "$ nslookup www.python.org\n",
      "Server:\t\t127.0.0.53\n",
      "Address:\t127.0.0.53#53\n",
      "\n",
      "Non-authoritative answer:\n",
      "www.python.org\tcanonical name = dualstack.python.map.fastly.net.\n",
      "Name:\tdualstack.python.map.fastly.net\n",
      "Address: 151.101.108.223\n",
      "Name:\tdualstack.python.map.fastly.net\n",
      "Address: 2a04:4e42:1a::223\n",
      "\n",
      "Exit code: 0\n"
     ]
    }
   ],
   "source": [
    "# subprocess允许我们启动一个子进程，然后控制输入和输出\n",
    "import subprocess\n",
    "print('$ nslookup www.python.org')\n",
    "r = subprocess.call(['nslookup', 'www.python.org'])\n",
    "print('Exit code:', r)"
   ]
  },
  {
   "cell_type": "code",
   "execution_count": 13,
   "metadata": {},
   "outputs": [
    {
     "name": "stdout",
     "output_type": "stream",
     "text": [
      "$ nslookup\n",
      "Server:\t\t127.0.0.53\n",
      "Address:\t127.0.0.53#53\n",
      "\n",
      "Non-authoritative answer:\n",
      "python.org\tmail exchanger = 50 mail.python.org.\n",
      "\n",
      "Authoritative answers can be found from:\n",
      "\n",
      "\n",
      "Exit code: 0\n"
     ]
    }
   ],
   "source": [
    "# 如果还需要输入，可以通过communicate方法输入\n",
    "import subprocess\n",
    "\n",
    "print('$ nslookup')\n",
    "p = subprocess.Popen(['nslookup'], stdin=subprocess.PIPE,\n",
    "                     stdout=subprocess.PIPE, stderr=subprocess.PIPE)\n",
    "output, err = p.communicate(b'set q=mx\\n python.org\\nexit\\n')\n",
    "print(output.decode('utf-8'))\n",
    "print('Exit code:', p.returncode)\n",
    "# 相当于输入nslookup命令\n",
    "# 然后手动分别输入set q=mx\n",
    "# python.org\n",
    "# exit"
   ]
  },
  {
   "cell_type": "code",
   "execution_count": 1,
   "metadata": {},
   "outputs": [
    {
     "name": "stdout",
     "output_type": "stream",
     "text": [
      "Process to writeL 2550041\n",
      "Process to read: 2550042\n",
      "Put A to queue...\n",
      "Get A from queue.\n",
      "Put B to queue...\n",
      "Get B from queue.\n",
      "Put C to queue...\n",
      "Get C from queue.\n"
     ]
    }
   ],
   "source": [
    "# 进程间通信\n",
    "# multiProcessing包装了操作系统提供的机制，提供了Queue、Pipes多种方式来交换数据\n",
    "# 一个从Queue里读数据，一个写数据\n",
    "from multiprocessing import Process, Queue\n",
    "import os\n",
    "import time\n",
    "import random\n",
    "\n",
    "\n",
    "def write(q):\n",
    "    print('Process to writeL %s' % os.getpid())\n",
    "    for value in ['A', 'B', 'C']:\n",
    "        print('Put %s to queue...' % value)\n",
    "        q.put(value)\n",
    "        time.sleep(random.random())\n",
    "\n",
    "\n",
    "def read(q):\n",
    "    print('Process to read: %s' % os.getpid())\n",
    "    while True:\n",
    "        value = q.get(True)\n",
    "        print('Get %s from queue.' % value)\n",
    "\n",
    "\n",
    "if __name__ == '__main__':\n",
    "    q = Queue()\n",
    "    pw = Process(target=write, args=(q,))\n",
    "    pr = Process(target=read, args=(q,))\n",
    "    pw.start()\n",
    "    pr.start()\n",
    "    pw.join()\n",
    "    # pr进程是死循环，只能强行终止\n",
    "    pr.terminate()"
   ]
  },
  {
   "cell_type": "code",
   "execution_count": 1,
   "metadata": {},
   "outputs": [],
   "source": [
    "# 在Windows下，multiprocessing需要模拟fork的效果，父进程所有Python对象必须通过pickle序列化后再传入子进程"
   ]
  },
  {
   "attachments": {},
   "cell_type": "markdown",
   "metadata": {},
   "source": [
    "多线程"
   ]
  },
  {
   "cell_type": "code",
   "execution_count": 1,
   "metadata": {},
   "outputs": [
    {
     "name": "stdout",
     "output_type": "stream",
     "text": [
      "thread MainThread is running...\n",
      "thread LoopThread is running...\n",
      "thread LoopThread >>> 1\n",
      "thread LoopThread >>> 2\n",
      "thread LoopThread >>> 3\n",
      "thread LoopThread >>> 4\n",
      "thread LoopThread >>> 5\n",
      "thread LoopThread ended.\n",
      "thread MainThread ended.\n"
     ]
    }
   ],
   "source": [
    "# Python中内置线程使用threading模块\n",
    "# 启动线程就是将函数传入Thread\n",
    "import time\n",
    "import threading\n",
    "\n",
    "# 新线程执行的代码:\n",
    "\n",
    "\n",
    "def loop():\n",
    "    print('thread %s is running...' % threading.current_thread().name)\n",
    "    n = 0\n",
    "    while n < 5:\n",
    "        n = n + 1\n",
    "        print('thread %s >>> %s' % (threading.current_thread().name, n))\n",
    "        time.sleep(1)\n",
    "    print('thread %s ended.' % threading.current_thread().name)\n",
    "\n",
    "\n",
    "print('thread %s is running...' % threading.current_thread().name)\n",
    "t = threading.Thread(target=loop, name='LoopThread')\n",
    "t.start()\n",
    "t.join()\n",
    "print('thread %s ended.' % threading.current_thread().name)"
   ]
  },
  {
   "cell_type": "code",
   "execution_count": 2,
   "metadata": {},
   "outputs": [
    {
     "name": "stdout",
     "output_type": "stream",
     "text": [
      "0\n"
     ]
    }
   ],
   "source": [
    "# 但是多线程共享进程资源，可能出现问题\n",
    "import time\n",
    "import threading\n",
    "\n",
    "# 假定这是你的银行存款:\n",
    "balance = 0\n",
    "\n",
    "\n",
    "def change_it(n):\n",
    "    # 先存后取，结果应该为0:\n",
    "    global balance\n",
    "    balance = balance + n\n",
    "    balance = balance - n\n",
    "\n",
    "\n",
    "def run_thread(n):\n",
    "    for i in range(2000000):\n",
    "        change_it(n)\n",
    "\n",
    "\n",
    "t1 = threading.Thread(target=run_thread, args=(5,))\n",
    "t2 = threading.Thread(target=run_thread, args=(8,))\n",
    "t1.start()\n",
    "t2.start()\n",
    "t1.join()\n",
    "t2.join()\n",
    "print(balance)"
   ]
  },
  {
   "cell_type": "code",
   "execution_count": 3,
   "metadata": {},
   "outputs": [],
   "source": [
    "# 通过加锁threading.Lock()\n",
    "balance = 0\n",
    "lock = threading.Lock()\n",
    "\n",
    "\n",
    "def run_thread(n):\n",
    "    for i in range(100000):\n",
    "        # 先要获取锁:\n",
    "        lock.acquire()\n",
    "        try:\n",
    "            # 放心地改吧:\n",
    "            change_it(n)\n",
    "        finally:\n",
    "            # 改完了一定要释放锁:\n",
    "            lock.release()"
   ]
  },
  {
   "cell_type": "code",
   "execution_count": 4,
   "metadata": {},
   "outputs": [],
   "source": [
    "# 多核CPU"
   ]
  },
  {
   "cell_type": "code",
   "execution_count": 5,
   "metadata": {},
   "outputs": [],
   "source": [
    "# 在Java和C++中，跑多个死循环会占用多个CPU\n",
    "# 但是Python特有的GIL锁导致每个线程交替使用CPU，最多占用一个核心\n",
    "# 但是多进程中每个进程有各自的GIL锁，所以可以使用多进程来实现其他语言中的多线程"
   ]
  },
  {
   "attachments": {},
   "cell_type": "markdown",
   "metadata": {},
   "source": [
    "ThreadLocal"
   ]
  },
  {
   "cell_type": "code",
   "execution_count": 6,
   "metadata": {},
   "outputs": [
    {
     "name": "stdout",
     "output_type": "stream",
     "text": [
      "Hello, Alice (in Thread-A)\n",
      "Hello, Bob (in Thread-B)\n"
     ]
    }
   ],
   "source": [
    "# TheadLocal通过将当前线程关联的对象绑定在ThreadLocal中，可以在后续的调用中直接获取\n",
    "import threading\n",
    "\n",
    "# 创建全局ThreadLocal对象\n",
    "local_school = threading.local()\n",
    "\n",
    "\n",
    "def process_student():\n",
    "    # 获取当前线程关联的student\n",
    "    std = local_school.student\n",
    "    print('Hello, %s (in %s)' % (std, threading.current_thread().name))\n",
    "\n",
    "\n",
    "def process_thread(name):\n",
    "    # 绑定到ThreadLocal的student\n",
    "    local_school.student = name\n",
    "    process_student()\n",
    "\n",
    "\n",
    "t1 = threading.Thread(target=process_thread, args=('Alice',), name='Thread-A')\n",
    "t2 = threading.Thread(target=process_thread, args=('Bob',), name='Thread-B')\n",
    "t1.start()\n",
    "t2.start()\n",
    "t1.join()\n",
    "t2.join()"
   ]
  },
  {
   "cell_type": "code",
   "execution_count": 1,
   "metadata": {},
   "outputs": [],
   "source": [
    "# 全局变量local_thread就是一个ThreadLocal对象，每个线程都可以对它进行读写，但是互不影响，"
   ]
  },
  {
   "attachments": {},
   "cell_type": "markdown",
   "metadata": {},
   "source": [
    "进程vs.线程"
   ]
  },
  {
   "cell_type": "code",
   "execution_count": 2,
   "metadata": {},
   "outputs": [],
   "source": [
    "# 计算密集型和IO密集型，前者需要大量计算，消耗CPU资源，注重代码运行效率，但是Python运行效率低，所以推荐使用C语言；后者大部分时间在等待IO完成，IO任务越多，CPU效率越高，大部分任务都是IO密集型任务，比如Web任务\n",
    "# 异步IO，可以支持单进程单线程模型来执行多任务"
   ]
  },
  {
   "attachments": {},
   "cell_type": "markdown",
   "metadata": {},
   "source": [
    "分布式进程"
   ]
  },
  {
   "cell_type": "code",
   "execution_count": 3,
   "metadata": {},
   "outputs": [],
   "source": [
    "# 使用multiprocessing的managers模块，可以将多进程部署到多个机器上，具体参考task_master.py和task_work.py"
   ]
  },
  {
   "attachments": {},
   "cell_type": "markdown",
   "metadata": {},
   "source": [
    "正则表达式"
   ]
  },
  {
   "cell_type": "code",
   "execution_count": 1,
   "metadata": {},
   "outputs": [
    {
     "data": {
      "text/plain": [
       "'\\n1. 给出字符就是精确匹配\\n2. \\\\d可以匹配一个数字\\n3. \\\\w匹配一个字母或数字\\n4. .可以匹配任意字符\\n5. 匹配变长的字符，用*表示任意个字符（包括0），+表示至少一个，?表示0或1个，{n}表示n个，{n,m}表示n~m个\\n'"
      ]
     },
     "execution_count": 1,
     "metadata": {},
     "output_type": "execute_result"
    }
   ],
   "source": [
    "# 正则表达式适合用来匹配字符串，设计思想是一种描述性的语言给字符串定义一个规则，满足规则的即为匹配\n",
    "\"\"\"\n",
    "1. 给出字符就是精确匹配\n",
    "2. \\d可以匹配一个数字\n",
    "3. \\w匹配一个字母或数字\n",
    "4. .可以匹配任意字符\n",
    "5. 匹配变长的字符，用*表示任意个字符（包括0），+表示至少一个，?表示0或1个，{n}表示n个，{n,m}表示n~m个\n",
    "\"\"\""
   ]
  },
  {
   "cell_type": "code",
   "execution_count": 2,
   "metadata": {},
   "outputs": [],
   "source": [
    "# 进阶\n",
    "# 更精确的匹配，可以用[]表示范围\n",
    "# 1. [0-9a-zA-Z\\_]可以匹配一个数字、字母或下划线\n",
    "# 2. [a-zA-Z\\_][0-9a-zA-Z\\_]* 可以匹配有字母或下划线开头，后接任意个数字、字母和字符\n",
    "# 3. [a-zA-Z\\_][0-9a-zA-Z\\_]{0, 19}限制长度为1-20\n",
    "# P|p 可以匹配P或p\n",
    "# ^ 表示行的开头，^\\d表示必须数字开头，$ 表示行的结束，\\d$表示必须数字结尾"
   ]
  },
  {
   "cell_type": "code",
   "execution_count": 10,
   "metadata": {},
   "outputs": [
    {
     "name": "stdout",
     "output_type": "stream",
     "text": [
      "ABC\\-001\n"
     ]
    }
   ],
   "source": [
    "# re模块\n",
    "s = 'ABC\\\\-001'\n",
    "print(s)"
   ]
  },
  {
   "cell_type": "code",
   "execution_count": 11,
   "metadata": {},
   "outputs": [
    {
     "name": "stdout",
     "output_type": "stream",
     "text": [
      "ABC\\-001\n"
     ]
    }
   ],
   "source": [
    "# 使用r不用考虑转义\n",
    "s = r'ABC\\-001'\n",
    "print(s)"
   ]
  },
  {
   "cell_type": "code",
   "execution_count": 25,
   "metadata": {},
   "outputs": [
    {
     "data": {
      "text/plain": [
       "<re.Match object; span=(0, 9), match='010-12345'>"
      ]
     },
     "execution_count": 25,
     "metadata": {},
     "output_type": "execute_result"
    }
   ],
   "source": [
    "# 使用re判断是否匹配\n",
    "import re\n",
    "re.match(r'^\\d{3}\\-\\d{3,8}$', '010-12345')"
   ]
  },
  {
   "cell_type": "code",
   "execution_count": 17,
   "metadata": {},
   "outputs": [],
   "source": [
    "re.match(r'^\\d{3}\\-\\d{3,8}$', '010 11111')"
   ]
  },
  {
   "cell_type": "code",
   "execution_count": 18,
   "metadata": {},
   "outputs": [
    {
     "data": {
      "text/plain": [
       "['a', 'b', '', 'c']"
      ]
     },
     "execution_count": 18,
     "metadata": {},
     "output_type": "execute_result"
    }
   ],
   "source": [
    "# 切分字符串\n",
    "# 一般情况下，切分字符串不够灵活\n",
    "'a b  c'.split(' ')"
   ]
  },
  {
   "cell_type": "code",
   "execution_count": 19,
   "metadata": {},
   "outputs": [
    {
     "data": {
      "text/plain": [
       "['a', 'b', 'c']"
      ]
     },
     "execution_count": 19,
     "metadata": {},
     "output_type": "execute_result"
    }
   ],
   "source": [
    "re.split(r'\\s+', 'a b  c')"
   ]
  },
  {
   "cell_type": "code",
   "execution_count": 20,
   "metadata": {},
   "outputs": [
    {
     "data": {
      "text/plain": [
       "['a', 'b', 'c', 'd']"
      ]
     },
     "execution_count": 20,
     "metadata": {},
     "output_type": "execute_result"
    }
   ],
   "source": [
    "# 使用re更加灵活，且可以切分多个字符\n",
    "re.split(r'[\\s\\,]+', 'a,b,c,  d')"
   ]
  },
  {
   "cell_type": "code",
   "execution_count": 21,
   "metadata": {},
   "outputs": [],
   "source": [
    "# 使用re.split可以将不规范的输入转化为规范的输入"
   ]
  },
  {
   "cell_type": "code",
   "execution_count": 22,
   "metadata": {},
   "outputs": [
    {
     "data": {
      "text/plain": [
       "<re.Match object; span=(0, 9), match='010-12345'>"
      ]
     },
     "execution_count": 22,
     "metadata": {},
     "output_type": "execute_result"
    }
   ],
   "source": [
    "# 分组\n",
    "# 可以使用()表示分组\n",
    "m = re.match(r'^(\\d{3})-(\\d{3,8})$', '010-12345')\n",
    "m"
   ]
  },
  {
   "cell_type": "code",
   "execution_count": 23,
   "metadata": {},
   "outputs": [
    {
     "data": {
      "text/plain": [
       "'010-12345'"
      ]
     },
     "execution_count": 23,
     "metadata": {},
     "output_type": "execute_result"
    }
   ],
   "source": [
    "m.group(0)"
   ]
  },
  {
   "cell_type": "code",
   "execution_count": 26,
   "metadata": {},
   "outputs": [
    {
     "name": "stdout",
     "output_type": "stream",
     "text": [
      "010 12345\n"
     ]
    }
   ],
   "source": [
    "print('%s %s' % (m.group(1), m.group(2)))"
   ]
  },
  {
   "cell_type": "code",
   "execution_count": 28,
   "metadata": {},
   "outputs": [
    {
     "data": {
      "text/plain": [
       "('21', '55', '27')"
      ]
     },
     "execution_count": 28,
     "metadata": {},
     "output_type": "execute_result"
    }
   ],
   "source": [
    "# 复杂的例子\n",
    "t = '21:55:27'\n",
    "m = re.match(\n",
    "    r'^(0[0-9]|1[0-9]|2[0-3]|[0-9])\\:(0[0-9]|1[0-9]|2[0-9]|3[0-9]|4[0-9]|5[0-9]|[0-9])\\:(0[0-9]|1[0-9]|2[0-9]|3[0-9]|4[0-9]|5[0-9]|[0-9])', t)\n",
    "m.groups()"
   ]
  },
  {
   "cell_type": "code",
   "execution_count": 31,
   "metadata": {},
   "outputs": [
    {
     "data": {
      "text/plain": [
       "('102300', '')"
      ]
     },
     "execution_count": 31,
     "metadata": {},
     "output_type": "execute_result"
    }
   ],
   "source": [
    "# 正则匹配默认是贪婪匹配，也就是尽可能匹配更多的字符\n",
    "re.match(r'^(\\d+)(0*)$', '102300').groups()"
   ]
  },
  {
   "cell_type": "code",
   "execution_count": 32,
   "metadata": {},
   "outputs": [
    {
     "data": {
      "text/plain": [
       "('1023', '00')"
      ]
     },
     "execution_count": 32,
     "metadata": {},
     "output_type": "execute_result"
    }
   ],
   "source": [
    "# 使用?可以采用非贪婪匹配\n",
    "re.match(r'^(\\d+?)(0*)$', '102300').groups()"
   ]
  },
  {
   "cell_type": "code",
   "execution_count": 34,
   "metadata": {},
   "outputs": [
    {
     "data": {
      "text/plain": [
       "('010', '19121')"
      ]
     },
     "execution_count": 34,
     "metadata": {},
     "output_type": "execute_result"
    }
   ],
   "source": [
    "# re匹配的过程是先编译表达式，然后用编译后的字符串去匹配\n",
    "# 如果一个正则表达式要用很多次，可以先编译然后匹配\n",
    "import re\n",
    "\n",
    "re_tel = re.compile(r'^(\\d{3})-(\\d{3,8})$')\n",
    "re_tel.match('010-19121').groups()"
   ]
  },
  {
   "cell_type": "code",
   "execution_count": 35,
   "metadata": {},
   "outputs": [
    {
     "data": {
      "text/plain": [
       "('010', '1011')"
      ]
     },
     "execution_count": 35,
     "metadata": {},
     "output_type": "execute_result"
    }
   ],
   "source": [
    "re_tel.match('010-1011').groups()"
   ]
  },
  {
   "cell_type": "code",
   "execution_count": 38,
   "metadata": {},
   "outputs": [
    {
     "name": "stdout",
     "output_type": "stream",
     "text": [
      "ok\n"
     ]
    }
   ],
   "source": [
    "# 验证email的正则表达式\n",
    "import re\n",
    "\n",
    "\n",
    "def is_valid_email(addr):\n",
    "    if re.match(r'^[\\d\\w]+[\\d\\w\\.]*\\@\\w+\\.com$', addr):\n",
    "        return True\n",
    "    return False\n",
    "\n",
    "\n",
    "# 测试:\n",
    "assert is_valid_email('someone@gmail.com')\n",
    "assert is_valid_email('bill.gates@microsoft.com')\n",
    "assert not is_valid_email('bob#example.com')\n",
    "assert not is_valid_email('mr-bob@example.com')\n",
    "print('ok')"
   ]
  },
  {
   "cell_type": "code",
   "execution_count": 49,
   "metadata": {},
   "outputs": [
    {
     "name": "stdout",
     "output_type": "stream",
     "text": [
      "ok\n"
     ]
    }
   ],
   "source": [
    "import re\n",
    "\n",
    "\n",
    "def name_of_email(addr):\n",
    "    return re.match(r'<?([a-zA-Z\\s]*)>?\\s*([a-zA-Z]*)\\@([a-z]+)\\.(com|org)$', addr).group(1)\n",
    "\n",
    "\n",
    "# 测试:\n",
    "assert name_of_email('<Tom Paris> tom@voyager.org') == 'Tom Paris'\n",
    "assert name_of_email('tom@voyager.org') == 'tom'\n",
    "assert name_of_email('bob@example.com') == 'bob'\n",
    "print('ok')"
   ]
  },
  {
   "attachments": {},
   "cell_type": "markdown",
   "metadata": {},
   "source": [
    "# 内建模块"
   ]
  },
  {
   "attachments": {},
   "cell_type": "markdown",
   "metadata": {},
   "source": [
    "datetime"
   ]
  },
  {
   "cell_type": "code",
   "execution_count": 1,
   "metadata": {},
   "outputs": [
    {
     "name": "stdout",
     "output_type": "stream",
     "text": [
      "2023-05-06 10:27:21.427538\n"
     ]
    }
   ],
   "source": [
    "# datetime用于获取时间\n",
    "from datetime import datetime\n",
    "now = datetime.now()\n",
    "print(now)"
   ]
  },
  {
   "cell_type": "code",
   "execution_count": 2,
   "metadata": {},
   "outputs": [
    {
     "name": "stdout",
     "output_type": "stream",
     "text": [
      "2015-04-19 12:20:00\n"
     ]
    }
   ],
   "source": [
    "dt = datetime(2015, 4, 19, 12, 20)\n",
    "print(dt)"
   ]
  },
  {
   "cell_type": "code",
   "execution_count": 3,
   "metadata": {},
   "outputs": [
    {
     "data": {
      "text/plain": [
       "1429417200.0"
      ]
     },
     "execution_count": 3,
     "metadata": {},
     "output_type": "execute_result"
    }
   ],
   "source": [
    "# 计算机中的时间是用当前时间相对epoch time的秒数（timestamp）\n",
    "from datetime import datetime\n",
    "dt = datetime(2015, 4, 19, 12, 20)\n",
    "dt.timestamp()"
   ]
  },
  {
   "cell_type": "code",
   "execution_count": 4,
   "metadata": {},
   "outputs": [],
   "source": [
    "# timestamp整数为浮点数，某些语言timestamp整数表示毫秒数"
   ]
  },
  {
   "cell_type": "code",
   "execution_count": 5,
   "metadata": {},
   "outputs": [
    {
     "name": "stdout",
     "output_type": "stream",
     "text": [
      "2015-04-19 12:20:00\n",
      "2015-04-19 04:20:00\n"
     ]
    }
   ],
   "source": [
    "# timestamp转化为UTC标准时区时间\n",
    "from datetime import datetime\n",
    "t = 1429417200.0\n",
    "print(datetime.fromtimestamp(t))  # 本地时间\n",
    "print(datetime.utcfromtimestamp(t))  # UTC时间"
   ]
  },
  {
   "cell_type": "code",
   "execution_count": 6,
   "metadata": {},
   "outputs": [
    {
     "name": "stdout",
     "output_type": "stream",
     "text": [
      "2015-06-01 18:19:59\n"
     ]
    }
   ],
   "source": [
    "# str转换为datetime\n",
    "from datetime import datetime\n",
    "cday = datetime.strptime('2015-6-1 18:19:59', '%Y-%m-%d %H:%M:%S')\n",
    "print(cday)"
   ]
  },
  {
   "cell_type": "code",
   "execution_count": 7,
   "metadata": {},
   "outputs": [
    {
     "name": "stdout",
     "output_type": "stream",
     "text": [
      "Sat, May 06 10:36\n"
     ]
    }
   ],
   "source": [
    "# datetime转换为str\n",
    "now = datetime.now()\n",
    "print(now.strftime('%a, %b %d %H:%M'))"
   ]
  },
  {
   "cell_type": "code",
   "execution_count": 8,
   "metadata": {},
   "outputs": [
    {
     "data": {
      "text/plain": [
       "datetime.datetime(2023, 5, 6, 10, 38, 11, 872079)"
      ]
     },
     "execution_count": 8,
     "metadata": {},
     "output_type": "execute_result"
    }
   ],
   "source": [
    "# 时间的加减需要导入timedelta\n",
    "from datetime import datetime, timedelta\n",
    "now = datetime.now()\n",
    "now"
   ]
  },
  {
   "cell_type": "code",
   "execution_count": 10,
   "metadata": {},
   "outputs": [
    {
     "data": {
      "text/plain": [
       "datetime.datetime(2023, 5, 6, 20, 38, 11, 872079)"
      ]
     },
     "execution_count": 10,
     "metadata": {},
     "output_type": "execute_result"
    }
   ],
   "source": [
    "now + timedelta(hours=10)"
   ]
  },
  {
   "cell_type": "code",
   "execution_count": 11,
   "metadata": {},
   "outputs": [
    {
     "data": {
      "text/plain": [
       "datetime.datetime(2023, 5, 3, 5, 38, 11, 872079)"
      ]
     },
     "execution_count": 11,
     "metadata": {},
     "output_type": "execute_result"
    }
   ],
   "source": [
    "now - timedelta(days=2, hours=29)"
   ]
  },
  {
   "cell_type": "code",
   "execution_count": 37,
   "metadata": {},
   "outputs": [],
   "source": [
    "# 本地时间转化为UTC时间\n",
    "from datetime import datetime, timedelta, timezone\n",
    "\n",
    "tz_utc_8 = timezone(timedelta(hours=8))  # 创造时区UTC+8"
   ]
  },
  {
   "cell_type": "code",
   "execution_count": 38,
   "metadata": {},
   "outputs": [
    {
     "data": {
      "text/plain": [
       "datetime.datetime(2023, 5, 6, 11, 9, 0, 74618)"
      ]
     },
     "execution_count": 38,
     "metadata": {},
     "output_type": "execute_result"
    }
   ],
   "source": [
    "now = datetime.now()\n",
    "now"
   ]
  },
  {
   "cell_type": "code",
   "execution_count": 39,
   "metadata": {},
   "outputs": [
    {
     "data": {
      "text/plain": [
       "datetime.datetime(2023, 5, 6, 11, 9, 0, 74618, tzinfo=datetime.timezone(datetime.timedelta(seconds=28800)))"
      ]
     },
     "execution_count": 39,
     "metadata": {},
     "output_type": "execute_result"
    }
   ],
   "source": [
    "dt = now.replace(tzinfo=tz_utc_8)  # 强制设置为UTC+8\n",
    "dt"
   ]
  },
  {
   "cell_type": "code",
   "execution_count": 18,
   "metadata": {},
   "outputs": [
    {
     "name": "stdout",
     "output_type": "stream",
     "text": [
      "2023-05-06 02:48:48.115807+00:00\n"
     ]
    }
   ],
   "source": [
    "# 时区转换\n",
    "utc_dt = datetime.utcnow().replace(tzinfo=timezone.utc)\n",
    "print(utc_dt)"
   ]
  },
  {
   "cell_type": "code",
   "execution_count": 20,
   "metadata": {},
   "outputs": [
    {
     "name": "stdout",
     "output_type": "stream",
     "text": [
      "2023-05-06 10:48:48.115807+08:00\n"
     ]
    }
   ],
   "source": [
    "# astimezone转换为北京时间\n",
    "bj_dt = utc_dt.astimezone(timezone(timedelta(hours=8)))\n",
    "print(bj_dt)"
   ]
  },
  {
   "cell_type": "code",
   "execution_count": 22,
   "metadata": {},
   "outputs": [
    {
     "name": "stdout",
     "output_type": "stream",
     "text": [
      "2023-05-06 11:48:48.115807+09:00\n"
     ]
    }
   ],
   "source": [
    "# astimezone转换为东京时间\n",
    "tk_dt = utc_dt.astimezone(timezone(timedelta(hours=9)))\n",
    "print(tk_dt)"
   ]
  },
  {
   "cell_type": "code",
   "execution_count": 23,
   "metadata": {},
   "outputs": [
    {
     "name": "stdout",
     "output_type": "stream",
     "text": [
      "2023-05-06 11:48:48.115807+09:00\n"
     ]
    }
   ],
   "source": [
    "# 将北京时间转换为东京时间\n",
    "tk_dt_2 = bj_dt.astimezone(timezone(timedelta(hours=9)))\n",
    "print(tk_dt_2)"
   ]
  },
  {
   "cell_type": "code",
   "execution_count": 32,
   "metadata": {},
   "outputs": [],
   "source": [
    "import re\n",
    "from datetime import datetime, timezone, timedelta\n",
    "\n",
    "\n",
    "def to_timestamp(dt_str, tz_str):\n",
    "    dt_datetime = datetime.strptime(dt_str, '%Y-%m-%d %H:%M:%S')\n",
    "    tz = re.match(r'^UTC([+\\-])(\\d+)\\:+', tz_str)\n",
    "    if tz.group(1) == '+':\n",
    "        x = int(tz.group(2))\n",
    "    else:\n",
    "        x = -int(tz.group(2))\n",
    "    dt = dt_datetime.replace(tzinfo=timezone(timedelta(hours=x)))\n",
    "    # dt = dt_datetime.astimezone(timezone(timedelta(hours=x)))\n",
    "    return dt.timestamp()"
   ]
  },
  {
   "cell_type": "code",
   "execution_count": 33,
   "metadata": {},
   "outputs": [
    {
     "name": "stdout",
     "output_type": "stream",
     "text": [
      "ok\n"
     ]
    }
   ],
   "source": [
    "# 测试:\n",
    "t1 = to_timestamp('2015-6-1 08:10:30', 'UTC+7:00')\n",
    "assert t1 == 1433121030.0, t1\n",
    "\n",
    "t2 = to_timestamp('2015-5-31 16:10:30', 'UTC-09:00')\n",
    "assert t2 == 1433121030.0, t2\n",
    "\n",
    "print('ok')"
   ]
  },
  {
   "cell_type": "code",
   "execution_count": 1,
   "metadata": {},
   "outputs": [],
   "source": [
    "# astimezone是更改时区，时间数值也会发生变化，北京时间11点变成东京时间12点\n",
    "# replace是替换时区，时间数值不会发生变化，北京时间11点变成东京时间11点"
   ]
  },
  {
   "attachments": {},
   "cell_type": "markdown",
   "metadata": {},
   "source": [
    "collections"
   ]
  },
  {
   "cell_type": "code",
   "execution_count": 5,
   "metadata": {},
   "outputs": [
    {
     "name": "stdout",
     "output_type": "stream",
     "text": [
      "1 2\n"
     ]
    }
   ],
   "source": [
    "# namedtuple指定tuple的表示，用于定义一种数据类型，既有tuple的不变性，有可以根据属性来引用\n",
    "from collections import namedtuple\n",
    "Point = namedtuple('Point', ['x', 'y'])\n",
    "p = Point(1, 2)\n",
    "print(p.x, p.y)"
   ]
  },
  {
   "cell_type": "code",
   "execution_count": 6,
   "metadata": {},
   "outputs": [
    {
     "data": {
      "text/plain": [
       "deque(['f', 'a', 'b', 'c', 'e'])"
      ]
     },
     "execution_count": 6,
     "metadata": {},
     "output_type": "execute_result"
    }
   ],
   "source": [
    "# deque高效实现插入删除的双向列表，适用于队列和栈\n",
    "from collections import deque\n",
    "q = deque(['a', 'b', 'c'])\n",
    "q.append('e')\n",
    "q.appendleft('f')\n",
    "q"
   ]
  },
  {
   "cell_type": "code",
   "execution_count": 7,
   "metadata": {},
   "outputs": [
    {
     "data": {
      "text/plain": [
       "1"
      ]
     },
     "execution_count": 7,
     "metadata": {},
     "output_type": "execute_result"
    }
   ],
   "source": [
    "# defaultdict，一般的dict中如果key不存在会报错，defaultdict可以返回一个默认值\n",
    "from collections import defaultdict\n",
    "dd = defaultdict(lambda: 'N/A')\n",
    "dd['key1'] = 1\n",
    "dd['key1']"
   ]
  },
  {
   "cell_type": "code",
   "execution_count": 8,
   "metadata": {},
   "outputs": [
    {
     "data": {
      "text/plain": [
       "'N/A'"
      ]
     },
     "execution_count": 8,
     "metadata": {},
     "output_type": "execute_result"
    }
   ],
   "source": [
    "dd['key2']"
   ]
  },
  {
   "cell_type": "code",
   "execution_count": 13,
   "metadata": {},
   "outputs": [
    {
     "data": {
      "text/plain": [
       "{'a': 1, 'c': 2, 'b': 3}"
      ]
     },
     "execution_count": 13,
     "metadata": {},
     "output_type": "execute_result"
    }
   ],
   "source": [
    "# OrderedDict，可以保持key的顺序\n",
    "from collections import OrderedDict\n",
    "d = dict([('a', 1), ('c', 2), ('b', 3)])\n",
    "d"
   ]
  },
  {
   "cell_type": "code",
   "execution_count": 14,
   "metadata": {},
   "outputs": [
    {
     "data": {
      "text/plain": [
       "OrderedDict([('a', 1), ('c', 2), ('b', 3)])"
      ]
     },
     "execution_count": 14,
     "metadata": {},
     "output_type": "execute_result"
    }
   ],
   "source": [
    "od=OrderedDict([('a', 1), ('c', 2), ('b', 3)])\n",
    "od"
   ]
  },
  {
   "cell_type": "code",
   "execution_count": 15,
   "metadata": {},
   "outputs": [],
   "source": [
    "# 实现先进先出的dict\n",
    "from collections import OrderedDict\n",
    "\n",
    "\n",
    "class LastUpdatedOrderedDict(OrderedDict):\n",
    "    def __init__(self, capacity):\n",
    "        super(LastUpdatedOrderedDict, self).__init__()\n",
    "        self._capacity = capacity\n",
    "\n",
    "    def __setitem__(self, key, value):\n",
    "        containskey = 1 if key in self else 0\n",
    "        # 如果插入value后超出最大容量，则将队头出队\n",
    "        if len(self)-containskey >= self._capacity:\n",
    "            last = self.popitem(last=False)  # last=True是后进先出，last=False是先进先出\n",
    "            print('Remove:', last)\n",
    "\n",
    "        if containskey:\n",
    "            del self[key]\n",
    "            print('Set:', (key, value))\n",
    "        else:\n",
    "            print('Add:', (key, value))\n",
    "        OrderedDict.__setitem__(self, key, value)"
   ]
  },
  {
   "cell_type": "code",
   "execution_count": 17,
   "metadata": {},
   "outputs": [],
   "source": [
    "# ChainMap将一组dict串起来组成一个逻辑上的dict\n",
    "# 可以实现参数的优先级查找\n",
    "# 见test_chain_map.py"
   ]
  },
  {
   "cell_type": "code",
   "execution_count": 18,
   "metadata": {},
   "outputs": [
    {
     "data": {
      "text/plain": [
       "Counter({'p': 1, 'r': 2, 'o': 1, 'g': 2, 'a': 1, 'm': 2, 'i': 1, 'n': 1})"
      ]
     },
     "execution_count": 18,
     "metadata": {},
     "output_type": "execute_result"
    }
   ],
   "source": [
    "# Counter简单的计数器\n",
    "from collections import Counter\n",
    "c = Counter()\n",
    "for ch in 'programming':\n",
    "    c[ch] = c[ch]+1\n",
    "\n",
    "c"
   ]
  },
  {
   "attachments": {},
   "cell_type": "markdown",
   "metadata": {},
   "source": [
    "argparse"
   ]
  },
  {
   "cell_type": "code",
   "execution_count": 19,
   "metadata": {},
   "outputs": [],
   "source": [
    "# Python中命令行参数保存在内置的sys.argv中，这样可以保持简单的参数\n",
    "# 使用argparse定义各个参数类型，能直接返回有效的参数\n",
    "# 见test_args_parse.py"
   ]
  },
  {
   "cell_type": "code",
   "execution_count": 20,
   "metadata": {},
   "outputs": [],
   "source": [
    "# 使用argparse后，只有当参数全部都对时，才会返回一个Namespace对象，获取对应的参数就把参数名当做属性输入"
   ]
  },
  {
   "attachments": {},
   "cell_type": "markdown",
   "metadata": {},
   "source": [
    "base64"
   ]
  },
  {
   "cell_type": "code",
   "execution_count": 3,
   "metadata": {},
   "outputs": [
    {
     "data": {
      "text/plain": [
       "b'YmluYXJ5AHN0cmluZw=='"
      ]
     },
     "execution_count": 3,
     "metadata": {},
     "output_type": "execute_result"
    }
   ],
   "source": [
    "# Base24是常见的二进制编码方法\n",
    "# Base64将每3个字节进行处理，划分为4组，每组6bit，然后将3字节的二进制数据编码为4字节的文本数据\n",
    "# 当编码的原始数据不是3的倍数，Base64会用\\x00字节在末尾补足，并在编码的末尾加上1个或2个=，表示补了多少字节\n",
    "import base64\n",
    "base64.b64encode(b'binary\\x00string')"
   ]
  },
  {
   "cell_type": "code",
   "execution_count": 4,
   "metadata": {},
   "outputs": [
    {
     "data": {
      "text/plain": [
       "b'binary\\x00string'"
      ]
     },
     "execution_count": 4,
     "metadata": {},
     "output_type": "execute_result"
    }
   ],
   "source": [
    "base64.b64decode(b'YmluYXJ5AHN0cmluZw==')"
   ]
  },
  {
   "cell_type": "code",
   "execution_count": 5,
   "metadata": {},
   "outputs": [
    {
     "data": {
      "text/plain": [
       "b'abcd++//'"
      ]
     },
     "execution_count": 5,
     "metadata": {},
     "output_type": "execute_result"
    }
   ],
   "source": [
    "# 标准的Base64编码可能出现+和/，在URL中不能直接使用，所有有urlsafe_b64，将+和/变成-和_\n",
    "base64.b64encode(b'i\\xb7\\x1d\\xfb\\xef\\xff')"
   ]
  },
  {
   "cell_type": "code",
   "execution_count": 6,
   "metadata": {},
   "outputs": [
    {
     "data": {
      "text/plain": [
       "b'abcd--__'"
      ]
     },
     "execution_count": 6,
     "metadata": {},
     "output_type": "execute_result"
    }
   ],
   "source": [
    "base64.urlsafe_b64encode(b'i\\xb7\\x1d\\xfb\\xef\\xff')"
   ]
  },
  {
   "cell_type": "code",
   "execution_count": 9,
   "metadata": {},
   "outputs": [
    {
     "name": "stdout",
     "output_type": "stream",
     "text": [
      "ok\n"
     ]
    }
   ],
   "source": [
    "# 处理去掉=的base64解码函数：\n",
    "import base64\n",
    "\n",
    "\n",
    "def safe_base64_decode(s):\n",
    "    length = len(s)\n",
    "    if length % 4:\n",
    "        # 编码长度不为4的倍数，需要添加=\n",
    "        need = 4-length % 4\n",
    "        s = s+('=')*need\n",
    "    return base64.b64decode(s)\n",
    "\n",
    "\n",
    "# 测试:\n",
    "assert b'abcd' == safe_base64_decode(\n",
    "    'YWJjZA=='), safe_base64_decode('YWJjZA==')\n",
    "assert b'abcd' == safe_base64_decode('YWJjZA'), safe_base64_decode('YWJjZA')\n",
    "print('ok')"
   ]
  },
  {
   "attachments": {},
   "cell_type": "markdown",
   "metadata": {},
   "source": [
    "struct"
   ]
  },
  {
   "cell_type": "code",
   "execution_count": 10,
   "metadata": {},
   "outputs": [
    {
     "data": {
      "text/plain": [
       "b'\\x00\\x9c@c'"
      ]
     },
     "execution_count": 10,
     "metadata": {},
     "output_type": "execute_result"
    }
   ],
   "source": [
    "# b'str'可以表示字节，所以字节数组=二进制str\n",
    "# struct可以解决bytes和其他二进制数据类型的转换\n",
    "# pack将任意数据类型转换为bytes\n",
    "import struct\n",
    "struct.pack('>I', 10240099)# I指4字节无符号整数"
   ]
  },
  {
   "cell_type": "code",
   "execution_count": 12,
   "metadata": {},
   "outputs": [
    {
     "name": "stdout",
     "output_type": "stream",
     "text": [
      "ok\n"
     ]
    }
   ],
   "source": [
    "import base64\n",
    "import struct\n",
    "bmp_data = base64.b64decode('Qk1oAgAAAAAAADYAAAAoAAAAHAAAAAoAAAABABAAAAAAADICAAASCwAAEgsAA' +\n",
    "                            'AAAAAAAAAAA/3//f/9//3//f/9//3//f/9//3//f/9//3//f/9//3//f/9//3//f/9//3/' +\n",
    "                            '/f/9//3//f/9//3//f/9/AHwAfAB8AHwAfAB8AHwAfP9//3//fwB8AHwAfAB8/3//f/9/A' +\n",
    "                            'HwAfAB8AHz/f/9//3//f/9//38AfAB8AHwAfAB8AHwAfAB8AHz/f/9//38AfAB8/3//f/9' +\n",
    "                            '//3//fwB8AHz/f/9//3//f/9//3//f/9/AHwAfP9//3//f/9/AHwAfP9//3//fwB8AHz/f' +\n",
    "                            '/9//3//f/9/AHwAfP9//3//f/9//3//f/9//38AfAB8AHwAfAB8AHwAfP9//3//f/9/AHw' +\n",
    "                            'AfP9//3//f/9//38AfAB8/3//f/9//3//f/9//3//fwB8AHwAfAB8AHwAfAB8/3//f/9//' +\n",
    "                            '38AfAB8/3//f/9//3//fwB8AHz/f/9//3//f/9//3//f/9/AHwAfP9//3//f/9/AHwAfP9' +\n",
    "                            '//3//fwB8AHz/f/9/AHz/f/9/AHwAfP9//38AfP9//3//f/9/AHwAfAB8AHwAfAB8AHwAf' +\n",
    "                            'AB8/3//f/9/AHwAfP9//38AfAB8AHwAfAB8AHwAfAB8/3//f/9//38AfAB8AHwAfAB8AHw' +\n",
    "                            'AfAB8/3//f/9/AHwAfAB8AHz/fwB8AHwAfAB8AHwAfAB8AHz/f/9//3//f/9//3//f/9//' +\n",
    "                            '3//f/9//3//f/9//3//f/9//3//f/9//3//f/9//3//f/9//3//f/9//38AAA==')\n",
    "\n",
    "# 判断是否为位图(bmp)\n",
    "\n",
    "\n",
    "def bmp_info(data):\n",
    "    struct_data = struct.unpack('<ccIIIIIIHH', bmp_data[:30])  # 读入前30个字节\n",
    "    if struct_data[:2] == (b'B', b'M'):\n",
    "        return {\n",
    "            'width': struct_data[6],\n",
    "            'height': struct_data[7],\n",
    "            'color': struct_data[9]\n",
    "        }\n",
    "\n",
    "\n",
    "# 测试\n",
    "bi = bmp_info(bmp_data)\n",
    "assert bi['width'] == 28\n",
    "assert bi['height'] == 10\n",
    "assert bi['color'] == 16\n",
    "print('ok')"
   ]
  },
  {
   "attachments": {},
   "cell_type": "markdown",
   "metadata": {},
   "source": [
    "hashlib"
   ]
  },
  {
   "cell_type": "code",
   "execution_count": 14,
   "metadata": {},
   "outputs": [
    {
     "name": "stdout",
     "output_type": "stream",
     "text": [
      "d26a53750bc40b38b65a520292f69306\n"
     ]
    }
   ],
   "source": [
    "# 提供常见的摘要算法（计算任意长度数据的hash）\n",
    "import hashlib\n",
    "\n",
    "md5 = hashlib.md5()\n",
    "md5.update('how to use md5 in python hashlib?'.encode('utf-8'))\n",
    "print(md5.hexdigest())"
   ]
  },
  {
   "cell_type": "code",
   "execution_count": 15,
   "metadata": {},
   "outputs": [
    {
     "name": "stdout",
     "output_type": "stream",
     "text": [
      "d26a53750bc40b38b65a520292f69306\n"
     ]
    }
   ],
   "source": [
    "# 计算量很大时，可以分块多次调用update()，最后计算的结果是一样的\n",
    "import hashlib\n",
    "\n",
    "md5 = hashlib.md5()\n",
    "md5.update('how to use md5 in '.encode('utf-8'))\n",
    "md5.update('python hashlib?'.encode('utf-8'))\n",
    "print(md5.hexdigest())"
   ]
  },
  {
   "cell_type": "code",
   "execution_count": 16,
   "metadata": {},
   "outputs": [
    {
     "name": "stdout",
     "output_type": "stream",
     "text": [
      "2c76b57293ce30acef38d98f6046927161b46a44\n"
     ]
    }
   ],
   "source": [
    "# SHA1算法\n",
    "import hashlib\n",
    "sha1 = hashlib.sha1()\n",
    "sha1.update('how to use sha1 in '.encode('utf-8'))\n",
    "sha1.update('python hashlib?'.encode('utf-8'))\n",
    "print(sha1.hexdigest())"
   ]
  },
  {
   "cell_type": "code",
   "execution_count": 17,
   "metadata": {},
   "outputs": [],
   "source": [
    "# MD5结果是固定的128bit/16字节，常用32位的16进制字符串表示，SHA1结果是固定的160bit/20字节，常用40位的16进制字符串表示"
   ]
  },
  {
   "cell_type": "code",
   "execution_count": 18,
   "metadata": {},
   "outputs": [],
   "source": [
    "# 根据用户输入的口令，计算出存储在数据库中的MD5口令\n",
    "import hashlib\n",
    "\n",
    "\n",
    "def calc_md5(password):\n",
    "    md5 = hashlib.md5()\n",
    "    md5.update(password.encode('utf-8'))\n",
    "    return md5.hexdigest()"
   ]
  },
  {
   "cell_type": "code",
   "execution_count": 19,
   "metadata": {},
   "outputs": [
    {
     "name": "stdout",
     "output_type": "stream",
     "text": [
      "ok\n"
     ]
    }
   ],
   "source": [
    "db = {\n",
    "    'michael': 'e10adc3949ba59abbe56e057f20f883e',\n",
    "    'bob': '878ef96e86145580c38c87f0410ad153',\n",
    "    'alice': '99b1c2188db85afee403b1536010c2c9'\n",
    "}\n",
    "\n",
    "\n",
    "def login(user, password):\n",
    "    return db[user] == calc_md5(password)\n",
    "\n",
    "\n",
    "# 测试:\n",
    "assert login('michael', '123456')\n",
    "assert login('bob', 'abc999')\n",
    "assert login('alice', 'alice2008')\n",
    "assert not login('michael', '1234567')\n",
    "assert not login('bob', '123456')\n",
    "assert not login('alice', 'Alice2008')\n",
    "print('ok')"
   ]
  },
  {
   "cell_type": "code",
   "execution_count": 20,
   "metadata": {},
   "outputs": [],
   "source": [
    "# 由于常用明文md5值很容易计算出来，可以通过对原始口令加一个复杂字符串来实现\n",
    "def get_md5(password):\n",
    "    return calc_md5(password+'the-Salt')"
   ]
  },
  {
   "cell_type": "code",
   "execution_count": 21,
   "metadata": {},
   "outputs": [],
   "source": [
    "# 如果两个用户的密码是一样的，为了保证存储的md5不同，可以将用户名作为Salt的一部分"
   ]
  },
  {
   "cell_type": "code",
   "execution_count": 23,
   "metadata": {},
   "outputs": [
    {
     "name": "stdout",
     "output_type": "stream",
     "text": [
      "ok\n"
     ]
    }
   ],
   "source": [
    "import hashlib\n",
    "import random\n",
    "\n",
    "\n",
    "def get_md5(s):\n",
    "    return hashlib.md5(s.encode('utf-8')).hexdigest()\n",
    "\n",
    "\n",
    "class User(object):\n",
    "    def __init__(self, username, password):\n",
    "        self.username = username\n",
    "        self.salt = ''.join([chr(random.randint(48, 122)) for i in range(20)])\n",
    "        self.password = get_md5(password + self.salt)\n",
    "\n",
    "\n",
    "def register(username, password):\n",
    "    db[username] = User(username, password)\n",
    "\n",
    "\n",
    "db = {\n",
    "    'michael': User('michael', '123456'),\n",
    "    'bob': User('bob', 'abc999'),\n",
    "    'alice': User('alice', 'alice2008')\n",
    "}\n",
    "\n",
    "\n",
    "def login(username, password):\n",
    "    user = db[username]\n",
    "    return user.password == get_md5(password+user.salt)\n",
    "\n",
    "\n",
    "# 测试:\n",
    "assert login('michael', '123456')\n",
    "assert login('bob', 'abc999')\n",
    "assert login('alice', 'alice2008')\n",
    "assert not login('michael', '1234567')\n",
    "assert not login('bob', '123456')\n",
    "assert not login('alice', 'Alice2008')\n",
    "print('ok')"
   ]
  },
  {
   "attachments": {},
   "cell_type": "markdown",
   "metadata": {},
   "source": [
    "hmac"
   ]
  },
  {
   "cell_type": "code",
   "execution_count": 26,
   "metadata": {},
   "outputs": [
    {
     "name": "stdout",
     "output_type": "stream",
     "text": [
      "ok\n"
     ]
    }
   ],
   "source": [
    "# hmac是在hash算法的基础上，添加一个key，在计算过程中将key加入\n",
    "# 对于相同的明文，不同的key会得到不同的hash值\n",
    "import hashlib\n",
    "import hmac\n",
    "import random\n",
    "\n",
    "\n",
    "def hmac_md5(key, s):\n",
    "    return hmac.new(key.encode('utf-8'), s.encode('utf-8'), 'MD5').hexdigest()\n",
    "\n",
    "\n",
    "class User(object):\n",
    "    def __init__(self, username, password):\n",
    "        self.username = username\n",
    "        self.key = ''.join([chr(random.randint(48, 122)) for i in range(20)])\n",
    "        self.password = hmac_md5(self.key, password)\n",
    "\n",
    "\n",
    "def register(username, password):\n",
    "    db[username] = User(username, password)\n",
    "\n",
    "\n",
    "db = {\n",
    "    'michael': User('michael', '123456'),\n",
    "    'bob': User('bob', 'abc999'),\n",
    "    'alice': User('alice', 'alice2008')\n",
    "}\n",
    "\n",
    "\n",
    "def login(username, password):\n",
    "    user = db[username]\n",
    "    return user.password == hmac_md5(user.key, password)\n",
    "\n",
    "\n",
    "# 测试:\n",
    "assert login('michael', '123456')\n",
    "assert login('bob', 'abc999')\n",
    "assert login('alice', 'alice2008')\n",
    "assert not login('michael', '1234567')\n",
    "assert not login('bob', '123456')\n",
    "assert not login('alice', 'Alice2008')\n",
    "print('ok')"
   ]
  },
  {
   "cell_type": "code",
   "execution_count": 27,
   "metadata": {},
   "outputs": [],
   "source": [
    "# hash算法是可以计算数据的hash值，但是明文直接计算容易被反向破解，所以可以加salt来避免破解\n",
    "# hmac算法就是将加salt变得规范化，同时也可以用于加密算法（加key已经相当于添加事先约定的密钥进行加密）"
   ]
  },
  {
   "attachments": {},
   "cell_type": "markdown",
   "metadata": {},
   "source": [
    "itertools"
   ]
  },
  {
   "cell_type": "code",
   "execution_count": 28,
   "metadata": {},
   "outputs": [],
   "source": [
    "# 用于操作迭代对象"
   ]
  },
  {
   "cell_type": "code",
   "execution_count": 10,
   "metadata": {},
   "outputs": [
    {
     "name": "stdout",
     "output_type": "stream",
     "text": [
      "1\n",
      "2\n",
      "3\n",
      "4\n",
      "5\n",
      "6\n",
      "7\n",
      "8\n",
      "9\n",
      "10\n",
      "11\n",
      "12\n",
      "13\n",
      "14\n",
      "15\n",
      "16\n",
      "17\n",
      "18\n",
      "19\n",
      "20\n",
      "21\n",
      "22\n",
      "23\n",
      "24\n",
      "25\n",
      "26\n",
      "27\n",
      "28\n",
      "29\n",
      "30\n",
      "31\n",
      "32\n",
      "33\n",
      "34\n",
      "35\n",
      "36\n",
      "37\n",
      "38\n",
      "39\n",
      "40\n",
      "41\n",
      "42\n",
      "43\n",
      "44\n",
      "45\n",
      "46\n",
      "47\n",
      "48\n",
      "49\n",
      "50\n",
      "51\n",
      "52\n",
      "53\n",
      "54\n",
      "55\n",
      "56\n",
      "57\n",
      "58\n",
      "59\n",
      "60\n",
      "61\n",
      "62\n",
      "63\n",
      "64\n",
      "65\n",
      "66\n",
      "67\n",
      "68\n",
      "69\n",
      "70\n",
      "71\n",
      "72\n",
      "73\n",
      "74\n",
      "75\n",
      "76\n",
      "77\n",
      "78\n",
      "79\n",
      "80\n",
      "81\n",
      "82\n",
      "83\n",
      "84\n",
      "85\n",
      "86\n",
      "87\n",
      "88\n",
      "89\n",
      "90\n",
      "91\n",
      "92\n",
      "93\n",
      "94\n",
      "95\n",
      "96\n",
      "97\n",
      "98\n",
      "99\n"
     ]
    },
    {
     "ename": "StopIteration",
     "evalue": "",
     "output_type": "error",
     "traceback": [
      "\u001b[0;31m---------------------------------------------------------------------------\u001b[0m",
      "\u001b[0;31mStopIteration\u001b[0m                             Traceback (most recent call last)",
      "Cell \u001b[0;32mIn[10], line 8\u001b[0m\n\u001b[1;32m      6\u001b[0m     \u001b[39mprint\u001b[39m(n)\n\u001b[1;32m      7\u001b[0m \u001b[39melse\u001b[39;00m:\n\u001b[0;32m----> 8\u001b[0m     \u001b[39mraise\u001b[39;00m \u001b[39mStopIteration\u001b[39;00m\n",
      "\u001b[0;31mStopIteration\u001b[0m: "
     ]
    }
   ],
   "source": [
    "# 几个无限迭代器\n",
    "import itertools\n",
    "natuals = itertools.count(1)\n",
    "for n in natuals:\n",
    "    if n < 100:\n",
    "        print(n)\n",
    "    else:\n",
    "        raise StopIteration"
   ]
  },
  {
   "cell_type": "code",
   "execution_count": 3,
   "metadata": {},
   "outputs": [
    {
     "name": "stdout",
     "output_type": "stream",
     "text": [
      "A\n",
      "B\n",
      "C\n",
      "A\n",
      "B\n",
      "C\n",
      "A\n",
      "B\n",
      "C\n",
      "A\n",
      "B\n"
     ]
    },
    {
     "ename": "StopIteration",
     "evalue": "",
     "output_type": "error",
     "traceback": [
      "\u001b[0;31m---------------------------------------------------------------------------\u001b[0m",
      "\u001b[0;31mStopIteration\u001b[0m                             Traceback (most recent call last)",
      "Cell \u001b[0;32mIn[3], line 9\u001b[0m\n\u001b[1;32m      7\u001b[0m count \u001b[39m+\u001b[39m\u001b[39m=\u001b[39m \u001b[39m1\u001b[39m\n\u001b[1;32m      8\u001b[0m \u001b[39mif\u001b[39;00m count \u001b[39m>\u001b[39m \u001b[39m10\u001b[39m:\n\u001b[0;32m----> 9\u001b[0m     \u001b[39mraise\u001b[39;00m \u001b[39mStopIteration\u001b[39;00m\n",
      "\u001b[0;31mStopIteration\u001b[0m: "
     ]
    }
   ],
   "source": [
    "# cycle会创建一个无限的迭代器，把传入的序列无限重复\n",
    "import itertools\n",
    "cs = itertools.cycle('ABC')\n",
    "count = 0\n",
    "for c in cs:\n",
    "    print(c)\n",
    "    count += 1\n",
    "    if count > 10:\n",
    "        raise StopIteration"
   ]
  },
  {
   "cell_type": "code",
   "execution_count": 4,
   "metadata": {},
   "outputs": [
    {
     "name": "stdout",
     "output_type": "stream",
     "text": [
      "A\n",
      "A\n",
      "A\n",
      "A\n",
      "A\n",
      "A\n",
      "A\n",
      "A\n",
      "A\n",
      "A\n"
     ]
    }
   ],
   "source": [
    "# repeat会将一个元素无限重复，但是可以输入重复次数\n",
    "import itertools\n",
    "ns = itertools.repeat('A', 10)\n",
    "for n in ns:\n",
    "    print(n)"
   ]
  },
  {
   "cell_type": "code",
   "execution_count": 15,
   "metadata": {},
   "outputs": [
    {
     "data": {
      "text/plain": [
       "True"
      ]
     },
     "execution_count": 15,
     "metadata": {},
     "output_type": "execute_result"
    }
   ],
   "source": [
    "# 虽然无限序列可以一直迭代，但是可以用takewhile等函数根据条件截取有限的序列\n",
    "from collections.abc import Iterator\n",
    "natuals = itertools.count(1)\n",
    "ns = itertools.takewhile(lambda x: x <= 10, natuals)\n",
    "list(ns)"
   ]
  },
  {
   "cell_type": "code",
   "execution_count": 34,
   "metadata": {},
   "outputs": [
    {
     "data": {
      "text/plain": [
       "[1,\n",
       " 3,\n",
       " 5,\n",
       " 7,\n",
       " 9,\n",
       " 11,\n",
       " 13,\n",
       " 15,\n",
       " 17,\n",
       " 19,\n",
       " 21,\n",
       " 23,\n",
       " 25,\n",
       " 27,\n",
       " 29,\n",
       " 31,\n",
       " 33,\n",
       " 35,\n",
       " 37,\n",
       " 39,\n",
       " 41,\n",
       " 43,\n",
       " 45,\n",
       " 47,\n",
       " 49,\n",
       " 51,\n",
       " 53,\n",
       " 55,\n",
       " 57,\n",
       " 59,\n",
       " 61,\n",
       " 63,\n",
       " 65,\n",
       " 67,\n",
       " 69,\n",
       " 71,\n",
       " 73,\n",
       " 75,\n",
       " 77,\n",
       " 79,\n",
       " 81,\n",
       " 83,\n",
       " 85,\n",
       " 87,\n",
       " 89,\n",
       " 91,\n",
       " 93,\n",
       " 95,\n",
       " 97,\n",
       " 99]"
      ]
     },
     "execution_count": 34,
     "metadata": {},
     "output_type": "execute_result"
    }
   ],
   "source": [
    "# count(x, y)表示从x开始，间隔为y\n",
    "list(itertools.takewhile(lambda x: x < 100, itertools.count(1, 2)))"
   ]
  },
  {
   "cell_type": "code",
   "execution_count": 6,
   "metadata": {},
   "outputs": [
    {
     "name": "stdout",
     "output_type": "stream",
     "text": [
      "A B C X Y Z "
     ]
    }
   ],
   "source": [
    "# chain，将一组迭代对象串联\n",
    "import itertools\n",
    "\n",
    "for c in itertools.chain('ABC', 'XYZ'):\n",
    "    print(c, end=\" \")"
   ]
  },
  {
   "cell_type": "code",
   "execution_count": 7,
   "metadata": {},
   "outputs": [
    {
     "name": "stdout",
     "output_type": "stream",
     "text": [
      "A ['A', 'A', 'A']\n",
      "B ['B', 'B', 'B']\n",
      "C ['C', 'C']\n",
      "A ['A', 'A', 'A']\n"
     ]
    }
   ],
   "source": [
    "# groupby将迭代器中相邻的重复元素跳出来放一起\n",
    "for key, group in itertools.groupby('AAABBBCCAAA'):\n",
    "    print(key, list(group))"
   ]
  },
  {
   "cell_type": "code",
   "execution_count": 8,
   "metadata": {},
   "outputs": [
    {
     "name": "stdout",
     "output_type": "stream",
     "text": [
      "A ['A', 'a', 'a']\n",
      "B ['B', 'B', 'b']\n",
      "C ['c', 'C']\n",
      "A ['A', 'A', 'a']\n"
     ]
    }
   ],
   "source": [
    "# groupby的判断条件是根据一个函数的返回值确定，只要返回值相同\n",
    "for key, group in itertools.groupby('AaaBBbcCAAa', lambda c: c.upper()):\n",
    "    print(key, list(group))"
   ]
  },
  {
   "cell_type": "code",
   "execution_count": 39,
   "metadata": {},
   "outputs": [],
   "source": [
    "# 计算圆周率\n",
    "import itertools\n",
    "from functools import reduce\n",
    "\n",
    "\n",
    "def pi(N):\n",
    "    # 创建一个奇数序列并截取前N个\n",
    "    odds = itertools.takewhile(lambda x: x < 2 * N, itertools.count(1, 2))\n",
    "    # 添加正负号并用4除\n",
    "    symbols = itertools.cycle([1, -1])\n",
    "    # return sum(map(lambda x: 4 * next(symbols) / x, odds))\n",
    "    return reduce(lambda x, y: x + y, map(lambda x: 4 * next(symbols) / x,\n",
    "                                          odds))\n"
   ]
  },
  {
   "cell_type": "code",
   "execution_count": 40,
   "metadata": {},
   "outputs": [
    {
     "name": "stdout",
     "output_type": "stream",
     "text": [
      "3.0418396189294032\n",
      "3.1315929035585537\n",
      "3.140592653839794\n",
      "3.1414926535900345\n",
      "ok\n"
     ]
    }
   ],
   "source": [
    "# 测试:\n",
    "print(pi(10))\n",
    "print(pi(100))\n",
    "print(pi(1000))\n",
    "print(pi(10000))\n",
    "assert 3.04 < pi(10) < 3.05\n",
    "assert 3.13 < pi(100) < 3.14\n",
    "assert 3.140 < pi(1000) < 3.141\n",
    "assert 3.1414 < pi(10000) < 3.1415\n",
    "print('ok')"
   ]
  },
  {
   "attachments": {},
   "cell_type": "markdown",
   "metadata": {},
   "source": [
    "contexlib"
   ]
  },
  {
   "cell_type": "code",
   "execution_count": 1,
   "metadata": {},
   "outputs": [],
   "source": [
    "# 任何类型，只要实现了__enter__和__exit__就可以使用with语句\n",
    "class Query(object):\n",
    "\n",
    "    def __init__(self, name):\n",
    "        self.name = name\n",
    "\n",
    "    def __enter__(self):\n",
    "        print('Begin')\n",
    "        return self\n",
    "\n",
    "    def __exit__(self, exc_type, exc_value, traceback):\n",
    "        if exc_type:\n",
    "            print('Error')\n",
    "        else:\n",
    "            print('End')\n",
    "\n",
    "    def query(self):\n",
    "        print('Query info about %s ' % self.name)\n"
   ]
  },
  {
   "cell_type": "code",
   "execution_count": 2,
   "metadata": {},
   "outputs": [
    {
     "name": "stdout",
     "output_type": "stream",
     "text": [
      "Begin\n",
      "Query info about Bob \n",
      "End\n"
     ]
    }
   ],
   "source": [
    "with Query('Bob') as q:\n",
    "    q.query()"
   ]
  },
  {
   "cell_type": "code",
   "execution_count": 1,
   "metadata": {},
   "outputs": [],
   "source": [
    "# 可以使用@contextmanager使得满足with as var语句\n",
    "from contextlib import contextmanager\n",
    "\n",
    "\n",
    "class Query(object):\n",
    "\n",
    "    def __init__(self, name):\n",
    "        self.name = name\n",
    "\n",
    "    def query(self):\n",
    "        print('Query info about %s ' % self.name)\n",
    "\n",
    "\n",
    "@contextmanager\n",
    "def create_query(name):\n",
    "    print('Begin')\n",
    "    q = Query(name)\n",
    "    yield q\n",
    "    print('End')"
   ]
  },
  {
   "cell_type": "code",
   "execution_count": 2,
   "metadata": {},
   "outputs": [
    {
     "name": "stdout",
     "output_type": "stream",
     "text": [
      "Begin\n",
      "Query info about Bob \n",
      "End\n"
     ]
    }
   ],
   "source": [
    "with create_query('Bob') as q:\n",
    "    q.query()"
   ]
  },
  {
   "cell_type": "code",
   "execution_count": 4,
   "metadata": {},
   "outputs": [
    {
     "name": "stdout",
     "output_type": "stream",
     "text": [
      "<h1>\n",
      "hello\n",
      "world\n",
      "</h1>\n"
     ]
    }
   ],
   "source": [
    "# 希望在某段代码执行前后自动执行特定代码，也可以用@contextmanager实现\n",
    "@contextmanager\n",
    "def tag(name):\n",
    "    print(\"<%s>\" % name)\n",
    "    yield\n",
    "    print(\"</%s>\" % name)\n",
    "\n",
    "\n",
    "with tag(\"h1\"):\n",
    "    print(\"hello\")\n",
    "    print(\"world\")"
   ]
  },
  {
   "cell_type": "code",
   "execution_count": 5,
   "metadata": {},
   "outputs": [],
   "source": [
    "# 执行yield之前->with内部->yield之后"
   ]
  },
  {
   "cell_type": "code",
   "execution_count": null,
   "metadata": {},
   "outputs": [],
   "source": [
    "# 如果没有使用contextmanager，可以使用closing来完成with\n",
    "from contextlib import closing\n",
    "from urllib.request import urlopen\n",
    "\n",
    "with closing(urlopen('https://www.python.org')) as page:\n",
    "    for line in page:\n",
    "        print(line)"
   ]
  },
  {
   "cell_type": "code",
   "execution_count": 6,
   "metadata": {},
   "outputs": [],
   "source": [
    "@contextmanager\n",
    "def closing(thing):\n",
    "    try:\n",
    "        yield thing\n",
    "    finally:\n",
    "        thing.close()\n",
    "# 作用就是把任意对象变成上下文对象，并支持with语句"
   ]
  },
  {
   "attachments": {},
   "cell_type": "markdown",
   "metadata": {},
   "source": [
    "urllib"
   ]
  },
  {
   "cell_type": "code",
   "execution_count": 1,
   "metadata": {},
   "outputs": [],
   "source": [
    "# 用于操作URL"
   ]
  },
  {
   "cell_type": "code",
   "execution_count": 4,
   "metadata": {},
   "outputs": [
    {
     "name": "stdout",
     "output_type": "stream",
     "text": [
      "Status: 200 OK\n",
      "Date: Tue, 09 May 2023 01:55:06 GMT\n",
      "Server: Apache/2.4.53 (AlmaLinux) OpenSSL/3.0.1 SVN/1.14.1 mod_wsgi/4.7.1 Python/3.9\n",
      "X-Frame-Options: SAMEORIGIN\n",
      "X-XSS-Protection: 1; mode=block\n",
      "X-Content-Type-Options: nosniff\n",
      "Strict-Transport-Security: max-age=31536000; includeSubdomains;\n",
      "Accept-Ranges: bytes\n",
      "Content-Security-Policy: default-src https://*.firebaseio.com/ https://maxcdn.bootstrapcdn.com https://www.google.com https://ajax.googleapis.com 'unsafe-inline' 'unsafe-eval' 'self' ; object-src 'self' ; img-src 'self' data: ;\n",
      "Content-Length: 2771\n",
      "Connection: close\n",
      "Content-Type: text/html; charset=UTF-8\n",
      "Data: <!DOCTYPE html>\n",
      "<html>\n",
      "\t<head>\n",
      "\t\t\n",
      "\t\t<title>\n",
      "\t\t\tRed/Black Tree Visualization \n",
      "\t\t</title>\n",
      "\t\t\n",
      "\t\t<!-- css sheet for how the page is laid out -->\n",
      "\t\t\n",
      "\t\t<link rel=\"stylesheet\" href=\"visualizationPageStyle.css\">\n",
      "\t\t\t\n",
      "\t\t\t\n",
      "\t\t<!-- jqueury stuff.  Only used for the animation speed slider. -->\n",
      "\t\t<link rel=\"stylesheet\" href=\"ThirdParty/jquery-ui-1.8.11.custom.css\">\t\t\t\t\n",
      "\t\t<script src=\"ThirdParty/jquery-1.5.2.min.js\"></script>\n",
      "\t\t<script src=\"ThirdParty/jquery-ui-1.8.11.custom.min.js\"></script>\n",
      "\t\t\t\t\n",
      "\t\t<!-- Javascript for the actual visualization code -->\n",
      "\t\t<script type = \"text/javascript\" src = \"AnimationLibrary/CustomEvents.js\"> </script>\n",
      "\t\t<script type = \"text/javascript\" src = \"AnimationLibrary/UndoFunctions.js\"> </script>\n",
      "\t\t<script type = \"text/javascript\" src = \"AnimationLibrary/AnimatedObject.js\"> </script>\n",
      "\t\t<script type = \"text/javascript\" src = \"AnimationLibrary/AnimatedLabel.js\"> </script>\n",
      "\t\t<script type = \"text/javascript\" src = \"AnimationLibrary/AnimatedCircle.js\"> </script>\n",
      "\t\t<script type = \"text/javascript\" src = \"AnimationLibrary/AnimatedRectangle.js\"> </script>\n",
      "\t\t<script type = \"text/javascript\" src = \"AnimationLibrary/AnimatedLinkedList.js\"> </script>\n",
      "\t\t<script type = \"text/javascript\" src = \"AnimationLibrary/HighlightCircle.js\"> </script>\n",
      "\t\t<script type = \"text/javascript\" src = \"AnimationLibrary/Line.js\"> </script>\n",
      "\t\t<script type = \"text/javascript\" src = \"AnimationLibrary/ObjectManager.js\"> </script>\n",
      "\t\t<script type = \"text/javascript\" src = \"AnimationLibrary/AnimationMain.js\"> </script>\n",
      "\n",
      "\t\t<script type = \"text/javascript\" src = \"AlgorithmLibrary/Algorithm.js\"> </script>\n",
      "\t\t<script type = \"text/javascript\" src = \"AlgorithmLibrary/RedBlack.js\"> </script> \n",
      "\t\t\t\t\n",
      "\t\t\t\n",
      "\t </head> \n",
      "\t\n",
      "\t<body onload=\"init();\" class=\"VisualizationMainPage\">\n",
      "\t\t\n",
      "\t\t<div id = \"container\">\n",
      "\t\t\t\n",
      "\t\t\t<div id=\"header\">  \n",
      "\t\t\t\t<h1>Red/Black Tree</h1>\n",
      "\t\t\t</div>\n",
      "\t\t\t\n",
      "\t\t\t<div = id = \"mainContent\"> \n",
      "\t\t\t\t\n",
      "\t\t\t\t<div id = \"algoControlSection\">\n",
      "\t\t\t\t\t<!-- Table for buttons to control specific animation (insert/find/etc) -->\n",
      "\t\t\t\t\t<!-- (filled in by javascript code specific to the animtion) -->\n",
      "\t\t\t\t\t<table id=\"AlgorithmSpecificControls\"> </table> \n",
      "\t\t\t\t</div>\n",
      "\t\t\t\t\n",
      "\t\t\t\t\t<!-- Drawing canvas where all animation is done.  Note:  can be resized in code -->\n",
      "\t\t\t\t\t\t\t\t\t\n",
      "\t\t\t\t<canvas id=\"canvas\" width=\"1000\" height=\"500\"></canvas>\n",
      "\t\t\t\t\n",
      "\t\t\t\t<div id = \"generalAnimationControlSection\">\n",
      "\t\t\t\t\t<!-- Table for buttons to control general animation (play/pause/undo/etc) ->\n",
      "\t\t\t\t\t<!-- (filled in by javascript code, specifically AnimationMain.js)  -->\n",
      "\n",
      "\t\t\t\t\t<table id=\"GeneralAnimationControls\">  </table>\t\t\n",
      "\t\t\t\t</div>\n",
      "\t\t\t\t\n",
      "\t\t\t</div> <!-- mainContent -->\n",
      "\t\t\t\n",
      "\t\t\t<div id=\"footer\">  \n",
      "\t\t\t\t<p><a href=\"Algorithms.html\">Algorithm Visualizations</a></p>\n",
      "\t\t\t</div>\n",
      "\n",
      "\t\t</div><!-- container -->\n",
      "\t</body>\n",
      "</html>\n",
      "\n"
     ]
    }
   ],
   "source": [
    "# Get，发送一个GET请求到指定的页面，返回HTTP的响应\n",
    "from urllib import request\n",
    "\n",
    "with request.urlopen(\n",
    "        'https://www.cs.usfca.edu/~galles/visualization/RedBlack.html') as f:\n",
    "    data = f.read()\n",
    "    print('Status:', f.status, f.reason)\n",
    "    for k, v in f.getheaders():\n",
    "        print('%s: %s' % (k, v))\n",
    "    print('Data:', data.decode('utf-8'))\n"
   ]
  },
  {
   "cell_type": "code",
   "execution_count": 5,
   "metadata": {},
   "outputs": [
    {
     "name": "stdout",
     "output_type": "stream",
     "text": [
      "Status: 200 OK\n",
      "Date: Tue, 09 May 2023 02:30:34 GMT\n",
      "Server: Apache/2.4.53 (AlmaLinux) OpenSSL/3.0.1 SVN/1.14.1 mod_wsgi/4.7.1 Python/3.9\n",
      "X-Frame-Options: SAMEORIGIN\n",
      "X-XSS-Protection: 1; mode=block\n",
      "X-Content-Type-Options: nosniff\n",
      "Strict-Transport-Security: max-age=31536000; includeSubdomains;\n",
      "Accept-Ranges: bytes\n",
      "Content-Security-Policy: default-src https://*.firebaseio.com/ https://maxcdn.bootstrapcdn.com https://www.google.com https://ajax.googleapis.com 'unsafe-inline' 'unsafe-eval' 'self' ; object-src 'self' ; img-src 'self' data: ;\n",
      "Content-Length: 2771\n",
      "Connection: close\n",
      "Content-Type: text/html; charset=UTF-8\n",
      "Data: <!DOCTYPE html>\n",
      "<html>\n",
      "\t<head>\n",
      "\t\t\n",
      "\t\t<title>\n",
      "\t\t\tRed/Black Tree Visualization \n",
      "\t\t</title>\n",
      "\t\t\n",
      "\t\t<!-- css sheet for how the page is laid out -->\n",
      "\t\t\n",
      "\t\t<link rel=\"stylesheet\" href=\"visualizationPageStyle.css\">\n",
      "\t\t\t\n",
      "\t\t\t\n",
      "\t\t<!-- jqueury stuff.  Only used for the animation speed slider. -->\n",
      "\t\t<link rel=\"stylesheet\" href=\"ThirdParty/jquery-ui-1.8.11.custom.css\">\t\t\t\t\n",
      "\t\t<script src=\"ThirdParty/jquery-1.5.2.min.js\"></script>\n",
      "\t\t<script src=\"ThirdParty/jquery-ui-1.8.11.custom.min.js\"></script>\n",
      "\t\t\t\t\n",
      "\t\t<!-- Javascript for the actual visualization code -->\n",
      "\t\t<script type = \"text/javascript\" src = \"AnimationLibrary/CustomEvents.js\"> </script>\n",
      "\t\t<script type = \"text/javascript\" src = \"AnimationLibrary/UndoFunctions.js\"> </script>\n",
      "\t\t<script type = \"text/javascript\" src = \"AnimationLibrary/AnimatedObject.js\"> </script>\n",
      "\t\t<script type = \"text/javascript\" src = \"AnimationLibrary/AnimatedLabel.js\"> </script>\n",
      "\t\t<script type = \"text/javascript\" src = \"AnimationLibrary/AnimatedCircle.js\"> </script>\n",
      "\t\t<script type = \"text/javascript\" src = \"AnimationLibrary/AnimatedRectangle.js\"> </script>\n",
      "\t\t<script type = \"text/javascript\" src = \"AnimationLibrary/AnimatedLinkedList.js\"> </script>\n",
      "\t\t<script type = \"text/javascript\" src = \"AnimationLibrary/HighlightCircle.js\"> </script>\n",
      "\t\t<script type = \"text/javascript\" src = \"AnimationLibrary/Line.js\"> </script>\n",
      "\t\t<script type = \"text/javascript\" src = \"AnimationLibrary/ObjectManager.js\"> </script>\n",
      "\t\t<script type = \"text/javascript\" src = \"AnimationLibrary/AnimationMain.js\"> </script>\n",
      "\n",
      "\t\t<script type = \"text/javascript\" src = \"AlgorithmLibrary/Algorithm.js\"> </script>\n",
      "\t\t<script type = \"text/javascript\" src = \"AlgorithmLibrary/RedBlack.js\"> </script> \n",
      "\t\t\t\t\n",
      "\t\t\t\n",
      "\t </head> \n",
      "\t\n",
      "\t<body onload=\"init();\" class=\"VisualizationMainPage\">\n",
      "\t\t\n",
      "\t\t<div id = \"container\">\n",
      "\t\t\t\n",
      "\t\t\t<div id=\"header\">  \n",
      "\t\t\t\t<h1>Red/Black Tree</h1>\n",
      "\t\t\t</div>\n",
      "\t\t\t\n",
      "\t\t\t<div = id = \"mainContent\"> \n",
      "\t\t\t\t\n",
      "\t\t\t\t<div id = \"algoControlSection\">\n",
      "\t\t\t\t\t<!-- Table for buttons to control specific animation (insert/find/etc) -->\n",
      "\t\t\t\t\t<!-- (filled in by javascript code specific to the animtion) -->\n",
      "\t\t\t\t\t<table id=\"AlgorithmSpecificControls\"> </table> \n",
      "\t\t\t\t</div>\n",
      "\t\t\t\t\n",
      "\t\t\t\t\t<!-- Drawing canvas where all animation is done.  Note:  can be resized in code -->\n",
      "\t\t\t\t\t\t\t\t\t\n",
      "\t\t\t\t<canvas id=\"canvas\" width=\"1000\" height=\"500\"></canvas>\n",
      "\t\t\t\t\n",
      "\t\t\t\t<div id = \"generalAnimationControlSection\">\n",
      "\t\t\t\t\t<!-- Table for buttons to control general animation (play/pause/undo/etc) ->\n",
      "\t\t\t\t\t<!-- (filled in by javascript code, specifically AnimationMain.js)  -->\n",
      "\n",
      "\t\t\t\t\t<table id=\"GeneralAnimationControls\">  </table>\t\t\n",
      "\t\t\t\t</div>\n",
      "\t\t\t\t\n",
      "\t\t\t</div> <!-- mainContent -->\n",
      "\t\t\t\n",
      "\t\t\t<div id=\"footer\">  \n",
      "\t\t\t\t<p><a href=\"Algorithms.html\">Algorithm Visualizations</a></p>\n",
      "\t\t\t</div>\n",
      "\n",
      "\t\t</div><!-- container -->\n",
      "\t</body>\n",
      "</html>\n",
      "\n"
     ]
    }
   ],
   "source": [
    "# 可以通过添加头部来模拟浏览器请求\n",
    "from urllib import request\n",
    "\n",
    "req = request.Request(\n",
    "    'https://www.cs.usfca.edu/~galles/visualization/RedBlack.html')\n",
    "req.add_header(\n",
    "    'User-Agent',\n",
    "    'Mozilla/6.0 (iPhone; CPU iPhone OS 8_0 like Mac OS X) AppleWebKit/536.26 (KHTML, like Gecko) Version/8.0 Mobile/10A5376e Safari/8536.25'\n",
    ")\n",
    "with request.urlopen(req) as f:\n",
    "    data = f.read()\n",
    "    print('Status:', f.status, f.reason)\n",
    "    for k, v in f.getheaders():\n",
    "        print('%s: %s' % (k, v))\n",
    "    print('Data:', data.decode('utf-8'))\n"
   ]
  },
  {
   "cell_type": "code",
   "execution_count": 1,
   "metadata": {},
   "outputs": [],
   "source": [
    "# 如果想要使用POST发送请求，只需要将参数以bytes形式传入\n",
    "# with request.urlopen(req,data=login.encode('utf-8')) as f:"
   ]
  },
  {
   "cell_type": "code",
   "execution_count": 7,
   "metadata": {},
   "outputs": [
    {
     "name": "stdout",
     "output_type": "stream",
     "text": [
      "{\n",
      "  \"args\": {}, \n",
      "  \"headers\": {\n",
      "    \"Accept-Encoding\": \"identity\", \n",
      "    \"Host\": \"www.httpbin.org\", \n",
      "    \"User-Agent\": \"Mozilla/5.0 (Windows NT 10.0; Win64; x64) AppleWebKit/537.36 (KHTML, like Gecko) Chrome/113.0.0.0 Safari/537.36 Edg/113.0.1774.35\", \n",
      "    \"X-Amzn-Trace-Id\": \"Root=1-6459bfa4-23297f3626f3ed54648de424\"\n",
      "  }, \n",
      "  \"origin\": \"101.42.2.105\", \n",
      "  \"url\": \"http://www.httpbin.org/get\"\n",
      "}\n",
      "\n",
      "{'args': {}, 'headers': {'Accept-Encoding': 'identity', 'Host': 'www.httpbin.org', 'User-Agent': 'Mozilla/5.0 (Windows NT 10.0; Win64; x64) AppleWebKit/537.36 (KHTML, like Gecko) Chrome/113.0.0.0 Safari/537.36 Edg/113.0.1774.35', 'X-Amzn-Trace-Id': 'Root=1-6459bfa4-23297f3626f3ed54648de424'}, 'origin': '101.42.2.105', 'url': 'http://www.httpbin.org/get'}\n",
      "ok\n"
     ]
    }
   ],
   "source": [
    "# 利用urllib读取JSON，然后将JSON解析为Python对象：\n",
    "from urllib import request\n",
    "import json\n",
    "\n",
    "\n",
    "def fetch_data(url):\n",
    "    req = request.Request(url)\n",
    "    req.add_header(\n",
    "        'User-Agent',\n",
    "        'Mozilla/5.0 (Windows NT 10.0; Win64; x64) AppleWebKit/537.36 (KHTML, like Gecko) Chrome/113.0.0.0 Safari/537.36 Edg/113.0.1774.35'\n",
    "    )\n",
    "    with request.urlopen(req) as f:\n",
    "        data = f.read().decode('utf-8')\n",
    "        print(data)\n",
    "        d = json.loads(data)\n",
    "    return d\n",
    "\n",
    "\n",
    "# 测试\n",
    "URL = 'http://www.httpbin.org/get'\n",
    "data = fetch_data(URL)\n",
    "print(data)\n",
    "assert data['origin'] == '101.42.2.105'\n",
    "print('ok')"
   ]
  },
  {
   "attachments": {},
   "cell_type": "markdown",
   "metadata": {},
   "source": [
    "HTMl"
   ]
  },
  {
   "cell_type": "code",
   "execution_count": 10,
   "metadata": {},
   "outputs": [
    {
     "name": "stdout",
     "output_type": "stream",
     "text": [
      "<html>\n",
      "\n",
      "\n",
      "<head>\n",
      "</head>\n",
      "\n",
      "\n",
      "<body>\n",
      "\n",
      "\n",
      "<!--  test html parser  -->\n",
      "\n",
      "    \n",
      "<p>\n",
      "Some \n",
      "<a>\n",
      "html\n",
      "</a>\n",
      " HTML tutorial...\n",
      "<br>\n",
      "END\n",
      "</p>\n",
      "<br>\n",
      "<h3>\n",
      "<a>\n",
      "JupyterCon 2023\n",
      "</a>\n",
      "</h3>\n",
      "\n",
      "\n",
      "</body>\n",
      "</html>\n"
     ]
    }
   ],
   "source": [
    "# 在python中，使用HTMLParser解析HTML\n",
    "from html.parser import HTMLParser\n",
    "from html.entities import name2codepoint\n",
    "\n",
    "\n",
    "class MyHTMLParser(HTMLParser):\n",
    "\n",
    "    def handle_starttag(self, tag, attrs):\n",
    "        print('<%s>' % tag)\n",
    "\n",
    "    def handle_endtag(self, tag):\n",
    "        print('</%s>' % tag)\n",
    "\n",
    "    def handle_startendtag(self, tag, attrs):\n",
    "        print('<%s>' % tag)\n",
    "\n",
    "    def handle_data(self, data):\n",
    "        print(data)\n",
    "\n",
    "    def handle_comment(self, data):\n",
    "        print('<!--', data, '-->')\n",
    "\n",
    "    def handle_entityref(self, name):\n",
    "        print('%s;' % name)\n",
    "\n",
    "    def handle_charref(self, name):\n",
    "        print('&#%s;' % name)\n",
    "\n",
    "\n",
    "parser = MyHTMLParser()\n",
    "parser.feed('''<html>\n",
    "<head></head>\n",
    "<body>\n",
    "<!-- test html parser -->\n",
    "    <p>Some <a href=\\\"#\\\">html</a> HTML&nbsp;tutorial...<br>END</p><br><h3 class=\"event-title\"><a href=\"/events/python-events/1456/\">JupyterCon 2023</a></h3>\n",
    "</body></html>''')"
   ]
  },
  {
   "cell_type": "code",
   "execution_count": 17,
   "metadata": {},
   "outputs": [
    {
     "name": "stdout",
     "output_type": "stream",
     "text": [
      "ok\n"
     ]
    }
   ],
   "source": [
    "l = [('href', '/events/python-events/1380/')]\n",
    "if len(l) == 1 and '/events/python-events/' in l[0][1]:\n",
    "    print('ok')"
   ]
  },
  {
   "cell_type": "code",
   "execution_count": 1,
   "metadata": {},
   "outputs": [
    {
     "name": "stdout",
     "output_type": "stream",
     "text": [
      "Events's name is JupyterCon 2023\n",
      "Time: 10 May – 12 May \n",
      "Location is Paris, France\n",
      "\n",
      "Events's name is KX CON [23]\n",
      "Time: 17 May – 20 May \n",
      "Location is Montauk, NY, USA\n",
      "\n",
      "Events's name is PyCon LT 2023\n",
      "Time: 17 May – 20 May \n",
      "Location is Vilnius, Lithuania\n",
      "\n",
      "Events's name is PyCon Italia 2023\n",
      "Time: 25 May – 28 May \n",
      "Location is Florence, Italy\n",
      "\n",
      "Events's name is  DjangoCon Europe 2023\n",
      "Time: 29 May – 02 June \n",
      "Location is Edinburgh, Scotland\n",
      "\n",
      "Events's name is PyData London 2023\n",
      "Time: 02 June – 04 June \n",
      "Location is London, UK\n",
      "\n",
      "Events's name is PyCon US 2023\n",
      "Time: 19 April – 27 April \n",
      "Location is Salt Lake City, Utah, USA\n",
      "\n",
      "Events's name is PyCon DE & PyData Berlin 2023\n",
      "Time: 17 April – 19 April \n",
      "Location is Berlin, Germany\n",
      "\n"
     ]
    }
   ],
   "source": [
    "# 在python中，使用HTMLParser解析HTML\n",
    "from html.parser import HTMLParser\n",
    "from html.entities import name2codepoint\n",
    "from urllib import request\n",
    "\n",
    "\n",
    "class MyHTMLParser(HTMLParser):\n",
    "    _name = ''\n",
    "\n",
    "    def handle_starttag(self, tag, attrs):\n",
    "        if len(attrs) == 1 and 'events/python-events/' in attrs[0][1]:\n",
    "            self._name = 'Title'\n",
    "        if len(attrs) > 0 and 'datetime' in attrs[0]:\n",
    "            self._name = 'Time'\n",
    "        if ('class', 'event-location') in attrs:\n",
    "            self._name = 'Location'\n",
    "\n",
    "    def handle_data(self, data):\n",
    "        if self._name == 'Title':\n",
    "            print('Events\\'s name is', data)\n",
    "            self._name = ''\n",
    "        if self._name == 'Time':\n",
    "            print('Time:', data)\n",
    "            self._name = ''\n",
    "        if self._name == 'Location':\n",
    "            print('Location is', data, end='\\n\\n')\n",
    "            self._name = ''\n",
    "\n",
    "    def handle_endtag(self, tag):\n",
    "        pass\n",
    "\n",
    "    def handle_startendtag(self, tag, attrs):\n",
    "        pass\n",
    "\n",
    "    def handle_comment(self, data):\n",
    "        pass\n",
    "\n",
    "    def handle_entityref(self, name):\n",
    "        pass\n",
    "\n",
    "    def handle_charref(self, name):\n",
    "        pass\n",
    "\n",
    "\n",
    "parser = MyHTMLParser()\n",
    "URL = 'https://www.python.org/events/python-events/'\n",
    "with request.urlopen(URL) as f:\n",
    "    parser.feed(f.read().decode('utf-8'))"
   ]
  },
  {
   "attachments": {},
   "cell_type": "markdown",
   "metadata": {},
   "source": [
    "# 常用第三方模块"
   ]
  },
  {
   "attachments": {},
   "cell_type": "markdown",
   "metadata": {},
   "source": [
    "Pillow"
   ]
  },
  {
   "cell_type": "code",
   "execution_count": 7,
   "metadata": {},
   "outputs": [
    {
     "name": "stdout",
     "output_type": "stream",
     "text": [
      "Original sizeL 4096x2304\n",
      "Resize image to: 2048x1152\n"
     ]
    }
   ],
   "source": [
    "# 操作图像\n",
    "from PIL import Image\n",
    "\n",
    "im = Image.open('202208252103684.jpg')\n",
    "w, h = im.size\n",
    "print('Original sizeL %sx%s' % (w, h))\n",
    "# 缩放\n",
    "im.thumbnail((w // 2, h // 2))\n",
    "print('Resize image to: %sx%s' % (w // 2, h // 2))\n",
    "# 把缩放后的图像用jpeg格式保存:\n",
    "im.save('thumbnail.jpg', 'jpeg')"
   ]
  },
  {
   "cell_type": "code",
   "execution_count": 13,
   "metadata": {},
   "outputs": [],
   "source": [
    "from PIL import Image, ImageDraw, ImageFont, ImageFilter\n",
    "\n",
    "import random\n",
    "\n",
    "\n",
    "# 随机字母:\n",
    "def rndChar():\n",
    "    return chr(random.randint(65, 90))\n",
    "\n",
    "\n",
    "# 随机颜色1:\n",
    "def rndColor():\n",
    "    return (random.randint(64,\n",
    "                           255), random.randint(64,\n",
    "                                                255), random.randint(64, 255))\n",
    "\n",
    "\n",
    "# 随机颜色2:\n",
    "def rndColor2():\n",
    "    return (random.randint(32,\n",
    "                           127), random.randint(32,\n",
    "                                                127), random.randint(32, 127))\n",
    "\n",
    "\n",
    "# 240 x 60:\n",
    "width = 60 * 4\n",
    "height = 60\n",
    "image = Image.new('RGB', (width, height), (255, 255, 255))\n",
    "# 创建Font对象:\n",
    "font = ImageFont.truetype('Mono.ttf', 36)\n",
    "# 创建Draw对象:\n",
    "draw = ImageDraw.Draw(image)\n",
    "# 填充每个像素:\n",
    "for x in range(width):\n",
    "    for y in range(height):\n",
    "        draw.point((x, y), fill=rndColor())\n",
    "# 输出文字:\n",
    "for t in range(4):\n",
    "    draw.text((60 * t + 10, 10), rndChar(), font=font, fill=rndColor2())\n",
    "# 模糊:\n",
    "image = image.filter(ImageFilter.BLUR)\n",
    "image.save('code.jpg', 'jpeg')"
   ]
  },
  {
   "attachments": {},
   "cell_type": "markdown",
   "metadata": {},
   "source": [
    "requests"
   ]
  },
  {
   "cell_type": "code",
   "execution_count": 3,
   "metadata": {},
   "outputs": [
    {
     "data": {
      "text/plain": [
       "200"
      ]
     },
     "execution_count": 3,
     "metadata": {},
     "output_type": "execute_result"
    }
   ],
   "source": [
    "# requests用于处理URL资源\n",
    "import requests\n",
    "r=requests.get('https://www.baidu.com/')\n",
    "r.status_code"
   ]
  },
  {
   "cell_type": "code",
   "execution_count": 4,
   "metadata": {},
   "outputs": [
    {
     "data": {
      "text/plain": [
       "'<!DOCTYPE html>\\r\\n<!--STATUS OK--><html> <head><meta http-equiv=content-type content=text/html;charset=utf-8><meta http-equiv=X-UA-Compatible content=IE=Edge><meta content=always name=referrer><link rel=stylesheet type=text/css href=https://ss1.bdstatic.com/5eN1bjq8AAUYm2zgoY3K/r/www/cache/bdorz/baidu.min.css><title>ç\\x99¾åº¦ä¸\\x80ä¸\\x8bï¼\\x8cä½\\xa0å°±ç\\x9f¥é\\x81\\x93</title></head> <body link=#0000cc> <div id=wrapper> <div id=head> <div class=head_wrapper> <div class=s_form> <div class=s_form_wrapper> <div id=lg> <img hidefocus=true src=//www.baidu.com/img/bd_logo1.png width=270 height=129> </div> <form id=form name=f action=//www.baidu.com/s class=fm> <input type=hidden name=bdorz_come value=1> <input type=hidden name=ie value=utf-8> <input type=hidden name=f value=8> <input type=hidden name=rsv_bp value=1> <input type=hidden name=rsv_idx value=1> <input type=hidden name=tn value=baidu><span class=\"bg s_ipt_wr\"><input id=kw name=wd class=s_ipt value maxlength=255 autocomplete=off autofocus=autofocus></span><span class=\"bg s_btn_wr\"><input type=submit id=su value=ç\\x99¾åº¦ä¸\\x80ä¸\\x8b class=\"bg s_btn\" autofocus></span> </form> </div> </div> <div id=u1> <a href=http://news.baidu.com name=tj_trnews class=mnav>æ\\x96°é\\x97»</a> <a href=https://www.hao123.com name=tj_trhao123 class=mnav>hao123</a> <a href=http://map.baidu.com name=tj_trmap class=mnav>å\\x9c°å\\x9b¾</a> <a href=http://v.baidu.com name=tj_trvideo class=mnav>è§\\x86é¢\\x91</a> <a href=http://tieba.baidu.com name=tj_trtieba class=mnav>è´´å\\x90§</a> <noscript> <a href=http://www.baidu.com/bdorz/login.gif?login&amp;tpl=mn&amp;u=http%3A%2F%2Fwww.baidu.com%2f%3fbdorz_come%3d1 name=tj_login class=lb>ç\\x99»å½\\x95</a> </noscript> <script>document.write(\\'<a href=\"http://www.baidu.com/bdorz/login.gif?login&tpl=mn&u=\\'+ encodeURIComponent(window.location.href+ (window.location.search === \"\" ? \"?\" : \"&\")+ \"bdorz_come=1\")+ \\'\" name=\"tj_login\" class=\"lb\">ç\\x99»å½\\x95</a>\\');\\r\\n                </script> <a href=//www.baidu.com/more/ name=tj_briicon class=bri style=\"display: block;\">æ\\x9b´å¤\\x9aäº§å\\x93\\x81</a> </div> </div> </div> <div id=ftCon> <div id=ftConw> <p id=lh> <a href=http://home.baidu.com>å\\x85³äº\\x8eç\\x99¾åº¦</a> <a href=http://ir.baidu.com>About Baidu</a> </p> <p id=cp>&copy;2017&nbsp;Baidu&nbsp;<a href=http://www.baidu.com/duty/>ä½¿ç\\x94¨ç\\x99¾åº¦å\\x89\\x8då¿\\x85è¯»</a>&nbsp; <a href=http://jianyi.baidu.com/ class=cp-feedback>æ\\x84\\x8fè§\\x81å\\x8f\\x8dé¦\\x88</a>&nbsp;äº¬ICPè¯\\x81030173å\\x8f·&nbsp; <img src=//www.baidu.com/img/gs.gif> </p> </div> </div> </div> </body> </html>\\r\\n'"
      ]
     },
     "execution_count": 4,
     "metadata": {},
     "output_type": "execute_result"
    }
   ],
   "source": [
    "r.text"
   ]
  },
  {
   "cell_type": "code",
   "execution_count": 10,
   "metadata": {},
   "outputs": [
    {
     "data": {
      "text/plain": [
       "'http://www.baidu.com/forbiddenip/forbidden.html'"
      ]
     },
     "execution_count": 10,
     "metadata": {},
     "output_type": "execute_result"
    }
   ],
   "source": [
    "# 如果需要传入参数，可以添加一个dict作为params参数\n",
    "r = requests.get('https://www.baidu.com/search',\n",
    "                 params={\n",
    "                     'q': 'python',\n",
    "                     'cat': '1001'\n",
    "                 })\n",
    "r.url"
   ]
  },
  {
   "cell_type": "code",
   "execution_count": 11,
   "metadata": {},
   "outputs": [
    {
     "name": "stdout",
     "output_type": "stream",
     "text": [
      "ISO-8859-1\n"
     ]
    }
   ],
   "source": [
    "print(r.encoding)"
   ]
  },
  {
   "cell_type": "code",
   "execution_count": 12,
   "metadata": {},
   "outputs": [
    {
     "data": {
      "text/plain": [
       "b'<html>\\n    \\n    <head>\\n        <title>\\xe6\\x82\\xa8\\xe8\\xae\\xbf\\xe9\\x97\\xae\\xe7\\x9a\\x84\\xe9\\xa1\\xb5\\xe9\\x9d\\xa2\\xe4\\xb8\\x8d\\xe5\\xad\\x98\\xe5\\x9c\\xa8!</title>\\n        <meta http-equiv=\"Content-Type\" content=\"text/html; charset=utf-8\">\\n    </head>\\n    \\n    <body></body>\\n\\n</html>'"
      ]
     },
     "execution_count": 12,
     "metadata": {},
     "output_type": "execute_result"
    }
   ],
   "source": [
    "r.content# 获取bytes对象"
   ]
  },
  {
   "cell_type": "code",
   "execution_count": 14,
   "metadata": {},
   "outputs": [],
   "source": [
    "# 对于特定类型的响应，可以直接获取"
   ]
  },
  {
   "cell_type": "code",
   "execution_count": 16,
   "metadata": {},
   "outputs": [
    {
     "data": {
      "text/plain": [
       "'\\ufeff<!DOCTYPE html>\\n<html class=\"\"><!--STATUS OK--><head><meta name=\"referrer\" content=\"always\" /><meta charset=\\'utf-8\\' /><meta name=\"viewport\" content=\"width=device-width,minimum-scale=1.0,maximum-scale=1.0,user-scalable=no\"/><meta http-equiv=\"x-dns-prefetch-control\" content=\"on\"><meta name=\"description\" content=\"全球最大的中文搜索引擎、致力于让网民更便捷地获取信息，找到所求。百度超过千亿的中文网页数据库，可以瞬间找到相关的搜索结果。\"><link rel=\"dns-prefetch\" href=\"//m.baidu.com\"/><link rel=\"shortcut icon\" href=\"https://sm.bdimg.com/static/wiseindex/img/favicon64.ico\" type=\"image/x-icon\"><link rel=\"apple-touch-icon-precomposed\" href=\"https://psstatic.cdn.bcebos.com/video/wiseindex/aa6eef91f8b5b1a33b454c401_1660835115000.png\"/><meta name=\"format-detection\" content=\"telephone=no\"/><noscript><style type=\"text/css\">#page{display:none;}</style><meta http-equiv=\"refresh\" content=\"0; URL=http://m.baidu.com/?baiduid=0DBCE969C3CB7B9562C20FC5E7A37E35&amp;cip=101.42.2.105&amp;from=844b&amp;vit=fps?from=844b&amp;vit=fps&amp;index=&amp;ssid=0&amp;bd_page_type=1&amp;logid=8135349489950485466&pu=sz%401321_480&t_noscript=jump\" /></noscript><title>百度一下</title><script>window._performanceTimings=[[\\'firstLine\\',+new Date()]];</script><style type=\"text/css\" id=\\'spa-base-style\\'>#search-card {display: none;}</style><style type=\"text/css\">@font-face {font-family: \\'n-icons\\';src: url(\\'https://sm.bdimg.com/static/wiseindex/fonts/n-icons_ec9afed.eot\\');src: url(\\'https://sm.bdimg.com/static/wiseindex/fonts/n-icons_ec9afed.eot#iefix\\') format(\\'embedded-opentype\\'),url(\\'https://sm.bdimg.com/static/wiseindex/fonts/n-icons_7bcbf44.woff\\') format(\\'woff\\'),url(\\'https://sm.bdimg.com/static/wiseindex/fonts/n-icons_d083fee.ttf\\') format(\\'truetype\\'),url(\\'https://sm.bdimg.com/static/wiseindex/fonts/n-icons_1015320.svg#n-icons\\') format(\\'svg\\');font-weight: normal;font-style: normal;}@font-face {font-family: \\'icons\\';src: url(\\'https://sm.bdimg.com/static/wiseindex/iconfont/iconfont_b8e5ea1.eot\\');src: url(\\'https://sm.bdimg.com/static/wiseindex/iconfont/iconfont_b8e5ea1.eot#iefix\\') format(\\'embedded-opentype\\'),url(\\'https://sm.bdimg.com/static/wiseindex/iconfont/iconfont_04b353e.woff\\') format(\\'woff\\'),url(\\'https://sm.bdimg.com/static/wiseindex/iconfont/iconfont_2681c2d.ttf\\') format(\\'truetype\\'),url(\\'https://sm.bdimg.com/static/wiseindex/iconfont/iconfont_b8f8f01.svg#iconfont\\') format(\\'svg\\');font-weight: normal;font-style: normal;}@font-face {font-family: \\'cicons\\';src: url(\\'https://sm.bdimg.com/static/wiseindex/cicons/cicon_e22c86f.eot\\');src: url(\\'https://sm.bdimg.com/static/wiseindex/cicons/cicon_e22c86f.eot#iefix\\') format(\\'embedded-opentype\\'),url(\\'https://sm.bdimg.com/static/wiseindex/cicons/cicon_ae5d0a9.woff\\') format(\\'woff\\'),url(\\'https://sm.bdimg.com/static/wiseindex/cicons/cicon_8cded3d.ttf\\') format(\\'truetype\\'),url(\\'https://sm.bdimg.com/static/wiseindex/cicons/cicon_0540b32.svg#cicons\\') format(\\'svg\\');font-weight: 400;font-style: normal;}.c-icon {font-family: \"cicons\" !important;font-style: normal;-webkit-font-smoothing: antialiased;}i.ns-focus,i.ns-news,i.ns-novel,i.ns-video,i.ns-life,i.ns-map,i.ns-tieba,i.ns-app,i.ns-image,i.ns-website,i.ns-extend,i.ns-music,i.ns-listen,i.ns-waimai {background: url(\\'https://sm.bdimg.com/static/wiseindex/img/ns_diff_color_v3_030ad03.png\\') no-repeat;background-size: 22px auto;}i.ns-dumall {background-image: url(data:image/png;base64,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);background-size: 22px auto;}/* 大事件置灰 */</style><style type=\"text/css\" class=\"spa-index-style\" data-lsid=\"plus_css_head\">body,h1,h2,h3,p,div,ol,ul,input,button{margin:0;padding:0}body{overflow-x:hidden;max-width:100%;font-family:Arial,Helvetica,sans-serif;text-align:center;background:#f1f1f1;-webkit-text-size-adjust:none}ol,ul{list-style:none}a{text-decoration:none;-webkit-tap-highlight-color:rgba(0,0,0,0)}input,button,textarea{-webkit-box-sizing:border-box;box-sizing:border-box;border:0;border-radius:0;background:transparent;-webkit-appearance:none}button{outline:0}#index-card [class^=icon-],#index-card [class*=\" icon-\"],#index-view [class^=icon-],#index-view [class*=\" icon-\"]{font-family:icons;font-style:normal;-webkit-font-smoothing:antialiased;-webkit-text-stroke-width:.2px}#index-card [class^=icon-],#index-card [class*=\" icon-\"],#index-view [class^=icon-],#index-view [class*=\" icon-\"]{font-family:icons;font-style:normal}#__SF___mine .normal-title>i{position:absolute;top:11px;left:-2px;display:none}#__SF___mine .icon-add,#index-view .icon-add{display:inherit;margin:auto;color:#b6b7ba}#__SF___mine .icon-add:before{content:\"\\\\e888\";font:16px/16px icons;color:#999}#__SF___mine .plus-empty .icon-add-empty:before{content:\"\";position:absolute;top:50%;left:50%;width:16px;height:1px;margin-top:-1px;margin-left:-8px;border-radius:4px;background-color:#38f}#__SF___mine .plus-empty .icon-add-empty{position:absolute;margin-top:7px;margin-left:-10px}#__SF___mine .plus-empty .icon-add-empty:after{content:\"\";position:absolute;top:50%;left:50%;width:1px;height:16px;margin-top:-8px;margin-left:-1px;border-radius:4px;background-color:#38f}#index-view .icon-url,#index-view .icon-nav{color:#777}#__SF___mine .icon-arrow:before{content:\"\\\\e896\";color:#b6b7ba}#__SF___mine .icon-arrow{display:inline-block;padding:0 6px}#userinfo-wrap{position:relative;height:35px;margin-bottom:9px}#userinfo-wraps{position:absolute;top:8px;right:16px;display:block;width:25px;height:25px}#userinfo{display:block;width:23px;height:23px;padding:1px;-webkit-border-radius:50%;border-radius:50%;background-color:#fff}#userinfo span{display:inline-block;width:23px;height:23px;-webkit-border-radius:50%;border-radius:50%;background-repeat:no-repeat;background-size:cover}#userinfo-wraps .logined-banner{position:absolute;top:1px;right:36px;font-size:12px;height:21px;padding:1px 5px 0;line-height:21px;border-radius:3px;background:#fff;border:1px solid #d8d8d8;color:#666}.logined-banner .index-banner-text{display:block;overflow:hidden;max-width:85px;white-space:nowrap;text-overflow:ellipsis}.logined-banner .index-banner-triangle,.index-banner .index-banner-triangle{position:absolute;z-index:10;top:10px;right:3px;width:6px;height:6px;border:1px solid #d8d8d8;background-color:#fff;border-left-color:rgba(0,0,0,0);border-bottom-color:rgba(0,0,0,0);-webkit-transform:translateX(50%) rotate(45deg) translateY(-50%);transform:translateX(50%) rotate(45deg) translateY(-50%)}.logined-banner .index-banner-triangle-shadow{position:absolute;top:6px;right:-10px;width:0;height:0;border:5px solid transparent;border-left-color:rgba(3,3,3,.13);display:none}#userinfo-wraps .red-remind{position:absolute;top:-1px;right:-1px;width:8px;height:8px;-webkit-border-radius:50%;border-radius:50%;background:#f43531}#login{position:absolute;top:8px;right:16px;width:25px;height:25px;background-image:url(data:image/png;base64,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);background-repeat:no-repeat;background-size:100% 100%}#skin{position:absolute;z-index:1;top:1px;right:11px;padding:3px;padding-left:0;font-size:28px;line-height:20px;color:#999}#skin-container{position:absolute;z-index:-1;top:0;left:0;display:block;width:100%;height:100%;background-repeat:no-repeat;-webkit-background-size:100% auto;background-size:100% auto}#logo{height:57px;padding-bottom:17px}#logo.use-festival img{max-width:217px;height:100%}#index-form{height:44px;margin:0 16px;border:1px solid #d2d2d2;-webkit-border-radius:2px;border-radius:2px;background:#fff;-webkit-box-shadow:0 2px 0 0 rgba(0,0,0,.03);box-shadow:0 2px 0 0 rgba(0,0,0,.03)}#index-kw::-webkit-input-placeholder{font-size:17px;color:#858585}.searchboxtop-wrap{margin-top:-7px;margin-bottom:-10px;padding-top:7px;padding-bottom:10px;background-color:#fff}#index-form .con-wrap{display:-moz-box;display:-webkit-box;display:box;width:100%}#index-form .con-wrap .con-inner-left{-webkit-box-flex:1;-moz-box-flex:1;box-flex:1;display:-moz-box;display:-webkit-box;display:box;border-top-left-radius:12px;border-bottom-left-radius:12px}#index-card .se-input::-webkit-search-cancel-button{display:none;-webkit-appearance:none}#index-card .se-input,#index-card .se-encode{display:block;margin:2px 0;padding:6px 35px 6px 6px;font-size:18px;line-height:24px;-webkit-appearance:none;-webkit-box-flex:1;-moz-box-flex:1;box-flex:1;min-width:0;-webkit-tap-highlight-color:rgba(0,0,0,0)}#index-card .se-form .se-input::-webkit-input-placeholder{font-size:18px;color:#858585}#index-card .his-wrap-new .fake-placeholder{height:42px;padding-left:14px}#index-card .fake-placeholder{width:100%;height:47px;position:absolute;overflow:hidden;top:0;margin:0;padding:0 12px;font-family:Arial,Helvetica,sans-serif;color:#858585;box-sizing:border-box;display:block;text-align:left;-webkit-tap-highlight-color:rgba(255,255,255,0)}#index-card .fake-placeholder::before{content:\\'\\';display:inline-block;height:100%;vertical-align:middle}#index-card .fake-placeholder .query-text{display:inline-block;max-width:100%;overflow:hidden;text-overflow:ellipsis;white-space:nowrap;line-height:24px;font-size:18px;vertical-align:middle;opacity:0}#index-card .fake-placeholder .query-tag{display:inline-block;margin-left:6px;width:20px;vertical-align:middle}#index-card .his-wrap-new .fake-placeholder .query-tag{display:none}#index-card .input-wrapper{flex:1 0 auto;position:relative;min-width:0;-webkit-box-flex:1;-moz-box-flex:1;box-flex:1}#index-card .input-wrapper .se-input{width:100%}#index-bn{position:relative;right:-1px;box-sizing:inherit;width:78px;height:49px;line-height:49px;padding:0 10px;border:0;font-size:16px;font-weight:700;white-space:nowrap;letter-spacing:-1px;border-top-right-radius:12px;border-bottom-right-radius:12px;text-shadow:none;color:#fff;background-color:#4e6ef2;-webkit-user-select:none;user-select:none}.se-form #index-bn{right:-2px}.f-swicth-wrapper{position:fixed;bottom:.67rem;-webkit-transition:.25s all linear;transition:.25s all linear;-webkit-transform:translate(0,0);transform:translate(0,0)}.f-swicth{display:inline-block;width:.99rem;height:.28rem;border:1px solid #d4d6d8;border-left:0;font-size:.12rem;line-height:.28rem;color:#555;-webkit-border-top-right-radius:1rem;border-top-right-radius:1rem;-webkit-border-bottom-right-radius:1rem;border-bottom-right-radius:1rem;background:#fff;-webkit-box-shadow:0 .02rem .06rem 0 rgba(98,106,120,.06);box-shadow:0 .02rem .06rem 0 rgba(98,106,120,.06)}.page-show-feed .f-swicth-wrapper{-webkit-transition:.25s all linear;transition:.25s all linear;-webkit-transform:translate(-1.02rem,0);transform:translate(-1.02rem,0)}#foot{margin:10px 28px 0}#foot div{overflow:hidden;text-align:center}#foot div a{position:relative;display:inline-block;width:95px;height:34px;font-size:13px;line-height:34px;color:#666}#foot div a .icon-feedback{position:absolute;top:8px;left:0;display:inline-block;width:16px;height:16px;vertical-align:middle;background:url(data:image/png;base64,iVBORw0KGgoAAAANSUhEUgAAAB4AAAAeCAYAAAA7MK6iAAAAxklEQVR4Xu3WzwnCQBDFYROsQgt5HVmD5OKfg2INVjSFmDZWPezF5yL82CUIO5BLAvnymMwkQ0pptUSNrYAOd3idgYh4vIBNRWCWtP2ZuBpavl/vsZekgQIRkf4qsT81r+sSic+Sps8w76MlfJJ0KL03GR8boEdvm+M14cs3tITnHwG/CMpRH1PQY4L6+VrjdJe0K6GtEt8IajCY0z1ADQZzClCDwchwlH+dOMoTeyKC+gKxKu/bjKLlwxM7ZiiDOU7gGeOgnnVfg16nKrf9AAAAAElFTkSuQmCC) no-repeat;background-size:100% 100%}#index-copyright,.recordcode{display:block;height:20px;padding:6px 0 0;font-size:12px;line-height:20px;color:#999}.recordcode{height:12px;padding:6px 0 20px;line-height:12px}.recordcode i{display:inline-block;width:12px;height:12px;margin-right:5px;vertical-align:top;background:url(//m.baidu.com/static/index/plus/public/icon_police.png) no-repeat;background-size:100% 100%}#index-card{position:relative}#index-card .se-input{overflow:hidden;text-overflow:ellipsis;white-space:nowrap;height:44px;margin:0;padding:7px 6px;font-family:Arial,Helvetica,sans-serif;line-height:28px;-webkit-border-radius:0;border-radius:0;resize:none}#index-card .se-form .se-input{color:#1f1f1f}.input-hidden{position:absolute;top:0;left:6px;visibility:hidden}.adjust-input{position:relative;margin:0 -74px 0 0;line-height:29px;word-wrap:break-word;word-break:break-all}.index-banner{position:absolute;top:10px;right:55px;display:block;height:21px;padding:1px 5px 0;line-height:21px;border-radius:3px;background:#fff;border:1px solid #d8d8d8}.index-banner .index-banner-text{display:block;overflow:hidden;max-width:85px;height:21px;font-size:12px;color:#666}.index-banner .index-banner-triangle-shadow{position:absolute;top:7px;right:-10px;width:0;height:0;border:5px solid transparent;border-left-color:rgba(3,3,3,.13);display:none}#skin .red-remind{position:absolute;top:5px;right:0;width:4px;height:4px;border-radius:2px;background:red;-webkit-border-radiu:2px}.has-background #index-card{position:relative;z-index:0}.has-background .weather-outline>div:first-child{color:#fff}.has-background .icon-weather-default{color:#fff}.has-background .weather-status:before{color:#fff}.has-background .weather-status p{color:#fff}.has-background #weather .icon-down:before{color:#fff}.has-background #userinfo{color:#fff}.has-background #login{background-image:url(data:image/png;base64,iVBORw0KGgoAAAANSUhEUgAAAEsAAABLCAYAAAA4TnrqAAAAAXNSR0IArs4c6QAACstJREFUeAHVm12sHVUVx3urViuUaK4xKY1AWyl+YSkNVIsEGqiEqMWE1JAIhFDhAZpQ5aE0aegVA4TENvqmCS9tfTQkVioUih8vVyxgtAkltBaLYhOVVuDy0Wpr/f1PZ937v3PPnDOzZ+Zcu5L/3Z/rv9ZeZ/bMnr3nDs2YBjl16tT5mF0KLsqwiHQYzAFngw+Dd8HbYAwcAfvByxleGBoaepX8QGVoENYIjgLwVXAtWAEWgLryCgS/ArvB4wRPgT0zhQDNBCvBdvA2aFPELzuyN7OtiDV+ZeHs+3H2ZrABaHp1E10Fo+BFEFPrMPmYdpqCmooxLc8lH1P2s+SXA12t3UTT9WHwE662E906THsdQRoCa8Ah0E32UrkRLAcKaLJIP+MRn3i7ifyQP41fEMmOSxGHloBnQV6OUrEZXFLLQB9l8YMtQPbyIr+W9KFovxknZgE5eQK4/J3CeqBpNDCRvcyu7LvIP/k5a2DOuCEMLwDPA5f3KIyA2d530HnZz/w4Ruoif5t4EpcfEgZXgTfcC/JPgIXlWdrvKX8yv0jGRX6vat86FjB0B/Bpp19v7UCMJxqRf+A4CJH/dyTSlVPDwMawlqUHSS8tpz29veQnkL8uG1vxCgv5QO2h7mOtGGuJVP4C+e3SbMBg1tRz2UXhrJbG1Cqt/Aby36WZKQmjbuZ+j5KhD7Q6opbJ5T/wgGl89W76EGh54E89XcJn5BWVj7/GAXxKapxpywoUteD0ddSfKJ9R96h8gPJljQf4TV/jrb5wRUkr3hAtD1p56sG7GGwCO4CcPQyOZ6nKqt8EFucH20QZXj0lffG6pRIvynrX8/tUo+souM8BDwC97FYR9ZfeOZUG1KczfGvNCY273LskHbV74C/FT/SxVboZXk3te8DroI78E2XxVJ8yBd7CpTeQEI2//24FnbStEaJ3vUZeYeCZBzSt8qLAbQXfAEvBXKCgKlVZ9WrvFuDnqJ9XMP5K1fB8Evh0XNOTgM7aJ/KpMdJToWQjnMuA7kUuByisBu8rQ6N+WX/puYh3WRmOfn3gGTFixaF4343G26yztjlq7x7AoUDpCg3RzXsdSFqrSS/TF0+I+GsHDA7tVvj2zm1dA0ynmeBlELK+a8cKlRBp6vkV9Q/KX6pAUdhVPEB8IbJTe0rCsT4ISRWPqXv6VK60TkfJ19q4Q38W8HuUBpa26CsImfiAB0z3sFo3ffS1gajxh6ycYp6W7dFKunlKh4oVcGiqhWjKNHJF5d0QL/ApeU++T9UyfNoKD9k+SZ/as4EfV9XaM4dL6yh/eq2bZLDhArb8h9GyotY6DP1LQIjiMnGSROGmaCHdW3cscHzP+PaTT7qZl/VD/MCfkg+U1S3qB99eEHLTeD9qHo1a0tr7O3D48mP1uKEWM9jUMiTkUF1TEG0MMtJHx/kovGINOsBMFnj8EtZULLWOSjaYKcoO8Klf610SLp1vhuhTgRlaLugjjfmZTZ0I78nyqckNpriTU+GTVm4tm9nZaQa+bvmUrOKgeEjmK05aQ+hrlpDRBo68nc+dDxttpm7P/ahsM4vDqCkuVbD0DUHIi5Gpkeq7hJCDkRlQ6vbcj1TzHo+L8sHSRxp1xZ08XJesor7bcz8q0ox393h0grVovOn0Fy1WTMr6buqRJIZ0JbfnfqQyerAW6coaNib/Zay6UnbMeju3VbeWdXvuR6pBj8ewguXvgE0YOGqeNTEVjK5v1u25H30VCzp4POa0EawDZnih5QeRdXvuR6rtKcHyPav3UllN73eW/4rlB5F1e+5Hqm2Px+wZLLbeimUqqU/JJANwXG1807mCvzppAKakeNhY3lKwXrMKn/OmVj4Ll94K/mqcq8trp/fEnr8b/kV+pLOd1oTjXBvHayKcNC/rGmDl+184thrPQxhsfdcBew+ZzW2ZH1aVlPWZNqYra9Sid1USZU4JvmHwhvEOcj9LdodzLiUV4fFbyqiuLH9qfCqJNafEr6rF4SNW/QiGW9spzdvK7Jv55Ky/Ch5QsF4yqkaClfF9nzR2MGaRf4yALTBbtbMZ32MQiV8ie7LblHg89mka3gBCdjVlRTyQamvjX0FO2ubpjg4ZYqupkWHAt8t8XxUDiroxMsUHiwkuwKdzQ1+e6HBhHUi66Usv0/dDCvEvS3CvUCWzo3iEnP4hKPlO6RWFDIkN8F8BdJDgoj3zJk6kxduWz+FvZ6e0M3xqfhy1pPcnxqSnGrzngefNTmS1cK3zrcN5PQ0nNuLT/eEg6Y/GaSjcaA21T3fGiXMZbOhbim+DN81eSlb64mn0luHuwu2nOzeqTU9DydMg3oMupmO575M6qpX+fJzeQ8C3PioRZJ2lLx7xNS7Z+C/OiBUXxWdC6LANhPxgoqV+DtLLwE/ByTDQI1WfExX6ivey+l5OMMD3QxCybaIly9FyVbSS6jHsS/0p/ctUwKEPQ3aAbqIvX34DHgRfA0vAXNA5OlOalVWvdvVTf+l1k59ROa+MX736wKGXZ40/ZOpbDS1DQKfHIRt6kfZrg2QN8Fce8eqqeRLoKfjBfhzd2qUH9IGbePJXquyt6aZXtg79DSBkf6EePW6PXqR6JFf+jBud88FTwEXTSk/cTxQaT2iAT09Y8YrfZRcFnYdWEnTOAr7Eub2QgI56Wvk3A5sKO3dpQFenuPmr6efUfbpL98aqxA8eBy7y44tVjNB/xAgUh95PWzrcYgrHyF9YxiD9rgS+4n2H8rfK6DbVR/bAuyBE/lxZhp9+FwKNN+SWvnr01I3VF4+7+ynRfwXwT5b2Uf5MP7022mUXvARC5NeKfrboszsUSDX+WFb1VqXjYvAfEHJ3kQYdrgH+a75AuYkzuyKTfetlH/wehMi/a4oUaVsbHUk17moflaCgR3XIcTJT1jLUzQVHohPpb8FHipwaZL38yPwh6cjr/J2b94G6y4HGF/Jgvk/fMpp6RP8hGEgPgUk7kJR/Ye0HyX+0L/EAO8gfIL9Cdrp5KnUFalwhGm/Skia2b/zK2QNZ55NB0jvDAqnuC/F64P5Me15+Zf6RdOROOUVuDtB4QjTO09swqV5DsBL4OuYZyrqJ+pPvm6n8g9DD15tBiPyW/7+MClKN79pGfIHobiNW1l85Jr9kNmKxeRJ8ftrG4P6ruvABluQJhPeascjqxuib+kncg1CSn8Bv5DGGe1uxD/t9YSFL9a8by1sx1jCp/AT+ryYawn0Nm5lMh4G7gN/DlH8YxAnLZIVpLsmvzL+TpCHy+a6BuIah68CbYTlL/0j6+YE4UNKI/AHyy0V+X1eSopluGFwIfu1ekNc9YQRM63pL9sF3Qf4eJX/9s6RmglGGBcPaA9OT0pcRFDvlLaSNbsn080n2gOx280e3D21FT6/gxAXAH80UO/Jv/m4Fn2vTQ/FndmQvL/LrgjbtJ3Hj1K1gX97brKx7h6bopaCzdZxkBCXpZzziy9+TqOqI/Lg11UY3vcYvSxwU5/XgO6DoTV//uaDvEp4DB8CfwatgDLwDdKIyG2inVmcB2vWcD7S3phf6y0HntYs0L89QsRk8yQcip/KN/7dlAqetHk1D31Sj2LiIX3aqba1UjFzjV1Y3+wxCV8GXwSqgd7DapzBw/A1oY3IHeIqrSFdrqzKQYOVHQPAUrC8Arcs0vQTVKaiaeh8Cx4CmpIKgwGiqCjoxf5bgqG6g8j9TR2a+lszeqgAAAABJRU5ErkJggg==)}.has-background #index-card .skin-link{position:absolute;top:50px;left:0;display:block;width:100%;height:82px;cursor:pointer}.has-background #navs a{color:#fff}.has-background #navs .ns-text{color:#fff}.has-background #navs i:before{color:#fff}.has-background #foot div a{color:#fff}.has-background #page,.has-background #index-card{height:auto}.has-background #skin i:before{color:#fff}.has-background .icon-login:before,.has-background .admin-add,.has-background .weather-outline>div.weather-num{color:#fff}.has-background .admin-add .icon-add span{border-color:#fff}.has-background .searchbox-exp #index-form{height:44px;border:0;border:1px solid #ddd;-webkit-box-shadow:0 1px 1px 2px rgba(51,51,51,.1);box-shadow:0 1px 1px 2px rgba(51,51,51,.1)}.has-background #index-copyright,.has-background .recordcode{color:rgba(255,255,255,.5)}.has-special-background #index-copyright,.has-special-background .recordcode,.has-special-background #foot div a{color:#999}.has-background #userinfo-wraps .logined-banner{color:#fff;background-color:rgba(51,51,51,.3);font-size:12px;line-height:100%;height:auto;padding:6px 5px;z-index:10;border:0}.has-background #userinfo-wraps .logined-banner{top:2px!important}.has-background .logined-banner .index-banner-triangle,.has-background .index-banner .index-banner-triangle{top:50%;right:-10px;margin-top:-5px;width:0;height:0;font-size:0;border:5px solid;border-color:rgba(0,0,0,0) rgba(0,0,0,0) rgba(0,0,0,0) rgba(51,51,51,.3);background:0 0;transform:none}.has-background #userinfo-wraps .logined-banner .index-banner-triangle-shadow{display:none}.has-background .index-banner{color:#fff;background-color:rgba(51,51,51,.3);font-size:12px;line-height:100%;height:auto;padding:6px 5px;z-index:10;border:0;top:10px!important}.has-background .index-banner .index-banner-text{color:#fff;height:auto}.has-background .index-banner .index-banner-triangle-shadow{display:none}#skin-wrap{display:none}[data-role=cache],[data-role=view],.plus-edit-foot,.plus-edit,.plus-edit-option,.refresh,#admin-bottom,.white-page #plus-card,.plus-empty{display:none}#skin i:before{content:\"\\\\e824\";font:25px/1 icons;color:#999}.navs-app:before{content:\"\\\\e820\";font:24px/1 icons;color:#666}.white-page,.white-page body{height:100%}#page,#index-card{height:inherit}#page{background:#f8f8f8}i.ns-focus{background-position:0 -286px}i.ns-image{background-position:0 -308px}i.ns-map{background-position:0 -330px}i.ns-novel{background-position:0 -352px}i.ns-app{background-position:0 -374px}i.ns-extend{background-position:0 -396px}i.ns-news{background-position:0 -418px}i.ns-life{background-position:0 -440px}i.ns-website{background-position:0 -462px}i.ns-video{background-position:0 -484px}i.ns-tieba{background-position:0 -506px}i.ns-music{background-position:0 -528px}i.ns-listen{background-position:0 -550px}i.ns-waimai{background-position:0 -595px}.has-background i.ns-listen{background-position:0 0}.has-background i.ns-app{background-position:0 -22px}.has-background i.ns-extend{background-position:0 -44px}.has-background i.ns-focus{background-position:0 -66px}.has-background i.ns-image{background-position:0 -88px}.has-background i.ns-life{background-position:0 -110px}.has-background i.ns-map{background-position:0 -132px}.has-background i.ns-music{background-position:0 -154px}.has-background i.ns-news{background-position:0 -176px}.has-background i.ns-novel{background-position:0 -198px}.has-background i.ns-tieba{background-position:0 -220px}.has-background i.ns-video{background-position:0 -242px}.has-background i.ns-website{background-position:0 -264px}.has-background i.ns-waimai{background-position:0 -572px}#navs{overflow:hidden;width:100%}.ns-swipe,.ns-swipe-square{position:relative;overflow:hidden;width:100%;padding-top:19px}.ns-swipe .ns-swipe-wrap,.ns-swipe .ns-swipe-wrap-square,.ns-swipe-square .ns-swipe-wrap,.ns-swipe-square .ns-swipe-wrap-square{position:relative;overflow:hidden;height:43px}.ns-swipe .ns-swipe-wrap .ns-swipe-item,.ns-swipe .ns-swipe-wrap .ns-swipe-item-square,.ns-swipe .ns-swipe-wrap-square .ns-swipe-item,.ns-swipe .ns-swipe-wrap-square .ns-swipe-item-square,.ns-swipe-square .ns-swipe-wrap .ns-swipe-item,.ns-swipe-square .ns-swipe-wrap .ns-swipe-item-square,.ns-swipe-square .ns-swipe-wrap-square .ns-swipe-item,.ns-swipe-square .ns-swipe-wrap-square .ns-swipe-item-square{position:relative;display:-webkit-box;display:-webkit-flex;display:box;display:flexbox;display:flex;float:left;-webkit-box-sizing:border-box;box-sizing:border-box;width:100%;padding:0 23px;-webkit-box-pack:justify;box-pack:justify;-webkit-flex-direction:row;flex-direction:row;-webkit-justify-content:space-between;justify-content:space-between;-webkit-tap-highlight-color:transparent}.ns-swipe-square{padding-bottom:25px}.ns-square{background:url(https://m.baidu.com/bdlogo/square_ad2862302989e563281adc02ce7d71b8.png) no-repeat;background-size:22px auto}.ns-square.ns-square-white{background:url(https://m.baidu.com/bdlogo/squarebackwhite_0951d4a83a4ace50f8bc43214612af44.png) no-repeat;background-size:22px auto}.ns-square-point{position:absolute;top:-2px;right:-2px;width:7px;height:7px;border-radius:50%;background:#f44545}.qm-activity .ns-square-point{display:none}.fix-uc-extra{width:28px}.ns-item{width:28px;text-decoration:none;-webkit-tap-highlight-color:transparent}.ns-item .ns-icon{display:block;width:22px;height:22px;margin:0 auto}.ns-item .ns-icon:before{position:relative;top:1px}.ns-item .ns-text{display:block;height:13px;padding-top:8px;font-size:13px;line-height:1;text-align:center;color:#999}.ns-swipe-square{overflow:initial!important}.ns-swipe-square .ns-swipe-wrap-square{overflow:initial!important}.ns-swipe-square .ns-swipe-wrap-square .ns-item:last-child{position:relative}.ns-swipe-menu{display:-webkit-box;display:-webkit-flex;display:box;display:flexbox;display:flex;margin-top:17px;margin-bottom:8px;padding:0;list-style:none;-webkit-box-pack:center;box-pack:center;-webkit-flex-direction:row;flex-direction:row;-webkit-justify-content:center;justify-content:center}.ns-swipe-menu .ns-swipe-tab{width:4px;height:4px;margin-right:3px;-webkit-border-radius:50%;border-radius:50%;background:#e0e0e0}.ns-swipe-menu .ns-swipe-tab-active{background:#999}.ns-swipe-menu .ns-swipe-tab-mr0{margin-right:0}.middle-banner{position:relative;padding:11px 0 0}.middle-banner .middle-banner-container{display:block}.middle-banner .banner-close-container{position:absolute;right:10px;bottom:0;display:block;width:50px;height:40px}.middle-banner .banner-close-area{position:absolute;right:8px;bottom:11px;width:18px;height:18px;background:url(data:image/png;base64,iVBORw0KGgoAAAANSUhEUgAAACQAAAAkCAYAAADhAJiYAAAAGXRFWHRTb2Z0d2FyZQBBZG9iZSBJbWFnZVJlYWR5ccllPAAAA3NpVFh0WE1MOmNvbS5hZG9iZS54bXAAAAAAADw/eHBhY2tldCBiZWdpbj0i77u/IiBpZD0iVzVNME1wQ2VoaUh6cmVTek5UY3prYzlkIj8+IDx4OnhtcG1ldGEgeG1sbnM6eD0iYWRvYmU6bnM6bWV0YS8iIHg6eG1wdGs9IkFkb2JlIFhNUCBDb3JlIDUuNS1jMDE0IDc5LjE1MTQ4MSwgMjAxMy8wMy8xMy0xMjowOToxNSAgICAgICAgIj4gPHJkZjpSREYgeG1sbnM6cmRmPSJodHRwOi8vd3d3LnczLm9yZy8xOTk5LzAyLzIyLXJkZi1zeW50YXgtbnMjIj4gPHJkZjpEZXNjcmlwdGlvbiByZGY6YWJvdXQ9IiIgeG1sbnM6eG1wTU09Imh0dHA6Ly9ucy5hZG9iZS5jb20veGFwLzEuMC9tbS8iIHhtbG5zOnN0UmVmPSJodHRwOi8vbnMuYWRvYmUuY29tL3hhcC8xLjAvc1R5cGUvUmVzb3VyY2VSZWYjIiB4bWxuczp4bXA9Imh0dHA6Ly9ucy5hZG9iZS5jb20veGFwLzEuMC8iIHhtcE1NOk9yaWdpbmFsRG9jdW1lbnRJRD0ieG1wLmRpZDowOTIwOTVhOS1lMzQyLTQxZGUtYmFkOS05MTJjZjFlOGM5OTEiIHhtcE1NOkRvY3VtZW50SUQ9InhtcC5kaWQ6REIyNEUxNEU5Q0YyMTFFNUEzM0FGREMwQjM2MzQ1ODIiIHhtcE1NOkluc3RhbmNlSUQ9InhtcC5paWQ6REIyNEUxNEQ5Q0YyMTFFNUEzM0FGREMwQjM2MzQ1ODIiIHhtcDpDcmVhdG9yVG9vbD0iQWRvYmUgUGhvdG9zaG9wIENDIChNYWNpbnRvc2gpIj4gPHhtcE1NOkRlcml2ZWRGcm9tIHN0UmVmOmluc3RhbmNlSUQ9InhtcC5paWQ6ZDkzYmIwMWItODUxMy00YWQ2LTk0OWEtOTQ3YTY3YTRlZDRiIiBzdFJlZjpkb2N1bWVudElEPSJ4bXAuZGlkOjA5MjA5NWE5LWUzNDItNDFkZS1iYWQ5LTkxMmNmMWU4Yzk5MSIvPiA8L3JkZjpEZXNjcmlwdGlvbj4gPC9yZGY6UkRGPiA8L3g6eG1wbWV0YT4gPD94cGFja2V0IGVuZD0iciI/PknV/a4AAAFtSURBVHjaxNhNSsQwFAfwzHNu4Am6d2C8geLHFcRVPcOAlxAP0SyF2bnsCN5AQa8xa5fjP/ICM2M/kryX9MG/SUspP5LQQGZN0yyNMU/IfV3XW2utmaBOkQZZzXF5Rq6QFpgbtNsJMC1y7m4IuUM++UHLL0yB+UAeyE0TOtcToI4xf7PjRsh0oDaZUZ0YP2WmA7XMiOrFHIAKoQYx/0BcuVCjmD5QDlQQZgikiQrGjIE0UFGYEJAEFY0JBaWgkjAxoBhUMiYWFIISYVJAQygxxtU88b/iURtGvSM7ZCHBSED7KIc542dfEkzqlB3Xbq8/k35MAvJrZsEj880jJdpmSIjxC/gSudDY+0gB49eMyt5HShi1DZkUMSooUsaIUZQBI0JRJkwyijJiklCUGRONogKYKNQByFqbCxOMooKYIBQVxoyiTqqqKo3x9YOskVtGuXZNfHJVGtM3Ui8OtEJeHYYPG0qXR70hj78CDACxqNc8DtEB9wAAAABJRU5ErkJggg==) no-repeat;background-size:100% auto}.middle-banner .middle-banner-img{max-width:300px;height:40px;margin:0 auto}#plus-card{position:relative;padding-bottom:10px;background-color:#f0f0f0}.plus{overflow:hidden;width:100%;margin-top:8px;background:#fff}.plus:first-child{margin-top:0}.plus-title{position:relative;height:40px;text-align:left}.edit-title{opacity:0}.plus-title h2{margin-left:15px;margin-left:17px;font-size:16px;font-weight:400;line-height:44px;color:#999}.plus-content{overflow:hidden;margin-top:0;margin-top:-10px;font-size:14px}.plus-content a{color:#262626}#admin,.mine-back{font-size:16px;color:#666}.mine-header{border-bottom:1px solid #ddd!important;background:#fff!important}.mine-title{font-size:18px!important;line-height:43px!important}.mine-icon:before{font:16px/1 icons!important}#admin-bottom{height:40px;margin-bottom:16px;font-size:14px;line-height:40px;color:#262626;background:#f7f7f7}.white-page #foot{margin-top:18px}.plus-empty{text-align:center}.plus-empty p:first-child{margin-bottom:10px;padding-left:20px;font-size:16px;line-height:16px;color:#38f}.plus-empty p:last-child{font-size:14px;line-height:14px;color:#262626}.plus-content.empty .plus-empty{display:block}.ellipsis{overflow:hidden;white-space:nowrap;text-overflow:ellipsis}.baidu-now{padding:0 10px}@media only screen and (min-height:570px){.white-page #bottom{position:static;bottom:0;width:100%}}@media only screen and (max-height:570px){.white-page #bottom{position:static!important}}.no-cards{position:relative;display:none;padding:29px 0 32px}.no-cards .pic{display:inline-block;width:102px;height:102px;background-image:url(//m.baidu.com/static/index/plus/public/no_cards.png);background-size:102px 102px}.no-cards .text{margin-top:12px;font-size:12px;color:#b4b7bd}.tab-wrap.white-page .no-cards{display:block}.tab-wrap.white-page{margin-bottom:12px}.tab-wrap.white-page #admin{transform:none!important}.tab-wrap .bottom-text-wrapper{width:100%;padding-bottom:20px;background:#f1f1f1}.tab-wrap.white-page .bottom-text-wrapper{position:fixed;bottom:20px;padding-bottom:0}.tab-wrap .bottom-text-wrapper a{display:block;font-size:12px;text-align:center}.tab-wrap .bottom-text-wrapper a:first-child{margin-bottom:4px;color:#666}.tab-wrap .bottom-text-wrapper a:first-child:before{content:\"\\\\e626\";position:relative;top:3px;display:inline-block;margin-right:5px;font:21px/1 icons;color:#ed5353}.tab-wrap .bottom-text-wrapper a:last-child{color:#999}.sf-container .sf-frame.mine-frame{-webkit-transform:none;transform:none}.plus .floatlayer-container ul{display:none;overflow:hidden}.plus.edit .floatlayer-container ul{position:relative;z-index:1;left:0;display:block;width:100%;padding-bottom:9px;background-color:#fff}.more-control{height:39px;line-height:39px}#__SF___mine{position:relative;display:none}.e-frozen{pointer-events:none!important}.w-tips{position:absolute;z-index:998;right:0;left:0;height:35px;margin:9px 16px;font-size:13px;line-height:35px;text-align:center}.w-tips .w-tips-wrapper{position:relative;width:100%;height:100%}.w-tips .w-tips-inner,.w-tips .w-tips-inner-bg{position:absolute;top:0;left:0;-webkit-box-sizing:border-box;box-sizing:border-box;width:100%;height:100%;text-align:center}.w-tips .w-tips-inner{z-index:7;color:#3c76ff;background:transparent}.w-tips .w-tips-img,.w-tips .w-tips-text{display:inline-block;height:14px;line-height:14px}.w-tips .w-tips-img{position:relative;top:-1px;width:14px;margin-right:5px;vertical-align:middle}.w-tips .w-tips-text{position:relative;top:1px}.w-tips .w-tips-img img{width:100%;height:auto}.w-tips .w-tips-inner-bg{z-index:6}.w-tips .w-tips-inner-bg-inner{display:inline-block;width:0;height:100%;background:#e9efff;-webkit-animation:tipfadeIn .4s linear forwards;animation:tipfadeIn .4s linear forwards}@-webkit-keyframes tipfadeIn{0%{width:0;-webkit-transform:translateZ(0);transform:translateZ(0)}50%{width:50%;-webkit-transform:translateZ(0);transform:translateZ(0)}100%{width:100%;-webkit-transform:translateZ(0);transform:translateZ(0)}}@keyframes tipfadeIn{0%{width:0;-webkit-transform:translateZ(0);transform:translateZ(0)}50%{width:50%;-webkit-transform:translateZ(0);transform:translateZ(0)}100%{width:100%;-webkit-transform:translateZ(0);transform:translateZ(0)}}.blank-frame{background:#f8f8f8}.blank-frame.hideads{-webkit-transition:-webkit-transform .3s linear;-webkit-transform:translateY(-51px)}.blank-frame .place{height:400px}.blank-frame .c-offline-home{position:fixed;top:50%;width:100%;text-align:center;color:#999;-webkit-transform:translateY(-50%);transform:translateY(-50%)}.blank-frame .c-offline-home .icons{display:inline-block;width:90px;height:90px;background:url(data:image/png;base64,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) no-repeat;background-size:100% auto}.blank-frame .c-offline-home p{font-size:18px;color:#666}.blank-frame .c-offline-home .blue-refresh{width:40px;height:40px;margin:auto;margin-top:40px;background:url(data:image/png;base64,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) no-repeat;background-size:100% auto}.blank-frame .c-loading-home{position:fixed;top:36%;left:40%;width:62px;height:100%;text-align:center;background:url(data:image/png;base64,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) no-repeat;background-size:100% auto}.blank-frame .txtlink-refresh{position:relative;display:block;z-index:2;margin:-1px 0;border-top:1px solid #f0f0f0;border-bottom:1px solid #f0f0f0;text-align:center;line-height:41px;font-size:13px;color:#38f;box-sizing:border-box}.menu-container{position:fixed;z-index:-1;top:0;width:100%;height:39px;padding-left:4px;overflow:hidden;border-bottom:1px solid #f0f0f0;text-align:center;opacity:0;background-color:#f8f8f8;-webkit-backface-visibility:hidden;-webkit-tap-highlight-color:transparent;-webkit-transform-style:preserve-3d}.menu-container.showtabs{z-index:10;opacity:1;touch-action:none}.menu-container.expand{top:-248px}.menu-container.showads{background:#fff}.menu-container.showads .bubble-wrap{display:none}.menu-container.hideads{-webkit-transition:-webkit-transform .3s linear,background .3s linear;-webkit-transform:translateY(-51px)}.menu-container .menu-item-wrap{position:relative;z-index:2;height:40px;text-align:left;white-space:nowrap;-webkit-backface-visibility:hidden;-webkit-tap-highlight-color:transparent;-webkit-transform-style:preserve-3d}.menu-container .menu-item.red-text{color:red}.menu-container .menu-item{display:inline-block;padding:20px 16px;font-size:16px;color:#666}.menu-container .menu-item span{position:absolute;bottom:0;width:40px;height:2px;margin-left:-36px}.menu-container .menu-item.red-dot:after{content:\"\";position:absolute;top:6px;display:inline-block;border:4px solid #f43531;border-radius:50%}.menu-container span{color:#333}.menu-container .menu-item.red-text.current{color:red}.menu-container .menu-item.red-text.current span{background-color:red}.menu-container .menu-item.current{color:#38f}.menu-container .menu-item.current span{background-color:#38f}.menu-container #tabsetting{position:absolute;top:0;right:5.15%}.has-background .menu-container{background:#f8f8f8}[data-action*=noprewater] .top .loading-content{display:none}.channel-mgr-wrapper{position:absolute;top:0;right:0;width:71px;height:100%}.channel-mgr-wrapper .mgr-mask{position:absolute;z-index:3;top:0;right:39px;display:inline-block;width:25px;height:100%;background:-webkit-linear-gradient(left,rgba(255,255,255,0),#f8f8f8 100%)}.channel-mgr-wrapper #channel_mgr{position:absolute;z-index:3;top:0;right:0;width:46px;height:100%;background:url(data:image/png;base64,iVBORw0KGgoAAAANSUhEUgAAADAAAAAwBAMAAAClLOS0AAAAD1BMVEUAAABmZmZpaWmsrKxtbW2yWNazAAAAAXRSTlMAQObYZgAAADNJREFUOMtjQAImBgzYgaICDglBgVGJkS1hJIgVKDMoYpcQwaljkHpwVIL2EpiFDM5iCQCEVgvV/p3HXwAAAABJRU5ErkJggg==) no-repeat 14px center;background-color:#f8f8f8;background-size:16px 16px}.channel-mgr-wrapper #channel_mgr.red-dot:after{content:\"\";position:absolute;top:6px;right:6px;display:inline-block;border:4px solid #f43531;border-radius:50%}html.index-nofd,.index-nofd body{height:100%!important;min-height:5rem}.index-nofd body{background-color:#fff!important}.index-nofd .blank-frame{display:none!important}.index-nofd #index-card,.index-nofd .first-card-container{background-color:#fff!important}.index-nofd .navs-bottom-bar{background-color:transparent!important}.index-nofd .first-card-container{border-width:10px 0;border-style:solid;border-color:#f8f8f8}.index-nofd #bottom{position:absolute;left:0;bottom:0;width:100%;background-color:#fff}.index-nofd .has-background #foot div a{color:#666!important}.index-nofd .has-background #index-copyright,.index-nofd .has-background .recordcode{color:#999!important}.index-nofd .has-background #page,.index-nofd .has-background #index-card{height:100%!important}.rn-footer span.ivk-info{color:#38f;position:absolute;right:25px}.rn-footer span.ivk-info i{display:none;vertical-align:sub;width:15px;height:15px;background-repeat:no-repeat;background-size:contain;padding-right:4px}.tab-tools{position:fixed;z-index:100;right:6.77%;bottom:80px;display:none;font-size:14px}.tab-tools .tab-refresh,.tab-tools .tab-back{width:42px;height:42px;border:1px solid rgba(0,0,0,.1);opacity:.8;border-radius:22px;background-color:#fff;background-image:url(//m.baidu.com/static/index/plus/public/tab_news.png);background-size:98px 41px;-webkit-tap-highlight-color:transparent}.tab-tools .tab-refresh{margin-bottom:4px;background-position:-15px 0}.tab-tools .tab-refresh.rotate{-webkit-animation:rotating .3s linear 1}.tab-tools .tab-back{background-color:#fff;background-position:-57px 0}.tab-tools .tab-refresh.click-tools,.tab-tools .tab-back.click-tools{border:1px solid rgba(204,204,204,.1);background-color:#ccc}.tab-tools.show-tools{display:inline-block;-webkit-animation:twinkling .3s ease-in-out}.callicon-wrap{position:relative;z-index:10}.baiduappcall-wrap{display:none}#weather{text-align:left}.weather-outline{position:absolute;z-index:1;top:0;left:0;height:40px;padding:0 6px 0 14px;line-height:40px}.weather-outline>span{position:relative;top:0;width:13px;height:8px;line-height:8px;color:#b6b7ba}.weather-outline>*,.weather-detail-sky>*{display:inline-block}.weather-outline>div.weather-num{padding-right:3px;padding-left:4px;font-size:29px;color:#999}.weather-status{position:relative;top:0;padding-right:2px}.weather-status p{height:14px;font-size:10px;line-height:14px;color:#999}.icon-down{height:37px;vertical-align:bottom}.icon-weather-default{position:relative;top:0;width:auto;margin-left:-1px;font-size:28px;line-height:28px;color:#b7babe}#weather .icon-down:before{content:\"\\\\e814\";font:20px/1 icons;color:#b6b7ba}#weather .weather-detail{display:none}.weather-shield{position:absolute;z-index:-1;width:100%;background-color:#eeeff0;-webkit-background-size:100% auto;background-size:100% auto}.white-page #admin{}.loading-drop{position:absolute}.has-background .loading-content{color:#fff}.news-list-wrapper{overflow-x:hidden;overflow-y:hidden}@-webkit-keyframes loadingScale{0%{-webkit-transform:rotate(0) scale(1) translateZ(0);transform:rotate(0) scale(1) translateZ(0)}50%{-webkit-transform:rotate(180deg) scale(.8) translateZ(0);transform:rotate(180deg) scale(.8) translateZ(0)}100%{-webkit-transform:rotate(360deg) scale(1) translateZ(0);transform:rotate(360deg) scale(1) translateZ(0)}}@keyframes loadingScale{0%{-webkit-transform:rotate(0) scale(1) translateZ(0);transform:rotate(0) scale(1) translateZ(0)}50%{-webkit-transform:rotate(180deg) scale(.8) translateZ(0);transform:rotate(180deg) scale(.8) translateZ(0)}100%{-webkit-transform:rotate(360deg) scale(1) translateZ(0);transform:rotate(360deg) scale(1) translateZ(0)}}@-webkit-keyframes loadingRotate{0%{-webkit-transform:rotate(0) translateZ(0);transform:rotate(0) translateZ(0)}50%{-webkit-transform:rotate(180deg) translateZ(0);transform:rotate(180deg) translateZ(0)}100%{-webkit-transform:rotate(360deg) translateZ(0);transform:rotate(360deg) translateZ(0)}}@keyframes loadingRotate{0%{-webkit-transform:rotate(0) translateZ(0);transform:rotate(0) translateZ(0)}50%{-webkit-transform:rotate(180deg) translateZ(0);transform:rotate(180deg) translateZ(0)}100%{-webkit-transform:rotate(360deg) translateZ(0);transform:rotate(360deg) translateZ(0)}}.tab-news-head{position:relative;top:-43px}.s-loading-frame.top{text-align:center}.s-loading-frame .load-img-wrapper,.s-loading-frame .load-text{display:inline-block;height:18px;line-height:18px}.s-loading-frame .load-img-wrapper{width:19px;margin-right:6px;vertical-align:middle}.s-loading-frame .load-img-wrapper img{width:18px;height:18px}.s-loading-frame.top .load-img-wrapper .normal-load-ing-img{-webkit-animation:loadingScale .4s linear 1,loadingRotate .4s linear infinite;animation:loadingScale .4s linear 1,loadingRotate .4s linear infinite}.s-loading-frame.top .load-img-wrapper .andbugbrow-load-ing-img{-webkit-animation:loadingRotate .4s linear infinite;animation:loadingRotate .4s linear infinite}.s-loading-frame.top .load-ing-img{display:none}.s-loading-frame .load-text{font-size:12px;color:#666}.s-loading-frame.bottom{text-align:center;background:#fff}.s-loading-frame.bottom .bottom-load-before,.s-loading-frame.bottom .bottom-load-ing{box-sizing:border-box;height:58px;font-size:12px;color:#666}.s-loading-frame.bottom .bottom-load-before{padding-top:24px;padding-bottom:22px;line-height:12px}.s-loading-frame.bottom .bottom-load-ing{display:none;padding-top:20px;padding-bottom:20px;line-height:18px}.s-loading-frame.bottom .bottom-load-ing img{-webkit-animation:loadingRotate .4s linear infinite forwards;animation:loadingRotate .4s linear infinite forwards}.bottom-no-more{font-size:12px;line-height:40px;color:#666}.backtool-loading-wrap{height:53px;line-height:53px;text-align:center}.backtool-loading-wrap .load-img-wrapper,.backtool-loading-wrap .load-text{display:inline-block;height:18px;line-height:18px}.backtool-loading-wrap .load-img-wrapper{width:18px;margin-right:6px;vertical-align:middle}.backtool-loading-wrap .load-ing-img{width:100%;height:auto;-webkit-animation:loadingRotate .4s linear infinite forwards;animation:loadingRotate .4s linear infinite forwards}.backtool-loading-wrap .load-text{font-size:12px;color:#666}.baiduappcall-wrap{display:none}#index-card .se-input,.has-background #index-card .se-input{height:49px}#index-card .se-form .se-input,.has-background #index-card .se-form .se-input{height:47px;padding-left:12px;padding-right:12px}#index-card .se-input:focus{outline:0}#index-card .hidden-submit{position:absolute;z-index:-1;width:0;height:0}#index-card .searchbox-exp .se-inner{width:98px}.searchbox-exp #index-bn.qm-activity{color:#333}.searchbox-exp #index-bn:active{background-color:#4662d9}.searchbox-exp #index-form{height:49px;margin:0 16px;border:1px solid #4e6ef2;background:#fff;border-radius:12px;-webkit-box-shadow:initial;box-shadow:initial}.searchbox-exp #index-form.se-form{height:51px;margin:0 17px;border-width:1px;box-sizing:border-box}.has-background .searchbox-exp #index-form{border:1px solid rgba(54,54,54,.2);height:49px}.baiduapp-icon{width:41px;height:44px;line-height:44px;text-align:left;-webkit-tap-highlight-color:rgba(0,0,0,0)}.searchbox-exp .baiduapp-icon:before{content:\"\";position:absolute;top:21px;right:10px;border:3.5px solid transparent;border-top-color:#333}.searchbox-exp .call{position:relative;top:0;display:inline-block;width:51px;height:38px;border:0;text-align:center;border-radius:4px;-webkit-tap-highlight-color:rgba(0,0,0,0)}.searchbox-exp .call.voice{border-right:1px solid #f1f1f1;border-top-right-radius:0;border-bottom-right-radius:0}.searchbox-exp .call.qrcode{border-top-left-radius:0;border-bottom-left-radius:0}.searchbox-exp .call.qrcode:after{position:relative;top:1px}.searchbox-exp .baiduappcall-wrap{position:absolute;top:52px;left:-18px;width:103px;height:38px;border:1px solid #b7b7b7;line-height:38px;text-align:left;border-radius:4px}.searchbox-exp .baiduappcall-wrap #ts-image-uploader{-webkit-tap-highlight-color:rgba(0,0,0,0)}.searchbox-exp .baiduapp-icon:after{position:relative;top:1px}.searchbox-exp .baiduapp-icon:after,.searchbox-exp .call:after{content:\"\\\\d0\";display:inline-block;font:17px/1 n-icons;color:#333;background:initial}.searchbox-exp .baiduapp-icon:active:after,.searchbox-exp .call:active:after{opacity:.2}.searchbox-exp .voice:after{content:\"\\\\d1\";position:relative;left:2px;width:18px}.searchbox-exp .baiduappcall-wrap:after,.searchbox-exp .baiduappcall-wrap:before{content:\"\";position:absolute;top:-3px;left:22px;width:4px;height:4px;border:1px solid #b7b7b7;-webkit-transform:rotate(45deg)}.searchbox-exp .baiduappcall-wrap input{position:absolute;z-index:100;top:0;right:0;display:block;overflow:hidden;width:52px;height:39px;font-size:80px;opacity:0}.searchbox-exp .baiduappcall-wrap input.passive{width:0;height:0}.searchbox-exp .baiduappcall-wrap:after{top:-1px;left:21px;width:8px;height:8px;border:0;background:#fff}.searchbox-exp .open .baiduapp-icon:before{top:18px;border-color:transparent;border-bottom-color:#333}@media (min-width:321px){.searchbox-exp .baiduapp-icon{display:none}.searchbox-exp .baiduappcall-wrap{position:static;display:block;width:auto;height:49px;border:0;line-height:49px}.searchbox-exp .se-form .baiduappcall-wrap{height:47px;line-height:47px}.searchbox-exp .baiduappcall-wrap:before,.searchbox-exp .baiduappcall-wrap:after{display:none}.searchbox-exp .baiduappcall-wrap .call{width:auto;height:49px}.searchbox-exp .se-form .baiduappcall-wrap .call{height:47px}.searchbox-exp .baiduappcall-wrap .voice.call{padding-left:5px;border-right:0}.searchbox-exp .baiduappcall-wrap .voice.call:after{display:inline-block;height:19px;padding-right:10px;border-right:1px solid #e8e8e8;line-height:19px}.searchbox-exp .baiduappcall-wrap .qrcode.call{padding-right:10px;padding-left:16px}.searchbox-exp .baiduappcall-wrap .qrcode.call:after{width:auto;margin-left:0}.searchbox-exp .baiduappcall-wrap input{width:39px}.ts-image-uploader-icon-point{display:none;position:absolute;top:10px;right:3px;width:5px;height:5px;background:#f7534f;border-radius:50%;border:1px solid #fff}.ts-image-uploader-icon-point.qm-activity{display:none!important}}.has-background .searchbox-exp #index-bn{color:#4e6ef2;background:#f5f7fb}.has-background .searchbox-exp .se-form #index-bn{height:47px;line-height:47px}.has-background .searchbox-exp #index-form{border-color:#f5f7fb}.searchbox-exp #index-form[v2]{margin:0 17px}.searchbox-exp .his-wrap-new #index-form[v2]{margin:0}.searchbox-exp #index-form[v2] #index-bn{font-size:18px}#index-card #index-form[v2] .se-input{padding-left:12px}#index-card #index-form[v2] .se-input::-webkit-input-placeholder{color:#858585}#index-card .his-wrap-new #index-form[v2].se-form .se-input{padding-right:34px}</style><script>var url =  location.href;if (url.indexOf(\\'%23\\') != -1){location.href = url.replace(/%23/g, \\'#\\');}url =  location.href;if (url.indexOf(\\'%7C\\') != -1){location.href = url.replace(/%7C/g, \\'|\\');}if (window.location.hash.match(/\\\\&iview\\\\b.*/)) {var style = document.createElement(\\'style\\');style.id = \\'activitystyle\\';style.innerHTML = \\'#page {width:100%;position:absolute;top:-99999px;opacity:0;}\\';document.head.appendChild(style);setTimeout(function(){window.location.replace(\\'\\');},0);}if (/#\\\\iact/.exec(location.href) && !(/\\\\&iview\\\\b.*/.exec(location.href))) {var style = document.createElement(\\'style\\');style.id = \\'activitystyle\\';style.innerHTML = \\'#page {width:100%;position:absolute;top:-99999px;opacity:0;}\\';document.head.appendChild(style);}</script><style>body, h1, h2, h3, p, div, ol, ul, input, button {margin: 0;padding: 0;}body {font-size: 16px;line-height: 1px;text-align: center;-webkit-text-size-adjust: none;max-width: 100%;overflow-x: hidden;vertical-align: top;font-family: Arial,Helvetica,sans-serif}ol,ul {list-style: none;}a {text-decoration: none;-webkit-tap-highlight-color: rgba(0,0,0,0);}input, button, textarea {border: 0;border-radius: 0;background: transparent;-webkit-appearance: none;-webkit-box-sizing: border-box;box-sizing: border-box;}button {outline:0;}.rec-item {text-align: left;}html {font-size: 100px;}@media screen and (max-width:360px){html{font-size: 90px;line-height:90px;}}</style><style></style><script>window.rain = {stack: [],loadModule: function (moduleName) {window.rain.stack.push(moduleName);},event: {}};!function(v){var w=v.rain.event,h=w.firePool={};w.fire=function(mod,v,w){h[mod]=h[mod]||{},h[mod][v]=h[mod][v]||[],h[mod][v].push(w)}}(window);;</script></head><body data-version=\"css_page_2@w-5f05d135,css_callapp@w-89dc6ed1,css_weather@w-025f53e0,css_icon@w-f168dca8,css_plus@w-c87478b7,css_edit@w-615a2d8c,css_modal@w-cdab584c,css_widget_sug@w-ec5ec8df,css_skin@w-27c43eae,js_esl@w-0affba88,js_zepto@w-012b12e3,js_event@w-46e83db8,js_fastclick@,js_utils@,js_smartymonkey@w-116ab7cb,js_index@w-d9375915,js_banner_ctrl@w-b194fb40,js_inputlog@w-f825beaf,js_bdnow@w-2981c0e4,js_nctips@w-e32af532,js_widget_textinput@w-0f7bc28e,js_widget_sug@w-619a2cde,js_hash_lib@w-4598392e,js_skinRenderIndex@w-a467f3f8,js_skinIphone@w-793956a2,js_prefetch@w-453350c7,js_sug@w-4c197964,js_iscroll@w-bccf5be0,js_superframe@w-5c254153,js_init@w-997152e8,js_geolocation@w-a8094a1f,js_login@w-473c448e,js_tab@w-e3906d72,js_md5@w-d9ce29c6,js_url@w-39727df9,js_lswrite@w-d8f84a66,js_modal@w-bb611e58,js_thirdparty@w-1cd65fd3,js_m_monitor@w-8456a19f,js_superstart@w-ec82438a,js_setSearchEngine@w-fb701e82,js_callbaiduapp_ios@w-752cfb60\" data-cur-page=\"index\" class=\" switch-iphone \"><script data-lsid=\"plus_js_head\" src=\"https://sm.bdimg.com/static/wiseindex/js/inline/boot_70f41ad.js\"></script><script data-lsid=\"plus_js_head\" src=\"https://sm.bdimg.com/static/wiseindex/js/inline/head_d11aab1.js\"></script><script data-lsid=\"plus_js_head\" src=\"https://sm.bdimg.com/static/wiseindex/js/inline/fixChrome_redirect_0e91546.js\"></script><script data-lsid=\"plus_js_head\" src=\"https://sm.bdimg.com/static/wiseindex/js/inline/enterSkin_a4c42bc.js\"></script><script>window.TABRERENDER = true;</script><script>B.init(function () {var wiseatomMap ={\"paths\":{\"wiseatom/banner/pack\":\"./static/wiseatom/banner/pack_171eb60\",\"wiseatom/indentification/pack\":\"./static/wiseatom/indentification/pack_1cc30f3\",\"wiseatom/pagenav/pack\":\"./static/wiseatom/pagenav/pack_dbfea65\",\"wiseatom/personalcenter/pack\":\"./static/wiseatom/personalcenter/pack_fb29cfb\",\"wiseatom/voicetips/pack\":\"./static/wiseatom/voicetips/pack_7af3a70\"},\"bundles\":{\"wiseatom/banner/pack\":[\"wiseatom/banner/main\"],\"wiseatom/indentification/pack\":[\"wiseatom/indentification/main\"],\"wiseatom/pagenav/pack\":[\"wiseatom/pagenav/main\"],\"wiseatom/personalcenter/pack\":[\"wiseatom/personalcenter/asidebar-bottom/main\",\"wiseatom/personalcenter/asidebar/main\",\"wiseatom/personalcenter/assets/js/wrapperControl\",\"wiseatom/personalcenter/main\"],\"wiseatom/voicetips/pack\":[\"wiseatom/voicetips/main\"]}};require.config(wiseatomMap);require.config({\"paths\":{\"indexatom/personalcenter/pack\":\"https://gss0.bdstatic.com/5bd1bjqh_Q23odCf/static/indexatom/personalcenter/pack_168dd2c\",\"indexatom/recommend-daily/pack\":\"https://gss0.bdstatic.com/5bd1bjqh_Q23odCf/static/indexatom/recommend-daily/pack_04b810b\"},\"bundles\":{\"indexatom/personalcenter/pack\":[\"indexatom/personalcenter/asidebar-bottom/main\",\"indexatom/personalcenter/asidebar/main\",\"indexatom/personalcenter/main\"],\"indexatom/recommend-daily/pack\":[\"indexatom/recommend-daily/main\",\"indexatom/recommend-daily/recommend-arrow/main\",\"indexatom/recommend-daily/recommend-event/main\",\"indexatom/recommend-daily/recommend-graphic/main\",\"indexatom/recommend-daily/recommend-pano/main\",\"indexatom/recommend-daily/recommend-station/main\",\"indexatom/recommend-daily/recommend-video/main\"]}});});</script><div id=\"page\"><div id=\"index-card\" class=\"\" data-lsversion=\"3965f6be7add0277\"><div class=\"skin-container\" id=\"skin-container\"></div><div id=\\'header\\' class=\"searchbox-exp  \"><div id=\"userinfo-wrap\" class=\"\"><div id=\"login-wraps\"></div><style type=\"text/css\">#header {background-color: #fff;}.has-background #header {background: none;}.square-enterance {background-image: url(data:image/png;base64,iVBORw0KGgoAAAANSUhEUgAAAEUAAABFBAMAAADuozYaAAAAElBMVEUAAABSUlJTU1NbW1tTU1NSUlIGRdgxAAAABXRSTlMA5qYc7dRG+h8AAABZSURBVEjHYxjpwEg0FAqEDNC5UMDsGgoHzuhcKGAKRYAgdC4UMCIJBqJzoYA1FAmgcxFqECwU7qiaUTWE0g/hdEg4PRPOF0Tlr6EMRsuNUTXDS81ouTFEAAAzlOoh5nZfIAAAAABJRU5ErkJggg==);}.has-background .square-enterance {background-image: url(data:image/png;base64,iVBORw0KGgoAAAANSUhEUgAAAEUAAABFBAMAAADuozYaAAAAElBMVEUAAAD///////////////////8+Uq06AAAABXRSTlMA5qYc7dRG+h8AAABZSURBVEjHYxjpwEg0FAqEDNC5UMDsGgoHzuhcKGAKRYAgdC4UMCIJBqJzoYA1FAmgcxFqECwU7qiaUTWE0g/hdEg4PRPOF0Tlr6EMRsuNUTXDS81ouTFEAAAzlOoh5nZfIAAAAABJRU5ErkJggg==);top: 18px;}#userinfo-wrap {height: 52px!important;}#logo {padding-bottom: 30px!important;}#login {top: 14px!important;right: 16px!important;width: 20px!important;height: 20px!important;background-image: url(\\'https://www.baidu.com/img/login_2d2c57b59121dec81f374c4fe080e9d3.png\\');}.weather-outline{padding-top: 4px!important;}.square-enterance {position: absolute;top: .18rem;right: .17rem;width: 23px;height: 23px;background-size: contain;}.index-banner:after,.logined-banner:after {content: \\'\\';position: absolute;right: 0;top: 0;bottom: 0;width: 5px;background-color: #fff;z-index: 11;border-radius: 3px;}.has-background .index-banner:after,.has-background .logined-banner:after {display: none;}.logined-banner{top: 4px!important;right: 33px!important;opacity: 0;z-index: 10;-webkit-transition: opacity .3s;-moz-transition: opacity .3s;-o-transition: opacity .3s;transition: opacity .3s;}#userinfo{position: relative;top: 3px;}.logined-banner .index-banner-triangle{position: absolute;z-index: 10;top: 10px;right: 3px;width: 6px;height: 6px;border: 1px solid #d8d8d8;background-color: #fff;border-left-color: rgba(0, 0, 0, 0);border-bottom-color: rgba(0, 0, 0, 0);-webkit-transform: translateX(50%) rotate(45deg) translateY(-50%);transform: translateX(50%) rotate(45deg) translateY(-50%);}.square-tab-pop {display: none;position: absolute;background: #333;border-radius: 3px;color: #FFF;right: 49px;top: 12px;font-size: 12px;line-height: 100%;padding: 6px 5px;z-index: 10;-webkit-transition: opacity .3s;-moz-transition: opacity .3s;-o-transition: opacity .3s;transition: opacity .3s;}.square-tab-pop-arrow {position: absolute;top: 50%;right: -10px;margin-top: -5px;width: 0;height: 0;font-size: 0;border: 5px solid;border-color: rgba(0, 0, 0, 0) rgba(0, 0, 0, 0) rgba(0, 0, 0, 0) #333;}.has-background .square-tab-pop {background-color: rgba(51, 51, 51, .3);top: 10px;}.has-background .square-tab-pop-arrow {border-color: rgba(0, 0, 0, 0) rgba(0, 0, 0, 0) rgba(0, 0, 0, 0) rgba(51, 51, 51, .3);}.navs-bottom-bar {height: 10px;margin-top: 20px;background-color: #f8f8f8;}</style><a class=\"square-enterance \" data-tclog href=\\'https://m.baidu.com/l=1/tc?logid=8135349489950485466&amp;from=844b&ref=index_iphone&amp;nsrc=IlPT2AEptyoA_yixCFOxCGZb8c3JV3T5ABfPNy6R2iv5nk_qva02FMNsUiH5Nn_KJoCa9m3BdMZObmGcWyNnn1E2e_&amp;bdenc=1&amp;ct=10&amp;cst=2&amp;logFrom=navs_square\\'><i class=\\'ns-icon\\'></i><i id=\\'ns-square-point\\'></i></a><script type=\"text/javascript\">B.init(function() {try {var squarePop = localStorage.getItem(\\'squarePop\\');function showBanner() {require([\\'wiseindex/lib/ivk/common/ivkBox\\'], function(invokeBox) {var INVOKE_POS = 34;var ivkOptions = invokeBox.getControlByPos(INVOKE_POS, window.sSession.invokeApps);var logInfo = invokeBox.getLogData(ivkOptions || {});B.log.send({ct: 10,cst: 1,logFrom: \\'rightTopBubble\\',logInfo: logInfo});});if($(\\'.index-banner\\').length) {$(\\'.index-banner\\').css(\\'opacity\\',\\'1\\');} else {$(\\'.logined-banner\\').css(\\'opacity\\',\\'1\\');}};if(!squarePop) {$(\\'.square-tab-pop\\').show();setTimeout(function () {$(\\'#userinfo-wrap .square-tab-pop\\').hide();showBanner();localStorage.setItem(\\'squarePop\\',1);}, 5000);} else {showBanner();}$(\\'.square-enterance\\').on(\\'click\\', function() {localStorage.setItem(\\'squarePop\\',1);$(\\'.square-tab-pop\\').hide();})} catch (error) {};if ($(\\'#index-kw\\').data(\\'sa\\') && $(\\'#index-kw\\').data(\\'placeholder\\')) {B.log.send({ct: 10,cst: 1,logFrom: \\'placeholder\\',logInfo: $(\\'#index-kw\\').data(\\'placeholder\\')});}});try {if( window.localStorage.getItem(\\'index_square_point\\') ){} else {document.getElementById(\\'ns-square-point\\').setAttribute(\\'class\\',\\'ns-square-point\\');}document.getElementsByClassName(\\'square-enterance\\')[0].addEventListener(\\'click\\',function(){window.localStorage.setItem(\\'index_square_point\\',1)});} catch (error) {}B.load(function () {var BUBBLE_INVOKE_POS = 34;if(window.sSession.invokeApps.rule && window.sSession.invokeApps.rule[BUBBLE_INVOKE_POS] === \\'1\\') {require([\\'wiseindex/lib/ivk/bubble/bubble\\'], function(bubbleIvk) {bubbleIvk();});}});</script></div><div id=\"skin-wrap\"><a id=\"skin\" href=\"javascript:;\" data-skinindex=\"\"><i class=\"icon-skin\"></i></a></div><div id=\"logo\" class=\"noTapColor use-festival\"><a href=\"https://m.baidu.com/s?word=%E7%99%BE%E5%BA%A6%E7%83%AD%E6%90%9C&amp;tn&amp;from=1020854c&amp;sa=tre_dl_gh_logo_wj\"><img src=\"//www.baidu.com/img/flexible/logo/plus_logo_web_2.png\" alt=\"百度一下,你就知道\"><script type=\"text/javascript\">B.load(function () {require([\\'wiseindex/lib/ivk/logo/logo\\'], function (logo) {logo();});});</script></a></div><div class=\"\"><form data-formposition=\"i\"  class=\"se-form\"id=\"index-form\" action=\"/from=844b/s\"method=\"get\" autocomplete=\"off\"><div><div class=\"suggest-back\" style=\"display: none;\"><i class=\"c-icon\">&#xe750</i></div><div class=\"con-wrap new-search-con\"><div class=\"con-inner-left\"><div class=\"se-bearicon\" style=\"display: none;\"></div><div class=\"input-wrapper\"><input type=\"search\" autocomplete=\"off\" autocorrect=\"off\" maxlength=\"64\" id=\"index-kw\" name=\"word\" class=\"se-input adjust-input\" data-sa=\"\" placeholder=\"输入搜索词\"/><label for=\"index-kw\" class=\"fake-placeholder\"></label></div><input type=\"submit\" tabindex=\"-1\" class=\"hidden-submit\" /><div id=\"index-cross\" class=\"cross\"></div><div class=\"callicon-wrap\"><div class=\"baiduapp-icon\"></div><div class=\"baiduappcall-wrap\"><div class=\"voice call\" data-ac=\"active\"></div><div id=\"ts-image-uploader-icon\" class=\"qrcode call\" data-ac=\"active\"><span class=\"ts-image-uploader-icon-point \"></span></div></div></div></div><button id=\"index-bn\" class=\"se-bn \" type=\"submit\">百度一下</button></div></div><div id=\"index-box\"></div><input type=\"hidden\" name=\"ts\" value=\"0\"/><input type=\"hidden\" name=\"t_kt\" value=\"0\"/><input type=\"hidden\" name=\"ie\" value=\"utf-8\"/><input type=\"hidden\" name=\"fm_kl\" value=\"021394be2f\"/><input type=\"hidden\" name=\"rsv_iqid\" value=\"8135349489950485466\"/><input type=\"hidden\" name=\"rsv_t\" value=\"6ff8D8r%2BtZC6iMNpeouvY3Bs4pZ9qh5ZRGWf5KojXrTE73kiRITmqfHGbg\"/><input type=\"hidden\" name=\"sa\" value=\"ib\"/><input type=\"hidden\" name=\"ms\" value=\"1\"/><input type=\"hidden\" name=\"rsv_pq\" value=\"8135349489950485466\"/></form></div><div id=\\'navs\\'><div class=\"navs-bottom-bar\"></div></div></div><div id=\"personal-center\" style=\"position:absolute;top:0;left:0;\"><div id=\"personalcenter_style\"></div><div id=\"personalcenter_atom_wrapper\"></div><script data-for=\"atom-script\">B.init(function(){var atomStyle = [\"\\\\n.menu-icon-layout[data-a-f781dc42] {\\\\n    width: 100%;\\\\n    height: 100%;\\\\n    position: absolute;\\\\n    top: 0;\\\\n    left: 0;\\\\n    -webkit-tap-highlight-color: rgba(0, 0, 0, 0);\\\\n}\\\\n.menu-icon-layout.top[data-a-f781dc42] {\\\\n    z-index: 999;\\\\n}\\\\n.menu-area[data-a-f781dc42] {\\\\n    display: -webkit-box;\\\\n    display: -ms-flexbox;\\\\n    display: flex;\\\\n    -webkit-box-pack: center;\\\\n    -ms-flex-pack: center;\\\\n    justify-content: center;\\\\n    -webkit-box-align: center;\\\\n    -ms-flex-align: center;\\\\n    align-items: center;\\\\n    width: .5rem;\\\\n    height: .44rem;\\\\n    -webkit-tap-highlight-color: rgba(0, 0, 0, 0);\\\\n}\\\\n.fade-enter-active[data-a-f781dc42],\\\\n.fade-leave-active[data-a-f781dc42] {\\\\n    transition: opacity .3s;\\\\n    -webkit-transition: opacity .3s;\\\\n    -o-transition: opacity .3s;\\\\n}\\\\n.fade-enter[data-a-f781dc42],\\\\n.fade-leave-to[data-a-f781dc42] {\\\\n    opacity: 0;\\\\n}\\\\n\\\\/* wise\\\\u6539\\\\u7248\\\\u4e8c\\\\u671f *\\\\/\\\\n.menu-newsearch-v2[data-a-f781dc42] {\\\\n    display: block;\\\\n    text-align: left;\\\\n}\\\\n.menu-newsearch-v2 img[data-a-f781dc42] {\\\\n    border: 1px solid #e1e1e1;\\\\n    border-radius: 50%;\\\\n    width: .23rem;\\\\n    height: .23rem;\\\\n    margin-left: .17rem;\\\\n    margin-top: .17rem;\\\\n}\\\\n.has-background.menu-newsearch-v2 img[data-a-f781dc42] {\\\\n    border-color: #fff;\\\\n}\\\\n.menu-newsearch-v2 .menu-avator-login[data-a-f781dc42] {\\\\n    width: .23rem;\\\\n    height: .23rem;\\\\n    margin-left: .17rem;\\\\n    margin-top: .17rem;\\\\n    background-image: url(https:\\\\/\\\\/gss0.bdstatic.com\\\\/5bd1bjqh_Q23odCf\\\\/static\\\\/indexatom\\\\/personalcenter\\\\/assets\\\\/img\\\\/personal-center_8e143b4.png);\\\\n    background-repeat: no-repeat;\\\\n    background-size: contain;\\\\n    display: inline-block;\\\\n}\\\\n.has-background.menu-newsearch-v2 .menu-avator-login[data-a-f781dc42] {\\\\n    background-image: url(https:\\\\/\\\\/gss0.bdstatic.com\\\\/5bd1bjqh_Q23odCf\\\\/static\\\\/indexatom\\\\/personalcenter\\\\/assets\\\\/img\\\\/personal-center-white_e77b2dd.png);\\\\n}\\\\n\",\"\\\\n.dlg-window[data-a-d9196288] {\\\\n  width: 100%;\\\\n  height: 100%;\\\\n  background: rgba(0, 0, 0, 0.5);\\\\n  position: absolute;\\\\n  top: 0;\\\\n  left: 0;\\\\n  z-index: 400;\\\\n}\\\\n\\\\/* \\\\u5934\\\\u90e8 *\\\\/\\\\n.aside-header-and-paddingbottom[data-a-d9196288] {\\\\n  width: 2.5rem;\\\\n  background: #ffffff;\\\\n}\\\\n.asideheader[data-a-d9196288] {\\\\n  width: 2.5rem;\\\\n  height: 1.6rem;\\\\n  -webkit-box-shadow: 0 0.01rem 0 0 #f8f8f8;\\\\n  box-shadow: 0 0.01rem 0 0 #f8f8f8;\\\\n  overflow: hidden;\\\\n}\\\\n.menu-btn-padding[data-a-d9196288] {\\\\n  width: 0.5rem;\\\\n  height: 0.44rem;\\\\n  background: url(https:\\\\/\\\\/gss0.bdstatic.com\\\\/5bd1bjqh_Q23odCf\\\\/static\\\\/indexatom\\\\/personalcenter\\\\/assets\\\\/img\\\\/hanbaobao_04adf60.png) no-repeat;\\\\n  background-size: 0.2rem 0.2rem;\\\\n  background-position: center;\\\\n  position: absolute;\\\\n  top: 0rem;\\\\n  left: 0rem;\\\\n  -webkit-tap-highlight-color: rgba(0, 0, 0, 0);\\\\n}\\\\n.menuBtn[data-a-d9196288] {\\\\n  display: inline-block;\\\\n  width: 0.16rem;\\\\n  height: 0.14rem;\\\\n}\\\\n.user-info[data-a-d9196288] {\\\\n  width: 2.2rem;\\\\n  height: 0.6rem;\\\\n  margin: 0.7rem 0 0.3rem 0.3rem;\\\\n  display: -webkit-box;\\\\n  display: -ms-flexbox;\\\\n  display: flex;\\\\n  -webkit-box-pack: start;\\\\n  -ms-flex-pack: start;\\\\n  justify-content: flex-start;\\\\n  -webkit-box-align: center;\\\\n  -ms-flex-align: center;\\\\n  align-items: center;\\\\n  background: #ffffff;\\\\n  position: relative;\\\\n}\\\\n.user-info img[data-a-d9196288] {\\\\n  display: inline-block;\\\\n  width: 0.6rem;\\\\n  height: 0.6rem;\\\\n  margin-right: 0.15rem;\\\\n  border-radius: 100%;\\\\n  overflow: hidden;\\\\n}\\\\n.login[data-a-d9196288] {\\\\n  display: inline-block;\\\\n  max-width: 1.08rem;\\\\n  font-family: PingFangSC-Regular;\\\\n  font-size: 0.18rem;\\\\n  color: #000000;\\\\n  line-height: 0.6rem;\\\\n  letter-spacing: 0;\\\\n  white-space: nowrap;\\\\n  overflow: hidden;\\\\n  position: absolute;\\\\n  top: 0;\\\\n  left: 0.75rem;\\\\n}\\\\n\\\\/* \\\\u4e2d\\\\u5fc3\\\\u533a\\\\u57df *\\\\/\\\\n.asidecontent[data-a-d9196288] {\\\\n  margin-top: 0.21rem;\\\\n  display: -webkit-box;\\\\n  display: -ms-flexbox;\\\\n  display: flex;\\\\n  -webkit-box-orient: vertical;\\\\n  -webkit-box-direction: normal;\\\\n  -ms-flex-direction: column;\\\\n  flex-direction: column;\\\\n  -webkit-box-flex: 1 0 auto;\\\\n  -ms-flex: 1 0 auto;\\\\n  flex: 1 0 auto;\\\\n  overflow: scroll;\\\\n  background: #ffffff;\\\\n}\\\\n.asidecontent[data-a-d9196288]::-webkit-scrollbar {\\\\n  display: none;\\\\n}\\\\n.menu-item[data-a-d9196288] {\\\\n  display: block;\\\\n  -webkit-box-pack: start;\\\\n  -ms-flex-pack: start;\\\\n  justify-content: flex-start;\\\\n  -webkit-box-align: center;\\\\n  -ms-flex-align: center;\\\\n  align-items: center;\\\\n  height: 0.5rem;\\\\n  line-height: 0.5rem;\\\\n}\\\\n.menu-item a[data-a-d9196288] {\\\\n  width: 100%;\\\\n  height: 100%;\\\\n  line-height: 0.5rem;\\\\n  display: -webkit-box;\\\\n  display: -ms-flexbox;\\\\n  display: flex;\\\\n  -webkit-box-align: center;\\\\n  -ms-flex-align: center;\\\\n  align-items: center;\\\\n  text-decoration: none;\\\\n  color: #333;\\\\n  position: relative;\\\\n}\\\\n.menu-item a[data-a-d9196288]:hover {\\\\n  background: #f8f8f8;\\\\n}\\\\n.menu-icon[data-a-d9196288] {\\\\n  display: inline-block;\\\\n  width: 0.2rem;\\\\n  height: 0.2rem;\\\\n  overflow: hidden;\\\\n  \\\\/* margin-left: 0.3rem; *\\\\/\\\\n  \\\\/* margin-right: 0.15rem; *\\\\/\\\\n  position: absolute;\\\\n  top: 0.15rem;\\\\n  left: 0.3rem;\\\\n}\\\\n.menu-desc[data-a-d9196288] {\\\\n  position: absolute;\\\\n  top: 0;\\\\n  left: 0.65rem;\\\\n  font-family: PingFangSC-Regular;\\\\n  font-size: 0.16rem;\\\\n  color: #333333;\\\\n  letter-spacing: 0;\\\\n}\\\\n.menulist_guanzhu[data-a-d9196288] {\\\\n  background: url(https:\\\\/\\\\/gss0.bdstatic.com\\\\/5bd1bjqh_Q23odCf\\\\/static\\\\/indexatom\\\\/personalcenter\\\\/assets\\\\/img\\\\/guanzhu_0edf6fe.png) no-repeat;\\\\n  background-size: cover;\\\\n}\\\\n.menulist_shoucang[data-a-d9196288] {\\\\n  background: url(https:\\\\/\\\\/gss0.bdstatic.com\\\\/5bd1bjqh_Q23odCf\\\\/static\\\\/indexatom\\\\/personalcenter\\\\/assets\\\\/img\\\\/shoucang_5ef89d6.png) no-repeat;\\\\n  background-size: cover;\\\\n}\\\\n.menulist_xiaoxi[data-a-d9196288] {\\\\n  background: url(..\\\\/assets\\\\/img\\\\/xiaoxi.png) no-repeat;\\\\n  background-size: cover;\\\\n}\\\\n.menulist_reyi[data-a-d9196288] {\\\\n  background: url(https:\\\\/\\\\/gss0.bdstatic.com\\\\/5bd1bjqh_Q23odCf\\\\/static\\\\/indexatom\\\\/personalcenter\\\\/assets\\\\/img\\\\/reyi_54c44c5.png) no-repeat;\\\\n  background-size: cover;\\\\n}\\\\n.menulist_dingdan[data-a-d9196288] {\\\\n  background: url(https:\\\\/\\\\/gss0.bdstatic.com\\\\/5bd1bjqh_Q23odCf\\\\/static\\\\/indexatom\\\\/personalcenter\\\\/assets\\\\/img\\\\/dingdan_6391122.png) no-repeat;\\\\n  background-size: cover;\\\\n}\\\\n.menulist_pifu[data-a-d9196288] {\\\\n  background: url(https:\\\\/\\\\/gss0.bdstatic.com\\\\/5bd1bjqh_Q23odCf\\\\/static\\\\/indexatom\\\\/personalcenter\\\\/assets\\\\/img\\\\/pifu_eef387c.png) no-repeat;\\\\n  background-size: cover;\\\\n}\\\\n.menulist_fankui[data-a-d9196288] {\\\\n  background: url(https:\\\\/\\\\/gss0.bdstatic.com\\\\/5bd1bjqh_Q23odCf\\\\/static\\\\/indexatom\\\\/personalcenter\\\\/assets\\\\/img\\\\/fankui_cc44349.png) no-repeat;\\\\n  background-size: cover;\\\\n}\\\\n.menulist_zuji[data-a-d9196288] {\\\\n  background: url(https:\\\\/\\\\/gss0.bdstatic.com\\\\/5bd1bjqh_Q23odCf\\\\/static\\\\/indexatom\\\\/personalcenter\\\\/assets\\\\/img\\\\/zuji_b531d96.png) no-repeat;\\\\n  background-size: cover;\\\\n}\\\\n.menulist_shaixuan[data-a-d9196288] {\\\\n  background: url(https:\\\\/\\\\/gss0.bdstatic.com\\\\/5bd1bjqh_Q23odCf\\\\/static\\\\/indexatom\\\\/personalcenter\\\\/assets\\\\/img\\\\/shaixuan_01108f8.png) no-repeat;\\\\n  background-size: cover;\\\\n}\\\\n.dlg-window .slideInLeft[data-a-d9196288] {\\\\n  -webkit-transform: translate3d(100%, 0, 0);\\\\n  transform: translate3d(100%, 0, 0);\\\\n}\\\\n.dlg-window .slideOutLeft[data-a-d9196288] {\\\\n  -webkit-transform: translate3d(0, 0, 0);\\\\n  transform: translate3d(0, 0, 0);\\\\n}\\\\n\\\\/*\\\\u7ad6\\\\u5c4f css*\\\\/\\\\n.dlg-bg[data-a-d9196288] {\\\\n  display: -webkit-box;\\\\n  display: -ms-flexbox;\\\\n  display: flex;\\\\n  -webkit-box-orient: vertical;\\\\n  -webkit-box-direction: normal;\\\\n  -ms-flex-direction: column;\\\\n  flex-direction: column;\\\\n  width: 2.5rem;\\\\n  height: 100%;\\\\n  background: #fff;\\\\n  -webkit-transform: translate3d(0, 0, 0);\\\\n  transform: translate3d(0, 0, 0);\\\\n  position: fixed;\\\\n  top: 0;\\\\n  left: -2.5rem;\\\\n  overflow: scroll;\\\\n}\\\\n.dlg-bg[data-a-d9196288]::-webkit-scrollbar {\\\\n  display: none;\\\\n}\\\\n.dlg-animate[data-a-d9196288] {\\\\n  -webkit-transition: -webkit-transform 0.3s ease-in-out;\\\\n  transition: transform 0.3s ease-in-out;\\\\n}\\\\n\\\\n\\\\/*\\\\u6a2a\\\\u5c4f css*\\\\/\\\\n@media screen and (orientation: landscape) {\\\\n.dlg-bg[data-a-d9196288] {\\\\n    width: 2.5rem;\\\\n    height: 100%;\\\\n    background: #fff;\\\\n    -webkit-transform: translate3d(0, 0, 0);\\\\n    transform: translate3d(0, 0, 0);\\\\n    position: fixed;\\\\n    top: 0;\\\\n    left: -2.5rem;\\\\n    overflow: scroll;\\\\n}\\\\n.dlg-bg[data-a-d9196288]::-webkit-scrollbar {\\\\n    display: none;\\\\n}\\\\n}\\\\n\",\"\\\\n\\\\/* \\\\u5e95\\\\u90e8 *\\\\/\\\\n.aside-footer[data-a-1163fdae] {\\\\n    width: 2.5rem;\\\\n    height: 1.14rem;\\\\n    background: #FFFFFF;\\\\n}\\\\n.setter-and-locationinfo[data-a-1163fdae] {\\\\n    width: 2.5rem;\\\\n    height: 0.8rem;\\\\n    display: -webkit-box;\\\\n    display: -ms-flexbox;\\\\n    display: flex;\\\\n    -webkit-box-pack: start;\\\\n        -ms-flex-pack: start;\\\\n            justify-content: flex-start;\\\\n}\\\\n.readme[data-a-1163fdae] {\\\\n    display: -webkit-box;\\\\n    display: -ms-flexbox;\\\\n    display: flex;\\\\n    -webkit-box-align: center;\\\\n        -ms-flex-align: center;\\\\n            align-items: center;\\\\n    width: 2.2rem;\\\\n    height: 0.33rem;\\\\n    padding-left: 0.3rem;\\\\n    font-family: PingFangSC-Regular;\\\\n    font-size: 0.12rem;\\\\n    color: #CCCCCC;\\\\n    letter-spacing: 0;\\\\n    border-top: 0.01rem solid #F8F8F8;\\\\n}\\\\n.setter[data-a-1163fdae]{\\\\n    padding: 0.2rem 0.1rem 0.1rem 0.2rem;\\\\n    margin: 0.05rem 0.05rem 0 0.1rem;\\\\n    display: -webkit-box;\\\\n    display: -ms-flexbox;\\\\n    display: flex;\\\\n    -webkit-box-orient: vertical;\\\\n    -webkit-box-direction: normal;\\\\n        -ms-flex-direction: column;\\\\n            flex-direction: column;\\\\n    -webkit-box-pack: start;\\\\n        -ms-flex-pack: start;\\\\n            justify-content: flex-start;\\\\n    -webkit-box-align: center;\\\\n        -ms-flex-align: center;\\\\n            align-items: center;\\\\n}\\\\n.setter-icon[data-a-1163fdae] {\\\\n    display: inline-block;\\\\n    width: 19px;\\\\n    height: 20px;\\\\n    background: url(https:\\\\/\\\\/gss0.bdstatic.com\\\\/5bd1bjqh_Q23odCf\\\\/static\\\\/indexatom\\\\/personalcenter\\\\/assets\\\\/img\\\\/spritelist_71904c7.png) no-repeat;\\\\n    background-size: 200px 100px;\\\\n    background-position: -1px -80px;\\\\n    margin: 3px 0;\\\\n}\\\\n.setter-text[data-a-1163fdae] {\\\\n    margin-top: 2px;\\\\n    display: -webkit-box;\\\\n    display: -ms-flexbox;\\\\n    display: flex;\\\\n    -webkit-box-pack: center;\\\\n        -ms-flex-pack: center;\\\\n            justify-content: center;\\\\n    -webkit-box-align: center;\\\\n        -ms-flex-align: center;\\\\n            align-items: center;\\\\n    height: 0.16rem;\\\\n    font-family: PingFangSC-Regular;\\\\n    font-size: 0.12rem;\\\\n    color: #666666;\\\\n    letter-spacing: 0;\\\\n}\\\\n.heat[data-a-1163fdae] {\\\\n    display: -webkit-box;\\\\n    display: -ms-flexbox;\\\\n    display: flex;\\\\n    -webkit-box-pack: center;\\\\n        -ms-flex-pack: center;\\\\n            justify-content: center;\\\\n    -webkit-box-align: center;\\\\n        -ms-flex-align: center;\\\\n            align-items: center;\\\\n    height: 26px;\\\\n    font-size: 19px;\\\\n    font-family: PingFangSC-Medium;\\\\n    color: #666C82;\\\\n    letter-spacing: 0;\\\\n    padding-left: 6px;\\\\n}\\\\n.location-info[data-a-1163fdae] {\\\\n    display: -webkit-box;\\\\n    display: -ms-flexbox;\\\\n    display: flex;\\\\n    -webkit-box-orient: vertical;\\\\n    -webkit-box-direction: normal;\\\\n        -ms-flex-direction: column;\\\\n            flex-direction: column;\\\\n    -webkit-box-pack: center;\\\\n        -ms-flex-pack: center;\\\\n            justify-content: center;\\\\n    -webkit-box-align: center;\\\\n        -ms-flex-align: center;\\\\n            align-items: center;\\\\n    padding: 0.2rem 0.1rem 0.1rem 0.1rem;\\\\n    margin: 0.05rem 0.05rem 0 0.05rem;\\\\n}\\\\n\\\\n\"];var data = {\"useSkin\":false};var styleContent = \\'<style>\\' + atomStyle.join(\\'\\') + \\'<style>\\';$(\\'#personalcenter_style\\').append(styleContent);var el = \\'[atom-root-6459f6366b92f]\\';require([\\'wiseindex/Atom\\',\\'indexatom/personalcenter/main\\'], function (Atom, App) {var vm = new Atom({el: $(\\'#personalcenter_atom_wrapper\\')[0],render: function (createElement) {return createElement(\\'App\\', {props: data});},components: {App: App},data: data});});});</script></div><script>!function(a){a.B.imgLoadPool={};var g=function(mod,g){mod=mod||\"index-card\",a.B.imgLoadPool[g]=a.B.imgLoadPool[g]||{},a.B.imgLoadPool[g].data=a.B.imgLoadPool[g].data||[],a.B.imgLoadPool[g].handler=function(e){if(\"img\"===e.target.tagName.toLowerCase()){var L={logExtra:JSON.stringify({rta:\"wise\",imgSrc:e.target.src})};a.B.imgLoadPool[g].data.push(L)}},document.getElementById(mod).addEventListener(g,a.B.imgLoadPool[g].handler,!0)};g(\"index-card\",\"error\")}(window);;</script><div class=\"menu-container\" id=\"menu-container\"><ul class=\"menu-item-wrap\"></ul></div><div class=\"blank-frame\"><div class=\"center-content\" id=\"center-content-1\"><div class=\"tab-wrap\"data-waterpara=\"\"><style data-md5=\"730f1894\" data-ls4=\"1\">.tab_news{text-align:left;background:#fff}.tab_news .loading-top{display:none;height:43px;text-align:center}.tab_news .s-loading{height:43px;line-height:43px}.tab_news .s-loading .load-text{margin-left:13px;font-size:12px;color:#c6c6c6}.tab_news .tab-news-content{background:#fff}.tab_news .tab-news-tools{position:fixed;z-index:100;right:6.77%;bottom:80px;display:none;font-size:14px}.tab_news .tab-news-tools .news-refresh,.tab_news .tab-news-tools .news-back{width:42px;height:42px;border:1px solid rgba(0,0,0,.1);opacity:.8;border-radius:22px;background-color:#fff;background-image:url(//m.baidu.com/static/index/plus/public/tab_news.png);background-size:98px 41px;-webkit-tap-highlight-color:transparent}.tab_news .tab-news-tools .news-refresh{margin-bottom:4px;background-position:-15px 0}.tab_news .tab-news-tools .news-refresh.rotate{-webkit-animation:rotating .3s linear 1}.tab_news .tab-news-tools .news-back{background-color:#fff;background-position:-57px 0}.tab_news .tab-news-tools .news-refresh.click-tools,.tab_news .tab-news-tools .news-back.click-tools{border:1px solid rgba(204,204,204,.1);background-color:#ccc}.tab_news .tab-news-tools.show-tools{display:inline-block;-webkit-animation:twinkling .3s ease-in-out}.tab_news .loading-drop{position:absolute;left:0;display:block;width:100%;height:43px;text-align:center}.clr:after{content:\"\\\\20\";display:block;clear:both;height:0}@-webkit-keyframes rotating{0%{-webkit-transform:rotate(0deg)}100%{-webkit-transform:rotate(0deg)}}@keyframes rotating{0%{transform:rotate(0deg)}100%{transform:rotate(0deg)}}@-webkit-keyframes twinkling{0%{opacity:.5}100%{opacity:.8}}@keyframes twinkling{0%{opacity:.5}100%{opacity:.8}}/* @import url(\\'/static/css/tabs/news/waterfall.css?__inline\\'); */.tab-news-content .news-item .inner-item{display:block;margin:0 16px;padding:10px 0 13px;border-top:1px solid #f0f0f0}.tab-news-content .news-item a.a-visited h2{color:#aaa}.tab-news-content .news-item .video-small-inner.a-visited h2{color:#aaa}.tab-news-content .news-item .text-content{margin-bottom:3px}.tab-news-content .news-item h2{display:-webkit-box;overflow:hidden;font-size:18px;font-weight:400;line-height:26px;text-overflow:ellipsis;color:#333;-webkit-box-orient:vertical;-webkit-line-clamp:2}.tab-news-content .news-item .red-small{position:relative;top:-2px;display:inline-block;overflow:hidden;max-width:110px;height:15px;margin-right:8px;padding-right:8px;border-right:1px solid #f0f0f0;font-size:13px;line-height:15px;vertical-align:middle;white-space:nowrap;text-overflow:ellipsis;color:#f13f41}.tab-news-content .news-item .img-wrap{position:relative;display:inline-block;width:33.105%;height:0;margin-right:1px;padding-top:21.99%;vertical-align:top}.tab-news-content .news-item .img-wrap img{position:absolute;top:0;left:0;width:100%;height:100%}.tab-news-content .news-item .img-wrap:last-child{margin-right:0}.tab-news-content .news-item .news-from{display:-webkit-box;display:-moz-box;display:-ms-flexbox;display:-webkit-flex;display:flex;margin-top:9px;line-height:13px;-webkit-align-items:center;align-items:center;-webkit-box-align:center;-moz-box-align:center;-ms-flex-align:center}.tab-news-content .news-item .news-from span{display:inline-block;margin-right:8px;font-size:13px;color:#999}.tab-news-content .news-item .news-from .open-bdbox-title{margin-right:0;text-align:end;flex-grow:1}.tab-news-content .news-item .news-from .rec_att{overflow:hidden;max-width:120px;line-height:13px;white-space:nowrap;text-overflow:ellipsis}.tab-news-content .news-item .news-from .src-icon-hot,.tab-news-content .news-item .news-from .src-icon-rec{box-sizing:border-box;margin-bottom:1px;padding:1px 2px 0;border:1px solid #efb9b9;color:#f13f40;border-radius:2px}.tab-news-content .news-item .news-from .src-icon-hot.isAndroid,.tab-news-content .news-item .news-from .src-icon-rec.isAndroid{padding:1px 2px}.tab-news-content .news-item .news-from .src-icon-hot{font-size:11px}.tab-news-content .news-item .news-from .src-icon-rec{font-size:12px}.tab-news-content .news-item .rec-type{display:inline!important;box-sizing:border-box;height:13px;padding:0 4px;border:1px solid #f66;font-size:11px!important;color:#f66!important;border-radius:2px}.tab-news-content .news-item .hotRec{position:relative;top:3px;display:none;width:17px;height:17px;margin-left:6px;background-image:url(//m.baidu.com/static/index/plus/public/tab_news.png);background-size:98px 41px}.tab-news-content .news-item .hotRec-1{display:none}.tab-news-content .news-item .hotRec0{background-color:#ffe4e4;background-position:0 0}.tab-news-content .news-item .hotRec1{background-color:#ddebff;background-position:0 -17px}.tab-news-content .rec-item a.a-visited .rn-h1{color:#aaa}.tab-news-content .rec-item a.a-visited .rn-h2{color:#aaa}.tab-news-content .hotword-his{margin-right:17px;margin-left:17px;padding:0}.tab-news-content .news-list-wrapper:first-child div:first-child a.inner-item{border-top:0!important}.tab-news-content .news-list-wrapper:first-child>div:first-child .inner-item{border-top:0!important}.tab-news-content .news-list-wrapper:first-child>div:first-child{border-top:0}.tab-news-content .news-list-wrapper:first-child>div:first-child>h2{border-top:0}.tab-news-content .tpl-3 a.inner-item{min-height:118px}.tab-news-content .tpl-3 a.inner-item .text-content h2{-webkit-line-clamp:2}.tab-news-content .tpl-2 .inner-item{position:relative;display:-webkit-box;display:-moz-box;display:-ms-flexbox;display:-webkit-flex;display:flex;padding:14px 0;-webkit-align-items:center;align-items:center;-webkit-box-align:center;-moz-box-align:center;-ms-flex-align:center}.tab-news-content .tpl-2 .pic-content{position:relative;width:33.65%}.tab-news-content .tpl-2 .pic-content div{width:100%;padding-top:66.67%}.tab-news-content .tpl-2 .pic-content img{position:absolute;top:0;left:0;width:100%;height:100%}.tab-news-content .tpl-2 .info-content{width:67.88%;-webkit-box-ordinal-group:2;-moz-box-ordinal-group:2;-ms-box-ordinal-group:2;-webkit-order:2;order:2}.tab-news-content .tpl-2 .info-content>div{margin-left:14px}.tab-news-content .tpl-2 .info-content-sid{width:67.88%;order:0}.tab-news-content .tpl-2 .info-content-sid>div{margin-right:14px;margin-left:0}.tab-news-content .tpl-2 .text-content h2{-webkit-line-clamp:2}.tab-news-content .tpl-2 .news-from{margin-top:8px}.tab-news-content .tpl-1 .news-from{margin-top:8px}.tab-news-content .tpl-1 .text-content h2{-webkit-line-clamp:2}.dropload-up,.dropload-down{position:relative;overflow:hidden;height:0;-webkit-transform:translate3d(0,0,0);transform:translate3d(0,0,0)}.dropload-refresh,.dropload-update,.dropload-load{position:absolute;bottom:0;left:50%;width:100%;height:50px;line-height:50px;text-align:center;-webkit-transform:translate(-50%,0);transform:translate(-50%,0)}.dropload-down .dropload-refresh,.dropload-down .dropload-update,.dropload-down .dropload-load{top:0;bottom:auto}.dropload-load .loading{display:inline-block;width:15px;height:15px;margin:6px;border:2px solid #666;border-bottom-color:transparent;vertical-align:middle;border-radius:100%;-webkit-animation:rotate .75s linear infinite;animation:rotate .75s linear infinite}@-webkit-keyframes rotate{0%{-webkit-transform:rotate(0deg)}50%{-webkit-transform:rotate(180deg)}100%{-webkit-transform:rotate(360deg)}}@keyframes rotate{0%{transform:rotate(0deg)}50%{transform:rotate(180deg)}100%{transform:rotate(360deg)}}.c-tool-list{overflow:hidden;padding:20px 0}.c-tool-list .c-flexbox{position:relative;overflow:visible;box-sizing:border-box;padding:0 17px;text-align:left}.c-tool-list .c-flexbox:first-of-type{padding-bottom:19px;border-bottom:1px solid #dfdfdf}.coverLeft{position:absolute;top:99%;left:0;width:17px;height:4px;background-color:#f1f1f1}.coverRight{position:absolute;top:99%;right:0;width:17px;height:4px;background-color:#f1f1f1}.c-tool-list hr{height:1px;margin:0 17px;border-style:none;background-color:#dfdfdf;-webkit-transform:scaleY(.5);transform:scaleY(.5);-webkit-margin-after:0;-webkit-margin-before:0;-webkit-margin-end:0;-webkit-margin-start:0}.hide{display:none}.c-tool-list .c-flexbox:not(:first-of-type){margin-top:9px}.c-tool-list .c-tool-btn{width:60px;margin-right:18px;font-size:11px;text-align:center;color:#666;flex:1 1 auto}.c-tool-list .c-tool-btn:last-of-type{margin-right:0;flex:4 4 auto}.c-tool-list .c-tool-btn .c-img{max-width:60px;margin:0 auto;border-radius:50%;background:#fff}.c-tool-list .c-tool-btn .c-gap-top{display:block;margin-top:8px;font-size:10px;line-height:1}.c-tool-cancel-btn{width:100%;border-top:#eaeaea 1px solid;font-size:16px;line-height:47px;color:#333;background:#f8f8f8}.c-popup-wrapper .c-tool-popup-modal{background-color:#f1f1f1}.c-tool-popup-modal .c-popup-head{display:none}.c-tool-popup-modal .c-popup-content{margin:0 auto}.wa-image-scroller{white-space:nowrap}.wa-image-entity{display:inline-block}.c-popup-wrapper{z-index:900}.c-popup-mask{position:fixed;z-index:901;top:0;left:0;display:none;width:100%;height:100%;opacity:0;background:rgba(0,0,0,.5)}.c-popup-modal{position:fixed;z-index:902;bottom:0;left:0;display:none;overflow:hidden;width:100%;margin:0;background-color:#fff;-webkit-transform:translate3d(0,100%,0);transform:translate3d(0,100%,0)}.c-popup-head{margin:10px 26px;font-size:18px}.c-popup-title{overflow:hidden;white-space:nowrap;text-overflow:ellipsis}.c-popup-remove{position:absolute;top:10px;right:8px;line-height:17px}.c-popup-content{margin:0 26px 10px;text-align:center}.c-share-cancel-btn,.c-share-copytip-cancel-btn{width:100%;margin-top:20px;border-top:#eaeaea 1px solid;font-size:16px;line-height:48px;color:#333;background:#f8f8f8}.c-share-wechat-tips{position:fixed;z-index:999;top:0;left:0;width:100%;height:100%;background:rgba(0,0,0,.6) url(//m.baidu.com/se/static/pmd/pmd/share/images/wxtips.png) right 32px top 10px/50% no-repeat}.c-popup-wrapper .c-share-popup-modal{background-color:#f1f1f1}.c-share-popup-modal .c-popup-head{display:none}.c-share-popup-modal .c-popup-content{margin:0 auto;padding-top:20px}.c-share-copytip-content{padding:0 20px;text-align:left;color:#333}.c-share-copytip-text{margin-bottom:10px;font-size:16px}.c-share-copytip-linkwr{padding:10px;border:1px dotted #d9d9d9;font-size:14px;line-height:21px;word-break:break-all}.c-share-copytip-link:visited,.c-share-copytip-link{color:#333}.feed-slider-box{position:absolute;z-index:1002;top:0;bottom:0;left:0;display:none;width:100%;height:100%;-webkit-tap-highlight-color:transparent}.feed-slider-wrap{position:absolute;bottom:0;left:0;-webkit-box-sizing:border-box;box-sizing:border-box;width:100%;padding:20px 29px;color:#333;background:#f1f1f1}.feed-slider-title{margin-bottom:33px;margin-left:-12px;font-size:16px;text-align:left;color:#ccc}.feed-slider{position:relative;width:100%;height:2px;margin-bottom:28px;background-color:#e4e4e4}.feed-slider-btn{position:absolute;top:-3px;width:7px;height:7px;border-radius:50%;background-color:#ddd}.active{background-color:#2b99ff}.feed-slider-select-line{position:absolute;top:0;left:0;width:0;height:2px;border-radius:2px;background-color:#09f;-webkit-transition:width .08s ease;transition:width .08s ease}.feed-slider-bar{position:absolute;top:-13px;width:28px;height:28px;border:1px #ccc;border-radius:50%;background-color:#fff;box-shadow:2px 0 2px rgba(0,0,0,.08),-2px 0 2px rgba(0,0,0,.08),0 2px 2px rgba(0,0,0,.08),0 -2px 2px rgba(0,0,0,.08)}.feed-slider-select{position:relative;width:110%;height:14px;padding-bottom:24px;-webkit-tap-highlight-color:transparent}.feed-slider-option{position:absolute;top:0;height:100%;font-size:14px;text-align:center;color:#999}.feed-slider-option:after{content:\"\";position:absolute;top:36px;left:12px;display:none;width:6px;height:6px;border-radius:3px;background-color:#e4e4e4}.feed-slider-selected{font-size:18px;color:#2b99ff}.feed-slider-cancel{height:48px;font-size:18px;line-height:50px;-webkit-border-radius:3px;border-radius:3px;background:#fff}.feed-slider-bg{width:100%;height:100%;background:rgba(0,0,0,.5)}.star-toast{z-index:1300;box-sizing:border-box;width:104px;max-width:40%;height:104px;padding:20px 0;text-align:center;color:#fff;border-radius:8px}.star-toast .icon{display:inline-block;width:30px;height:30px;background:url(data:image/png;base64,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) no-repeat;background-size:100%}.star-toast p{margin-top:15px;font-size:16px}.sf-container{position:absolute;top:0;left:0;width:100%;height:100%;color:#fff;background-color:#f5f5f5}.sf-container .sf-frame .framelist{-webkit-overflow-scrolling:touch;box-sizing:border-box;width:100%;height:100%;padding-top:44px}.sf-container .sf-header{position:fixed;z-index:801;top:0;overflow:hidden;box-sizing:border-box;width:100%;height:44px;padding:0 16px;border-bottom:1px solid #d6d6d6;font-size:20px;text-align:center;vertical-align:middle;color:#333;background:#f8f8f8}.sf-container .sf-back{display:inline-block;float:left;height:44px;line-height:44px;color:#333}.sf-container .sf-back .head-icon:before{content:\"\\\\ce\";display:inline-block;font:22px/1 n-icons;color:#333}.sf-container .sf-title{position:absolute;left:50%;height:44px;-webkit-transform:translateX(-50%);-moz-transform:translateX(-50%);transform:translateX(-50%)}.sf-container .sf-title a{display:inline-block;height:44px;line-height:44px}.sf-container .sf-title a img{width:22px;height:22px;vertical-align:text-bottom;border-radius:50%}.sf-container .sf-title a span{margin-left:8px;font-size:20px;color:#333}.sf-container .sf-tools{display:inline-block;float:right;height:44px;line-height:44px;text-align:center}.sf-container .sf-tools .head-icon:before{content:\"\\\\e912\";font:22px/1 icons}.sf-container .sf-frame{display:block;width:100%;height:736px}.sf-container .sf-frame iframe{display:block;overflow:visible;overflow-y:scroll;-webkit-overflow-scrolling:touch;width:100%;height:100%;border:0;background-color:#f5f5f5}.sf-container .sf-frame{position:relative;z-index:1;width:100%;height:100%;background-color:#f5f5f5;-webkit-transform:translateZ(0);-moz-transform:translateZ(0);-ms-transform:translateZ(0);-o-transform:translateZ(0);transform:translateZ(0);-webkit-user-select:none;-moz-user-select:none;-ms-user-select:none;user-select:none;-webkit-tap-highlight-color:transparent;-webkit-text-size-adjust:none;-ms-text-size-adjust:none;text-size-adjust:none;-webkit-touch-callout:none}.sf-container .sf-frame .sf-wrap{z-index:1;overflow:auto;width:100%;height:100%;margin:0;padding:0;text-align:center;list-style:none}.sf-container .sf-frame li.framelist{display:block;width:100%;height:100%;border-right:0 solid #ccc;font-size:14px;background-color:#000}.hide{display:none}.show{display:block}.vhide{z-index:-1;visibility:hidden}.vshow{z-index:0;visibility:visible}.sf-middle-page{position:static;z-index:100;top:0;left:0;display:none;overflow:hidden;width:100%;height:100%;background-color:#09f}.sf-middle-page-header{position:relative;width:40px;height:40px;margin:10px;font-size:20px;font-weight:900;line-height:40px;text-align:center;color:#fff}.sf-middle-page-content{position:relative;top:5%;width:70%;margin:0 auto;font-family:Tahoma;font-size:20px;color:#fff}.sf-middle-page-content img{width:250px}@media all and (orientation:landscape){.sf-middle-page-content img{width:0}}.sf-middle-page-content p:last-child{font-size:40px}.sf-middle-page-footer{position:absolute;bottom:0;left:0;width:100%;height:40px;margin:0 auto;padding:20px 0;border-top:1px #d3d3d3 solid;color:#fff}.sf-pagenum{position:absolute;z-index:1;top:80%;display:none;width:100%}.sf-pagenum span{overflow:hidden;width:40px;margin:0 auto;padding:5px;text-align:center;opacity:.7;color:#fff;-webkit-border-radius:3px;-moz-border-radius:3px;background-color:#222}.sf-tips-cover{position:absolute;z-index:101;top:0;left:0;overflow:hidden;width:100%;height:100%;margin:0 auto;opacity:.5;color:#fff;background-color:#222}.sf-tips-cover span{position:relative;overflow:hidden;width:150px;height:54px;font-size:18px;line-height:54px;opacity:1;color:#fff}.sf-tips-cover span:last-child{top:60%;float:left}.sf-tips-cover span:first-child{top:40%;float:right}@keyframes c-loading-rotation{from{-webkit-transform:rotate(1deg);transform:rotate(1deg)}to{-webkit-transform:rotate(360deg);transform:rotate(360deg)}}@-webkit-keyframes c-loading-rotation{from{-webkit-transform:rotate(1deg);transform:rotate(1deg)}to{-webkit-transform:rotate(360deg);transform:rotate(360deg)}}.c-loading{position:fixed;top:50%;width:100%;margin-top:-39px;text-align:center;color:#999}.c-loading i.c-icons{font-style:normal;-webkit-font-smoothing:antialiased}.c-loading i.c-icons::after{content:\"\\\\e681\";position:absolute;left:50%;display:inline-block;width:54px;height:54px;margin:auto;font:30px/1 icons;line-height:52px;color:#ccc;-webkit-transform:translateX(-50%);transform:translateX(-50%)}.c-loading i.c-circles{content:\"\";position:relative;top:0;display:inline-block;width:50px;height:50px;margin:auto;border:2px solid #ccc;border-top-color:#999;border-radius:50%;-webkit-transform-origin:50% 50%;transform-origin:50% 50%;-webkit-animation:c-loading-rotation 1s ease 0s infinite normal;animation:c-loading-rotation 1s ease 0s infinite normal}.c-loading p{margin-top:20px;font-size:20px;text-indent:.5em;color:#999}.c-offline{position:fixed;top:50%;width:100%;text-align:center;color:#999;-webkit-transform:translateY(-50%);transform:translateY(-50%)}.c-offline .icons{display:inline-block;width:90px;height:90px;background:url(data:image/png;base64,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) no-repeat;background-size:100% auto}.c-offline p{margin-top:7px;font-size:20px;text-indent:.5em;color:#333}.c-back{position:fixed;right:6.67%;bottom:80px;display:none}.c-back div{box-sizing:border-box;width:44px;height:44px;border:1px solid #ddd;border-radius:50%;background-color:rgba(255,255,255,.93);box-shadow:0 2px 7px 0 rgba(0,0,0,.12)}.c-back .back-feed:after{content:\"\\\\e908\";display:inline-block;margin-top:11px;font:20px/1 icons;color:#666}.c-back .back-top{margin-top:12px}.c-back .back-top:after{content:\"\\\\e909\";display:inline-block;margin-top:12px;font:20px/1 icons;color:#666}.c-back.show{display:block}hr{-webkit-margin-after:0;-webkit-margin-before:0;-webkit-margin-end:0;-webkit-margin-start:0}.tpl-6 a.video-message-a{display:inline-block;float:right;margin:0;padding:1px 0 5px;padding-right:39px;border-top:0}.tpl-6 a.video-message-label{display:inline-block;margin:0;margin-right:8px;padding:0;background:#fff}.tpl-6 .pic-content{position:relative;z-index:0;width:100%;height:0;padding-top:51.7%}.tpl-6 .pic-content .text-content{position:absolute;z-index:10;top:0;width:100%;height:70px;background:-webkit-gradient(linear,0 0,0 100%,from(rgba(0,0,0,.5)),to(transparent));background:-moz-linear-gradient(top,rgba(0,0,0,.5),transparent);background:-o-linear-gradient(top,rgba(0,0,0,.5),transparent);background:-ms-linear-gradient(#000 50%,#000 0);-ms-filter:progid:DXImageTransform.Microsoft.gradient(startColorstr=\\'rgba(0, 0, 0, 0.5)\\', endColorstr=\\'rgba(0, 0, 0, 0)\\', grandientType=1);filter:progid:DXImageTransform.Microsoft.gradient(startColorstr=\\'rgba(0, 0, 0, 0.5)\\', endColorstr=\\'rgba(0, 0, 0, 0)\\', grandientType=1)}.tpl-6 .pic-content .text-content h2{margin-top:9px;padding:0 17px;color:#fff;-webkit-user-select:none;-moz-user-select:none;-ms-user-select:none;user-select:none;-webkit-line-clamp:2}.tpl-6 .pic-content img{position:absolute;top:0;left:0;width:100%;height:100%;-webkit-transition:opacity .3s linear;pointer-events:none;-webkit-tap-highlight-color:transparent}.tpl-6 .pic-content img.blank{z-index:0;opacity:0}.tpl-6 .pic-content img.full{z-index:1;opacity:1}.tpl-6 .pic-content .video-and{position:absolute;z-index:3;top:0;left:0;width:100%;max-height:214px;-webkit-tap-highlight-color:transparent}.tpl-6 .info-content{width:67.88%;-webkit-box-ordinal-group:2;-moz-box-ordinal-group:2;-ms-box-ordinal-group:2;-webkit-order:2;order:2}.tpl-6 .info-content>div{margin-left:14px}.tpl-6 .info-content .news-from{margin-top:8px}.tpl-6 .text-content h2{-webkit-line-clamp:2}.news-item-div{padding-top:6px;background:#f5f5f5}.video-list-all{background:#f5f5f5}.video-tag-display{display:-moz-box;display:-webkit-box;display:box;overflow:hidden;height:50px;padding:0;background:#fff;-webkit-user-select:none;-moz-user-select:none;-ms-user-select:none;user-select:none}.video-tag-display .video-tag-open{-webkit-box-flex:1;-moz-box-flex:1;box-flex:1}.video-tag-display .video-tag-open .video-open-box{display:-moz-box;display:-webkit-box;display:box;padding-left:16px}.video-tag-display .video-tag-left{overflow:hidden;height:24px;margin-top:13px;-webkit-box-flex:1;-moz-box-flex:1;box-flex:1}.video-tag-display .video-tag-left .video-tag-list{position:relative;display:-webkit-box;display:-moz-box;display:-ms-flexbox;height:20px;padding:1px 10px 1px 27px;border:1px solid #bbb;font-size:13px;text-overflow:ellipsis;color:#666;border-radius:2px;-webkit-box-orient:vertical;-ms-box-orient:vertical;-moz-flexbox-orient:vertical;-webkit-line-clamp:1;-moz-line-clamp:1;-ms-line-clamp:1}.video-tag-display .video-tag-left .video-tag-list:after{content:\"\";display:inline-block;width:0;height:24px;vertical-align:middle}.video-tag-display .video-tag-left .video-tag-listc{height:19px;padding:2px 10px 1px 27px}.video-tag-display .video-tag-detail{width:90px;font-size:14px;line-height:50px;text-align:right;color:#999}.video-tag-display .video-message-share{overflow:hidden;width:32px;padding-right:16px}.video-tag-display .video-message-share .video-message{position:relative;padding-left:24px;font-size:13px;color:#999}.video-tag-display .video-message-share .video-message .video-message-b{position:absolute;top:0;left:0;width:18px;height:18px;background-repeat:no-repeat;background-size:18px auto}.video-tag-display .video-message-share .video-share{position:relative;z-index:6;right:0;display:inline-block;width:32px;height:50px}.video-tag-display .video-message-share .video-share .video-share-b{position:absolute;top:16px;right:0;display:inline-block;width:18px;height:18px;background-repeat:no-repeat;background-size:18px auto}.video-message-label-b{position:absolute;top:5px;left:10px;display:inline-block;width:11px;height:11px;background-size:11px auto}a.video-message-label:first-child{margin-right:8px}.c-popup-mask{z-index:34000}.c-popup-modal{z-index:34001}.video-bg-black{position:absolute;top:0;left:0;width:100%;height:100%;-webkit-transition:opacity .3s linear;pointer-events:none;-webkit-tap-highlight-color:transparent}.video-bg-blackc{z-index:2}.news-item .video-wise-length a{position:relative;height:16px;margin:0;padding:0;color:#fff}@keyframes fade-in{0%{opacity:0}50%{opacity:.5}100%{opacity:1}}@-webkit-keyframes fade-in{0%{opacity:0}50%{opacity:.5}100%{opacity:1}}@-ms-keyframes fade-in{0%{opacity:0}50%{opacity:.5}100%{opacity:1}}@-o-keyframes fade-in{0%{opacity:0}50%{opacity:.5}100%{opacity:1}}@-moz-keyframes fade-in{0%{opacity:0}50%{opacity:.5}100%{opacity:1}}@keyframes fade-out{0%{opacity:1}50%{opacity:.5}100%{opacity:0}}@-webkit-keyframes fade-out{0%{opacity:1}50%{opacity:.5}100%{opacity:0}}@-ms-keyframes fade-out{0%{opacity:1}50%{opacity:.5}100%{opacity:0}}@-o-keyframes fade-out{0%{opacity:1}50%{opacity:.5}100%{opacity:0}}@-moz-keyframes fade-out{0%{opacity:1}50%{opacity:.5}100%{opacity:0}}.tpl-6.news-item .video-tag{position:absolute;bottom:0;left:-10px;width:100%;padding:12px 10px 8px 0;font-size:13px;text-align:right;color:#fff;background-image:-webkit-gradient(linear,left top,left bottom,color-stop(0%,transparent),color-stop(100%,rgba(0,0,0,.9)));-webkit-transition:opacity .3s linear}.tpl-6.news-item .video-tag.blank{z-index:0;opacity:0}.tpl-6.news-item .video-tag.full{z-index:1;opacity:1}.tpl-6.news-item .video-tag .no-length-icon{margin-right:0!important}.tpl-6.news-item .video-icon-wise{position:absolute;z-index:4;top:0;right:0;bottom:0;left:0;width:48px;height:0;margin:auto;padding-top:48px}.rn-footer{position:relative}.hide-dislike-data{display:none}.rn-footer span.dislike-btn{display:block;width:36px;height:38px;margin:0;text-align:right;position:absolute;top:-12px;right:0;padding-right:10px;margin-right:-10px;background:url(data:image/png;base64,iVBORw0KGgoAAAANSUhEUgAAACQAAAAkCAMAAADW3miqAAAABGdBTUEAALGPC/xhBQAAAAFzUkdCAK7OHOkAAABpUExURUdwTNLS0t/f39LS0tLS0tfX19LS0tLS0t/f39bW1tra2tLS0tLS0tPT09LS0tLS0tPT09XV1dTU1NLS0tLS0tLS0v///9zc3P///9PT093d3dLS0t3d3dfX19LS0tLS0tXV1dXV1dLS0jmOdK4AAAAidFJOUwDnCObKJ7jxEDgHtyjLm/w1PR6EzqoCFgW1D/gXLf3wRFY0s1XoAAAAsklEQVQ4y73USQ7CMAwF0LS0NKSlZZ6hkPsfEuKAyOCBFdn4S34LW5ai1L9f3xuyd9quoe4K25aE0ZXd+DRrbGsoM6kVr0JDqdjgKjWYyk2uMJMq3MSKMqGiDaipEYxXpWC8uggG1CgZpe6DPV8F85rn5uYSTPFoeOVM/d6RN4pVH8Opr6FVaCgVG1w50yF35E2u9Dw3qcJNrCgTqkNFGVBHCB1tnBo0hOWeuflq8esP9gR/aw71RcxVJQAAAABJRU5ErkJggg==) no-repeat;background-size:12px;background-position:24px 16px;z-index:8}.dislike-selected{overflow:hidden}</style><div id=\"tab_news_1\" class=\"tab_news\"><div class=\"tab-news-head\"><div class=\"loading-top\" style=\"display: none;\"><div class=\"s-loading clr\"><div class=\"load-effect\"></div><span class=\"load-text\">正在刷新</span></div></div></div><div class=\"tab-news-content water-container\"><div class=\"news-list-wrapper\" data-total=\"0\"><script type=\"text/javascript\">window.TABRERENDER = true;</script></div></div><div class=\"tab-news-foot\"></div><div class=\"s-loading-frame bottom\"><div class=\"bottom-load-ing\"><div class=\"load-img-wrapper\"><img class=\"load-ing-img\" src=\"https://sm.bdimg.com/static/wiseindex/img/fetch_ing_8_0.png\"/></div><span class=\"load-text\">正在加载</span></div><div class=\"bottom-load-before\">上滑加载更多</div></div></div><textarea id=\"first_rids\" style=\"display:none;\">[]</textarea><script data-md5=\"730f1894\" data-ls4=\"1\"></script><script>window.sSession = window.sSession || {};sSession.tabs = sSession.tabs || {};sSession.tabs[\\'1\\'] = {listnum: 1, page: 1, mockSid: \"\",sessionid: \\'16836173344185\\',preRids: []};</script></div></div></div><div class=\"tab-tools\"><div class=\"tab-refresh\"  data-thunder=\"tid:32;cst:2;logFrom:float_tools;logInfo:refresh;ref:index_iphone;\"></div><div class=\"tab-back\"  data-thunder=\"tid:31;cst:2;logFrom:float_tools;logInfo:back_to_top;ref:index_iphone;\"></div></div><script>window._performanceTimings.push([\\'firstScreen\\',+new Date()]);window._performanceTimings.push([\"request\",25]);window._performanceTimings.push([\"pcinvoke\",1]);window._performanceTimings.push([\"anTiCheat\",2]);window._performanceTimings.push([\"pexecute\",18]);window._performanceTimings.push([\"dataTime\",5]);window._performanceTimings.push([\"palltime\",12]);window._performanceTimings.push([\"psample\",7]);window._performanceTimings.push([\"pusecret\",0]);window._performanceTimings.push([\"pisMultiTab\",0]);window._performanceTimings.push([\"padsinfo\",3]);window._performanceTimings.push([\"puploadToken\",0]);window._performanceTimings.push([\"pinvoke\",0]);window._performanceTimings.push([\"ptokenRsvI\",0]);</script><div id=\\'bottom\\'><div id=\"foot\"><div><a href=\\'http://ufosdk.baidu.com/?m=Client&amp;a=commonsubmit&amp;appid=517&amp;activityId=1&amp;needEmail=false&amp;bw=0DBCE969C3CB7B9562C20FC5E7A37E35&amp;kw=&amp;tn=iphone&amp;pageid=6\\' data-stats=\\'10|2|foot|a1_b2\\'><i class=\"icon-feedback\"></i>用户反馈</a></div><a id=\\'index-copyright\\' href=\\'https://m.baidu.com/sf?pd=sd_privacy_terms&ms=1&ms=1&word=%E5%85%8D%E8%B4%A3%E5%A3%B0%E6%98%8E&title=%E5%85%8D%E8%B4%A3%E5%A3%B0%E6%98%8E&openapi=1&from_sf=1&resource_id=37483&dsp=iphone&tn=wisexmlnew&ext=%7B%22pid%22%3A%22mianze-shengming%22%7D&lid=&referlid=9224097818218589594&frsrcid=37483&frorder=1\\' data-stats=\\'10|2|foot|a2_l1\\'>使用百度前必读&#160;Baidu&#160;京ICP证030173号</a><a class=\"recordcode\" href=\"http://www.beian.gov.cn/portal/registerSystemInfo?recordcode=11000002000001\"  target=\"_blank\"><i></i>京公网安备11000002000001号</a></div><div id=\\'admin-bottom\\'>管理我的关注</div></div><textarea class=\"input-hidden\"></textarea></div><div id=\\'search-card\\'></div><textarea data-lsid=\"plus_tpl_search\" data-tpl=\"search-card\" style=\\'display:none\\'><style type=\\'text/css\\' class=\\'spa-index-style\\'>.se-box{position:absolute;width:100%}#search-card{min-height:480px;background-color:#fff}#search-card #head,#search-card #head .logo,#search-card #more,#search-card .loading .ico-rotate{position:relative}#search-card #head .logo,#search-card .h-tab,#search-card .loading .ico-rotate,#search-card .arrow{display:block}#search-card .h-tabs-flexbox{display:-webkit-box;display:-webkit-flex;width:auto;-webkit-align-content:flex-start;-webkit-align-items:stretch;-webkit-box-align:stretch;-webkit-box-direction:normal;-webkit-box-lines:single;-webkit-box-orient:horizontal;-webkit-box-pack:justify;-webkit-flex-direction:row;-webkit-flex-wrap:nowrap;-webkit-justify-content:space-between}#search-card .searchboxtop{padding:0 0 6px}#search-card #head{font-size:16px}#search-card #head .logo{width:87px;height:28px;margin-top:9px;margin-right:3px;background:url(//m.baidu.com/se/static/img/iphone/pagelogo.png) no-repeat;-webkit-background-size:87px 28px;background-size:87px 28px}#search-card #h-tabs{box-sizing:border-box;width:100%;height:44px;padding:0 16px;color:#666}#search-card .h-tab{display:inline-block;color:#666}#search-card .tabTx{position:relative;display:inline-block;width:39px;height:16px;padding:21px 0 5px;border-bottom:2px solid transparent;line-height:16px}#search-card .cur{border-bottom:2px solid #38f;color:#38f}#search-card #mo{width:44px;padding-right:0;padding-bottom:2px;text-align:right}#search-card .more-show{color:#38f}#search-card .arrow{position:relative;top:-2px;right:0;display:inline-block}#search-card .arrow::before{content:\"\\\\e68d\";display:inline-block;width:9px;height:16px;font-size:13px}#search-card .arrow-show::before{content:\"\\\\e68e\";color:#2d73df}#search-card #more{display:none;clear:both;padding:16px 0;border-top:1px solid #e0e0e0;border-bottom:1px solid #e0e0e0;background:#f9f9f9;-webkit-box-shadow:inset 1px 0 0 #f9f9f9,inset 0 1px 0 #f0f0f0,inset 0 -1px 0 #f0f0f0,inset -1px 0 0 #f9f9f9}#search-card .more-links{margin:0 10px;text-align:center}#search-card .more-links:last-child{margin-top:19px}#search-card .more-links a{display:inline-block;width:25%;color:#666}#search-card .se-form{position:relative;clear:both;box-sizing:content-box;height:40px;margin-right:.17rem;margin-bottom:2px;margin-left:.17rem;border:1px solid #d2d2d2;border-radius:2px;background:#fff;box-shadow:0 2px 0 0 #f1f1f1}#search-card .con-wrap{display:box;display:-moz-box;display:-webkit-box}#search-card .se-inner{position:relative;width:82px}#search-card .se-input,#search-card .se-encode{display:block;overflow:hidden;-webkit-box-sizing:border-box;height:40px;margin:0;padding:6px 42px 6px 6px;border:0;font-family:Arial,Helvetica,sans-serif;font-size:18px;line-height:30px;color:#333;border-radius:0;background-color:transparent;resize:none;-webkit-appearance:none;-webkit-box-flex:1;-moz-box-flex:1;box-flex:1;-webkit-tap-highlight-color:rgba(255,255,255,0)}#search-card .se-bn{display:block;box-sizing:border-box;width:82px;height:40px;border-left:1px solid #f1f1f1;text-align:center;letter-spacing:-1px;color:#38f}#search-card .se-bn span{font-size:16px;font-weight:700;font-style:normal}#search-card #page-bd{overflow:hidden;background-color:#eee}#search-card #page-bd .loading,#search-card #page-bd .loadedtips{min-height:480px;background-color:#fff}#search-card #page-bd .loading{font-size:14px;color:#666}#search-card #page-bd .loading .ico-loading{width:21px;height:24px;margin:145px auto 27px;background:url(//m.baidu.com/static/search/ico-bdlogo.png) left top no-repeat;background-size:21px 24px}#search-card #page-bd .loading .ico-rotate{top:-9px;left:-11px;width:40px;height:40px;border:2px solid #e2e2e2;border-left:2px solid #598edc;-webkit-border-radius:50em;border-radius:50em;-webkit-animation:rotating 700ms linear infinite}@-webkit-keyframes rotating{0%{-webkit-transform:rotate(0deg)}100%{-webkit-transform:rotate(360deg)}}#search-card #page-bd .loadedtips{padding:173px 0 0;background:url(//m.baidu.com/static/search/load-bg.jpg) center 112px no-repeat;-webkit-background-size:63px 51px;background-size:63px 51px}#search-card #page-bd .loadedtips .btn{width:97px;margin:10px auto 0;padding:10px 0;border:1px solid #d7d7d7;color:#333;background:-webkit-gradient(linear,left top,left bottom,from(#f6f6f6),to(#f0f0f0));-webkit-box-shadow:0 1px 0 rgba(215,215,215,.3)}.se-loading{position:fixed;z-index:302;top:50%;width:100%;height:48px;margin-top:6px;text-align:center}.se-loading-icon{overflow:hidden;width:147px;height:100%;margin:0 auto}.se-loading-bglogo{display:inline-block;width:147px;height:48px;background:url(//m.baidu.com/se/static/img/iphone/tab_loading__bg_logo.png) no-repeat;background-size:147px 48px}.se-loading-toplight{position:relative;top:-60px;left:-78px;display:inline-block;width:12px;height:60px;background-color:rgba(255,255,255,.5);-webkit-transform:skew(20deg);transform:skew(20deg);-webkit-animation:1s lodingframe infinite;animation:1s lodingframe infinite}@keyframes lodingframe{0%{left:-78px}100%{left:73px}}@-webkit-keyframes lodingframe{0%{left:-78px}100%{left:73px}}body .se-page-hd{position:static;background-color:#f8f8f8}body .se-page-hd .se-head-logo .se-logo{display:inline-block;width:163px;height:46px;margin:8px 0}body .se-page-hd .se-head-logo .se-logo img{padding-top:7px}body .se-head-logo .se-logo.se-logo-festival img{max-width:163px;max-height:46px;padding-top:0}body .se-page-hd .se-form .se-bearicon{display:block;width:20px;height:18px;margin:11px 0 0 12px;color:#3c76ff;background:#fff url(//m.baidu.com/se/static/img/iphone/vs_icon.png);background-repeat:no-repeat;background-position:1px 0;background-size:261px 18px}</style><div id=\"page-hd\" class=\"se-page-hd\"><div class=\"se-page-hd-content\"><div class=\"se-head-logo\"><a class=\"se-logo\" href=\"https://m.baidu.com/?ref=www_itl&amp;ms=1\"><img src=\"//m.baidu.com/se/static/img/iphone/logo.png\" width=\"101px\" height=\"31px\"></a></div><div class=\"searchboxtop\"><form data-formposition=\"t\" class=\"se-form\" id=\"se-form\" action=\"/from=844b/s\" method=\"get\"><div class=\"con-wrap\"><div class=\"se-bearicon\"></div><textarea autocomplete=\"off\" autocorrect=\"off\" maxlength=\"64\" id=\"kw\" name=\"word\" class=\"se-input adjust-input\">&lt;/textarea><div class=\"se-inner\"><div id=\"cross\" class=\"cross\"></div><div class=\"callicon-wrap\"><div class=\"baiduapp-icon\"></div><div class=\"baiduappcall-wrap\"><div class=\"qrcode call\" data-ac=\"active\"></div><input id=\"ts-image-uploader\" type=\"file\" data-role=\"uploader\" accept=\"image/*\" style=\"display:none;\"><div class=\"voice call\" data-ac=\"active\"></div></div></div><button id=\"se-bn\" class=\"se-bn\" type=\"submit\"><span>百度一下</span></button></div></div><div id=\"se-box\" class=\"se-box\"></div><input type=\"hidden\" name=\"rq\" value=\"\"/><input type=\"hidden\" name=\"ss\" value=\"0\"/><input type=\"hidden\" name=\"ts\" value=\"0\"/><input type=\"hidden\" name=\"t_kt\" value=\"0\"/><input type=\"hidden\" name=\"ms\" value=\"1\"/><input type=\"hidden\" name=\"dit\" value=\"0\"/><input type=\"hidden\" name=\"sa\" value=\"tb\"/></form></div></div></div><div class=\"search-page\"><div id=\"page-bd\" class=\"se-page-bd\"><div class=\"page-load\" id=\"page-load\"><div class=\"loading\"><div class=\"se-loading\"><div class=\"se-loading-icon\"><span class=\"se-loading-bglogo\"></span><span class=\"se-loading-toplight\"></span></div><img src=\"//m.baidu.com/se/static/img/iphone/tab_loading__bg_logo.png\" alt=\"\" style=\"display: none;\"></div></div></div><div id=\"page-tips\" class=\"se-page-tips\"></div><div id=\"results-top\"></div><div id=\"results\" class=\"results\"></div><div id=\"page-relative\" class=\"se-page-relative\"></div><div id=\"page-controller\" class=\"se-page-controller\"></div><div id=\"page-rcol\" class=\"se-page-rcol\"></div></div><div id=\"page-ft\" class=\"se-page-ft\"></div><div id=\"page-copyright\" class=\"se-page-copyright\"></div><div id=\"foot-blank\" class=\"se-foot-blank\"></div></div></textarea></div><div id=\\'index-view\\' style=\\'display: none\\' class=\\'noTapColor\\'></div><input type=\"hidden\" id=\"commonBase\"data-from=\"844b\"data-prepath=\"ssid=0#from=844b#pu=sz%401320_2001%2Cta%40iphone_1_11.0_3_#qid=8135349489950485466\"data-lid=\"8135349489950485466\"data-sugsid=\"219946,216841,213353,214802,219942,204908,230288,110085,236312,243890,244720,245412,247832,243706,247147,250301,250889,249893,253176,234296,253705,240590,253427,254473,254733,233836,254889,253213,250887,254765,255905,255982,107315,256127,256083,255804,253993,255660,255473,256298,255177,256225,254831,253151,256534,235279,250841,256201,256739,251973,256230,248437,254317,256588,257069,257080,257048,254075,257113,257290,256095,257338,257288,251058,251133,254299,255318,255324,257481,257575,257623,257939,257167,257904,258000,258074,257586,253900,258244,258163,257996,255230,258528,257000,258373,258372,257262,256858,258627,258724,258729,258754,256153,8000086,8000131,8000137,8000161,8000165,8000167,8000179,8000183,8000186,8000204\"data-hissid=\"219946,216841,213353,214802,219942,204908,230288,110085,236312,243890,244720,245412,247832,243706,247147,250301,250889,249893,253176,234296,253705,240590,253427,254473,254733,233836,254889,253213,250887,254765,255905,255982,107315,256127,256083,255804,253993,255660,255473,256298,255177,256225,254831,253151,256534,235279,250841,256201,256739,251973,256230,248437,254317,256588,257069,257080,257048,254075,257113,257290,256095,257338,257288,251058,251133,254299,255318,255324,257481,257575,257623,257939,257167,257904,258000,258074,257586,253900,258244,258163,257996,255230,258528,257000,258373,258372,257262,256858,258627,258724,258729,258754,256153,8000086,8000131,8000137,8000161,8000165,8000167,8000179,8000183,8000186,8000204\"data-ms=\"1\"data-tanet=\"\"data-taspeed=\"\"data-browser=\"applewebkit\"data-browserid=\"3\"data-browserversion=\"\"data-osid=\"1\"data-iphoneid=\"\"data-bfe=\"\"data-spa=\"0\"data-logid=\"8135349489950485466\"data-spd=\"\"data-sids=\"219946_216841_213353_214802_219942_204908_230288_110085_236312_243890_244720_245412_247832_243706_247147_250301_250889_249893_253176_234296_253705_240590_253427_254473_254733_233836_254889_253213_250887_254765_255905_255982_107315_256127_256083_255804_253993_255660_255473_256298_255177_256225_254831_253151_256534_235279_250841_256201_256739_251973_256230_248437_254317_256588_257069_257080_257048_254075_257113_257290_256095_257338_257288_251058_251133_254299_255318_255324_257481_257575_257623_257939_257167_257904_258000_258074_257586_253900_258244_258163_257996_255230_258528_257000_258373_258372_257262_256858_258627_258724_258729_258754_256153_8000086_8000131_8000137_8000161_8000165_8000167_8000179_8000183_8000186_8000204\"data-lsprefix=\"index_plus_ls_\"data-loginOrder=\"after\"data-pn=\"0\"data-rn=\"0\"data-pid=\"\"data-token=\"\"data-uptoken=\"ISxpm16b8ne6p11zz4rpNiXQksZWG+Nk4Y1XjcGTcc253qwv6EjiX+zNTs2BHUWxB2vNcy9dtIrH+CIHfOUP/Q==\"/><script>!function(a){a.B.fire=function(mod,a,w){mod=mod||\"global\",c[mod]=c[mod]||{},c[mod][a]=c[mod][a]||[],c[mod][a].push(w)};var c=a.B.fire.firePool={}}(window);</script><script>!function(a){function c(){try{var a=localStorage.getItem(\"index_ls_qid\"),c=g.getAttribute(\"data-logid\");if(!a)return void localStorage.setItem(\"index_ls_qid\",c);var v=/(\\\\d+)(-(\\\\d+))?$/gi.exec(a);v&&v[1]===c&&(v[3]?c=c+\"-\"+(+v[3]+1):c+=\"-1\",B.fire(\"inline/detectReload\",\"back\",{times:c.substr(c.indexOf(\"-\")+1)})),localStorage.setItem(\"index_ls_qid\",c),g.setAttribute(\"data-logid\",c),g.setAttribute(\"data-lid\",c),window.sSession=window.sSession||{},document.querySelectorAll(\\'[name=\"rsv_iqid\"]\\')[0].value=c;var _=g.getAttribute(\"data-prepath\").replace(/#qid=(.+)(#|$)/gi,\"#qid=\"+c);g.setAttribute(\"data-prepath\",_)}catch(e){}var b=/plus_lsv=([\\\\w\\\\d]+)(;|$)/.exec(document.cookie);if(b&&\"fc94d5aeed0595df\"===b[1]){var w=new Date;w.setTime(w.getTime()-1),document.cookie=\"plus_lsv=null;domain=.baidu.com;expires=\"+w.toUTCString()}}var g=a.B.$(\"#commonBase\");c()}(window);</script><script>window.sSession = window.sSession || {};window.sSession = {newIndexTplName: \\'\\',curtabId: \"1\",tabSets: [{id: \"0\", name:\"mine\"},{id: \"1\", name:\"news\"}],isLogin: \"\",loginGuide: {show: \"\",guideTitle: \"\",guideCard: \"\"},hasBg: 0,netSwitch: 1,osid: \"\",browserid: \"\",netType: \"\",prefetch: \"1\",isWifi: \"0\",mobileBrowserId: \"3\",ssid: \"0\",prefetchSwitch: \"\",sandboxSwitch: \"\",pu: \"sz%401320_2001%2Cta%40iphone_1_11.0_3_\",from: \"844b\",sids: \"219946_216841_213353_214802_219942_204908_230288_110085_236312_243890_244720_245412_247832_243706_247147_250301_250889_249893_253176_234296_253705_240590_253427_254473_254733_233836_254889_253213_250887_254765_255905_255982_107315_256127_256083_255804_253993_255660_255473_256298_255177_256225_254831_253151_256534_235279_250841_256201_256739_251973_256230_248437_254317_256588_257069_257080_257048_254075_257113_257290_256095_257338_257288_251058_251133_254299_255318_255324_257481_257575_257623_257939_257167_257904_258000_258074_257586_253900_258244_258163_257996_255230_258528_257000_258373_258372_257262_256858_258627_258724_258729_258754_256153_8000086_8000131_8000137_8000161_8000165_8000167_8000179_8000183_8000186_8000204\",Sid: \"[\\\\x22219946\\\\x22,\\\\x22216841\\\\x22,\\\\x22213353\\\\x22,\\\\x22214802\\\\x22,\\\\x22219942\\\\x22,\\\\x22204908\\\\x22,\\\\x22230288\\\\x22,\\\\x22110085\\\\x22,\\\\x22236312\\\\x22,\\\\x22243890\\\\x22,\\\\x22244720\\\\x22,\\\\x22245412\\\\x22,\\\\x22247832\\\\x22,\\\\x22243706\\\\x22,\\\\x22247147\\\\x22,\\\\x22250301\\\\x22,\\\\x22250889\\\\x22,\\\\x22249893\\\\x22,\\\\x22253176\\\\x22,\\\\x22234296\\\\x22,\\\\x22253705\\\\x22,\\\\x22240590\\\\x22,\\\\x22253427\\\\x22,\\\\x22254473\\\\x22,\\\\x22254733\\\\x22,\\\\x22233836\\\\x22,\\\\x22254889\\\\x22,\\\\x22253213\\\\x22,\\\\x22250887\\\\x22,\\\\x22254765\\\\x22,\\\\x22255905\\\\x22,\\\\x22255982\\\\x22,\\\\x22107315\\\\x22,\\\\x22256127\\\\x22,\\\\x22256083\\\\x22,\\\\x22255804\\\\x22,\\\\x22253993\\\\x22,\\\\x22255660\\\\x22,\\\\x22255473\\\\x22,\\\\x22256298\\\\x22,\\\\x22255177\\\\x22,\\\\x22256225\\\\x22,\\\\x22254831\\\\x22,\\\\x22253151\\\\x22,\\\\x22256534\\\\x22,\\\\x22235279\\\\x22,\\\\x22250841\\\\x22,\\\\x22256201\\\\x22,\\\\x22256739\\\\x22,\\\\x22251973\\\\x22,\\\\x22256230\\\\x22,\\\\x22248437\\\\x22,\\\\x22254317\\\\x22,\\\\x22256588\\\\x22,\\\\x22257069\\\\x22,\\\\x22257080\\\\x22,\\\\x22257048\\\\x22,\\\\x22254075\\\\x22,\\\\x22257113\\\\x22,\\\\x22257290\\\\x22,\\\\x22256095\\\\x22,\\\\x22257338\\\\x22,\\\\x22257288\\\\x22,\\\\x22251058\\\\x22,\\\\x22251133\\\\x22,\\\\x22254299\\\\x22,\\\\x22255318\\\\x22,\\\\x22255324\\\\x22,\\\\x22257481\\\\x22,\\\\x22257575\\\\x22,\\\\x22257623\\\\x22,\\\\x22257939\\\\x22,\\\\x22257167\\\\x22,\\\\x22257904\\\\x22,\\\\x22258000\\\\x22,\\\\x22258074\\\\x22,\\\\x22257586\\\\x22,\\\\x22253900\\\\x22,\\\\x22258244\\\\x22,\\\\x22258163\\\\x22,\\\\x22257996\\\\x22,\\\\x22255230\\\\x22,\\\\x22258528\\\\x22,\\\\x22257000\\\\x22,\\\\x22258373\\\\x22,\\\\x22258372\\\\x22,\\\\x22257262\\\\x22,\\\\x22256858\\\\x22,\\\\x22258627\\\\x22,\\\\x22258724\\\\x22,\\\\x22258729\\\\x22,\\\\x22258754\\\\x22,\\\\x22256153\\\\x22,\\\\x228000086\\\\x22,\\\\x228000131\\\\x22,\\\\x228000137\\\\x22,\\\\x228000161\\\\x22,\\\\x228000165\\\\x22,\\\\x228000167\\\\x22,\\\\x228000179\\\\x22,\\\\x228000183\\\\x22,\\\\x228000186\\\\x22,\\\\x228000204\\\\x22,\\\\x22104330\\\\x22]\",logid: window.sSession.logid || \"8135349489950485466\",abnormal: \"2\",strategy: \"emptycookiebaiduid\",multitab: \"1\",tabs: window.sSession.tabs,isFeedserver: \"1\",feedserverUrl: \"https:\\\\/\\\\/mbd.baidu.com\\\\/\",videoHost: \"https:\\\\/\\\\/mbd.baidu.com\",mbdUrl: \"\",serverTime: \"1683617334\",invokeApps: {\"rule\":\"00000000000000111000000000000000110000001000000000000000100010000000000000000000000000000000000000100000000000000000000000\",\"sample_value\":null,\"control\":[{\"from\":\"1021206d\",\"channel\":\"1021206r\",\"app\":\"3\",\"mode\":\"1\",\"id\":\"12\",\"shutdown_trigger_interval\":\"1440\"},\"\",{\"from\":\"1021206e\",\"channel\":\"1021206s\",\"hint\":\"\\\\u7528\\\\u767e\\\\u5ea6App\\\\uff0c\\\\u4eab\\\\u53d7\\\\u66f4\\\\u987a\\\\u7545\\\\u7684\\\\u641c\\\\u7d22\\\\u4f53\\\\u9a8c\",\"app\":\"3\",\"mode\":\"1\",\"id\":\"42\"},\"\",\"\",\"\",\"\",\"\",\"\",\"\",\"\",\"\",\"\",\"\",{\"from\":\"1023141i\",\"channel\":\"1024093i\",\"app\":\"1\",\"mode\":\"2\",\"id\":\"313\",\"ext\":\"{\\\\\"invokeType\\\\\":0,\\\\\"sameDayBlock\\\\\":\\\\\"1\\\\\",\\\\\"browserConfig\\\\\":{\\\\\"ios\\\\\":{\\\\\"sameDayBlock\\\\\":\\\\\"1\\\\\",\\\\\"maxAttemptCount\\\\\":3,\\\\\"attemptFailType\\\\\":1}},\\\\\"maxAttemptCount\\\\\":3,\\\\\"attemptFailType\\\\\":1}\",\"shutdown_trigger_interval\":\"1440\"},{\"from\":\"1023141k\",\"channel\":\"1024093j\",\"app\":\"1\",\"mode\":\"2\",\"id\":\"314\",\"ext\":\"{\\\\\"invokeType\\\\\":0,\\\\\"sameDayBlock\\\\\":\\\\\"1\\\\\",\\\\\"browserConfig\\\\\":{\\\\\"ios\\\\\":{\\\\\"sameDayBlock\\\\\":\\\\\"1\\\\\",\\\\\"maxAttemptCount\\\\\":3,\\\\\"attemptFailType\\\\\":1}},\\\\\"maxAttemptCount\\\\\":3,\\\\\"attemptFailType\\\\\":1}\",\"shutdown_trigger_interval\":\"1440\"},{\"from\":\"1024439e\",\"channel\":\"1024439k\",\"app\":\"1\",\"mode\":\"2\",\"id\":\"2878\",\"ext\":\"{\\\\\"sameDayBlock\\\\\":\\\\\"1\\\\\",\\\\\"browserConfig\\\\\":{\\\\\"ios\\\\\":{\\\\\"sameDayBlock\\\\\":\\\\\"1\\\\\",\\\\\"maxAttemptCount\\\\\":3,\\\\\"attemptFailType\\\\\":1}},\\\\\"maxAttemptCount\\\\\":3,\\\\\"attemptFailType\\\\\":1}\",\"shutdown_trigger_interval\":\"1440\"},\"\",\"\",{\"from\":\"1022817s\",\"channel\":\"1022818m\",\"app\":\"3\",\"mode\":\"1\",\"default_url\":\"https:\\\\/\\\\/boxer.baidu.com\\\\/scheme?source=1022817s&channel=1022818m\",\"id\":\"534\",\"shutdown_trigger_interval\":\"1440\"},\"\",\"\",\"\",\"\",\"\",\"\",\"\",{\"app\":\"1\",\"mode\":\"3\",\"id\":\"381\",\"strategy\":\"\"},\"\",\"\",\"\",\"\",{\"from\":\"1023172x\",\"channel\":\"1023174d\",\"app\":\"3\",\"mode\":\"5\",\"default_url\":\"https:\\\\/\\\\/activity.baidu.com\\\\/mbox\\\\/4a83a89c61\\\\/matrixInvokePage\",\"id\":\"385\",\"ext\":\"{\\\\\"light_store\\\\\":\\\\\"1\\\\\",\\\\\"sameDayBlock\\\\\":\\\\\"1\\\\\"}\",\"fail\":\"2\"},{\"from\":\"1023197w\",\"channel\":\"1023206g\",\"app\":\"1\",\"mode\":\"3\",\"invoke_url\":\"https:\\\\/\\\\/m.baidu.com\\\\/s?word=%E7%99%BE%E5%BA%A6%E7%83%AD%E6%90%9C&tn&from=1020854c&sa=tre_dl_gh_logo_wj\",\"id\":\"432\",\"ext\":\"{\\\\\"sameDayBlock\\\\\":\\\\\"1\\\\\",\\\\\"backScheme\\\\\":\\\\\"baiduboxapp:\\\\\\\\\\\\/\\\\\\\\\\\\/v11\\\\\\\\\\\\/appTab\\\\\\\\\\\\/select?item=home&upgrade=0&params=%7b%22channel%22%3a%228%22%2c%22tab_info%22%3a%7b%22id%22%3a%228%22%2c%22name%22%3a%22%e7%83%ad%e6%a6%9c%22%2c%22canDelete%22%3a%220%22%7d%2c%22tab_extend_info%22%3a%7b%22invokeFrom%22%3a%22Huawei%22%7d%2c%22refresh%22%3a%221%22%7d\\\\\",\\\\\"from_lite\\\\\":\\\\\"1024105b\\\\\",\\\\\"channel_lite\\\\\":\\\\\"1024105l\\\\\",\\\\\"isDBLite\\\\\":true,\\\\\"browserConfig\\\\\":{\\\\\"ios\\\\\":{\\\\\"sameDayBlock\\\\\":\\\\\"1\\\\\",\\\\\"maxAttemptCount\\\\\":3,\\\\\"attemptFailType\\\\\":1}},\\\\\"maxAttemptCount\\\\\":3,\\\\\"attemptFailType\\\\\":1}\",\"fail\":\"1\",\"shutdown_trigger_interval\":\"1440\"},\"\",\"\",\"\",\"\",\"\",\"\",{\"app\":\"2\",\"mode\":\"3\",\"id\":\"3638\",\"ext\":\"{\\\\\"browserConfig\\\\\":{\\\\\"ios\\\\\":{\\\\\"releaseCity\\\\\":{\\\\\"pos\\\\\":[16,33,83,84],\\\\\"city\\\\\":[\\\\\"\\\\\\\\u5e7f\\\\\\\\u5dde\\\\\",\\\\\"\\\\\\\\u6df1\\\\\\\\u5733\\\\\"]}}},\\\\\"releaseCity\\\\\":{\\\\\"pos\\\\\":[16,33,83,84],\\\\\"city\\\\\":[\\\\\"\\\\\\\\u5e7f\\\\\\\\u5dde\\\\\",\\\\\"\\\\\\\\u6df1\\\\\\\\u5733\\\\\"]}}\"},\"\",\"\",\"\",\"\",\"\",\"\",\"\",\"\",\"\",\"\",\"\",\"\",\"\",\"\",\"\",{\"app\":\"3\",\"mode\":\"6\",\"id\":\"1072\"},\"\",\"\",\"\",{\"from\":\"1023437p\",\"channel\":\"1023439d\",\"app\":\"3\",\"mode\":\"8\",\"default_url\":\"https:\\\\/\\\\/activity.baidu.com\\\\/mbox\\\\/4a83ab9d64\\\\/matrixInvokePage\",\"id\":\"1146\",\"ext\":\"{\\\\\"light_store\\\\\":\\\\\"1\\\\\",\\\\\"sameDayBlock\\\\\":\\\\\"1\\\\\"}\",\"fail\":\"2\",\"success\":\"1\"},\"\",\"\",\"\",\"\",\"\",\"\",\"\",\"\",\"\",\"\",\"\",\"\",\"\",\"\",\"\",\"\",\"\",\"\",\"\",\"\",\"\",\"\",\"\",\"\",\"\",{\"app\":\"3\",\"mode\":\"3\",\"id\":\"1725\"},\"\",\"\",\"\",\"\",\"\",\"\",\"\",\"\",\"\",\"\",\"\",{\"app\":\"3\",\"mode\":\"3\",\"id\":\"2197\"},\"\",\"\",\"\",\"\",\"\",\"\",\"\",\"\",\"\",\"\",\"\",\"\",\"\",\"\",\"\",\"\",\"\",\"\",\"\",\"\",\"\",\"\",\"\"],\"stoken\":\"60feCmjNwqZviSA2PQHAucMxJUcTfmlgbynTxFCnNrGLHMJEjRet+DpgHDjiOGPralv5lSpvn\\\\/cX\"},invokeZbios: {\"rule\":\"00000000000000111000000000000000110000001000000000000000100010000000000000000000000000000000000000100000000000000000000000\",\"from\":[\"1021206d\",\"0\",\"1021206e\",\"0\",\"0\",\"0\",\"0\",\"0\",\"0\",\"0\",\"0\",\"0\",\"0\",\"0\",\"1023141i\",\"1023141k\",\"1024439e\",\"0\",\"0\",\"1022817s\",\"0\",\"0\",\"0\",\"0\",\"0\",\"0\",\"0\",\"0\",\"0\",\"0\",\"0\",\"0\",\"1023172x\",\"1023197w\",\"0\",\"0\",\"0\",\"0\",\"0\",\"0\",\"0\",\"0\",\"0\",\"0\",\"0\",\"0\",\"0\",\"0\",\"0\",\"0\",\"0\",\"0\",\"0\",\"0\",\"0\",\"0\",\"0\",\"0\",\"0\",\"0\",\"1023437p\",\"0\",\"0\",\"0\",\"0\",\"0\",\"0\",\"0\",\"0\",\"0\",\"0\",\"0\",\"0\",\"0\",\"0\",\"0\",\"0\",\"0\",\"0\",\"0\",\"0\",\"0\",\"0\",\"0\",\"0\",\"0\",\"0\",\"0\",\"0\",\"0\",\"0\",\"0\",\"0\",\"0\",\"0\",\"0\",\"0\",\"0\",\"0\",\"0\",\"0\",\"0\",\"0\",\"0\",\"0\",\"0\",\"0\",\"0\",\"0\",\"0\",\"0\",\"0\",\"0\",\"0\",\"0\",\"0\",\"0\",\"0\",\"0\",\"0\",\"0\",\"0\"],\"channel\":[\"1021206r\",\"0\",\"1021206s\",\"0\",\"0\",\"0\",\"0\",\"0\",\"0\",\"0\",\"0\",\"0\",\"0\",\"0\",\"1024093i\",\"1024093j\",\"1024439k\",\"0\",\"0\",\"1022818m\",\"0\",\"0\",\"0\",\"0\",\"0\",\"0\",\"0\",\"0\",\"0\",\"0\",\"0\",\"0\",\"1023174d\",\"1023206g\",\"0\",\"0\",\"0\",\"0\",\"0\",\"0\",\"0\",\"0\",\"0\",\"0\",\"0\",\"0\",\"0\",\"0\",\"0\",\"0\",\"0\",\"0\",\"0\",\"0\",\"0\",\"0\",\"0\",\"0\",\"0\",\"0\",\"1023439d\",\"0\",\"0\",\"0\",\"0\",\"0\",\"0\",\"0\",\"0\",\"0\",\"0\",\"0\",\"0\",\"0\",\"0\",\"0\",\"0\",\"0\",\"0\",\"0\",\"0\",\"0\",\"0\",\"0\",\"0\",\"0\",\"0\",\"0\",\"0\",\"0\",\"0\",\"0\",\"0\",\"0\",\"0\",\"0\",\"0\",\"0\",\"0\",\"0\",\"0\",\"0\",\"0\",\"0\",\"0\",\"0\",\"0\",\"0\",\"0\",\"0\",\"0\",\"0\",\"0\",\"0\",\"0\",\"0\",\"0\",\"0\",\"0\",\"0\",\"0\",\"0\"],\"hints\":[\"\\\\u7528\\\\u767e\\\\u5ea6App\\\\uff0c\\\\u4eab\\\\u53d7\\\\u66f4\\\\u987a\\\\u7545\\\\u7684\\\\u641c\\\\u7d22\\\\u4f53\\\\u9a8c\",\"\\\\u7528\\\\u767e\\\\u5ea6App\\\\uff0c\\\\u4eab\\\\u53d7\\\\u66f4\\\\u987a\\\\u7545\\\\u7684\\\\u641c\\\\u7d22\\\\u4f53\\\\u9a8c\"],\"hints1\":[\"\\\\u7528\\\\u767e\\\\u5ea6App\\\\uff0c\\\\u4eab\\\\u53d7\\\\u66f4\\\\u987a\\\\u7545\\\\u7684\\\\u641c\\\\u7d22\\\\u4f53\\\\u9a8c\",\"\",\"\\\\u7528\\\\u767e\\\\u5ea6App\\\\uff0c\\\\u4eab\\\\u53d7\\\\u66f4\\\\u987a\\\\u7545\\\\u7684\\\\u641c\\\\u7d22\\\\u4f53\\\\u9a8c\",\"\\\\u4f7f\\\\u7528\\\\u767e\\\\u5ea6App\\\\uff0c\\\\u4eab\\\\u53d7\\\\u66f4\\\\u987a\\\\u7545\\\\u7684\\\\u641c\\\\u7d22\\\\u4f53\\\\u9a8c\",\"\\\\u4f7f\\\\u7528\\\\u767e\\\\u5ea6App\\\\uff0c\\\\u4eab\\\\u53d7\\\\u66f4\\\\u987a\\\\u7545\\\\u7684\\\\u641c\\\\u7d22\\\\u4f53\\\\u9a8c\",\"\",\"\\\\u4f7f\\\\u7528\\\\u767e\\\\u5ea6App\\\\uff0c\\\\u4eab\\\\u53d7\\\\u66f4\\\\u987a\\\\u7545\\\\u7684\\\\u641c\\\\u7d22\\\\u4f53\\\\u9a8c\",\"\\\\u4e0a\\\\u767e\\\\u5ea6App\\\\uff0c\\\\u5168\\\\u7f51\\\\u6700\\\\u65b0\\\\u8d44\\\\u8baf\\\\u65e9\\\\u77e5\\\\u9053\",\"App\\\\u5185\\\\u6253\\\\u5f00\",\"\",\"\",\"\",\"\",\"\",\"\",\"\",\"\"],\"sample_value\":null},mcpWise: null,defHotInfo: 0,closeSug: \"1\",defHotType: \"0\",configQueryList: [],hotQuery: [],isNewSearchStyleV2: \"\",isNewSearchStyleV3: \"\"};var sDomain = {isOrp: 1,ismigratetab: \"1\",host: \\'https:\\\\/\\\\/feed.baidu.com\\',ssllist: {\"t10.baidu.com\":\"dss0.baidu.com\\\\/6ONWsjip0QIZ8tyhnq\",\"t11.baidu.com\":\"dss1.baidu.com\\\\/6ONXsjip0QIZ8tyhnq\",\"t12.baidu.com\":\"dss2.baidu.com\\\\/6ONYsjip0QIZ8tyhnq\",\"1.su.bdimg.com\":\"dss0.bdstatic.com\\\\/k4oZeXSm1A5BphGlnYG\",\"a.hiphotos.baidu.com\":\"dss0.baidu.com\\\\/94o3dSag_xI4khGko9WTAnF6hhy\",\"b.hiphotos.baidu.com\":\"dss1.baidu.com\\\\/9vo3dSag_xI4khGko9WTAnF6hhy\",\"c.hiphotos.baidu.com\":\"dss3.baidu.com\\\\/9fo3dSag_xI4khGko9WTAnF6hhy\",\"d.hiphotos.baidu.com\":\"dss0.baidu.com\\\\/-Po3dSag_xI4khGko9WTAnF6hhy\",\"e.hiphotos.baidu.com\":\"dss1.baidu.com\\\\/-4o3dSag_xI4khGko9WTAnF6hhy\",\"f.hiphotos.baidu.com\":\"dss2.baidu.com\\\\/-vo3dSag_xI4khGko9WTAnF6hhy\",\"g.hiphotos.baidu.com\":\"dss3.baidu.com\\\\/-fo3dSag_xI4khGko9WTAnF6hhy\",\"h.hiphotos.baidu.com\":\"dss0.baidu.com\\\\/7Po3dSag_xI4khGko9WTAnF6hhy\",\"timg01.baidu-img.cn\":\"dss3.bdstatic.com\\\\/6Ls0a7b-KgQFm2e889WK1HF6hq\",\"bj.bs.baidu.com\":\"dss0.baidu.com\\\\/9r-1bina2gU2pMbgoY3K\",\"img0.imgtn.bdimg.com\":\"dss0.bdstatic.com\\\\/70cFvHSh_Q1YnxGkpoWK1HF6hhy\",\"img1.imgtn.bdimg.com\":\"dss1.bdstatic.com\\\\/70cFvXSh_Q1YnxGkpoWK1HF6hhy\",\"img2.imgtn.bdimg.com\":\"dss2.bdstatic.com\\\\/70cFvnSh_Q1YnxGkpoWK1HF6hhy\",\"img3.imgtn.bdimg.com\":\"ss3.bdstatic.com\\\\/70cFv8Sh_Q1YnxGkpoWK1HF6hhy\",\"img4.imgtn.bdimg.com\":\"dss0.bdstatic.com\\\\/70cFuHSh_Q1YnxGkpoWK1HF6hhy\",\"img5.imgtn.bdimg.com\":\"ss1.bdstatic.com\\\\/70cFuXSh_Q1YnxGkpoWK1HF6hhy\",\"himg.bdimg.com\":\"ss1.bdstatic.com\\\\/7Ls0a8Sm1A5BphGlnYG\",\"cdn01.baidu-img.cn\":\"dss0.bdstatic.com\\\\/9bA1vGfa2gU2pMbfm9GUKT-w\",\"cdn00.baidu-img.cn\":\"dss0.bdstatic.com\\\\/9bA1vGba2gU2pMbfm9GUKT-w\",\"gedftnj8mkvfefuaefm.exp.bcevod.com\":\"dss0.bdstatic.com\\\\/-b1Caiqa0d9Bmcmop9aC2jh9h2w8e4_h7sED0YQ_t9iCPK\",\"v1.bdstatic.com\":\"dss0.bdstatic.com\\\\/6uN1bjq8AAUYm2zgoY3K\",\"bos.box.bdimg.com\":\"gss3.bdstatic.com\\\\/9rkZsjib41gCpNKfpU_Y_D3\",\"static.open.baidu.com\":\"dss0.bdstatic.com\\\\/5aAHeD3nKgcUp2HgoI7O1ygwehsv\"},staticUrl: \"https:\\\\/\\\\/sm.bdimg.com\\\\/\"};</script><script data-lsid=\"plus_js_head\" src=\"https://sm.bdimg.com/static/wiseindex/js/inline/changeRelativeParam_d43b46a.js\"></script><script data-lsid=\"plus_js_head\" src=\"https://sm.bdimg.com/static/wiseindex/js/inline/indexlocal_49da17a.js\"></script><script data-lsid=\"plus_js_head\" src=\"https://sm.bdimg.com/static/wiseindex/js/inline/hash_424f744.js\"></script><script>!function(v){function b(mod,v,b){v||(mod=\"global\");var g=[];if(k[mod]=k[mod]||{},k[mod][v]=k[mod][v]||[],k[mod][v].push(b),w[mod]&&w[mod][v]){for(var i=0,h=w[mod][v].length;h>i;i++){var y=w[mod][v][i],P=y.callback&&y.callback.call({event:v},b);P&&g.push(P),w[mod][v][i].once&&(w[mod][v]=null)}return g}return null}function g(mod,v,b,g){v?\"string\"==typeof v&&(v=[v]):mod=\"global\",g=g||{},w[mod]=w[mod]||{};for(var h in v){var y=v[h];if(w[mod][y]=w[mod][y]||[],w[mod][y].push({once:g.once,callback:b}),g.listenpre&&k[mod]&&k[mod][y])for(var i in k[mod][y])b&&b.call({event:y},k[mod][y][i])}}function h(mod,v){v||(mod=\"global\");for(var b=w[mod][v]||{},i=0;i<b.length&&b[i]!==v;i++)w[mod][v].slice(i,1)}var k=v.rain.event.firePool||{},w={};v.define&&define(\"rain_event\",function(require,exports){exports.listen=g,exports.fire=b,exports.unlisten=h}),v.rain.event.listen=g,v.rain.event.unlisten=h,v.rain.event.fire=b}(window);;(function (global) {function rainInit() {define(\"rain_fileLoader\",function(){function h(h,v){var y=document.createElement(\"script\");y.setAttribute(\"type\",\"text/javascript\"),y.setAttribute(\"src\",h),y.setAttribute(\"defer\",\"defer\"),y.onload=v,document.getElementsByTagName(\"head\")[0].appendChild(y)}return{loadJs:h}}),define(\"rain_kernel\",function(require,exports){function h(h,v){this.compName=h,this.moduleId=v}function v(topDom){var h=topDom.on;return topDom.on=function(){h.apply(topDom,arguments)},topDom}function y(){rain.event.listen(\"rainBase\",\"removeComponent\",function(h){M[h.currentId].rainUmount()},{listenpre:!0})}function w(w){function L(v){var y=$(\\'script[data-rain-id=\"\\'+v+\\'\"]\\'),module=y.attr(\"data-rain-module\");M[v]=new h(module,v),require([\"rain_fileLoader\"],function(h){rain.fileLoader=h,h.loadJs(y.eq(0).attr(\"data-src\"),function(){M[v]&&M[v].rainMount(!0),g[module]&&g[module](v)})})}var N=this;N.rain=N.rain||{};\"body\"!==w&&(w=\"#\"+w);var topDom=$(w),g={};y(),rain.rainshell=function(h,y){g[h]=function(currentId){y.call(b,b.define,b.require,b.rain,v(topDom),currentId)}},N.rain.stack.forEach(L),N.rain.loadModule=L}var M={},b=window,rain=b.rain,L=rain.event;h.prototype={rainDestroy:function(){L.fire(this.moduleId,\"diddestroy\")},rainMount:function(){L.fire(\"rainModule/\"+this.compName,\"didmount\",{moduleId:this.moduleId})},rainUmount:function(){$(\"#\"+this.moduleId).remove(),this.rainDestroy(),L.fire(\"rainModule/\"+this.compName,\"didunmount\",{moduleId:this.moduleId})}},exports.rain=window.rain,exports.event=rain.event,exports.init=w,exports.LifeCycle=h});;require([\\'rain_kernel\\'], function (rk) {rk.init(\\'body\\');});}window.rain.event.listen(\\'global\\', \\'rainStartEvent\\', rainInit, {listenpre: 1});})(window);</script><div id=\"_16836173344417_0\" class=\"rec-item \" data-itemname=\"\" ></div><div id=\"channelMgr_16836173344417_0\" class=\"rn-channelMgr\" data-itemname=\"channelMgr\" ><style type=\"text/css\" >.rn-channelMgr#channel_mgrview,.rn-channelMgr#channel_offline{width:100%;height:auto;background-color:#f8f8f8;position:absolute}.rn-channelMgr#channel_mgrview .channel-head,.rn-channelMgr#channel_offline .channel-head{line-height:43px;border-bottom:1px solid #e0e0e0}.rn-channelMgr#channel_mgrview .channel-head h1,.rn-channelMgr#channel_offline .channel-head h1{font-size:19px;font-weight:normal}.rn-channelMgr#channel_mgrview .channel-head .back,.rn-channelMgr#channel_offline .channel-head .back{position:absolute;left:0;top:0;display:inline-block;width:43px;height:43px;padding-left:5px}.rn-channelMgr#channel_mgrview .channel-head .back:before,.rn-channelMgr#channel_offline .channel-head .back:before{content:\\'\\\\ce\\';color:#333;font:22px/1 n-icons;display:inline-block;position:relative;top:1px}.rn-channelMgr#channel_mgrview .channel-content,.rn-channelMgr#channel_offline .channel-content{text-align:left}.rn-channelMgr#channel_mgrview .channel-content .content.rec,.rn-channelMgr#channel_offline .channel-content .content.rec{margin-top:40px;margin-bottom:40px}.rn-channelMgr#channel_mgrview .channel-content .desc,.rn-channelMgr#channel_offline .channel-content .desc{position:relative;margin:0 23px;padding:13px 0;line-height:1em;font-size:18px;color:#333;border-bottom:1px solid #d6d6d6}.rn-channelMgr#channel_mgrview .channel-content .hint,.rn-channelMgr#channel_offline .channel-content .hint{position:absolute;right:0;font-size:13px;color:#999}.rn-channelMgr#channel_mgrview .channel-content .items,.rn-channelMgr#channel_offline .channel-content .items{padding:7px 13px 0}.rn-channelMgr#channel_mgrview .channel-content .channel-item,.rn-channelMgr#channel_offline .channel-content .channel-item{display:inline-block;width:25%;text-align:center;position:relative}.rn-channelMgr#channel_mgrview .channel-content .channel-item .name,.rn-channelMgr#channel_offline .channel-content .channel-item .name{display:block;margin:18px 10px 0;color:#000;font-size:15px;line-height:2em;border:1px solid #d6d6d6;border-radius:1px;background-color:#fff}.rn-channelMgr#channel_mgrview .channel-content .channel-item.cannot-del .name,.rn-channelMgr#channel_offline .channel-content .channel-item.cannot-del .name{color:#999;border:none}.rn-channelMgr#channel_mgrview .channel-content .channel-item.red-dot:after,.rn-channelMgr#channel_offline .channel-content .channel-item.red-dot:after{content:\\'\\';position:absolute;bottom:31px;right:6px;display:inline-block;border:4.5px solid #f43531;border-radius:50%}@media screen and (max-width: 340px){.rn-channelMgr#channel_mgrview .channel-content .channel-item .name,.rn-channelMgr#channel_offline .channel-content .channel-item .name{font-size:12px}}.rn-channelMgr#channel_mgrview .channel-content .content.mine .channel-item:before,.rn-channelMgr#channel_offline .channel-content .content.mine .channel-item:before{content:\\'\\';position:absolute;top:21px;bottom:22px;left:15px;display:inline-block;width:7px;height:7px;background:url(data:image/png;base64,iVBORw0KGgoAAAANSUhEUgAAABUAAAAVCAMAAACeyVWkAAAAdVBMVEUAAADMzMzMzMzMzMzMzMzMzMzMzMzMzMzMzMzMzMzMzMzMzMzMzMzMzMzMzMzMzMzMzMzMzMzMzMzMzMzMzMzMzMzMzMzMzMzMzMzMzMzMzMzMzMzMzMzMzMzMzMzMzMzMzMzMzMzMzMzMzMzMzMzMzMzMzMx/YZyHAAAAJnRSTlMA/Bb51gbg0G5nLx/ZXhEL9OrLxLqRWEEP5r+zrId+dlBKKSSlJlQrvSQAAACjSURBVBjTZZHpDoMwDINd2kE7jm1cYxe7/f6PuCEEoSV/an2KmtjBd4ugiipDpnIfRgkTOCrnQcMkApyiFZhmLItB5Ir3GcasulG2mv2o3jHPu6njoXkb3teJ9QyBp2YDbA+8bLCo457NH14nKFjxE0DAkrFA6dXywWKcDPNWCxZrFfvQhFgWwxKPF44l3SpIS5UHoZsIRrXBgUoapKu7dbX5AY8fDK/Pc/RaAAAAAElFTkSuQmCC) no-repeat;background-size:contain}.rn-channelMgr#channel_mgrview .channel-content .content.mine .channel-item.cannot-del:before,.rn-channelMgr#channel_offline .channel-content .content.mine .channel-item.cannot-del:before{background:none}.rn-channelMgr#channel_offline .c-offline-home{text-align:center;color:#999;-webkit-transform:translateY(-50%);transform:translateY(-50%);position:fixed;width:100%;top:50%}.rn-channelMgr#channel_offline .c-offline-home .icons{display:inline-block;height:90px;width:90px;background:url(data:image/png;base64,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) no-repeat;background-size:100% auto}.rn-channelMgr#channel_offline .c-offline-home p{color:#666;font-size:18px}.rn-channelMgr#channel_offline .c-offline-home .refresh{display:block;width:40px;height:40px;background:url(data:image/png;base64,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) no-repeat;background-size:100% auto;margin:auto;margin-top:40px}</style><script type=\"text/javascript\" data-src=\"https://gss0.bdstatic.com/5bd1bjqh_Q23odCf/static/itemrep/channelMgr/index_c70dc69.js\" data-rain-id=\"channelMgr_16836173344417_0\" data-rain-module=\"channelMgr#v1.0.6\">rain.loadModule(\\'channelMgr_16836173344417_0\\');</script></div><script>window._performanceTimings.push([\\'foot\\',+new Date()]);</script><style>.hint-fold-results-box {width: 100%;background: -webkit-gradient(linear,left top,left bottom,from(rgba(255,255,255,0)),to(#fff));background: -o-linear-gradient(top,rgba(255,255,255,0),#fff);background: linear-gradient(180deg,rgba(255,255,255,0),#fff);background-size: 100% 30px;background-position: 0 12px;background-repeat: no-repeat;height: 166px;position: absolute;bottom: 0;left: 0;z-index: 23;text-align: center;font-size: 14px;padding-top: 42px;-webkit-box-sizing: border-box;box-sizing: border-box;}.hint-fold-results-inner {height: 100%;background: #fff;}.hint-fold-results-box .unfold {visibility: hidden;height: 15px;}.hint-fold-results-box .ivk-button {display: block;height: 38px;line-height: 38px;color: #fff;margin: 5px 40px 0;background: #3897F0;border-radius: 19px;}.hint-text {margin-top: 15px;height: 24px;line-height: 24px;color: #999;}</style><script></script><script defer src=\"https://hectorstatic.baidu.com/a27e7df71036d80c.js\"></script><div id=\"bgContainer\" ></div></body></html>\\n'"
      ]
     },
     "execution_count": 16,
     "metadata": {},
     "output_type": "execute_result"
    }
   ],
   "source": [
    "# 传入一个dict作为Headers\n",
    "r = requests.get(\n",
    "    'https://www.baidu.com/',\n",
    "    headers={\n",
    "        'User-Agent':\n",
    "        'Mozilla/5.0 (iPhone; CPU iPhone OS 11_0 like Mac OS X) AppleWebKit'\n",
    "    })\n",
    "r.text"
   ]
  },
  {
   "cell_type": "code",
   "execution_count": 17,
   "metadata": {},
   "outputs": [],
   "source": [
    "# 发送post请求，将get方法变成post，然后传入data\n",
    "# 如果传递json，可以直接传入json参数\n",
    "# 上传文件：r = requests.post(url, files=upload_files)\n",
    "# cooklies：r.cookies['ts']，r = requests.get(url, cookies=cs)\n",
    "# 指定超时：r = requests.get(url, timeout=2.5) # 2.5秒后超时"
   ]
  },
  {
   "cell_type": "code",
   "execution_count": 19,
   "metadata": {},
   "outputs": [
    {
     "data": {
      "text/plain": [
       "{'encoding': 'ascii', 'confidence': 1.0, 'language': ''}"
      ]
     },
     "execution_count": 19,
     "metadata": {},
     "output_type": "execute_result"
    }
   ],
   "source": [
    "# chardet\n",
    "# 使用chardet检查编码\n",
    "import chardet\n",
    "chardet.detect(b'Hello world')"
   ]
  },
  {
   "cell_type": "code",
   "execution_count": 20,
   "metadata": {},
   "outputs": [
    {
     "data": {
      "text/plain": [
       "{'encoding': 'GB2312', 'confidence': 0.7407407407407407, 'language': 'Chinese'}"
      ]
     },
     "execution_count": 20,
     "metadata": {},
     "output_type": "execute_result"
    }
   ],
   "source": [
    "data = '离离原上草，一岁一枯荣'.encode('gbk')\n",
    "chardet.detect(data)"
   ]
  },
  {
   "cell_type": "code",
   "execution_count": 21,
   "metadata": {},
   "outputs": [
    {
     "data": {
      "text/plain": [
       "{'encoding': 'utf-8', 'confidence': 0.99, 'language': ''}"
      ]
     },
     "execution_count": 21,
     "metadata": {},
     "output_type": "execute_result"
    }
   ],
   "source": [
    "data = '离离原上草，一岁一枯荣'.encode('utf-8')\n",
    "chardet.detect(data)"
   ]
  },
  {
   "cell_type": "code",
   "execution_count": 22,
   "metadata": {},
   "outputs": [
    {
     "data": {
      "text/plain": [
       "{'encoding': 'EUC-JP', 'confidence': 0.99, 'language': 'Japanese'}"
      ]
     },
     "execution_count": 22,
     "metadata": {},
     "output_type": "execute_result"
    }
   ],
   "source": [
    "data = '最新の主要ニュース'.encode('euc-jp')\n",
    "chardet.detect(data)"
   ]
  },
  {
   "cell_type": "code",
   "execution_count": 23,
   "metadata": {},
   "outputs": [
    {
     "name": "stdout",
     "output_type": "stream",
     "text": [
      "{'encoding': 'GB2312', 'confidence': 0.8080808080808081, 'language': 'Chinese'}\n"
     ]
    }
   ],
   "source": [
    "import chardet\n",
    "\n",
    "data = '你说你妈呢,二傻子，离离原上草，一岁一枯荣发'.encode('gbk')\n",
    "print(chardet.detect(data))"
   ]
  },
  {
   "attachments": {},
   "cell_type": "markdown",
   "metadata": {},
   "source": [
    "psutil"
   ]
  },
  {
   "cell_type": "code",
   "execution_count": 24,
   "metadata": {},
   "outputs": [],
   "source": [
    "# 实现系统资源监控"
   ]
  },
  {
   "cell_type": "code",
   "execution_count": 1,
   "metadata": {},
   "outputs": [
    {
     "data": {
      "text/plain": [
       "2"
      ]
     },
     "execution_count": 1,
     "metadata": {},
     "output_type": "execute_result"
    }
   ],
   "source": [
    "# 获取CPU信息\n",
    "import psutil\n",
    "psutil.cpu_count()"
   ]
  },
  {
   "cell_type": "code",
   "execution_count": 2,
   "metadata": {},
   "outputs": [
    {
     "data": {
      "text/plain": [
       "2"
      ]
     },
     "execution_count": 2,
     "metadata": {},
     "output_type": "execute_result"
    }
   ],
   "source": [
    "psutil.cpu_count(logical=False)# 物理核心"
   ]
  },
  {
   "cell_type": "code",
   "execution_count": 3,
   "metadata": {},
   "outputs": [
    {
     "data": {
      "text/plain": [
       "scputimes(user=4424.89, nice=28.23, system=2219.21, idle=446151.12, iowait=957.82, irq=0.0, softirq=40.84, steal=0.0, guest=0.0, guest_nice=0.0)"
      ]
     },
     "execution_count": 3,
     "metadata": {},
     "output_type": "execute_result"
    }
   ],
   "source": [
    "# 空闲时间\n",
    "psutil.cpu_times()"
   ]
  },
  {
   "cell_type": "code",
   "execution_count": 4,
   "metadata": {},
   "outputs": [
    {
     "name": "stdout",
     "output_type": "stream",
     "text": [
      "[1.0, 3.0]\n",
      "[6.1, 5.0]\n",
      "[5.0, 5.0]\n",
      "[1.0, 0.0]\n",
      "[7.1, 7.0]\n",
      "[2.9, 1.0]\n",
      "[2.0, 4.0]\n",
      "[3.0, 4.0]\n",
      "[3.0, 4.0]\n",
      "[3.0, 2.0]\n"
     ]
    }
   ],
   "source": [
    "# CPU使用率\n",
    "for x in range(10):\n",
    "    print(psutil.cpu_percent(interval=1, percpu=True))\n"
   ]
  },
  {
   "cell_type": "code",
   "execution_count": 5,
   "metadata": {},
   "outputs": [
    {
     "data": {
      "text/plain": [
       "svmem(total=2071699456, available=791363584, percent=61.8, used=1082847232, free=93577216, active=371531776, inactive=1327874048, buffers=96677888, cached=798597120, shared=2621440, slab=187822080)"
      ]
     },
     "execution_count": 5,
     "metadata": {},
     "output_type": "execute_result"
    }
   ],
   "source": [
    "# 获取内存\n",
    "psutil.virtual_memory()"
   ]
  },
  {
   "cell_type": "code",
   "execution_count": 6,
   "metadata": {},
   "outputs": [
    {
     "data": {
      "text/plain": [
       "[sdiskpart(device='/dev/vda2', mountpoint='/', fstype='ext4', opts='rw,relatime', maxfile=255, maxpath=4096),\n",
       " sdiskpart(device='/dev/loop0', mountpoint='/snap/core20/1879', fstype='squashfs', opts='ro,nodev,relatime,errors=continue', maxfile=256, maxpath=4096),\n",
       " sdiskpart(device='/dev/loop1', mountpoint='/snap/core20/1852', fstype='squashfs', opts='ro,nodev,relatime,errors=continue', maxfile=256, maxpath=4096),\n",
       " sdiskpart(device='/dev/loop2', mountpoint='/snap/lxd/23541', fstype='squashfs', opts='ro,nodev,relatime,errors=continue', maxfile=256, maxpath=4096),\n",
       " sdiskpart(device='/dev/loop5', mountpoint='/snap/snapd/19122', fstype='squashfs', opts='ro,nodev,relatime,errors=continue', maxfile=256, maxpath=4096),\n",
       " sdiskpart(device='/dev/loop4', mountpoint='/snap/snapd/18933', fstype='squashfs', opts='ro,nodev,relatime,errors=continue', maxfile=256, maxpath=4096),\n",
       " sdiskpart(device='/dev/loop3', mountpoint='/snap/lxd/24322', fstype='squashfs', opts='ro,nodev,relatime,errors=continue', maxfile=256, maxpath=4096)]"
      ]
     },
     "execution_count": 6,
     "metadata": {},
     "output_type": "execute_result"
    }
   ],
   "source": [
    "# 获取磁盘信息\n",
    "psutil.disk_partitions()"
   ]
  },
  {
   "cell_type": "code",
   "execution_count": 7,
   "metadata": {},
   "outputs": [
    {
     "data": {
      "text/plain": [
       "sdiskusage(total=42156257280, used=7648366592, free=32666030080, percent=19.0)"
      ]
     },
     "execution_count": 7,
     "metadata": {},
     "output_type": "execute_result"
    }
   ],
   "source": [
    "psutil.disk_usage('/')"
   ]
  },
  {
   "cell_type": "code",
   "execution_count": 8,
   "metadata": {},
   "outputs": [
    {
     "data": {
      "text/plain": [
       "sdiskio(read_count=100722, write_count=1646082, read_bytes=2099371520, write_bytes=17027679232, read_time=143131, write_time=2116712, read_merged_count=20768, write_merged_count=1761080, busy_time=1713304)"
      ]
     },
     "execution_count": 8,
     "metadata": {},
     "output_type": "execute_result"
    }
   ],
   "source": [
    "psutil.disk_io_counters()"
   ]
  },
  {
   "cell_type": "code",
   "execution_count": 9,
   "metadata": {},
   "outputs": [
    {
     "data": {
      "text/plain": [
       "snetio(bytes_sent=609617655, bytes_recv=645837518, packets_sent=1808851, packets_recv=1907804, errin=0, errout=0, dropin=0, dropout=0)"
      ]
     },
     "execution_count": 9,
     "metadata": {},
     "output_type": "execute_result"
    }
   ],
   "source": [
    "# 获取网络信息\n",
    "psutil.net_io_counters()# 网络读写字节/包个数"
   ]
  },
  {
   "cell_type": "code",
   "execution_count": 10,
   "metadata": {},
   "outputs": [
    {
     "data": {
      "text/plain": [
       "{'lo': [snicaddr(family=<AddressFamily.AF_INET: 2>, address='127.0.0.1', netmask='255.0.0.0', broadcast=None, ptp=None),\n",
       "  snicaddr(family=<AddressFamily.AF_INET6: 10>, address='::1', netmask='ffff:ffff:ffff:ffff:ffff:ffff:ffff:ffff', broadcast=None, ptp=None),\n",
       "  snicaddr(family=<AddressFamily.AF_PACKET: 17>, address='00:00:00:00:00:00', netmask=None, broadcast=None, ptp=None)],\n",
       " 'eth0': [snicaddr(family=<AddressFamily.AF_INET: 2>, address='10.0.24.3', netmask='255.255.252.0', broadcast='10.0.27.255', ptp=None),\n",
       "  snicaddr(family=<AddressFamily.AF_INET6: 10>, address='fe80::5054:ff:fe24:e508%eth0', netmask='ffff:ffff:ffff:ffff::', broadcast=None, ptp=None),\n",
       "  snicaddr(family=<AddressFamily.AF_PACKET: 17>, address='52:54:00:24:e5:08', netmask=None, broadcast='ff:ff:ff:ff:ff:ff', ptp=None)]}"
      ]
     },
     "execution_count": 10,
     "metadata": {},
     "output_type": "execute_result"
    }
   ],
   "source": [
    "# 网络接口信息\n",
    "psutil.net_if_addrs()"
   ]
  },
  {
   "cell_type": "code",
   "execution_count": 11,
   "metadata": {},
   "outputs": [
    {
     "data": {
      "text/plain": [
       "{'lo': snicstats(isup=True, duplex=<NicDuplex.NIC_DUPLEX_UNKNOWN: 0>, speed=0, mtu=65536, flags='up,loopback,running'),\n",
       " 'eth0': snicstats(isup=True, duplex=<NicDuplex.NIC_DUPLEX_UNKNOWN: 0>, speed=0, mtu=1500, flags='up,broadcast,running,multicast')}"
      ]
     },
     "execution_count": 11,
     "metadata": {},
     "output_type": "execute_result"
    }
   ],
   "source": [
    "psutil.net_if_stats()  # 获取网络接口状态\n"
   ]
  },
  {
   "cell_type": "code",
   "execution_count": 12,
   "metadata": {},
   "outputs": [
    {
     "data": {
      "text/plain": [
       "[sconn(fd=-1, family=<AddressFamily.AF_INET6: 10>, type=<SocketKind.SOCK_DGRAM: 2>, laddr=addr(ip='fe80::5054:ff:fe24:e508', port=123), raddr=(), status='NONE', pid=None),\n",
       " sconn(fd=-1, family=<AddressFamily.AF_INET: 2>, type=<SocketKind.SOCK_DGRAM: 2>, laddr=addr(ip='10.0.24.3', port=68), raddr=(), status='NONE', pid=None),\n",
       " sconn(fd=-1, family=<AddressFamily.AF_INET: 2>, type=<SocketKind.SOCK_STREAM: 1>, laddr=addr(ip='10.0.24.3', port=35758), raddr=addr(ip='169.254.0.4', port=80), status='TIME_WAIT', pid=None),\n",
       " sconn(fd=-1, family=<AddressFamily.AF_INET: 2>, type=<SocketKind.SOCK_STREAM: 1>, laddr=addr(ip='10.0.24.3', port=53804), raddr=addr(ip='169.254.0.4', port=80), status='TIME_WAIT', pid=None),\n",
       " sconn(fd=23, family=<AddressFamily.AF_INET: 2>, type=<SocketKind.SOCK_STREAM: 1>, laddr=addr(ip='127.0.0.1', port=37637), raddr=addr(ip='127.0.0.1', port=57542), status='ESTABLISHED', pid=937616),\n",
       " sconn(fd=63, family=<AddressFamily.AF_INET: 2>, type=<SocketKind.SOCK_STREAM: 1>, laddr=addr(ip='127.0.0.1', port=9002), raddr=addr(ip='127.0.0.1', port=34942), status='ESTABLISHED', pid=948737),\n",
       " sconn(fd=-1, family=<AddressFamily.AF_INET: 2>, type=<SocketKind.SOCK_STREAM: 1>, laddr=addr(ip='10.0.24.3', port=35624), raddr=addr(ip='169.254.0.55', port=5574), status='ESTABLISHED', pid=None),\n",
       " sconn(fd=19, family=<AddressFamily.AF_INET: 2>, type=<SocketKind.SOCK_STREAM: 1>, laddr=addr(ip='127.0.0.1', port=37637), raddr=addr(ip='127.0.0.1', port=57552), status='ESTABLISHED', pid=948591),\n",
       " sconn(fd=18, family=<AddressFamily.AF_INET: 2>, type=<SocketKind.SOCK_STREAM: 1>, laddr=addr(ip='127.0.0.1', port=37637), raddr=(), status='LISTEN', pid=937616),\n",
       " sconn(fd=-1, family=<AddressFamily.AF_INET6: 10>, type=<SocketKind.SOCK_STREAM: 1>, laddr=addr(ip='::', port=22), raddr=(), status='LISTEN', pid=None),\n",
       " sconn(fd=-1, family=<AddressFamily.AF_INET: 2>, type=<SocketKind.SOCK_DGRAM: 2>, laddr=addr(ip='127.0.0.1', port=123), raddr=(), status='NONE', pid=None),\n",
       " sconn(fd=-1, family=<AddressFamily.AF_INET: 2>, type=<SocketKind.SOCK_STREAM: 1>, laddr=addr(ip='127.0.0.1', port=37637), raddr=addr(ip='127.0.0.1', port=34706), status='TIME_WAIT', pid=None),\n",
       " sconn(fd=34, family=<AddressFamily.AF_INET: 2>, type=<SocketKind.SOCK_STREAM: 1>, laddr=addr(ip='127.0.0.1', port=34932), raddr=addr(ip='127.0.0.1', port=9002), status='ESTABLISHED', pid=948737),\n",
       " sconn(fd=48, family=<AddressFamily.AF_INET: 2>, type=<SocketKind.SOCK_STREAM: 1>, laddr=addr(ip='127.0.0.1', port=9000), raddr=(), status='LISTEN', pid=948737),\n",
       " sconn(fd=-1, family=<AddressFamily.AF_INET: 2>, type=<SocketKind.SOCK_DGRAM: 2>, laddr=addr(ip='127.0.0.53', port=53), raddr=(), status='NONE', pid=None),\n",
       " sconn(fd=68, family=<AddressFamily.AF_INET: 2>, type=<SocketKind.SOCK_STREAM: 1>, laddr=addr(ip='127.0.0.1', port=45874), raddr=addr(ip='127.0.0.1', port=9004), status='ESTABLISHED', pid=948591),\n",
       " sconn(fd=69, family=<AddressFamily.AF_INET: 2>, type=<SocketKind.SOCK_STREAM: 1>, laddr=addr(ip='127.0.0.1', port=34942), raddr=addr(ip='127.0.0.1', port=9002), status='ESTABLISHED', pid=948591),\n",
       " sconn(fd=-1, family=<AddressFamily.AF_INET: 2>, type=<SocketKind.SOCK_STREAM: 1>, laddr=addr(ip='0.0.0.0', port=22), raddr=(), status='LISTEN', pid=None),\n",
       " sconn(fd=-1, family=<AddressFamily.AF_INET: 2>, type=<SocketKind.SOCK_STREAM: 1>, laddr=addr(ip='10.0.24.3', port=54704), raddr=addr(ip='169.254.0.138', port=8186), status='ESTABLISHED', pid=None),\n",
       " sconn(fd=-1, family=<AddressFamily.AF_INET: 2>, type=<SocketKind.SOCK_STREAM: 1>, laddr=addr(ip='10.0.24.3', port=35744), raddr=addr(ip='169.254.0.4', port=80), status='TIME_WAIT', pid=None),\n",
       " sconn(fd=36, family=<AddressFamily.AF_INET: 2>, type=<SocketKind.SOCK_STREAM: 1>, laddr=addr(ip='127.0.0.1', port=39071), raddr=(), status='LISTEN', pid=948591),\n",
       " sconn(fd=-1, family=<AddressFamily.AF_INET: 2>, type=<SocketKind.SOCK_STREAM: 1>, laddr=addr(ip='10.0.24.3', port=38090), raddr=addr(ip='169.254.0.4', port=80), status='TIME_WAIT', pid=None),\n",
       " sconn(fd=-1, family=<AddressFamily.AF_INET: 2>, type=<SocketKind.SOCK_STREAM: 1>, laddr=addr(ip='10.0.24.3', port=22), raddr=addr(ip='117.178.82.226', port=54919), status='ESTABLISHED', pid=None),\n",
       " sconn(fd=13, family=<AddressFamily.AF_INET: 2>, type=<SocketKind.SOCK_STREAM: 1>, laddr=addr(ip='127.0.0.1', port=9001), raddr=(), status='LISTEN', pid=948737),\n",
       " sconn(fd=-1, family=<AddressFamily.AF_INET: 2>, type=<SocketKind.SOCK_STREAM: 1>, laddr=addr(ip='10.0.24.3', port=35772), raddr=addr(ip='169.254.0.4', port=80), status='TIME_WAIT', pid=None),\n",
       " sconn(fd=-1, family=<AddressFamily.AF_INET: 2>, type=<SocketKind.SOCK_STREAM: 1>, laddr=addr(ip='127.0.0.1', port=34916), raddr=addr(ip='127.0.0.1', port=9002), status='TIME_WAIT', pid=None),\n",
       " sconn(fd=-1, family=<AddressFamily.AF_INET6: 10>, type=<SocketKind.SOCK_DGRAM: 2>, laddr=addr(ip='::1', port=123), raddr=(), status='NONE', pid=None),\n",
       " sconn(fd=71, family=<AddressFamily.AF_INET: 2>, type=<SocketKind.SOCK_STREAM: 1>, laddr=addr(ip='127.0.0.1', port=39784), raddr=addr(ip='127.0.0.1', port=9003), status='ESTABLISHED', pid=948591),\n",
       " sconn(fd=-1, family=<AddressFamily.AF_INET: 2>, type=<SocketKind.SOCK_STREAM: 1>, laddr=addr(ip='10.0.24.3', port=52046), raddr=addr(ip='20.205.243.166', port=22), status='TIME_WAIT', pid=None),\n",
       " sconn(fd=-1, family=<AddressFamily.AF_INET: 2>, type=<SocketKind.SOCK_STREAM: 1>, laddr=addr(ip='10.0.24.3', port=41220), raddr=addr(ip='52.200.80.15', port=4318), status='TIME_WAIT', pid=None),\n",
       " sconn(fd=-1, family=<AddressFamily.AF_INET: 2>, type=<SocketKind.SOCK_DGRAM: 2>, laddr=addr(ip='10.0.24.3', port=123), raddr=(), status='NONE', pid=None),\n",
       " sconn(fd=-1, family=<AddressFamily.AF_INET: 2>, type=<SocketKind.SOCK_STREAM: 1>, laddr=addr(ip='127.0.0.1', port=57542), raddr=addr(ip='127.0.0.1', port=37637), status='ESTABLISHED', pid=None),\n",
       " sconn(fd=30, family=<AddressFamily.AF_INET: 2>, type=<SocketKind.SOCK_STREAM: 1>, laddr=addr(ip='127.0.0.1', port=45833), raddr=(), status='LISTEN', pid=948737),\n",
       " sconn(fd=-1, family=<AddressFamily.AF_INET: 2>, type=<SocketKind.SOCK_STREAM: 1>, laddr=addr(ip='10.0.24.3', port=35630), raddr=addr(ip='169.254.0.55', port=5574), status='ESTABLISHED', pid=None),\n",
       " sconn(fd=21, family=<AddressFamily.AF_INET: 2>, type=<SocketKind.SOCK_STREAM: 1>, laddr=addr(ip='127.0.0.1', port=9004), raddr=(), status='LISTEN', pid=948737),\n",
       " sconn(fd=65, family=<AddressFamily.AF_INET: 2>, type=<SocketKind.SOCK_STREAM: 1>, laddr=addr(ip='127.0.0.1', port=9003), raddr=addr(ip='127.0.0.1', port=39784), status='ESTABLISHED', pid=948737),\n",
       " sconn(fd=62, family=<AddressFamily.AF_INET: 2>, type=<SocketKind.SOCK_STREAM: 1>, laddr=addr(ip='127.0.0.1', port=9004), raddr=addr(ip='127.0.0.1', port=45874), status='ESTABLISHED', pid=948737),\n",
       " sconn(fd=-1, family=<AddressFamily.AF_INET: 2>, type=<SocketKind.SOCK_STREAM: 1>, laddr=addr(ip='127.0.0.1', port=57552), raddr=addr(ip='127.0.0.1', port=37637), status='ESTABLISHED', pid=None),\n",
       " sconn(fd=70, family=<AddressFamily.AF_INET: 2>, type=<SocketKind.SOCK_STREAM: 1>, laddr=addr(ip='127.0.0.1', port=55920), raddr=addr(ip='127.0.0.1', port=9001), status='ESTABLISHED', pid=948591),\n",
       " sconn(fd=36, family=<AddressFamily.AF_INET: 2>, type=<SocketKind.SOCK_STREAM: 1>, laddr=addr(ip='127.0.0.1', port=9002), raddr=addr(ip='127.0.0.1', port=34932), status='ESTABLISHED', pid=948737),\n",
       " sconn(fd=-1, family=<AddressFamily.AF_INET: 2>, type=<SocketKind.SOCK_STREAM: 1>, laddr=addr(ip='127.0.0.53', port=53), raddr=(), status='LISTEN', pid=None),\n",
       " sconn(fd=45, family=<AddressFamily.AF_INET: 2>, type=<SocketKind.SOCK_STREAM: 1>, laddr=addr(ip='10.0.24.3', port=58736), raddr=addr(ip='20.189.173.3', port=443), status='SYN_SENT', pid=948591),\n",
       " sconn(fd=64, family=<AddressFamily.AF_INET: 2>, type=<SocketKind.SOCK_STREAM: 1>, laddr=addr(ip='127.0.0.1', port=9001), raddr=addr(ip='127.0.0.1', port=55920), status='ESTABLISHED', pid=948737),\n",
       " sconn(fd=11, family=<AddressFamily.AF_INET: 2>, type=<SocketKind.SOCK_STREAM: 1>, laddr=addr(ip='127.0.0.1', port=9003), raddr=(), status='LISTEN', pid=948737),\n",
       " sconn(fd=9, family=<AddressFamily.AF_INET: 2>, type=<SocketKind.SOCK_STREAM: 1>, laddr=addr(ip='127.0.0.1', port=9002), raddr=(), status='LISTEN', pid=948737)]"
      ]
     },
     "execution_count": 12,
     "metadata": {},
     "output_type": "execute_result"
    }
   ],
   "source": [
    "# 当前连接\n",
    "psutil.net_connections()"
   ]
  },
  {
   "cell_type": "code",
   "execution_count": 13,
   "metadata": {},
   "outputs": [
    {
     "data": {
      "text/plain": [
       "[1,\n",
       " 2,\n",
       " 3,\n",
       " 4,\n",
       " 5,\n",
       " 7,\n",
       " 9,\n",
       " 10,\n",
       " 11,\n",
       " 12,\n",
       " 13,\n",
       " 14,\n",
       " 15,\n",
       " 17,\n",
       " 18,\n",
       " 19,\n",
       " 20,\n",
       " 21,\n",
       " 23,\n",
       " 24,\n",
       " 25,\n",
       " 26,\n",
       " 27,\n",
       " 28,\n",
       " 29,\n",
       " 30,\n",
       " 31,\n",
       " 32,\n",
       " 79,\n",
       " 80,\n",
       " 81,\n",
       " 82,\n",
       " 83,\n",
       " 84,\n",
       " 85,\n",
       " 86,\n",
       " 87,\n",
       " 89,\n",
       " 91,\n",
       " 92,\n",
       " 94,\n",
       " 95,\n",
       " 97,\n",
       " 98,\n",
       " 99,\n",
       " 100,\n",
       " 102,\n",
       " 103,\n",
       " 104,\n",
       " 105,\n",
       " 116,\n",
       " 119,\n",
       " 120,\n",
       " 125,\n",
       " 174,\n",
       " 232,\n",
       " 279,\n",
       " 280,\n",
       " 353,\n",
       " 383,\n",
       " 386,\n",
       " 388,\n",
       " 389,\n",
       " 391,\n",
       " 392,\n",
       " 393,\n",
       " 619,\n",
       " 767,\n",
       " 769,\n",
       " 782,\n",
       " 786,\n",
       " 787,\n",
       " 796,\n",
       " 802,\n",
       " 805,\n",
       " 807,\n",
       " 833,\n",
       " 836,\n",
       " 856,\n",
       " 857,\n",
       " 943,\n",
       " 951,\n",
       " 961,\n",
       " 1087,\n",
       " 1096,\n",
       " 1723,\n",
       " 1783,\n",
       " 1819,\n",
       " 1826,\n",
       " 1827,\n",
       " 1926,\n",
       " 2021,\n",
       " 113966,\n",
       " 771957,\n",
       " 807899,\n",
       " 925068,\n",
       " 937471,\n",
       " 937472,\n",
       " 937477,\n",
       " 937606,\n",
       " 937616,\n",
       " 937675,\n",
       " 943309,\n",
       " 945610,\n",
       " 946855,\n",
       " 947587,\n",
       " 947668,\n",
       " 947720,\n",
       " 948242,\n",
       " 948294,\n",
       " 948493,\n",
       " 948537,\n",
       " 948538,\n",
       " 948590,\n",
       " 948591,\n",
       " 948609,\n",
       " 948700,\n",
       " 948721,\n",
       " 948727,\n",
       " 948737,\n",
       " 948883]"
      ]
     },
     "execution_count": 13,
     "metadata": {},
     "output_type": "execute_result"
    }
   ],
   "source": [
    "# 获取进程信息\n",
    "psutil.pids()"
   ]
  },
  {
   "cell_type": "code",
   "execution_count": 15,
   "metadata": {},
   "outputs": [
    {
     "data": {
      "text/plain": [
       "'sleep'"
      ]
     },
     "execution_count": 15,
     "metadata": {},
     "output_type": "execute_result"
    }
   ],
   "source": [
    "p = psutil.Process(948590)\n",
    "p.name()"
   ]
  },
  {
   "cell_type": "code",
   "execution_count": 16,
   "metadata": {},
   "outputs": [
    {
     "data": {
      "text/plain": [
       "'/usr/bin/sleep'"
      ]
     },
     "execution_count": 16,
     "metadata": {},
     "output_type": "execute_result"
    }
   ],
   "source": [
    "p.exe()"
   ]
  },
  {
   "cell_type": "code",
   "execution_count": 17,
   "metadata": {},
   "outputs": [
    {
     "data": {
      "text/plain": [
       "'/home/ubuntu'"
      ]
     },
     "execution_count": 17,
     "metadata": {},
     "output_type": "execute_result"
    }
   ],
   "source": [
    "p.cwd()# 当前工作目录"
   ]
  },
  {
   "cell_type": "code",
   "execution_count": 18,
   "metadata": {},
   "outputs": [
    {
     "data": {
      "text/plain": [
       "['sleep', '180']"
      ]
     },
     "execution_count": 18,
     "metadata": {},
     "output_type": "execute_result"
    }
   ],
   "source": [
    "# 进程启动的命令行\n",
    "p.cmdline()"
   ]
  },
  {
   "cell_type": "code",
   "execution_count": 19,
   "metadata": {},
   "outputs": [
    {
     "data": {
      "text/plain": [
       "'ubuntu'"
      ]
     },
     "execution_count": 19,
     "metadata": {},
     "output_type": "execute_result"
    }
   ],
   "source": [
    "p.username()"
   ]
  },
  {
   "cell_type": "code",
   "execution_count": 20,
   "metadata": {},
   "outputs": [
    {
     "data": {
      "text/plain": [
       "'sleeping'"
      ]
     },
     "execution_count": 20,
     "metadata": {},
     "output_type": "execute_result"
    }
   ],
   "source": [
    "p.status()"
   ]
  },
  {
   "cell_type": "code",
   "execution_count": 21,
   "metadata": {},
   "outputs": [
    {
     "data": {
      "text/plain": [
       "pcputimes(user=0.0, system=0.0, children_user=0.0, children_system=0.0, iowait=0.0)"
      ]
     },
     "execution_count": 21,
     "metadata": {},
     "output_type": "execute_result"
    }
   ],
   "source": [
    "p.cpu_times()"
   ]
  },
  {
   "cell_type": "code",
   "execution_count": 22,
   "metadata": {},
   "outputs": [
    {
     "data": {
      "text/plain": [
       "pmem(rss=1048576, vms=5906432, shared=958464, text=16384, lib=0, data=364544, dirty=0)"
      ]
     },
     "execution_count": 22,
     "metadata": {},
     "output_type": "execute_result"
    }
   ],
   "source": [
    "p.memory_info()"
   ]
  },
  {
   "cell_type": "code",
   "execution_count": 23,
   "metadata": {},
   "outputs": [
    {
     "data": {
      "text/plain": [
       "[]"
      ]
     },
     "execution_count": 23,
     "metadata": {},
     "output_type": "execute_result"
    }
   ],
   "source": [
    "p.connections()"
   ]
  },
  {
   "cell_type": "code",
   "execution_count": 25,
   "metadata": {},
   "outputs": [
    {
     "data": {
      "text/plain": [
       "1"
      ]
     },
     "execution_count": 25,
     "metadata": {},
     "output_type": "execute_result"
    }
   ],
   "source": [
    "p.num_threads()# 线程数量"
   ]
  },
  {
   "cell_type": "code",
   "execution_count": 26,
   "metadata": {},
   "outputs": [
    {
     "data": {
      "text/plain": [
       "[pthread(id=948590, user_time=0.0, system_time=0.0)]"
      ]
     },
     "execution_count": 26,
     "metadata": {},
     "output_type": "execute_result"
    }
   ],
   "source": [
    "p.threads()"
   ]
  },
  {
   "cell_type": "code",
   "execution_count": 27,
   "metadata": {},
   "outputs": [
    {
     "data": {
      "text/plain": [
       "{'SHELL': '/usr/bin/zsh',\n",
       " 'PWD': '/home/ubuntu',\n",
       " 'LOGNAME': 'ubuntu',\n",
       " 'XDG_SESSION_TYPE': 'tty',\n",
       " 'MOTD_SHOWN': 'pam',\n",
       " 'HOME': '/home/ubuntu',\n",
       " 'LANG': 'en_US.UTF-8',\n",
       " 'VSCODE_AGENT_FOLDER': '/home/ubuntu/.vscode-server',\n",
       " 'SSH_CONNECTION': '117.178.82.226 54919 10.0.24.3 22',\n",
       " 'XDG_SESSION_CLASS': 'user',\n",
       " 'USER': 'ubuntu',\n",
       " 'SHLVL': '1',\n",
       " 'XDG_SESSION_ID': '5543',\n",
       " 'XDG_RUNTIME_DIR': '/run/user/1000',\n",
       " 'SSH_CLIENT': '117.178.82.226 54919 22',\n",
       " 'PATH': '/usr/local/sbin:/usr/local/bin:/usr/sbin:/usr/bin:/sbin:/bin:/usr/games:/usr/local/games:/snap/bin',\n",
       " 'DBUS_SESSION_BUS_ADDRESS': 'unix:path=/run/user/1000/bus',\n",
       " 'OLDPWD': '/home/ubuntu',\n",
       " '_': '/usr/bin/sleep'}"
      ]
     },
     "execution_count": 27,
     "metadata": {},
     "output_type": "execute_result"
    }
   ],
   "source": [
    "p.environ()"
   ]
  },
  {
   "attachments": {},
   "cell_type": "markdown",
   "metadata": {},
   "source": [
    "venv"
   ]
  },
  {
   "cell_type": "code",
   "execution_count": 28,
   "metadata": {},
   "outputs": [],
   "source": [
    "# 创建独立的环境\n",
    "# python -m venv $path\n",
    "# 在bin目录下source activate激活"
   ]
  },
  {
   "attachments": {},
   "cell_type": "markdown",
   "metadata": {},
   "source": [
    "# 图形界面"
   ]
  },
  {
   "cell_type": "code",
   "execution_count": 13,
   "metadata": {},
   "outputs": [],
   "source": [
    "from tkinter import *\n",
    "\n",
    "\n",
    "class Application(Frame):\n",
    "\n",
    "    def __init__(self, master=None):\n",
    "        Frame.__init__(self, master)\n",
    "        self.pack()\n",
    "        self.createWidgets()\n",
    "\n",
    "    def createWidgets(self):\n",
    "        self.helloLable = Label(self, text='Hello World')\n",
    "        self.helloLable.pack()\n",
    "        self.quitButton = Button(self, text='Quit', command=self.quit)\n",
    "        self.quitButton.pack()\n"
   ]
  },
  {
   "cell_type": "code",
   "execution_count": 18,
   "metadata": {},
   "outputs": [],
   "source": [
    "app = Application()\n",
    "app.master.title('Hello world')\n",
    "app.mainloop()"
   ]
  },
  {
   "cell_type": "code",
   "execution_count": 19,
   "metadata": {},
   "outputs": [],
   "source": [
    "# 在GUI中，每个控件都是Widget，Frame是可以容纳其他Widget的Widget\n",
    "# pack()将Widget加入到父容器中"
   ]
  },
  {
   "cell_type": "code",
   "execution_count": 22,
   "metadata": {},
   "outputs": [],
   "source": [
    "# 添加一个文本框\n",
    "from tkinter import *\n",
    "import tkinter.messagebox as messagebox\n",
    "\n",
    "\n",
    "class Application(Frame):\n",
    "\n",
    "    def __init__(self, master=None):\n",
    "        Frame.__init__(self, master)\n",
    "        self.pack()\n",
    "        self.createWidgets()\n",
    "\n",
    "    def createWidgets(self):\n",
    "        self.nameInput = Entry(self)\n",
    "        self.nameInput.pack()\n",
    "        self.alterButton = Button(self, text='Hello', command=self.hello)\n",
    "        self.alterButton.pack()\n",
    "\n",
    "    def hello(self):\n",
    "        name = self.nameInput.get() or 'world'\n",
    "        messagebox.showinfo('Message', 'Hello, %s' % name)\n",
    "\n",
    "\n",
    "app = Application()\n",
    "app.master.title('Hello world!')\n",
    "app.mainloop()"
   ]
  },
  {
   "attachments": {},
   "cell_type": "markdown",
   "metadata": {},
   "source": [
    "海龟绘图"
   ]
  },
  {
   "cell_type": "code",
   "execution_count": 3,
   "metadata": {},
   "outputs": [],
   "source": [
    "from turtle import *\n",
    "\n",
    "# 设置笔刷宽度\n",
    "width(4)\n",
    "\n",
    "# 前进\n",
    "forward(200)\n",
    "# 右转90\n",
    "right(90)\n",
    "# 颜色\n",
    "pencolor('red')\n",
    "forward(100)\n",
    "right(90)\n",
    "\n",
    "pencolor('green')\n",
    "forward(200)\n",
    "right(90)\n",
    "\n",
    "pencolor('blue')\n",
    "forward(100)\n",
    "right(90)\n",
    "\n",
    "done()"
   ]
  },
  {
   "cell_type": "code",
   "execution_count": 5,
   "metadata": {},
   "outputs": [],
   "source": [
    "from turtle import *\n",
    "\n",
    "\n",
    "def drawStar(x, y):\n",
    "    pu()\n",
    "    goto(x, y)\n",
    "    pd()\n",
    "    # set heading: 0\n",
    "    seth(0)\n",
    "    for i in range(5):\n",
    "        fd(40)\n",
    "        rt(144)\n",
    "\n",
    "\n",
    "for x in range(0, 250, 50):\n",
    "    drawStar(x, 0)\n",
    "\n",
    "done()"
   ]
  },
  {
   "cell_type": "code",
   "execution_count": 9,
   "metadata": {},
   "outputs": [],
   "source": [
    "from turtle import *\n",
    "\n",
    "# 设置色彩模式是RGB:\n",
    "colormode(255)\n",
    "\n",
    "lt(90)\n",
    "\n",
    "lv = 14\n",
    "l = 120\n",
    "s = 45\n",
    "\n",
    "width(lv)\n",
    "\n",
    "# 初始化RGB颜色:\n",
    "r = 0\n",
    "g = 0\n",
    "b = 0\n",
    "pencolor(r, g, b)\n",
    "\n",
    "penup()\n",
    "bk(l)\n",
    "pendown()\n",
    "fd(l)\n",
    "\n",
    "\n",
    "def draw_tree(l, level):\n",
    "    global r, g, b\n",
    "    # save the current pen width\n",
    "    w = width()\n",
    "\n",
    "    # narrow the pen width\n",
    "    width(w * 3.0 / 4.0)\n",
    "    # set color:\n",
    "    r = r + 1\n",
    "    g = g + 2\n",
    "    b = b + 3\n",
    "    pencolor(r % 200, g % 200, b % 200)\n",
    "\n",
    "    l = 3.0 / 4.0 * l\n",
    "\n",
    "    lt(s)\n",
    "    fd(l)\n",
    "\n",
    "    if level < lv:\n",
    "        draw_tree(l, level + 1)\n",
    "    bk(l)\n",
    "    rt(2 * s)\n",
    "    fd(l)\n",
    "\n",
    "    if level < lv:\n",
    "        draw_tree(l, level + 1)\n",
    "    bk(l)\n",
    "    lt(s)\n",
    "\n",
    "    # restore the previous pen width\n",
    "    width(w)\n",
    "\n",
    "\n",
    "speed(\"fastest\")\n",
    "\n",
    "draw_tree(l, 4)\n",
    "\n",
    "done()"
   ]
  },
  {
   "attachments": {},
   "cell_type": "markdown",
   "metadata": {},
   "source": [
    "# 网络编程"
   ]
  },
  {
   "attachments": {},
   "cell_type": "markdown",
   "metadata": {},
   "source": [
    "TCP编程"
   ]
  },
  {
   "cell_type": "code",
   "execution_count": 23,
   "metadata": {},
   "outputs": [],
   "source": [
    "# 客户端编程"
   ]
  },
  {
   "cell_type": "code",
   "execution_count": 17,
   "metadata": {},
   "outputs": [],
   "source": [
    "# socket\n",
    "import socket\n",
    "\n",
    "# 创建一个socket\n",
    "s = socket.socket(socket.AF_INET, socket.SOCK_STREAM)\n",
    "# 建立连接\n",
    "s.connect(('mirrors.ustc.edu.cn', 80))\n",
    "# AF_INET指IPv4，SOCK_STREAM面向流"
   ]
  },
  {
   "cell_type": "code",
   "execution_count": 18,
   "metadata": {},
   "outputs": [
    {
     "data": {
      "text/plain": [
       "60"
      ]
     },
     "execution_count": 18,
     "metadata": {},
     "output_type": "execute_result"
    }
   ],
   "source": [
    "# 发送消息\n",
    "s.send(b'Get / HTTP/1.1\\r\\nHost: www.sina.com.cn\\r\\nConnection: close\\r\\n\\r\\n')"
   ]
  },
  {
   "cell_type": "code",
   "execution_count": 19,
   "metadata": {},
   "outputs": [],
   "source": [
    "# 接收消息\n",
    "buffer = []\n",
    "while True:\n",
    "    # 每次最多1k字节\n",
    "    d = s.recv(1024)\n",
    "    if d:\n",
    "        buffer.append(d)\n",
    "    else:\n",
    "        break\n",
    "data = b''.join(buffer)\n"
   ]
  },
  {
   "cell_type": "code",
   "execution_count": 20,
   "metadata": {},
   "outputs": [],
   "source": [
    "s.close()"
   ]
  },
  {
   "cell_type": "code",
   "execution_count": 21,
   "metadata": {},
   "outputs": [
    {
     "name": "stdout",
     "output_type": "stream",
     "text": [
      "b'HTTP/1.1 400 Bad Request\\r\\nServer: openresty\\r\\nDate: Thu, 11 May 2023 07:53:40 GMT\\r\\nContent-Type: text/html; charset=UTF-8\\r\\nContent-Length: 154\\r\\nConnection: close\\r\\n\\r\\n<html>\\r\\n<head><title>400 Bad Request</title></head>\\r\\n<body>\\r\\n<center><h1>400 Bad Request</h1></center>\\r\\n<hr><center>openresty</center>\\r\\n</body>\\r\\n</html>\\r\\n'\n"
     ]
    }
   ],
   "source": [
    "print(data)"
   ]
  },
  {
   "cell_type": "code",
   "execution_count": 22,
   "metadata": {},
   "outputs": [
    {
     "name": "stdout",
     "output_type": "stream",
     "text": [
      "HTTP/1.1 400 Bad Request\n",
      "Server: openresty\n",
      "Date: Thu, 11 May 2023 07:53:40 GMT\n",
      "Content-Type: text/html; charset=UTF-8\n",
      "Content-Length: 154\n",
      "Connection: close\n"
     ]
    }
   ],
   "source": [
    "header, html = data.split(b'\\r\\n\\r\\n', 1)\n",
    "print(header.decode('utf-8'))\n",
    "with open('sinal.html', 'wb') as f:\n",
    "    f.write(html)"
   ]
  },
  {
   "cell_type": "code",
   "execution_count": 2,
   "metadata": {},
   "outputs": [],
   "source": [
    "# 服务器编程\n",
    "# 服务器首先绑定一个端口并监听来自其他客户端的连接，所有服务器会打开固定端口进行监听\n",
    "import socket"
   ]
  },
  {
   "cell_type": "code",
   "execution_count": 3,
   "metadata": {},
   "outputs": [],
   "source": [
    "# 每个连接都必须创建新线程来处理\n",
    "def tcplink(sock, addr):\n",
    "    print('Accept new connection from %s:%s...' % addr)\n",
    "    sock.send(b'Welcome')\n",
    "    while True:\n",
    "        data = sock.recv(1024)\n",
    "        time.sleep(1)\n",
    "        if not data or data.decode('utf-8') == 'exit':\n",
    "            break\n",
    "        sock.send(('Hello %s' % data.decode('utf-8')).encode('utf-8'))\n",
    "    sock.close()\n",
    "    print('Connection from %s:%s closed' % addr)\n"
   ]
  },
  {
   "cell_type": "code",
   "execution_count": 4,
   "metadata": {},
   "outputs": [
    {
     "name": "stdout",
     "output_type": "stream",
     "text": [
      "Waiting for connnection...\n"
     ]
    }
   ],
   "source": [
    "s = socket.socket(socket.AF_INET, socket.SOCK_STREAM)\n",
    "# 监听端口\n",
    "s.bind(('127.0.0.1', 9999))\n",
    "s.listen(5)\n",
    "print('Waiting for connnection...')\n",
    "\n",
    "# 使用死循环接收来自客户端的连接\n",
    "while True:\n",
    "    sock, addr = s.accept()\n",
    "    t = threading.Thread(target=tcplink, args=(sock, addr))\n",
    "    t.start()"
   ]
  },
  {
   "cell_type": "code",
   "execution_count": null,
   "metadata": {},
   "outputs": [],
   "source": [
    "s = socket.socket(socket.AF_INET, socket.SOCK_STREAM)\n",
    "# 建立连接:\n",
    "s.connect(('127.0.0.1', 9999))\n",
    "# 接收欢迎消息:\n",
    "print(s.recv(1024).decode('utf-8'))\n",
    "for data in [b'Michael', b'Tracy', b'Sarah']:\n",
    "    # 发送数据:\n",
    "    s.send(data)\n",
    "    print(s.recv(1024).decode('utf-8'))\n",
    "s.send(b'exit')\n",
    "s.close()"
   ]
  },
  {
   "attachments": {},
   "cell_type": "markdown",
   "metadata": {},
   "source": [
    "UDP编程"
   ]
  },
  {
   "cell_type": "code",
   "execution_count": 1,
   "metadata": {},
   "outputs": [],
   "source": [
    "# UDP不需要建立连接，只需要知道IP地址和端口号就可以发送数据"
   ]
  },
  {
   "attachments": {},
   "cell_type": "markdown",
   "metadata": {},
   "source": [
    "# 数据库"
   ]
  },
  {
   "cell_type": "code",
   "execution_count": 1,
   "metadata": {},
   "outputs": [],
   "source": [
    "import mysql.connector\n",
    "conn=mysql.connector.connect(user='banished',password='010923',database='test')"
   ]
  },
  {
   "cell_type": "code",
   "execution_count": 2,
   "metadata": {},
   "outputs": [],
   "source": [
    "cursor=conn.cursor()"
   ]
  },
  {
   "cell_type": "code",
   "execution_count": 3,
   "metadata": {},
   "outputs": [],
   "source": [
    "cursor.execute('create table user (id varchar(20) primary key, name varchar(20))')"
   ]
  },
  {
   "cell_type": "code",
   "execution_count": 4,
   "metadata": {},
   "outputs": [],
   "source": [
    "cursor.execute('insert into user (id, name) values (%s, %s)', ['1', 'Michael'])"
   ]
  },
  {
   "cell_type": "code",
   "execution_count": 5,
   "metadata": {},
   "outputs": [
    {
     "data": {
      "text/plain": [
       "1"
      ]
     },
     "execution_count": 5,
     "metadata": {},
     "output_type": "execute_result"
    }
   ],
   "source": [
    "cursor.rowcount"
   ]
  },
  {
   "cell_type": "code",
   "execution_count": 6,
   "metadata": {},
   "outputs": [],
   "source": [
    "# 提交事务\n",
    "conn.commit()"
   ]
  },
  {
   "cell_type": "code",
   "execution_count": 7,
   "metadata": {},
   "outputs": [
    {
     "data": {
      "text/plain": [
       "True"
      ]
     },
     "execution_count": 7,
     "metadata": {},
     "output_type": "execute_result"
    }
   ],
   "source": [
    "cursor.close()"
   ]
  },
  {
   "cell_type": "code",
   "execution_count": 8,
   "metadata": {},
   "outputs": [],
   "source": [
    "# 查询\n",
    "cursor=conn.cursor()\n",
    "cursor.execute('select * from user where id = %s',('1',))"
   ]
  },
  {
   "cell_type": "code",
   "execution_count": 10,
   "metadata": {},
   "outputs": [],
   "source": [
    "values=cursor.fetchall()"
   ]
  },
  {
   "cell_type": "code",
   "execution_count": 11,
   "metadata": {},
   "outputs": [
    {
     "data": {
      "text/plain": [
       "[('1', 'Michael')]"
      ]
     },
     "execution_count": 11,
     "metadata": {},
     "output_type": "execute_result"
    }
   ],
   "source": [
    "values"
   ]
  },
  {
   "cell_type": "code",
   "execution_count": 12,
   "metadata": {},
   "outputs": [
    {
     "data": {
      "text/plain": [
       "True"
      ]
     },
     "execution_count": 12,
     "metadata": {},
     "output_type": "execute_result"
    }
   ],
   "source": [
    "cursor.close()"
   ]
  },
  {
   "cell_type": "code",
   "execution_count": 13,
   "metadata": {},
   "outputs": [],
   "source": [
    "conn.close()"
   ]
  },
  {
   "cell_type": "code",
   "execution_count": 15,
   "metadata": {},
   "outputs": [],
   "source": [
    "# 执行操作后调用commit()事务\n",
    "# MySQL的SQL占位符是%s"
   ]
  },
  {
   "attachments": {},
   "cell_type": "markdown",
   "metadata": {},
   "source": [
    "# Web开发"
   ]
  },
  {
   "attachments": {},
   "cell_type": "markdown",
   "metadata": {},
   "source": [
    "http"
   ]
  },
  {
   "cell_type": "code",
   "execution_count": 18,
   "metadata": {},
   "outputs": [],
   "source": [
    "# http请求\n",
    "# 步骤1：发送请求\n",
    "# 方法：GET/POST\n",
    "# 路径：/full/url/path\n",
    "# 域名：由Host指定：Host:www.sina.com.cn\n",
    "# 步骤2：服务器向浏览器返回HTTP响应\n",
    "# 200：成功；3xx：重定向；4xx：客户端发送的请求有错误；5xx：服务器处理时发生错误\n",
    "# 响应类型：由Content-Type指定：text/html;charset=utf-8表示响应类型是HTML文本，编码是UTF-8"
   ]
  },
  {
   "cell_type": "code",
   "execution_count": 1,
   "metadata": {},
   "outputs": [],
   "source": [
    "# http格式\n",
    "# GET\n",
    "# GET /path HTTP/1.1\n",
    "# Header1: Value1\n",
    "# Header2: Value2\n",
    "# Header3: Value3\n",
    "# 每个Header一行一个，换行符是\\r\\n\n",
    "# POST\n",
    "# POST /path HTTP/1.1\n",
    "# Header1: Value1\n",
    "# Header2: Value2\n",
    "# Header3: Value3\n",
    "\n",
    "# body data goes here\n",
    "# 直到遇到连续两个\\r\\n时，Header部分结束，后面全是Body\n",
    "\n",
    "# 响应的格式\n",
    "# 200 OK\n",
    "# Header1: Value1 \n",
    "# Header2: Value2\n",
    "# Header3: Value3\n",
    "\n",
    "# body data goes here"
   ]
  },
  {
   "attachments": {},
   "cell_type": "markdown",
   "metadata": {},
   "source": [
    "WSGI接口"
   ]
  },
  {
   "cell_type": "code",
   "execution_count": 2,
   "metadata": {},
   "outputs": [],
   "source": [
    "# 使用WSGI接口可以简单地响应HTTP请求\n",
    "def application(environ, start_response):\n",
    "    start_response('200 OK', [('Content-Type', 'text/html')])\n",
    "    return [b'<h1>Hello, web!</h1>']\n",
    "\n",
    "# environ时包含所有HTTP请求信息的dict对象\n",
    "# start_response是发送HTTP响应的函数，接收两个参数：HTTP响应码和HTTP Header的list\n",
    "# application函数的返回值作为body发送给浏览器\n",
    "# 使用WSGI接口后，我们只需要考虑如何从environ中获取HTTP请求信息，然后构造HTML，通过start_response发送Header，最后返回Body"
   ]
  },
  {
   "cell_type": "code",
   "execution_count": null,
   "metadata": {},
   "outputs": [],
   "source": [
    "# WSGI需要通过WSGI服务器来调用"
   ]
  },
  {
   "attachments": {},
   "cell_type": "markdown",
   "metadata": {},
   "source": [
    "使用Web框架"
   ]
  },
  {
   "cell_type": "code",
   "execution_count": 2,
   "metadata": {},
   "outputs": [],
   "source": [
    "# 一个Web App就是写一个WSGI的处理函数，针对每个HTPP请求进行响应\n",
    "# 在WSGI上进一步抽象，专注于用一个函数处理一个URL，URL到函数的映射由框架来实现"
   ]
  },
  {
   "cell_type": "code",
   "execution_count": null,
   "metadata": {},
   "outputs": [],
   "source": []
  }
 ],
 "metadata": {
  "kernelspec": {
   "display_name": "Python 3",
   "language": "python",
   "name": "python3"
  },
  "language_info": {
   "codemirror_mode": {
    "name": "ipython",
    "version": 3
   },
   "file_extension": ".py",
   "mimetype": "text/x-python",
   "name": "python",
   "nbconvert_exporter": "python",
   "pygments_lexer": "ipython3",
   "version": "3.10.6"
  },
  "orig_nbformat": 4
 },
 "nbformat": 4,
 "nbformat_minor": 2
}
